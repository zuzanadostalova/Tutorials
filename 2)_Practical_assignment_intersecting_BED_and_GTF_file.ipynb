{
  "nbformat": 4,
  "nbformat_minor": 0,
  "metadata": {
    "colab": {
      "name": "2) Practical assignment intersecting BED and GTF file.ipynb",
      "provenance": [],
      "collapsed_sections": [],
      "include_colab_link": true
    },
    "kernelspec": {
      "name": "python3",
      "display_name": "Python 3"
    }
  },
  "cells": [
    {
      "cell_type": "markdown",
      "metadata": {
        "id": "view-in-github",
        "colab_type": "text"
      },
      "source": [
        "<a href=\"https://colab.research.google.com/github/zuzanadostalova/Tutorials/blob/master/2)_Practical_assignment_intersecting_BED_and_GTF_file.ipynb\" target=\"_parent\"><img src=\"https://colab.research.google.com/assets/colab-badge.svg\" alt=\"Open In Colab\"/></a>"
      ]
    },
    {
      "cell_type": "markdown",
      "metadata": {
        "id": "Cs2IyTCgAERz",
        "colab_type": "text"
      },
      "source": [
        "# **Assignment:**\n",
        "Intersect BED file containing FUS gene from Homo sapiens K562 data (https://www.encodeproject.org/files/ENCFF861KMV/) with Human\n",
        "Release 33 (GRCh38.p13) gff3 file (https://www.gencodegenes.org/human/) using Bedtools. \n",
        "First install pybedtools and bedtools, save the contents of the BED and gff3 file to new files. Intersect these files, print the first ten lines of the result."
      ]
    },
    {
      "cell_type": "markdown",
      "metadata": {
        "id": "8GYNLQGaIXVw",
        "colab_type": "text"
      },
      "source": [
        "# Bedtools"
      ]
    },
    {
      "cell_type": "markdown",
      "metadata": {
        "id": "OK3-vMCcfmro",
        "colab_type": "text"
      },
      "source": [
        "If the bedtools are not installed properly, you have to uninstall and reinstall bedtools, then restart the virtual machine."
      ]
    },
    {
      "cell_type": "code",
      "metadata": {
        "id": "ylijWCUdzK1B",
        "colab_type": "code",
        "colab": {}
      },
      "source": [
        "! apt-get remove  bedtools\n",
        "! pip uninstall pybedtools\n",
        "! pip uninstall bedtools"
      ],
      "execution_count": 0,
      "outputs": []
    },
    {
      "cell_type": "markdown",
      "metadata": {
        "id": "F6WcGBbPrz6g",
        "colab_type": "text"
      },
      "source": [
        "Test if pybedtools are working well."
      ]
    },
    {
      "cell_type": "code",
      "metadata": {
        "id": "KdvvhW6mC_1A",
        "colab_type": "code",
        "outputId": "d78a6025-9fb2-4d94-d41e-f5c1a8f5e565",
        "colab": {
          "base_uri": "https://localhost:8080/",
          "height": 1000
        }
      },
      "source": [
        "# Clean installation of pybedtools:\n",
        "! apt-get install bedtools\n",
        "! pip install pybedtools\n",
        "! bedtools"
      ],
      "execution_count": 0,
      "outputs": [
        {
          "output_type": "stream",
          "text": [
            "Reading package lists... Done\n",
            "Building dependency tree       \n",
            "Reading state information... Done\n",
            "bedtools is already the newest version (2.26.0+dfsg-5).\n",
            "The following package was automatically installed and is no longer required:\n",
            "  libnvidia-common-430\n",
            "Use 'apt autoremove' to remove it.\n",
            "0 upgraded, 0 newly installed, 0 to remove and 25 not upgraded.\n",
            "Requirement already satisfied: pybedtools in /usr/local/lib/python3.6/dist-packages (0.8.1)\n",
            "Requirement already satisfied: six in /usr/local/lib/python3.6/dist-packages (from pybedtools) (1.12.0)\n",
            "Requirement already satisfied: pysam in /usr/local/lib/python3.6/dist-packages (from pybedtools) (0.15.4)\n",
            "bedtools is a powerful toolset for genome arithmetic.\n",
            "\n",
            "Version:   v2.26.0\n",
            "About:     developed in the quinlanlab.org and by many contributors worldwide.\n",
            "Docs:      http://bedtools.readthedocs.io/\n",
            "Code:      https://github.com/arq5x/bedtools2\n",
            "Mail:      https://groups.google.com/forum/#!forum/bedtools-discuss\n",
            "\n",
            "Usage:     bedtools <subcommand> [options]\n",
            "\n",
            "The bedtools sub-commands include:\n",
            "\n",
            "[ Genome arithmetic ]\n",
            "    intersect     Find overlapping intervals in various ways.\n",
            "    window        Find overlapping intervals within a window around an interval.\n",
            "    closest       Find the closest, potentially non-overlapping interval.\n",
            "    coverage      Compute the coverage over defined intervals.\n",
            "    map           Apply a function to a column for each overlapping interval.\n",
            "    genomecov     Compute the coverage over an entire genome.\n",
            "    merge         Combine overlapping/nearby intervals into a single interval.\n",
            "    cluster       Cluster (but don't merge) overlapping/nearby intervals.\n",
            "    complement    Extract intervals _not_ represented by an interval file.\n",
            "    shift         Adjust the position of intervals.\n",
            "    subtract      Remove intervals based on overlaps b/w two files.\n",
            "    slop          Adjust the size of intervals.\n",
            "    flank         Create new intervals from the flanks of existing intervals.\n",
            "    sort          Order the intervals in a file.\n",
            "    random        Generate random intervals in a genome.\n",
            "    shuffle       Randomly redistrubute intervals in a genome.\n",
            "    sample        Sample random records from file using reservoir sampling.\n",
            "    spacing       Report the gap lengths between intervals in a file.\n",
            "    annotate      Annotate coverage of features from multiple files.\n",
            "\n",
            "[ Multi-way file comparisons ]\n",
            "    multiinter    Identifies common intervals among multiple interval files.\n",
            "    unionbedg     Combines coverage intervals from multiple BEDGRAPH files.\n",
            "\n",
            "[ Paired-end manipulation ]\n",
            "    pairtobed     Find pairs that overlap intervals in various ways.\n",
            "    pairtopair    Find pairs that overlap other pairs in various ways.\n",
            "\n",
            "[ Format conversion ]\n",
            "    bamtobed      Convert BAM alignments to BED (& other) formats.\n",
            "    bedtobam      Convert intervals to BAM records.\n",
            "    bamtofastq    Convert BAM records to FASTQ records.\n",
            "    bedpetobam    Convert BEDPE intervals to BAM records.\n",
            "    bed12tobed6   Breaks BED12 intervals into discrete BED6 intervals.\n",
            "\n",
            "[ Fasta manipulation ]\n",
            "    getfasta      Use intervals to extract sequences from a FASTA file.\n",
            "    maskfasta     Use intervals to mask sequences from a FASTA file.\n",
            "    nuc           Profile the nucleotide content of intervals in a FASTA file.\n",
            "\n",
            "[ BAM focused tools ]\n",
            "    multicov      Counts coverage from multiple BAMs at specific intervals.\n",
            "    tag           Tag BAM alignments based on overlaps with interval files.\n",
            "\n",
            "[ Statistical relationships ]\n",
            "    jaccard       Calculate the Jaccard statistic b/w two sets of intervals.\n",
            "    reldist       Calculate the distribution of relative distances b/w two files.\n",
            "    fisher        Calculate Fisher statistic b/w two feature files.\n",
            "\n",
            "[ Miscellaneous tools ]\n",
            "    overlap       Computes the amount of overlap from two intervals.\n",
            "    igv           Create an IGV snapshot batch script.\n",
            "    links         Create a HTML page of links to UCSC locations.\n",
            "    makewindows   Make interval \"windows\" across a genome.\n",
            "    groupby       Group by common cols. & summarize oth. cols. (~ SQL \"groupBy\")\n",
            "    expand        Replicate lines based on lists of values in columns.\n",
            "    split         Split a file into multiple files with equal records or base pairs.\n",
            "\n",
            "[ General help ]\n",
            "    --help        Print this help menu.\n",
            "    --version     What version of bedtools are you using?.\n",
            "    --contact     Feature requests, bugs, mailing lists, etc.\n",
            "\n"
          ],
          "name": "stdout"
        }
      ]
    },
    {
      "cell_type": "markdown",
      "metadata": {
        "id": "gOUj4xusL6zh",
        "colab_type": "text"
      },
      "source": [
        "**Optional:**"
      ]
    },
    {
      "cell_type": "code",
      "metadata": {
        "id": "1nGIgoovDu5A",
        "colab_type": "code",
        "outputId": "9288bd5f-6608-4953-cfa1-c1e3adb7fca8",
        "colab": {
          "base_uri": "https://localhost:8080/",
          "height": 221
        }
      },
      "source": [
        "# Testing installation of pybedtools.\n",
        "import pybedtools\n",
        "def test_bedtools():\n",
        "    a = pybedtools.example_bedtool(\"a.bed\")\n",
        "    b = pybedtools.example_bedtool(\"b.bed\")\n",
        "    c = a.subtract(b)\n",
        "    return a\n",
        "\n",
        "test = test_bedtools()\n",
        "test.head(2)\n",
        "\n",
        "# Testing subtract and intersection function.\n",
        "import pybedtools\n",
        "a = pybedtools.example_bedtool(\"a.bed\")\n",
        "b = pybedtools.example_bedtool(\"b.bed\")\n",
        "print(a.intersect(b))\n",
        "print(a.subtract(b, s=True))"
      ],
      "execution_count": 0,
      "outputs": [
        {
          "output_type": "stream",
          "text": [
            "chr1\t1\t100\tfeature1\t0\t+\n",
            " chr1\t100\t200\tfeature2\t0\t+\n",
            " chr1\t155\t200\tfeature2\t0\t+\n",
            "chr1\t155\t200\tfeature3\t0\t-\n",
            "chr1\t900\t901\tfeature4\t0\t+\n",
            "\n",
            "chr1\t1\t100\tfeature1\t0\t+\n",
            "chr1\t100\t200\tfeature2\t0\t+\n",
            "chr1\t150\t155\tfeature3\t0\t-\n",
            "chr1\t200\t500\tfeature3\t0\t-\n",
            "chr1\t901\t950\tfeature4\t0\t+\n",
            "\n"
          ],
          "name": "stdout"
        }
      ]
    },
    {
      "cell_type": "markdown",
      "metadata": {
        "id": "1HKo-nQoF6sD",
        "colab_type": "text"
      },
      "source": [
        "**There are two options:**"
      ]
    },
    {
      "cell_type": "markdown",
      "metadata": {
        "id": "G2dDBrO5_Czn",
        "colab_type": "text"
      },
      "source": [
        "**I. You can download BED file manually directly from the database.**"
      ]
    },
    {
      "cell_type": "code",
      "metadata": {
        "id": "SHGHw9hStR82",
        "colab_type": "code",
        "colab": {}
      },
      "source": [
        "import pandas as pd\n",
        "\n",
        "# Download file from URL\n",
        "url = \"https://www.encodeproject.org/files/ENCFF861KMV/@@download/ENCFF861KMV.bed.gz\"\n",
        "file_name = \"ENCFF861KMV.pandas.bed\"\n",
        "\n",
        "# The dataframe is created via reading csv file with pandas tool. You need to unzip \n",
        "# the source bed file, separate the chromosomes from one another using tab delimiter \n",
        "# as separator, and name the ten columns of the chromosomes.\n",
        "dataframe = pd.read_csv(url,\n",
        "                        compression=\"gzip\",\n",
        "                        sep=\"\\t\",\n",
        "                        names=[\"chrom\", \"start\", \"end\", \"name\", \"score\", \"strand\", \"7\", \"8\", \"9\", \"10\"]\n",
        "                        )\n",
        "\n",
        "# Dump dataframe to file.\n",
        "dataframe.to_csv(file_name, sep=\"\\t\", header=False, index=False)"
      ],
      "execution_count": 0,
      "outputs": []
    },
    {
      "cell_type": "code",
      "metadata": {
        "id": "QESh9636MJSX",
        "colab_type": "code",
        "colab": {
          "base_uri": "https://localhost:8080/",
          "height": 34
        },
        "outputId": "b79835f7-1fac-426b-f838-0c631a463de6"
      },
      "source": [
        "  import ftplib\n",
        "  ftp = ftplib.FTP(\"ftp.ebi.ac.uk\") \n",
        "  # Provide user, password.\n",
        "  ftp.login(\"\", \"\") \n",
        "  # Move to path.\n",
        "  ftp.cwd(\"/pub/databases/gencode/Gencode_human/release_33/\")\n",
        "  # Retrive file and save in local file.\n",
        "  ftp.retrbinary(\"RETR \" + \"gencode.v33.annotation.gtf.gz\" ,open(\"gencode.v33.annotation.gtf.gz\", \"wb\").write)\n",
        "  # Quit server.\n",
        "  ftp.quit()"
      ],
      "execution_count": 3,
      "outputs": [
        {
          "output_type": "execute_result",
          "data": {
            "text/plain": [
              "'221 Goodbye.'"
            ]
          },
          "metadata": {
            "tags": []
          },
          "execution_count": 3
        }
      ]
    },
    {
      "cell_type": "markdown",
      "metadata": {
        "id": "jU1S8nGlpgFB",
        "colab_type": "text"
      },
      "source": [
        "**II. Or you can automatize the BED and gtf file reading, if you write corresponding functions.**\n",
        "\n",
        "\n",
        "\n",
        "A:\n",
        "BED reader."
      ]
    },
    {
      "cell_type": "code",
      "metadata": {
        "id": "e0gXTv6ypmyb",
        "colab_type": "code",
        "outputId": "b263477e-a38c-483a-d2fc-0f0ac0156603",
        "colab": {
          "base_uri": "https://localhost:8080/",
          "height": 34
        }
      },
      "source": [
        "# Download BED file from URL via requests module and gzip.\n",
        "from requests import get\n",
        "from gzip import decompress\n",
        "\n",
        "# Define a function that will download the compressed (gz) BED file,\n",
        "# and it will decompress it to text.\n",
        "# Helper function get_gzipped_bed_ is inside the main bed_reader function.\n",
        "def bed_reader(target_url, output_name):\n",
        "  def get_gzipped_bed_(target_url):\n",
        "    downloaded_bed = get(target_url).content\n",
        "    decompressed_bed = decompress(downloaded_bed)\n",
        "    return decompressed_bed\n",
        "  # Decode to utf-8\n",
        "  decompressed = get_gzipped_bed_(target_url)\n",
        "  bed_file_human_readable = decompressed.decode()\n",
        "  # Write bed file to new file on the disk\n",
        "  output_file = open(output_name, \"w\")\n",
        "  output_file.write(bed_file_human_readable)\n",
        "  output_file.close()\n",
        "  return output_name\n",
        "\n",
        "# Call the outer function and provide it with two arguments - url and arbitrary output name.\n",
        "bed_reader(\"https://www.encodeproject.org/files/ENCFF861KMV/@@download/ENCFF861KMV.bed.gz\", \n",
        "           \"ENCFF861KMV.bed.gz\")\n",
        "\n",
        "# The program prints just the last statement so if these two last statements\n",
        "# are not commented out, the output name is not going to be outputed.\n",
        "# Instead, if the path exists, True will be outputed.\n",
        "import os\n",
        "os.path.exists(\"ENCFF861KMV.bed.gz\")"
      ],
      "execution_count": 0,
      "outputs": [
        {
          "output_type": "execute_result",
          "data": {
            "text/plain": [
              "True"
            ]
          },
          "metadata": {
            "tags": []
          },
          "execution_count": 7
        }
      ]
    },
    {
      "cell_type": "markdown",
      "metadata": {
        "id": "kJcCL_BBpQNK",
        "colab_type": "text"
      },
      "source": [
        "Respectively, you can create FTP reader function. "
      ]
    },
    {
      "cell_type": "code",
      "metadata": {
        "id": "cB116NUEbmD7",
        "colab_type": "code",
        "outputId": "5232ba7a-fde6-402d-8e46-54cb474ce347",
        "colab": {
          "base_uri": "https://localhost:8080/",
          "height": 34
        }
      },
      "source": [
        "import ftplib\n",
        "\n",
        "# Username and password are optional.\n",
        "def ftp_reader(server_address, user, password, path, filename):\n",
        "  # Connect to server.\n",
        "  ftp = ftplib.FTP(server_address) \n",
        "  # Provide user, password.\n",
        "  ftp.login(user, password) \n",
        "  # Move to path.\n",
        "  ftp.cwd(path)\n",
        "  # Retrive file and save in local file.\n",
        "  ftp.retrbinary(\"RETR \" + filename ,open(filename, \"wb\").write)\n",
        "  # Quit server.\n",
        "  ftp.quit()\n",
        "  return filename\n",
        "\n",
        "# The filename is not arbitrary.\n",
        "ftp_reader(\"ftp.ebi.ac.uk\", \"\", \"\", \"/pub/databases/gencode/Gencode_human/release_33/\", \n",
        "           \"gencode.v33.annotation.gtf.gz\")"
      ],
      "execution_count": 0,
      "outputs": [
        {
          "output_type": "execute_result",
          "data": {
            "text/plain": [
              "'gencode.v33.annotation.gtf.gz'"
            ]
          },
          "metadata": {
            "tags": []
          },
          "execution_count": 23
        }
      ]
    },
    {
      "cell_type": "markdown",
      "metadata": {
        "id": "KTHcSwwjJ8KK",
        "colab_type": "text"
      },
      "source": [
        "If you need to concomitantly open more files, you can join them in a list and iterate over it.\n",
        "\n",
        "\n",
        "B:"
      ]
    },
    {
      "cell_type": "code",
      "metadata": {
        "id": "eyfzJA60nmzN",
        "colab_type": "code",
        "outputId": "04f97513-eddb-4905-f621-7bb1a8ea8c85",
        "colab": {
          "base_uri": "https://localhost:8080/",
          "height": 102
        }
      },
      "source": [
        "list_downloads = [\"gencode.v33.long_noncoding_RNAs.gtf.gz\", \"gencode.v33.annotation.gtf.gz\"]\n",
        "\n",
        "for download in list_downloads:\n",
        "  print(\"The name of the downloaded file is:\", download)\n",
        "  ftp_reader(\"ftp.ebi.ac.uk\", \"\", \"\", \"/pub/databases/gencode/Gencode_human/release_33/\", download)\n",
        "  print(\"Done\")\n",
        "\n",
        "# The procedure is the same as calling the function for each file\n",
        "ftp_reader(\"ftp.ebi.ac.uk\", \"\", \"\", \"/pub/databases/gencode/Gencode_human/release_33/\", \n",
        "           \"gencode.v33.long_noncoding_RNAs.gtf.gz\")\n",
        "ftp_reader(\"ftp.ebi.ac.uk\", \"\", \"\", \"/pub/databases/gencode/Gencode_human/release_33/\", \n",
        "           \"gencode.v33.annotation.gtf.gz\")"
      ],
      "execution_count": 0,
      "outputs": [
        {
          "output_type": "stream",
          "text": [
            "The name of the downloaded file is: gencode.v33.long_noncoding_RNAs.gtf.gz\n",
            "Done\n",
            "The name of the downloaded file is: gencode.v33.annotation.gtf.gz\n",
            "Done\n"
          ],
          "name": "stdout"
        },
        {
          "output_type": "execute_result",
          "data": {
            "text/plain": [
              "'gencode.v33.annotation.gtf.gz'"
            ]
          },
          "metadata": {
            "tags": []
          },
          "execution_count": 24
        }
      ]
    },
    {
      "cell_type": "markdown",
      "metadata": {
        "id": "12UVzR8DX1O_",
        "colab_type": "text"
      },
      "source": [
        "**Once both BED and gtf files are read, you can intersect them:**\n",
        "\n",
        "\n",
        "You can load them either from the dataframe created in option II.:\n"
      ]
    },
    {
      "cell_type": "code",
      "metadata": {
        "id": "ymzdNJ7SSDw6",
        "colab_type": "code",
        "colab": {}
      },
      "source": [
        "from pybedtools import BedTool\n",
        "import pandas as pd\n",
        "a = BedTool.from_dataframe(dataframe)\n",
        "b = BedTool(\"gencode.v33.annotation.gtf.gz\")\n",
        "data = a.intersect(b, s=True)"
      ],
      "execution_count": 0,
      "outputs": []
    },
    {
      "cell_type": "markdown",
      "metadata": {
        "id": "TEKejSjlTKIC",
        "colab_type": "text"
      },
      "source": [
        "The output is huge so you are going to print only the first ten lines of the result."
      ]
    },
    {
      "cell_type": "code",
      "metadata": {
        "id": "I3Qic1enS5Xd",
        "colab_type": "code",
        "outputId": "d6a8240d-7f85-4a77-9113-49f3ef1ff84b",
        "colab": {
          "base_uri": "https://localhost:8080/",
          "height": 204
        }
      },
      "source": [
        "data.head(10)"
      ],
      "execution_count": 0,
      "outputs": [
        {
          "output_type": "stream",
          "text": [
            "chr9\t137102003\t137102187\tFUS_K562_IDR\t1000\t+\t3.2259544061812297\t6.780834778169661\t-1\t-1\n",
            " chr9\t137102003\t137102187\tFUS_K562_IDR\t1000\t+\t3.2259544061812297\t6.780834778169661\t-1\t-1\n",
            " chr9\t137102003\t137102187\tFUS_K562_IDR\t1000\t+\t3.2259544061812297\t6.780834778169661\t-1\t-1\n",
            " chr9\t137102003\t137102187\tFUS_K562_IDR\t1000\t+\t3.2259544061812297\t6.780834778169661\t-1\t-1\n",
            " chr9\t137102003\t137102187\tFUS_K562_IDR\t1000\t+\t3.2259544061812297\t6.780834778169661\t-1\t-1\n",
            " chr3\t128492692\t128492792\tFUS_K562_IDR\t1000\t+\t5.07968689911725\t10.2944552008675\t-1\t-1\n",
            " chr3\t128492692\t128492792\tFUS_K562_IDR\t1000\t+\t5.07968689911725\t10.2944552008675\t-1\t-1\n",
            " chr3\t128492692\t128492792\tFUS_K562_IDR\t1000\t+\t5.07968689911725\t10.2944552008675\t-1\t-1\n",
            " chr3\t128492692\t128492792\tFUS_K562_IDR\t1000\t+\t5.07968689911725\t10.2944552008675\t-1\t-1\n",
            " chr8\t143593204\t143593275\tFUS_K562_IDR\t1000\t-\t4.68211356648989\t6.0097055538715605\t-1\t-1\n",
            " "
          ],
          "name": "stdout"
        }
      ]
    },
    {
      "cell_type": "markdown",
      "metadata": {
        "id": "gNt7_bZ4lscm",
        "colab_type": "text"
      },
      "source": [
        "Or from the files created with the help of BED and ftp reader:"
      ]
    },
    {
      "cell_type": "code",
      "metadata": {
        "id": "gSJRLljdfomH",
        "colab_type": "code",
        "colab": {}
      },
      "source": [
        "import pybedtools\n",
        "from pybedtools import BedTool\n",
        "a = BedTool(\"gencode.v33.annotation.gtf.gz\")\n",
        "b = BedTool(\"ENCFF861KMV.bed.gz\")\n",
        "c = a.intersect(b, c=True)"
      ],
      "execution_count": 0,
      "outputs": []
    },
    {
      "cell_type": "code",
      "metadata": {
        "id": "ngrBOUGSWjao",
        "colab_type": "code",
        "outputId": "b6b85b3e-fb7b-4bb4-a25c-e0de44949beb",
        "colab": {
          "base_uri": "https://localhost:8080/",
          "height": 224
        }
      },
      "source": [
        "c.head(10)"
      ],
      "execution_count": 0,
      "outputs": [
        {
          "output_type": "stream",
          "text": [
            "chr1\tHAVANA\tgene\t11869\t14409\t.\t+\t.\tgene_id \"ENSG00000223972.5\"; gene_type \"transcribed_unprocessed_pseudogene\"; gene_name \"DDX11L1\"; level 2; hgnc_id \"HGNC:37102\"; havana_gene \"OTTHUMG00000000961.2\";\t0\n",
            " chr1\tHAVANA\ttranscript\t11869\t14409\t.\t+\t.\tgene_id \"ENSG00000223972.5\"; transcript_id \"ENST00000456328.2\"; gene_type \"transcribed_unprocessed_pseudogene\"; gene_name \"DDX11L1\"; transcript_type \"processed_transcript\"; transcript_name \"DDX11L1-202\"; level 2; transcript_support_level \"1\"; hgnc_id \"HGNC:37102\"; tag \"basic\"; havana_gene \"OTTHUMG00000000961.2\"; havana_transcript \"OTTHUMT00000362751.1\";\t0\n",
            " chr1\tHAVANA\texon\t11869\t12227\t.\t+\t.\tgene_id \"ENSG00000223972.5\"; transcript_id \"ENST00000456328.2\"; gene_type \"transcribed_unprocessed_pseudogene\"; gene_name \"DDX11L1\"; transcript_type \"processed_transcript\"; transcript_name \"DDX11L1-202\"; exon_number 1; exon_id \"ENSE00002234944.1\"; level 2; transcript_support_level \"1\"; hgnc_id \"HGNC:37102\"; tag \"basic\"; havana_gene \"OTTHUMG00000000961.2\"; havana_transcript \"OTTHUMT00000362751.1\";\t0\n",
            " chr1\tHAVANA\texon\t12613\t12721\t.\t+\t.\tgene_id \"ENSG00000223972.5\"; transcript_id \"ENST00000456328.2\"; gene_type \"transcribed_unprocessed_pseudogene\"; gene_name \"DDX11L1\"; transcript_type \"processed_transcript\"; transcript_name \"DDX11L1-202\"; exon_number 2; exon_id \"ENSE00003582793.1\"; level 2; transcript_support_level \"1\"; hgnc_id \"HGNC:37102\"; tag \"basic\"; havana_gene \"OTTHUMG00000000961.2\"; havana_transcript \"OTTHUMT00000362751.1\";\t0\n",
            " chr1\tHAVANA\texon\t13221\t14409\t.\t+\t.\tgene_id \"ENSG00000223972.5\"; transcript_id \"ENST00000456328.2\"; gene_type \"transcribed_unprocessed_pseudogene\"; gene_name \"DDX11L1\"; transcript_type \"processed_transcript\"; transcript_name \"DDX11L1-202\"; exon_number 3; exon_id \"ENSE00002312635.1\"; level 2; transcript_support_level \"1\"; hgnc_id \"HGNC:37102\"; tag \"basic\"; havana_gene \"OTTHUMG00000000961.2\"; havana_transcript \"OTTHUMT00000362751.1\";\t0\n",
            " chr1\tHAVANA\ttranscript\t12010\t13670\t.\t+\t.\tgene_id \"ENSG00000223972.5\"; transcript_id \"ENST00000450305.2\"; gene_type \"transcribed_unprocessed_pseudogene\"; gene_name \"DDX11L1\"; transcript_type \"transcribed_unprocessed_pseudogene\"; transcript_name \"DDX11L1-201\"; level 2; transcript_support_level \"NA\"; hgnc_id \"HGNC:37102\"; ont \"PGO:0000005\"; ont \"PGO:0000019\"; tag \"basic\"; havana_gene \"OTTHUMG00000000961.2\"; havana_transcript \"OTTHUMT00000002844.2\";\t0\n",
            " chr1\tHAVANA\texon\t12010\t12057\t.\t+\t.\tgene_id \"ENSG00000223972.5\"; transcript_id \"ENST00000450305.2\"; gene_type \"transcribed_unprocessed_pseudogene\"; gene_name \"DDX11L1\"; transcript_type \"transcribed_unprocessed_pseudogene\"; transcript_name \"DDX11L1-201\"; exon_number 1; exon_id \"ENSE00001948541.1\"; level 2; transcript_support_level \"NA\"; hgnc_id \"HGNC:37102\"; ont \"PGO:0000005\"; ont \"PGO:0000019\"; tag \"basic\"; havana_gene \"OTTHUMG00000000961.2\"; havana_transcript \"OTTHUMT00000002844.2\";\t0\n",
            " chr1\tHAVANA\texon\t12179\t12227\t.\t+\t.\tgene_id \"ENSG00000223972.5\"; transcript_id \"ENST00000450305.2\"; gene_type \"transcribed_unprocessed_pseudogene\"; gene_name \"DDX11L1\"; transcript_type \"transcribed_unprocessed_pseudogene\"; transcript_name \"DDX11L1-201\"; exon_number 2; exon_id \"ENSE00001671638.2\"; level 2; transcript_support_level \"NA\"; hgnc_id \"HGNC:37102\"; ont \"PGO:0000005\"; ont \"PGO:0000019\"; tag \"basic\"; havana_gene \"OTTHUMG00000000961.2\"; havana_transcript \"OTTHUMT00000002844.2\";\t0\n",
            " chr1\tHAVANA\texon\t12613\t12697\t.\t+\t.\tgene_id \"ENSG00000223972.5\"; transcript_id \"ENST00000450305.2\"; gene_type \"transcribed_unprocessed_pseudogene\"; gene_name \"DDX11L1\"; transcript_type \"transcribed_unprocessed_pseudogene\"; transcript_name \"DDX11L1-201\"; exon_number 3; exon_id \"ENSE00001758273.2\"; level 2; transcript_support_level \"NA\"; hgnc_id \"HGNC:37102\"; ont \"PGO:0000005\"; ont \"PGO:0000019\"; tag \"basic\"; havana_gene \"OTTHUMG00000000961.2\"; havana_transcript \"OTTHUMT00000002844.2\";\t0\n",
            " chr1\tHAVANA\texon\t12975\t13052\t.\t+\t.\tgene_id \"ENSG00000223972.5\"; transcript_id \"ENST00000450305.2\"; gene_type \"transcribed_unprocessed_pseudogene\"; gene_name \"DDX11L1\"; transcript_type \"transcribed_unprocessed_pseudogene\"; transcript_name \"DDX11L1-201\"; exon_number 4; exon_id \"ENSE00001799933.2\"; level 2; transcript_support_level \"NA\"; hgnc_id \"HGNC:37102\"; ont \"PGO:0000005\"; ont \"PGO:0000019\"; tag \"basic\"; havana_gene \"OTTHUMG00000000961.2\"; havana_transcript \"OTTHUMT00000002844.2\";\t0\n",
            " "
          ],
          "name": "stdout"
        }
      ]
    },
    {
      "cell_type": "markdown",
      "metadata": {
        "id": "p3_OOt1bulEQ",
        "colab_type": "text"
      },
      "source": [
        "**Alternatively, you can achieve the intersect of two bed files using string data:**"
      ]
    },
    {
      "cell_type": "code",
      "metadata": {
        "id": "bu2w8WtcE9SG",
        "colab_type": "code",
        "outputId": "4a3dcee5-b9c0-4219-d1fc-f43a10d34d69",
        "colab": {
          "base_uri": "https://localhost:8080/",
          "height": 51
        }
      },
      "source": [
        "# An example of easy strings containing BED data.\n",
        "from pybedtools import BedTool\n",
        "\n",
        "bed_1 = \"\"\"\n",
        "chrX  1  100 interval_1a . +\n",
        "chrX 25  800 interval_2a . +\n",
        "\"\"\"\n",
        "\n",
        "bed_2 = \"\"\"\n",
        "chrX  5 10 interval_1b . -\n",
        "chrX  801 900 interval_1b . -\n",
        "\"\"\"\n",
        "\n",
        "# Create BedTool objects with BedTool method (before imported froom pybedtools)\n",
        "# In the parentheses the name of the file - the name of the file (string in this case) and \n",
        "# function enabling the string read\n",
        "a = BedTool(bed_1, from_string=True)\n",
        "b = BedTool(bed_2, from_string=True)\n",
        "\n",
        "# Call BedTool method \"intersect\" to find overlapped intervals from bed files\n",
        "# Strandness (s) - if set to True, just the same direction strand overlapped\n",
        "\n",
        "a_b = a.intersect(b, s=False) # a is a BedTool object; you are calling its method intersect\n",
        "\n",
        "# Print first N=2 lines\n",
        "# This is the new BedTool object resulting from the intersection of a and b\n",
        "a_b.head(2) \n",
        "\n"
      ],
      "execution_count": 0,
      "outputs": [
        {
          "output_type": "stream",
          "text": [
            "chrX\t5\t10\tinterval_1a\t.\t+\n",
            " "
          ],
          "name": "stdout"
        }
      ]
    },
    {
      "cell_type": "markdown",
      "metadata": {
        "id": "NMasGkI19pHZ",
        "colab_type": "text"
      },
      "source": [
        "However, the same approach is not going to work for intersection of bed and gff3 file since they have different amount of fields."
      ]
    },
    {
      "cell_type": "code",
      "metadata": {
        "id": "hRaK_BuzwrmU",
        "colab_type": "code",
        "outputId": "d595d22d-7887-4a41-c6fc-35b7cb1bf788",
        "colab": {
          "base_uri": "https://localhost:8080/",
          "height": 477
        }
      },
      "source": [
        "# Intersecting bed and gff3 file.\n",
        "# If you import BedTool from pybedtools, you avoid writing pybedtools.BedTool()\n",
        "# every time and you can use BedTool() instead.\n",
        "from pybedtools import BedTool\n",
        "\n",
        "bed = \"\"\"chr1\t11895\t11995\tinterval1\t.\t+\n",
        "chr1\t11900\t14309\tinterval2\t.\t+\n",
        "chr1\t12000\t12090\tinterval3\t.\t+\n",
        "chr1\t12700\t12710\tinterval4\t.\t+\n",
        "chr1\t13300\t14209\tinterval5\t.\t+\n",
        "chr1\t12080\t13570\tinterval6\t.\t+\n",
        "chr1\t12040\t12047\tinterval7\t.\t+\t\n",
        "chr1\t12190\t12210\tinterval8\t.\t+\n",
        "chr1\t12655\t12680\tinterval9\t.\t+\n",
        "chr1\t12990\t13040\tinterval10  .\t+\n",
        "chr1\t13300\t13354\tinterval11\t.\t+\"\"\"\n",
        "\n",
        "gff3 = \"\"\"Chromosome Source Ft Start End Score Strand Phase Gen_id Gene_type Gene_name Transcript_type Transcript_name Level Transcript_support_level hgnc_id tag havana_gene havana_transcript\n",
        "chr1\tHAVANA\tgene\t11869\t14409\t.\t+\t.\tID=ENSG00000223972.5;gene_id=ENSG00000223972.5;gene_type=transcribed_unprocessed_pseudogene;gene_name=DDX11L1;level=2;hgnc_id=HGNC:37102;havana_gene=OTTHUMG00000000961.2\n",
        "chr1\tHAVANA\ttranscript\t11869\t14409\t.\t+\t.\tID=ENST00000456328.2;Parent=ENSG00000223972.5;gene_id=ENSG00000223972.5;transcript_id=ENST00000456328.2;gene_type=transcribed_unprocessed_pseudogene;gene_name=DDX11L1;transcript_type=processed_transcript;transcript_name=DDX11L1-202;level=2;transcript_support_level=1;hgnc_id=HGNC:37102;tag=basic;havana_gene=OTTHUMG00000000961.2;havana_transcript=OTTHUMT00000362751.1\n",
        "chr1\tHAVANA\texon\t11869\t12227\t.\t+\t.\tID=exon:ENST00000456328.2:1;Parent=ENST00000456328.2;gene_id=ENSG00000223972.5;transcript_id=ENST00000456328.2;gene_type=transcribed_unprocessed_pseudogene;gene_name=DDX11L1;transcript_type=processed_transcript;transcript_name=DDX11L1-202;exon_number=1;exon_id=ENSE00002234944.1;level=2;transcript_support_level=1;hgnc_id=HGNC:37102;tag=basic;havana_gene=OTTHUMG00000000961.2;havana_transcript=OTTHUMT00000362751.1\n",
        "chr1\tHAVANA\texon\t12613\t12721\t.\t+\t.\tID=exon:ENST00000456328.2:2;Parent=ENST00000456328.2;gene_id=ENSG00000223972.5;transcript_id=ENST00000456328.2;gene_type=transcribed_unprocessed_pseudogene;gene_name=DDX11L1;transcript_type=processed_transcript;transcript_name=DDX11L1-202;exon_number=2;exon_id=ENSE00003582793.1;level=2;transcript_support_level=1;hgnc_id=HGNC:37102;tag=basic;havana_gene=OTTHUMG00000000961.2;havana_transcript=OTTHUMT00000362751.1\n",
        "chr1\tHAVANA\texon\t13221\t14409\t.\t+\t.\tID=exon:ENST00000456328.2:3;Parent=ENST00000456328.2;gene_id=ENSG00000223972.5;transcript_id=ENST00000456328.2;gene_type=transcribed_unprocessed_pseudogene;gene_name=DDX11L1;transcript_type=processed_transcript;transcript_name=DDX11L1-202;exon_number=3;exon_id=ENSE00002312635.1;level=2;transcript_support_level=1;hgnc_id=HGNC:37102;tag=basic;havana_gene=OTTHUMG00000000961.2;havana_transcript=OTTHUMT00000362751.1\n",
        "chr1\tHAVANA\ttranscript\t12010\t13670\t.\t+\t.\tID=ENST00000450305.2;Parent=ENSG00000223972.5;gene_id=ENSG00000223972.5;transcript_id=ENST00000450305.2;gene_type=transcribed_unprocessed_pseudogene;gene_name=DDX11L1;transcript_type=transcribed_unprocessed_pseudogene;transcript_name=DDX11L1-201;level=2;transcript_support_level=NA;hgnc_id=HGNC:37102;ont=PGO:0000005,PGO:0000019;tag=basic;havana_gene=OTTHUMG00000000961.2;havana_transcript=OTTHUMT00000002844.2\n",
        "chr1\tHAVANA\texon\t12010\t12057\t.\t+\t.\tID=exon:ENST00000450305.2:1;Parent=ENST00000450305.2;gene_id=ENSG00000223972.5;transcript_id=ENST00000450305.2;gene_type=transcribed_unprocessed_pseudogene;gene_name=DDX11L1;transcript_type=transcribed_unprocessed_pseudogene;transcript_name=DDX11L1-201;exon_number=1;exon_id=ENSE00001948541.1;level=2;transcript_support_level=NA;hgnc_id=HGNC:37102;ont=PGO:0000005,PGO:0000019;tag=basic;havana_gene=OTTHUMG00000000961.2;havana_transcript=OTTHUMT00000002844.2\n",
        "chr1\tHAVANA\texon\t12179\t12227\t.\t+\t.\tID=exon:ENST00000450305.2:2;Parent=ENST00000450305.2;gene_id=ENSG00000223972.5;transcript_id=ENST00000450305.2;gene_type=transcribed_unprocessed_pseudogene;gene_name=DDX11L1;transcript_type=transcribed_unprocessed_pseudogene;transcript_name=DDX11L1-201;exon_number=2;exon_id=ENSE00001671638.2;level=2;transcript_support_level=NA;hgnc_id=HGNC:37102;ont=PGO:0000005,PGO:0000019;tag=basic;havana_gene=OTTHUMG00000000961.2;havana_transcript=OTTHUMT00000002844.2\n",
        "chr1\tHAVANA\texon\t12613\t12697\t.\t+\t.\tID=exon:ENST00000450305.2:3;Parent=ENST00000450305.2;gene_id=ENSG00000223972.5;transcript_id=ENST00000450305.2;gene_type=transcribed_unprocessed_pseudogene;gene_name=DDX11L1;transcript_type=transcribed_unprocessed_pseudogene;transcript_name=DDX11L1-201;exon_number=3;exon_id=ENSE00001758273.2;level=2;transcript_support_level=NA;hgnc_id=HGNC:37102;ont=PGO:0000005,PGO:0000019;tag=basic;havana_gene=OTTHUMG00000000961.2;havana_transcript=OTTHUMT00000002844.2\n",
        "chr1\tHAVANA\texon\t12975\t13052\t.\t+\t.\tID=exon:ENST00000450305.2:4;Parent=ENST00000450305.2;gene_id=ENSG00000223972.5;transcript_id=ENST00000450305.2;gene_type=transcribed_unprocessed_pseudogene;gene_name=DDX11L1;transcript_type=transcribed_unprocessed_pseudogene;transcript_name=DDX11L1-201;exon_number=4;exon_id=ENSE00001799933.2;level=2;transcript_support_level=NA;hgnc_id=HGNC:37102;ont=PGO:0000005,PGO:0000019;tag=basic;havana_gene=OTTHUMG00000000961.2;havana_transcript=OTTHUMT00000002844.2\n",
        "chr1\tHAVANA\texon\t13221\t13374\t.\t+\t.\tID=exon:ENST00000450305.2:5;Parent=ENST00000450305.2;gene_id=ENSG00000223972.5;transcript_id=ENST00000450305.2;gene_type=transcribed_unprocessed_pseudogene;gene_name=DDX11L1;transcript_type=transcribed_unprocessed_pseudogene;transcript_name=DDX11L1-201;exon_number=5;exon_id=ENSE00001746346.2;level=2;transcript_support_level=NA;hgnc_id=HGNC:37102;ont=PGO:0000005,PGO:0000019;tag=basic;havana_gene=OTTHUMG00000000961.2;havana_transcript=OTTHUMT00000002844.2\n",
        "\"\"\"\n",
        "\n",
        "a = BedTool(bed, from_string=True)\n",
        "b = BedTool(gff3, from_string=True)\n",
        "\n",
        "i = a.intersect(b, s=True) \n",
        "s = a.subtract(b, s=True)\n",
        "print(i)\n",
        "print(s)"
      ],
      "execution_count": 0,
      "outputs": [
        {
          "output_type": "error",
          "ename": "BEDToolsError",
          "evalue": "ignored",
          "traceback": [
            "\u001b[0;31m---------------------------------------------------------------------------\u001b[0m",
            "\u001b[0;31mBEDToolsError\u001b[0m                             Traceback (most recent call last)",
            "\u001b[0;32m<ipython-input-19-2637180e847e>\u001b[0m in \u001b[0;36m<module>\u001b[0;34m()\u001b[0m\n\u001b[1;32m     30\u001b[0m \u001b[0mb\u001b[0m \u001b[0;34m=\u001b[0m \u001b[0mBedTool\u001b[0m\u001b[0;34m(\u001b[0m\u001b[0mgff3\u001b[0m\u001b[0;34m,\u001b[0m \u001b[0mfrom_string\u001b[0m\u001b[0;34m=\u001b[0m\u001b[0;32mTrue\u001b[0m\u001b[0;34m)\u001b[0m\u001b[0;34m\u001b[0m\u001b[0;34m\u001b[0m\u001b[0m\n\u001b[1;32m     31\u001b[0m \u001b[0;34m\u001b[0m\u001b[0m\n\u001b[0;32m---> 32\u001b[0;31m \u001b[0mi\u001b[0m \u001b[0;34m=\u001b[0m \u001b[0ma\u001b[0m\u001b[0;34m.\u001b[0m\u001b[0mintersect\u001b[0m\u001b[0;34m(\u001b[0m\u001b[0mb\u001b[0m\u001b[0;34m,\u001b[0m \u001b[0ms\u001b[0m\u001b[0;34m=\u001b[0m\u001b[0;32mTrue\u001b[0m\u001b[0;34m)\u001b[0m\u001b[0;34m\u001b[0m\u001b[0;34m\u001b[0m\u001b[0m\n\u001b[0m\u001b[1;32m     33\u001b[0m \u001b[0ms\u001b[0m \u001b[0;34m=\u001b[0m \u001b[0ma\u001b[0m\u001b[0;34m.\u001b[0m\u001b[0msubtract\u001b[0m\u001b[0;34m(\u001b[0m\u001b[0mb\u001b[0m\u001b[0;34m,\u001b[0m \u001b[0ms\u001b[0m\u001b[0;34m=\u001b[0m\u001b[0;32mTrue\u001b[0m\u001b[0;34m)\u001b[0m\u001b[0;34m\u001b[0m\u001b[0;34m\u001b[0m\u001b[0m\n\u001b[1;32m     34\u001b[0m \u001b[0mprint\u001b[0m\u001b[0;34m(\u001b[0m\u001b[0mi\u001b[0m\u001b[0;34m)\u001b[0m\u001b[0;34m\u001b[0m\u001b[0;34m\u001b[0m\u001b[0m\n",
            "\u001b[0;32m/usr/local/lib/python3.6/dist-packages/pybedtools/bedtool.py\u001b[0m in \u001b[0;36mdecorated\u001b[0;34m(self, *args, **kwargs)\u001b[0m\n\u001b[1;32m    915\u001b[0m             \u001b[0;31m# this calls the actual method in the first place; *result* is\u001b[0m\u001b[0;34m\u001b[0m\u001b[0;34m\u001b[0m\u001b[0;34m\u001b[0m\u001b[0m\n\u001b[1;32m    916\u001b[0m             \u001b[0;31m# whatever you get back\u001b[0m\u001b[0;34m\u001b[0m\u001b[0;34m\u001b[0m\u001b[0;34m\u001b[0m\u001b[0m\n\u001b[0;32m--> 917\u001b[0;31m             \u001b[0mresult\u001b[0m \u001b[0;34m=\u001b[0m \u001b[0mmethod\u001b[0m\u001b[0;34m(\u001b[0m\u001b[0mself\u001b[0m\u001b[0;34m,\u001b[0m \u001b[0;34m*\u001b[0m\u001b[0margs\u001b[0m\u001b[0;34m,\u001b[0m \u001b[0;34m**\u001b[0m\u001b[0mkwargs\u001b[0m\u001b[0;34m)\u001b[0m\u001b[0;34m\u001b[0m\u001b[0;34m\u001b[0m\u001b[0m\n\u001b[0m\u001b[1;32m    918\u001b[0m \u001b[0;34m\u001b[0m\u001b[0m\n\u001b[1;32m    919\u001b[0m             \u001b[0;31m# add appropriate tags\u001b[0m\u001b[0;34m\u001b[0m\u001b[0;34m\u001b[0m\u001b[0;34m\u001b[0m\u001b[0m\n",
            "\u001b[0;32m/usr/local/lib/python3.6/dist-packages/pybedtools/bedtool.py\u001b[0m in \u001b[0;36mwrapped\u001b[0;34m(self, *args, **kwargs)\u001b[0m\n\u001b[1;32m    399\u001b[0m                 \u001b[0mstdin\u001b[0m\u001b[0;34m=\u001b[0m\u001b[0mstdin\u001b[0m\u001b[0;34m,\u001b[0m\u001b[0;34m\u001b[0m\u001b[0;34m\u001b[0m\u001b[0m\n\u001b[1;32m    400\u001b[0m                 \u001b[0mcheck_stderr\u001b[0m\u001b[0;34m=\u001b[0m\u001b[0mcheck_stderr\u001b[0m\u001b[0;34m,\u001b[0m\u001b[0;34m\u001b[0m\u001b[0;34m\u001b[0m\u001b[0m\n\u001b[0;32m--> 401\u001b[0;31m                 \u001b[0mdecode_output\u001b[0m\u001b[0;34m=\u001b[0m\u001b[0mdecode_output\u001b[0m\u001b[0;34m,\u001b[0m\u001b[0;34m\u001b[0m\u001b[0;34m\u001b[0m\u001b[0m\n\u001b[0m\u001b[1;32m    402\u001b[0m             )\n\u001b[1;32m    403\u001b[0m \u001b[0;34m\u001b[0m\u001b[0m\n",
            "\u001b[0;32m/usr/local/lib/python3.6/dist-packages/pybedtools/helpers.py\u001b[0m in \u001b[0;36mcall_bedtools\u001b[0;34m(cmds, tmpfn, stdin, check_stderr, decode_output, encode_input)\u001b[0m\n\u001b[1;32m    453\u001b[0m                 \u001b[0msys\u001b[0m\u001b[0;34m.\u001b[0m\u001b[0mstderr\u001b[0m\u001b[0;34m.\u001b[0m\u001b[0mwrite\u001b[0m\u001b[0;34m(\u001b[0m\u001b[0mstderr\u001b[0m\u001b[0;34m)\u001b[0m\u001b[0;34m\u001b[0m\u001b[0;34m\u001b[0m\u001b[0m\n\u001b[1;32m    454\u001b[0m             \u001b[0;32melse\u001b[0m\u001b[0;34m:\u001b[0m\u001b[0;34m\u001b[0m\u001b[0;34m\u001b[0m\u001b[0m\n\u001b[0;32m--> 455\u001b[0;31m                 \u001b[0;32mraise\u001b[0m \u001b[0mBEDToolsError\u001b[0m\u001b[0;34m(\u001b[0m\u001b[0msubprocess\u001b[0m\u001b[0;34m.\u001b[0m\u001b[0mlist2cmdline\u001b[0m\u001b[0;34m(\u001b[0m\u001b[0mcmds\u001b[0m\u001b[0;34m)\u001b[0m\u001b[0;34m,\u001b[0m \u001b[0mstderr\u001b[0m\u001b[0;34m)\u001b[0m\u001b[0;34m\u001b[0m\u001b[0;34m\u001b[0m\u001b[0m\n\u001b[0m\u001b[1;32m    456\u001b[0m \u001b[0;34m\u001b[0m\u001b[0m\n\u001b[1;32m    457\u001b[0m     \u001b[0;32mexcept\u001b[0m \u001b[0;34m(\u001b[0m\u001b[0mOSError\u001b[0m\u001b[0;34m,\u001b[0m \u001b[0mIOError\u001b[0m\u001b[0;34m)\u001b[0m \u001b[0;32mas\u001b[0m \u001b[0merr\u001b[0m\u001b[0;34m:\u001b[0m\u001b[0;34m\u001b[0m\u001b[0;34m\u001b[0m\u001b[0m\n",
            "\u001b[0;31mBEDToolsError\u001b[0m: \nCommand was:\n\n\tbedtools intersect -s -b /tmp/pybedtools.6alihlcy.tmp -a /tmp/pybedtools.1gcgbguk.tmp\n\nError message was:\nError: Type checker found wrong number of fields while tokenizing data line.\n"
          ]
        }
      ]
    },
    {
      "cell_type": "markdown",
      "metadata": {
        "id": "RhXY7qZC0BC6",
        "colab_type": "text"
      },
      "source": [
        "#Pandas overlaps"
      ]
    },
    {
      "cell_type": "markdown",
      "metadata": {
        "id": "im2If4EDg96R",
        "colab_type": "text"
      },
      "source": [
        "https://pandas.pydata.org/pandas-docs/stable/reference/api/pandas.Interval.overlaps.html"
      ]
    },
    {
      "cell_type": "markdown",
      "metadata": {
        "id": "2X67XqdqDtkP",
        "colab_type": "text"
      },
      "source": [
        "This approach is suitable for two numerical intervals rather than for a file:"
      ]
    },
    {
      "cell_type": "code",
      "metadata": {
        "id": "eInlqZOT6F4W",
        "colab_type": "code",
        "outputId": "92990ebf-decd-4650-aa3a-91f38b8fde1f",
        "colab": {
          "base_uri": "https://localhost:8080/",
          "height": 34
        }
      },
      "source": [
        "# First, you need to import the corresponding packages.\n",
        "import pandas as pd\n",
        "\n",
        "i1 = pd.Interval(11895,11995)\n",
        "i2 = pd.Interval(11869,14409)\n",
        "i1.overlaps(i2)"
      ],
      "execution_count": 0,
      "outputs": [
        {
          "output_type": "execute_result",
          "data": {
            "text/plain": [
              "True"
            ]
          },
          "metadata": {
            "tags": []
          },
          "execution_count": 11
        }
      ]
    },
    {
      "cell_type": "markdown",
      "metadata": {
        "id": "e8jPFPJZWUpV",
        "colab_type": "text"
      },
      "source": [
        "Because you do not want to manually compare each pair of intervals from each file and you want to rather compare the files as a whole instead, you cannot use pandas overlaps. Bedtools are more suitable for this purpose."
      ]
    },
    {
      "cell_type": "code",
      "metadata": {
        "id": "CJ1etUrt0Aal",
        "colab_type": "code",
        "outputId": "fc015756-96ac-4f4d-b859-d61b8cd7ac29",
        "colab": {
          "base_uri": "https://localhost:8080/",
          "height": 266
        }
      },
      "source": [
        "import pandas as pd\n",
        "# You need to re-upload the desired files to the colab notebook\n",
        "# every time the runtime is restarted by clicking to the folder\n",
        "# icon on the left and subsequently upload.\n",
        "i1 = pd.Interval(\"gencode.v33.annotation.gtf.gz\")\n",
        "i2 = pd.Interval(\"ENCFF861KMV.bed.gz\")\n",
        "i1.overlaps(i2)"
      ],
      "execution_count": 0,
      "outputs": [
        {
          "output_type": "error",
          "ename": "TypeError",
          "evalue": "ignored",
          "traceback": [
            "\u001b[0;31m---------------------------------------------------------------------------\u001b[0m",
            "\u001b[0;31mTypeError\u001b[0m                                 Traceback (most recent call last)",
            "\u001b[0;32m<ipython-input-12-b154ccdf9f79>\u001b[0m in \u001b[0;36m<module>\u001b[0;34m()\u001b[0m\n\u001b[1;32m      3\u001b[0m \u001b[0;31m# every time the runtime is restarted by clicking to the folder\u001b[0m\u001b[0;34m\u001b[0m\u001b[0;34m\u001b[0m\u001b[0;34m\u001b[0m\u001b[0m\n\u001b[1;32m      4\u001b[0m \u001b[0;31m# icon on the left and subsequently upload.\u001b[0m\u001b[0;34m\u001b[0m\u001b[0;34m\u001b[0m\u001b[0;34m\u001b[0m\u001b[0m\n\u001b[0;32m----> 5\u001b[0;31m \u001b[0mi1\u001b[0m \u001b[0;34m=\u001b[0m \u001b[0mpd\u001b[0m\u001b[0;34m.\u001b[0m\u001b[0mInterval\u001b[0m\u001b[0;34m(\u001b[0m\u001b[0;34m\"gencode.v33.annotation.gtf.gz\"\u001b[0m\u001b[0;34m)\u001b[0m\u001b[0;34m\u001b[0m\u001b[0;34m\u001b[0m\u001b[0m\n\u001b[0m\u001b[1;32m      6\u001b[0m \u001b[0mi2\u001b[0m \u001b[0;34m=\u001b[0m \u001b[0mpd\u001b[0m\u001b[0;34m.\u001b[0m\u001b[0mInterval\u001b[0m\u001b[0;34m(\u001b[0m\u001b[0;34m\"ENCFF861KMV.bed.gz\"\u001b[0m\u001b[0;34m)\u001b[0m\u001b[0;34m\u001b[0m\u001b[0;34m\u001b[0m\u001b[0m\n\u001b[1;32m      7\u001b[0m \u001b[0mi1\u001b[0m\u001b[0;34m.\u001b[0m\u001b[0moverlaps\u001b[0m\u001b[0;34m(\u001b[0m\u001b[0mi2\u001b[0m\u001b[0;34m)\u001b[0m\u001b[0;34m\u001b[0m\u001b[0;34m\u001b[0m\u001b[0m\n",
            "\u001b[0;32mpandas/_libs/interval.pyx\u001b[0m in \u001b[0;36mpandas._libs.interval.Interval.__init__\u001b[0;34m()\u001b[0m\n",
            "\u001b[0;31mTypeError\u001b[0m: __init__() takes at least 2 positional arguments (1 given)"
          ]
        }
      ]
    },
    {
      "cell_type": "markdown",
      "metadata": {
        "id": "L49dURU3IUJ3",
        "colab_type": "text"
      },
      "source": [
        "#PyRanges\n",
        "https://biocore-ntnu.github.io/pyranges/index.html"
      ]
    },
    {
      "cell_type": "markdown",
      "metadata": {
        "id": "xir3w3yf4xrR",
        "colab_type": "text"
      },
      "source": [
        "Reading BED or gtf file as .csv does not provide the satisfactory output for the BED file:"
      ]
    },
    {
      "cell_type": "code",
      "metadata": {
        "id": "5at8vV5wBrkf",
        "colab_type": "code",
        "outputId": "9a19a2fc-ad06-4d33-88c3-9094c4a83aa7",
        "colab": {
          "base_uri": "https://localhost:8080/",
          "height": 594
        }
      },
      "source": [
        "# Everytime the runtime is restarted, you need to run the installation again.\n",
        "\n",
        "# Once the installation is done and you are intending to change/run the content \n",
        "# of the cell or any following cell, you can comment it out as the requirement \n",
        "# will remain satisfied throughout the runtime.\n",
        "!pip install pyranges\n",
        "import pandas as pd\n",
        "import pyranges as pr\n",
        "\n",
        "# gtf file\n",
        "# \"Names\" are arbitrary but it is strongly recommended to name them according\n",
        "# to the database consensus.\n",
        "df = pd.read_csv(\"test.gff3\", header=None, names=[\"chrom\", \"origin\", \"type\", \"start\", \n",
        "                                                  \"end\", \"5\", \"strand\", \"7\", \"name\"], sep=\"\\t\")\n",
        "# How = \"any\" deletes all of the rows including at least one NaN = not a number\n",
        "df.dropna(how=\"any\") "
      ],
      "execution_count": 0,
      "outputs": [
        {
          "output_type": "stream",
          "text": [
            "Requirement already satisfied: pyranges in /usr/local/lib/python3.6/dist-packages (0.0.76)\n",
            "Requirement already satisfied: natsort in /usr/local/lib/python3.6/dist-packages (from pyranges) (5.5.0)\n",
            "Requirement already satisfied: pandas in /usr/local/lib/python3.6/dist-packages (from pyranges) (0.25.3)\n",
            "Requirement already satisfied: tabulate in /usr/local/lib/python3.6/dist-packages (from pyranges) (0.8.6)\n",
            "Requirement already satisfied: cython in /usr/local/lib/python3.6/dist-packages (from pyranges) (0.29.15)\n",
            "Requirement already satisfied: pyrle in /usr/local/lib/python3.6/dist-packages (from pyranges) (0.0.30)\n",
            "Requirement already satisfied: sorted-nearest>=0.0.30 in /usr/local/lib/python3.6/dist-packages (from pyranges) (0.0.31)\n",
            "Requirement already satisfied: ncls>=0.0.50 in /usr/local/lib/python3.6/dist-packages (from pyranges) (0.0.53)\n",
            "Requirement already satisfied: pytz>=2017.2 in /usr/local/lib/python3.6/dist-packages (from pandas->pyranges) (2018.9)\n",
            "Requirement already satisfied: numpy>=1.13.3 in /usr/local/lib/python3.6/dist-packages (from pandas->pyranges) (1.17.5)\n",
            "Requirement already satisfied: python-dateutil>=2.6.1 in /usr/local/lib/python3.6/dist-packages (from pandas->pyranges) (2.6.1)\n",
            "Requirement already satisfied: six>=1.5 in /usr/local/lib/python3.6/dist-packages (from python-dateutil>=2.6.1->pandas->pyranges) (1.12.0)\n"
          ],
          "name": "stdout"
        },
        {
          "output_type": "execute_result",
          "data": {
            "text/html": [
              "<div>\n",
              "<style scoped>\n",
              "    .dataframe tbody tr th:only-of-type {\n",
              "        vertical-align: middle;\n",
              "    }\n",
              "\n",
              "    .dataframe tbody tr th {\n",
              "        vertical-align: top;\n",
              "    }\n",
              "\n",
              "    .dataframe thead th {\n",
              "        text-align: right;\n",
              "    }\n",
              "</style>\n",
              "<table border=\"1\" class=\"dataframe\">\n",
              "  <thead>\n",
              "    <tr style=\"text-align: right;\">\n",
              "      <th></th>\n",
              "      <th>chrom</th>\n",
              "      <th>origin</th>\n",
              "      <th>type</th>\n",
              "      <th>start</th>\n",
              "      <th>end</th>\n",
              "      <th>5</th>\n",
              "      <th>strand</th>\n",
              "      <th>7</th>\n",
              "      <th>name</th>\n",
              "    </tr>\n",
              "  </thead>\n",
              "  <tbody>\n",
              "    <tr>\n",
              "      <th>0</th>\n",
              "      <td>chr1</td>\n",
              "      <td>HAVANA</td>\n",
              "      <td>gene</td>\n",
              "      <td>11869</td>\n",
              "      <td>14409</td>\n",
              "      <td>.</td>\n",
              "      <td>+</td>\n",
              "      <td>.</td>\n",
              "      <td>ID=ENSG00000223972.5;gene_id=ENSG00000223972.5...</td>\n",
              "    </tr>\n",
              "    <tr>\n",
              "      <th>1</th>\n",
              "      <td>chr1</td>\n",
              "      <td>HAVANA</td>\n",
              "      <td>transcript</td>\n",
              "      <td>11869</td>\n",
              "      <td>14409</td>\n",
              "      <td>.</td>\n",
              "      <td>+</td>\n",
              "      <td>.</td>\n",
              "      <td>ID=ENST00000456328.2;Parent=ENSG00000223972.5;...</td>\n",
              "    </tr>\n",
              "    <tr>\n",
              "      <th>2</th>\n",
              "      <td>chr1</td>\n",
              "      <td>HAVANA</td>\n",
              "      <td>exon</td>\n",
              "      <td>11869</td>\n",
              "      <td>12227</td>\n",
              "      <td>.</td>\n",
              "      <td>+</td>\n",
              "      <td>.</td>\n",
              "      <td>ID=exon:ENST00000456328.2:1;Parent=ENST0000045...</td>\n",
              "    </tr>\n",
              "    <tr>\n",
              "      <th>3</th>\n",
              "      <td>chr1</td>\n",
              "      <td>HAVANA</td>\n",
              "      <td>exon</td>\n",
              "      <td>12613</td>\n",
              "      <td>12721</td>\n",
              "      <td>.</td>\n",
              "      <td>+</td>\n",
              "      <td>.</td>\n",
              "      <td>ID=exon:ENST00000456328.2:2;Parent=ENST0000045...</td>\n",
              "    </tr>\n",
              "    <tr>\n",
              "      <th>4</th>\n",
              "      <td>chr1</td>\n",
              "      <td>HAVANA</td>\n",
              "      <td>exon</td>\n",
              "      <td>13221</td>\n",
              "      <td>14409</td>\n",
              "      <td>.</td>\n",
              "      <td>+</td>\n",
              "      <td>.</td>\n",
              "      <td>ID=exon:ENST00000456328.2:3;Parent=ENST0000045...</td>\n",
              "    </tr>\n",
              "    <tr>\n",
              "      <th>5</th>\n",
              "      <td>chr1</td>\n",
              "      <td>HAVANA</td>\n",
              "      <td>transcript</td>\n",
              "      <td>12010</td>\n",
              "      <td>13670</td>\n",
              "      <td>.</td>\n",
              "      <td>+</td>\n",
              "      <td>.</td>\n",
              "      <td>ID=ENST00000450305.2;Parent=ENSG00000223972.5;...</td>\n",
              "    </tr>\n",
              "    <tr>\n",
              "      <th>6</th>\n",
              "      <td>chr1</td>\n",
              "      <td>HAVANA</td>\n",
              "      <td>exon</td>\n",
              "      <td>12010</td>\n",
              "      <td>12057</td>\n",
              "      <td>.</td>\n",
              "      <td>+</td>\n",
              "      <td>.</td>\n",
              "      <td>ID=exon:ENST00000450305.2:1;Parent=ENST0000045...</td>\n",
              "    </tr>\n",
              "    <tr>\n",
              "      <th>7</th>\n",
              "      <td>chr1</td>\n",
              "      <td>HAVANA</td>\n",
              "      <td>exon</td>\n",
              "      <td>12179</td>\n",
              "      <td>12227</td>\n",
              "      <td>.</td>\n",
              "      <td>+</td>\n",
              "      <td>.</td>\n",
              "      <td>ID=exon:ENST00000450305.2:2;Parent=ENST0000045...</td>\n",
              "    </tr>\n",
              "    <tr>\n",
              "      <th>8</th>\n",
              "      <td>chr1</td>\n",
              "      <td>HAVANA</td>\n",
              "      <td>exon</td>\n",
              "      <td>12613</td>\n",
              "      <td>12697</td>\n",
              "      <td>.</td>\n",
              "      <td>+</td>\n",
              "      <td>.</td>\n",
              "      <td>ID=exon:ENST00000450305.2:3;Parent=ENST0000045...</td>\n",
              "    </tr>\n",
              "    <tr>\n",
              "      <th>9</th>\n",
              "      <td>chr1</td>\n",
              "      <td>HAVANA</td>\n",
              "      <td>exon</td>\n",
              "      <td>12975</td>\n",
              "      <td>13052</td>\n",
              "      <td>.</td>\n",
              "      <td>+</td>\n",
              "      <td>.</td>\n",
              "      <td>ID=exon:ENST00000450305.2:4;Parent=ENST0000045...</td>\n",
              "    </tr>\n",
              "    <tr>\n",
              "      <th>10</th>\n",
              "      <td>chr1</td>\n",
              "      <td>HAVANA</td>\n",
              "      <td>exon</td>\n",
              "      <td>13221</td>\n",
              "      <td>13374</td>\n",
              "      <td>.</td>\n",
              "      <td>+</td>\n",
              "      <td>.</td>\n",
              "      <td>ID=exon:ENST00000450305.2:5;Parent=ENST0000045...</td>\n",
              "    </tr>\n",
              "  </tbody>\n",
              "</table>\n",
              "</div>"
            ],
            "text/plain": [
              "   chrom  origin  ...  7                                               name\n",
              "0   chr1  HAVANA  ...  .  ID=ENSG00000223972.5;gene_id=ENSG00000223972.5...\n",
              "1   chr1  HAVANA  ...  .  ID=ENST00000456328.2;Parent=ENSG00000223972.5;...\n",
              "2   chr1  HAVANA  ...  .  ID=exon:ENST00000456328.2:1;Parent=ENST0000045...\n",
              "3   chr1  HAVANA  ...  .  ID=exon:ENST00000456328.2:2;Parent=ENST0000045...\n",
              "4   chr1  HAVANA  ...  .  ID=exon:ENST00000456328.2:3;Parent=ENST0000045...\n",
              "5   chr1  HAVANA  ...  .  ID=ENST00000450305.2;Parent=ENSG00000223972.5;...\n",
              "6   chr1  HAVANA  ...  .  ID=exon:ENST00000450305.2:1;Parent=ENST0000045...\n",
              "7   chr1  HAVANA  ...  .  ID=exon:ENST00000450305.2:2;Parent=ENST0000045...\n",
              "8   chr1  HAVANA  ...  .  ID=exon:ENST00000450305.2:3;Parent=ENST0000045...\n",
              "9   chr1  HAVANA  ...  .  ID=exon:ENST00000450305.2:4;Parent=ENST0000045...\n",
              "10  chr1  HAVANA  ...  .  ID=exon:ENST00000450305.2:5;Parent=ENST0000045...\n",
              "\n",
              "[11 rows x 9 columns]"
            ]
          },
          "metadata": {
            "tags": []
          },
          "execution_count": 5
        }
      ]
    },
    {
      "cell_type": "code",
      "metadata": {
        "id": "JUKe5VPYJ_i5",
        "colab_type": "code",
        "outputId": "59dc4469-e7dd-4b1d-d4da-21088ed166c8",
        "colab": {
          "base_uri": "https://localhost:8080/",
          "height": 266
        }
      },
      "source": [
        "!pip install pyranges \n",
        "# You do not need to repeat the installation of pyranges if you have installed \n",
        "# them previously.\n",
        "import pandas as pd\n",
        "import pyranges as pr\n",
        "\n",
        "# BED file\n",
        "df = pd.read_csv(\"test.bed\", header=None, names=[\"chrom\", \"start\", \"end\", \"interval\", \"score\", \"strand\"], sep=\"\\t\")\n",
        "df.dropna(how=\"any\") \n"
      ],
      "execution_count": 0,
      "outputs": [
        {
          "output_type": "execute_result",
          "data": {
            "text/html": [
              "<div>\n",
              "<style scoped>\n",
              "    .dataframe tbody tr th:only-of-type {\n",
              "        vertical-align: middle;\n",
              "    }\n",
              "\n",
              "    .dataframe tbody tr th {\n",
              "        vertical-align: top;\n",
              "    }\n",
              "\n",
              "    .dataframe thead th {\n",
              "        text-align: right;\n",
              "    }\n",
              "</style>\n",
              "<table border=\"1\" class=\"dataframe\">\n",
              "  <thead>\n",
              "    <tr style=\"text-align: right;\">\n",
              "      <th></th>\n",
              "      <th>chrom</th>\n",
              "      <th>start</th>\n",
              "      <th>end</th>\n",
              "      <th>interval</th>\n",
              "      <th>score</th>\n",
              "      <th>strand</th>\n",
              "    </tr>\n",
              "  </thead>\n",
              "  <tbody>\n",
              "    <tr>\n",
              "      <th>0</th>\n",
              "      <td>chr1</td>\n",
              "      <td>13300</td>\n",
              "      <td>14209</td>\n",
              "      <td>interval5</td>\n",
              "      <td>.</td>\n",
              "      <td>+</td>\n",
              "    </tr>\n",
              "    <tr>\n",
              "      <th>1</th>\n",
              "      <td>chr1</td>\n",
              "      <td>12080</td>\n",
              "      <td>13570</td>\n",
              "      <td>interval6</td>\n",
              "      <td>.</td>\n",
              "      <td>+</td>\n",
              "    </tr>\n",
              "    <tr>\n",
              "      <th>2</th>\n",
              "      <td>chr1</td>\n",
              "      <td>12040</td>\n",
              "      <td>12047</td>\n",
              "      <td>interval7</td>\n",
              "      <td>.</td>\n",
              "      <td>+</td>\n",
              "    </tr>\n",
              "    <tr>\n",
              "      <th>3</th>\n",
              "      <td>chr1</td>\n",
              "      <td>12190</td>\n",
              "      <td>12210</td>\n",
              "      <td>interval8</td>\n",
              "      <td>.</td>\n",
              "      <td>+</td>\n",
              "    </tr>\n",
              "    <tr>\n",
              "      <th>4</th>\n",
              "      <td>chr1</td>\n",
              "      <td>12655</td>\n",
              "      <td>12680</td>\n",
              "      <td>interval9</td>\n",
              "      <td>.</td>\n",
              "      <td>+</td>\n",
              "    </tr>\n",
              "    <tr>\n",
              "      <th>5</th>\n",
              "      <td>chr1</td>\n",
              "      <td>12990</td>\n",
              "      <td>13040</td>\n",
              "      <td>interval10</td>\n",
              "      <td>.</td>\n",
              "      <td>+</td>\n",
              "    </tr>\n",
              "    <tr>\n",
              "      <th>6</th>\n",
              "      <td>chr1</td>\n",
              "      <td>13300</td>\n",
              "      <td>13354</td>\n",
              "      <td>interval11</td>\n",
              "      <td>.</td>\n",
              "      <td>+</td>\n",
              "    </tr>\n",
              "  </tbody>\n",
              "</table>\n",
              "</div>"
            ],
            "text/plain": [
              "  chrom  start    end    interval score strand\n",
              "0  chr1  13300  14209   interval5     .      +\n",
              "1  chr1  12080  13570   interval6     .      +\n",
              "2  chr1  12040  12047   interval7     .      +\n",
              "3  chr1  12190  12210   interval8     .      +\n",
              "4  chr1  12655  12680   interval9     .      +\n",
              "5  chr1  12990  13040  interval10     .      +\n",
              "6  chr1  13300  13354  interval11     .      +"
            ]
          },
          "metadata": {
            "tags": []
          },
          "execution_count": 3
        }
      ]
    },
    {
      "cell_type": "markdown",
      "metadata": {
        "id": "Tjt07Btzx5G8",
        "colab_type": "text"
      },
      "source": [
        "The best approach when you have a string data is to transform it into a dataframe. "
      ]
    },
    {
      "cell_type": "code",
      "metadata": {
        "id": "e0ZocVY0WBZz",
        "colab_type": "code",
        "outputId": "836075a0-25e3-4967-862b-0b729da376f2",
        "colab": {
          "base_uri": "https://localhost:8080/",
          "height": 1000
        }
      },
      "source": [
        "!pip install pyranges\n",
        "import pyranges as pr\n",
        "from pyranges import PyRanges\n",
        "import pandas as pd\n",
        "from io import StringIO\n",
        "gff3 = \"\"\"Chromosome Source Ft Start End Score Strand Phase Gen_id Gene_type Gene_name Transcript_type Transcript_name Level Transcript_support_level hgnc_id tag havana_gene havana_transcript\n",
        "chr1\tHAVANA\tgene\t11869\t14409\t.\t+\t.\tID=ENSG00000223972.5;gene_id=ENSG00000223972.5;gene_type=transcribed_unprocessed_pseudogene;gene_name=DDX11L1;level=2;hgnc_id=HGNC:37102;havana_gene=OTTHUMG00000000961.2\n",
        "chr1\tHAVANA\ttranscript\t11869\t14409\t.\t+\t.\tID=ENST00000456328.2;Parent=ENSG00000223972.5;gene_id=ENSG00000223972.5;transcript_id=ENST00000456328.2;gene_type=transcribed_unprocessed_pseudogene;gene_name=DDX11L1;transcript_type=processed_transcript;transcript_name=DDX11L1-202;level=2;transcript_support_level=1;hgnc_id=HGNC:37102;tag=basic;havana_gene=OTTHUMG00000000961.2;havana_transcript=OTTHUMT00000362751.1\n",
        "chr1\tHAVANA\texon\t11869\t12227\t.\t+\t.\tID=exon:ENST00000456328.2:1;Parent=ENST00000456328.2;gene_id=ENSG00000223972.5;transcript_id=ENST00000456328.2;gene_type=transcribed_unprocessed_pseudogene;gene_name=DDX11L1;transcript_type=processed_transcript;transcript_name=DDX11L1-202;exon_number=1;exon_id=ENSE00002234944.1;level=2;transcript_support_level=1;hgnc_id=HGNC:37102;tag=basic;havana_gene=OTTHUMG00000000961.2;havana_transcript=OTTHUMT00000362751.1\n",
        "chr1\tHAVANA\texon\t12613\t12721\t.\t+\t.\tID=exon:ENST00000456328.2:2;Parent=ENST00000456328.2;gene_id=ENSG00000223972.5;transcript_id=ENST00000456328.2;gene_type=transcribed_unprocessed_pseudogene;gene_name=DDX11L1;transcript_type=processed_transcript;transcript_name=DDX11L1-202;exon_number=2;exon_id=ENSE00003582793.1;level=2;transcript_support_level=1;hgnc_id=HGNC:37102;tag=basic;havana_gene=OTTHUMG00000000961.2;havana_transcript=OTTHUMT00000362751.1\n",
        "chr1\tHAVANA\texon\t13221\t14409\t.\t+\t.\tID=exon:ENST00000456328.2:3;Parent=ENST00000456328.2;gene_id=ENSG00000223972.5;transcript_id=ENST00000456328.2;gene_type=transcribed_unprocessed_pseudogene;gene_name=DDX11L1;transcript_type=processed_transcript;transcript_name=DDX11L1-202;exon_number=3;exon_id=ENSE00002312635.1;level=2;transcript_support_level=1;hgnc_id=HGNC:37102;tag=basic;havana_gene=OTTHUMG00000000961.2;havana_transcript=OTTHUMT00000362751.1\n",
        "chr1\tHAVANA\ttranscript\t12010\t13670\t.\t+\t.\tID=ENST00000450305.2;Parent=ENSG00000223972.5;gene_id=ENSG00000223972.5;transcript_id=ENST00000450305.2;gene_type=transcribed_unprocessed_pseudogene;gene_name=DDX11L1;transcript_type=transcribed_unprocessed_pseudogene;transcript_name=DDX11L1-201;level=2;transcript_support_level=NA;hgnc_id=HGNC:37102;ont=PGO:0000005,PGO:0000019;tag=basic;havana_gene=OTTHUMG00000000961.2;havana_transcript=OTTHUMT00000002844.2\n",
        "chr1\tHAVANA\texon\t12010\t12057\t.\t+\t.\tID=exon:ENST00000450305.2:1;Parent=ENST00000450305.2;gene_id=ENSG00000223972.5;transcript_id=ENST00000450305.2;gene_type=transcribed_unprocessed_pseudogene;gene_name=DDX11L1;transcript_type=transcribed_unprocessed_pseudogene;transcript_name=DDX11L1-201;exon_number=1;exon_id=ENSE00001948541.1;level=2;transcript_support_level=NA;hgnc_id=HGNC:37102;ont=PGO:0000005,PGO:0000019;tag=basic;havana_gene=OTTHUMG00000000961.2;havana_transcript=OTTHUMT00000002844.2\n",
        "chr1\tHAVANA\texon\t12179\t12227\t.\t+\t.\tID=exon:ENST00000450305.2:2;Parent=ENST00000450305.2;gene_id=ENSG00000223972.5;transcript_id=ENST00000450305.2;gene_type=transcribed_unprocessed_pseudogene;gene_name=DDX11L1;transcript_type=transcribed_unprocessed_pseudogene;transcript_name=DDX11L1-201;exon_number=2;exon_id=ENSE00001671638.2;level=2;transcript_support_level=NA;hgnc_id=HGNC:37102;ont=PGO:0000005,PGO:0000019;tag=basic;havana_gene=OTTHUMG00000000961.2;havana_transcript=OTTHUMT00000002844.2\n",
        "chr1\tHAVANA\texon\t12613\t12697\t.\t+\t.\tID=exon:ENST00000450305.2:3;Parent=ENST00000450305.2;gene_id=ENSG00000223972.5;transcript_id=ENST00000450305.2;gene_type=transcribed_unprocessed_pseudogene;gene_name=DDX11L1;transcript_type=transcribed_unprocessed_pseudogene;transcript_name=DDX11L1-201;exon_number=3;exon_id=ENSE00001758273.2;level=2;transcript_support_level=NA;hgnc_id=HGNC:37102;ont=PGO:0000005,PGO:0000019;tag=basic;havana_gene=OTTHUMG00000000961.2;havana_transcript=OTTHUMT00000002844.2\n",
        "chr1\tHAVANA\texon\t12975\t13052\t.\t+\t.\tID=exon:ENST00000450305.2:4;Parent=ENST00000450305.2;gene_id=ENSG00000223972.5;transcript_id=ENST00000450305.2;gene_type=transcribed_unprocessed_pseudogene;gene_name=DDX11L1;transcript_type=transcribed_unprocessed_pseudogene;transcript_name=DDX11L1-201;exon_number=4;exon_id=ENSE00001799933.2;level=2;transcript_support_level=NA;hgnc_id=HGNC:37102;ont=PGO:0000005,PGO:0000019;tag=basic;havana_gene=OTTHUMG00000000961.2;havana_transcript=OTTHUMT00000002844.2\n",
        "chr1\tHAVANA\texon\t13221\t13374\t.\t+\t.\tID=exon:ENST00000450305.2:5;Parent=ENST00000450305.2;gene_id=ENSG00000223972.5;transcript_id=ENST00000450305.2;gene_type=transcribed_unprocessed_pseudogene;gene_name=DDX11L1;transcript_type=transcribed_unprocessed_pseudogene;transcript_name=DDX11L1-201;exon_number=5;exon_id=ENSE00001746346.2;level=2;transcript_support_level=NA;hgnc_id=HGNC:37102;ont=PGO:0000005,PGO:0000019;tag=basic;havana_gene=OTTHUMG00000000961.2;havana_transcript=OTTHUMT00000002844.2\n",
        "\"\"\"\n",
        "# Read the string separated by \\s+ into a dataframe.\n",
        "df = pd.read_csv(StringIO(gff3),  sep=\"\\s+\")\n",
        "\n",
        "pyr1 = pr.PyRanges(df)\n",
        "print(pyr1)\n",
        "\n",
        "bed = \"\"\"Chromosome Start End Name Score Strand\n",
        "chr1\t11895\t11995\tinterval1\t.\t+\n",
        "chr1\t11900\t14309\tinterval2\t.\t+\n",
        "chr1\t12000\t12090\tinterval3\t.\t+\n",
        "chr1\t12700\t12710\tinterval4\t.\t+\n",
        "chr1\t13300\t14209\tinterval5\t.\t+\n",
        "chr1\t12080\t13570\tinterval6\t.\t+\n",
        "chr1\t12040\t12047\tinterval7\t.\t+\t\n",
        "chr1\t12190\t12210\tinterval8\t.\t+\n",
        "chr1\t12655\t12680\tinterval9\t.\t+\n",
        "chr1\t12990\t13040\tinterval10  .\t+\n",
        "chr1\t13300\t13354\tinterval11\t.\t+\"\"\"\n",
        "\n",
        "df = pd.read_csv(StringIO(bed),  sep=\"\\s+\")\n",
        "\n",
        "pyr2 = pr.PyRanges(df)\n",
        "print(pyr2)\n",
        "print(pyr1.intersect(pyr2))\n",
        "\n",
        "print(pyr1.subtract(pyr2))"
      ],
      "execution_count": 0,
      "outputs": [
        {
          "output_type": "stream",
          "text": [
            "+--------------+------------+------------+-----------+-----------+-------+\n",
            "| Chromosome   | Source     | Ft         | Start     | End       | +14   |\n",
            "| (category)   | (object)   | (object)   | (int32)   | (int32)   | ...   |\n",
            "|--------------+------------+------------+-----------+-----------+-------|\n",
            "| chr1         | HAVANA     | gene       | 11869     | 14409     | ...   |\n",
            "| chr1         | HAVANA     | transcript | 11869     | 14409     | ...   |\n",
            "| chr1         | HAVANA     | exon       | 11869     | 12227     | ...   |\n",
            "| chr1         | HAVANA     | exon       | 12613     | 12721     | ...   |\n",
            "| ...          | ...        | ...        | ...       | ...       | ...   |\n",
            "| chr1         | HAVANA     | exon       | 12179     | 12227     | ...   |\n",
            "| chr1         | HAVANA     | exon       | 12613     | 12697     | ...   |\n",
            "| chr1         | HAVANA     | exon       | 12975     | 13052     | ...   |\n",
            "| chr1         | HAVANA     | exon       | 13221     | 13374     | ...   |\n",
            "+--------------+------------+------------+-----------+-----------+-------+\n",
            "Stranded PyRanges object has 11 rows and 19 columns from 1 chromosomes.\n",
            "For printing, the PyRanges was sorted on Chromosome and Strand.\n",
            "14 hidden columns: Score, Strand, Phase, Gen_id, Gene_type, Gene_name, Transcript_type, ... (+ 7 more.)\n",
            "+--------------+-----------+-----------+------------+------------+-------+\n",
            "| Chromosome   | Start     | End       | Name       | Score      | +1    |\n",
            "| (category)   | (int32)   | (int32)   | (object)   | (object)   | ...   |\n",
            "|--------------+-----------+-----------+------------+------------+-------|\n",
            "| chr1         | 11895     | 11995     | interval1  | .          | ...   |\n",
            "| chr1         | 11900     | 14309     | interval2  | .          | ...   |\n",
            "| chr1         | 12000     | 12090     | interval3  | .          | ...   |\n",
            "| chr1         | 12700     | 12710     | interval4  | .          | ...   |\n",
            "| ...          | ...       | ...       | ...        | ...        | ...   |\n",
            "| chr1         | 12190     | 12210     | interval8  | .          | ...   |\n",
            "| chr1         | 12655     | 12680     | interval9  | .          | ...   |\n",
            "| chr1         | 12990     | 13040     | interval10 | .          | ...   |\n",
            "| chr1         | 13300     | 13354     | interval11 | .          | ...   |\n",
            "+--------------+-----------+-----------+------------+------------+-------+\n",
            "Stranded PyRanges object has 11 rows and 6 columns from 1 chromosomes.\n",
            "For printing, the PyRanges was sorted on Chromosome and Strand.\n",
            "1 hidden columns: Strand\n",
            "+--------------+------------+------------+-----------+-----------+-------+\n",
            "| Chromosome   | Source     | Ft         | Start     | End       | +14   |\n",
            "| (category)   | (object)   | (object)   | (int32)   | (int32)   | ...   |\n",
            "|--------------+------------+------------+-----------+-----------+-------|\n",
            "| chr1         | HAVANA     | gene       | 11895     | 11995     | ...   |\n",
            "| chr1         | HAVANA     | gene       | 11900     | 14309     | ...   |\n",
            "| chr1         | HAVANA     | gene       | 12000     | 12090     | ...   |\n",
            "| chr1         | HAVANA     | gene       | 12040     | 12047     | ...   |\n",
            "| ...          | ...        | ...        | ...       | ...       | ...   |\n",
            "| chr1         | HAVANA     | exon       | 13221     | 13374     | ...   |\n",
            "| chr1         | HAVANA     | exon       | 13221     | 13374     | ...   |\n",
            "| chr1         | HAVANA     | exon       | 13300     | 13374     | ...   |\n",
            "| chr1         | HAVANA     | exon       | 13300     | 13354     | ...   |\n",
            "+--------------+------------+------------+-----------+-----------+-------+\n",
            "Stranded PyRanges object has 62 rows and 19 columns from 1 chromosomes.\n",
            "For printing, the PyRanges was sorted on Chromosome and Strand.\n",
            "14 hidden columns: Score, Strand, Phase, Gen_id, Gene_type, Gene_name, Transcript_type, ... (+ 7 more.)\n",
            "+--------------+------------+------------+-----------+-----------+-------+\n",
            "| Chromosome   | Source     | Ft         |     Start |       End | +14   |\n",
            "| (category)   | (object)   | (object)   |   (int32) |   (int32) | ...   |\n",
            "|--------------+------------+------------+-----------+-----------+-------|\n",
            "| chr1         | HAVANA     | gene       |     11869 |     11895 | ...   |\n",
            "| chr1         | HAVANA     | gene       |     14309 |     14409 | ...   |\n",
            "| chr1         | HAVANA     | transcript |     11869 |     11895 | ...   |\n",
            "| chr1         | HAVANA     | transcript |     14309 |     14409 | ...   |\n",
            "| chr1         | HAVANA     | exon       |     11869 |     11895 | ...   |\n",
            "| chr1         | HAVANA     | exon       |     14309 |     14409 | ...   |\n",
            "+--------------+------------+------------+-----------+-----------+-------+\n",
            "Stranded PyRanges object has 6 rows and 19 columns from 1 chromosomes.\n",
            "For printing, the PyRanges was sorted on Chromosome and Strand.\n",
            "14 hidden columns: Score, Strand, Phase, Gen_id, Gene_type, Gene_name, Transcript_type, ... (+ 7 more.)\n"
          ],
          "name": "stdout"
        }
      ]
    },
    {
      "cell_type": "markdown",
      "metadata": {
        "id": "cxGl1uIW7ly-",
        "colab_type": "text"
      },
      "source": [
        "This however is not optimal approach if you have a file instead of a string - rather use bedtools in that case."
      ]
    }
  ]
}