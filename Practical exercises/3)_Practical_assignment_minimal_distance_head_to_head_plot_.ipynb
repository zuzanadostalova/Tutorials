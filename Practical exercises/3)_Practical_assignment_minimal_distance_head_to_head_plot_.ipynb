{
  "nbformat": 4,
  "nbformat_minor": 0,
  "metadata": {
    "colab": {
      "name": "3) Practical assignment - minimal distance head to head plot..ipynb",
      "provenance": [],
      "collapsed_sections": [],
      "toc_visible": true,
      "authorship_tag": "ABX9TyN8QhrVpdmWdMTacQpa8HLS",
      "include_colab_link": true
    },
    "kernelspec": {
      "name": "python3",
      "display_name": "Python 3"
    },
    "accelerator": "GPU"
  },
  "cells": [
    {
      "cell_type": "markdown",
      "metadata": {
        "id": "view-in-github",
        "colab_type": "text"
      },
      "source": [
        "<a href=\"https://colab.research.google.com/github/zuzanadostalova/Tutorials/blob/master/3)_Practical_assignment_minimal_distance_head_to_head_plot_.ipynb\" target=\"_parent\"><img src=\"https://colab.research.google.com/assets/colab-badge.svg\" alt=\"Open In Colab\"/></a>"
      ]
    },
    {
      "cell_type": "markdown",
      "metadata": {
        "id": "vfygn_F9kPS1",
        "colab_type": "text"
      },
      "source": [
        "# **Assignment**:\n",
        "\n",
        "Count the head to head (5' end to 5' end) distance between reads in the BED file containing FUS gene from Homo sapiens K562 (https://www.encodeproject.org/files/ENCFF861KMV/). Plot the distribution of the distances between reads.\n",
        "\n",
        "> I. Download the BED file, unzip it.\n",
        "\n",
        "> II. Sort it in an ascending order by the chromosome name and the start coordinate.\n",
        "\n",
        "> III. Create a dictionary with reads separated into those on the plus and those on the minus strand. \n",
        "\n",
        "> IV. Create a dictionary with the chromosomes, strands, and the smallest head to head distance between the reads.\n",
        "\n",
        "> V. Create a dataframe.\n",
        "\n",
        "> VI. Plot the distribution of the minimal distance between the reads.\n",
        "\n",
        "**Note**: BED file is a zero-based and half-open coordinate system; the index counting starts from 0 and the last index of the chromosome end is excluded.\n",
        "\n",
        "Read more at:\n",
        "[UCSC](http://genome.ucsc.edu/blog/the-ucsc-genome-browser-coordinate-counting-systems/) | \n",
        "[link1](https://plastid.readthedocs.io/en/latest/concepts/coordinates.html#start-end) | \n",
        "[link2](https://arnaudceol.wordpress.com/2014/09/18/chromosome-coordinate-systems-0-based-1-based/)"
      ]
    },
    {
      "cell_type": "markdown",
      "metadata": {
        "id": "cW2h0Rf621Qy",
        "colab_type": "text"
      },
      "source": [
        "# **Distribution of the head to head distance between reads.**"
      ]
    },
    {
      "cell_type": "markdown",
      "metadata": {
        "id": "9c9vihGNdoDC",
        "colab_type": "text"
      },
      "source": [
        "## I. Download the BED file. \n",
        "\n",
        "Define a function that downloads and saves  BED file from URL."
      ]
    },
    {
      "cell_type": "code",
      "metadata": {
        "id": "4ODmzD8iBSi9",
        "colab_type": "code",
        "outputId": "8a0a6970-062c-4a0a-f6d6-2f2e245a0a3a",
        "colab": {
          "base_uri": "https://localhost:8080/",
          "height": 32
        }
      },
      "source": [
        "# Import get and decompress functions which you will need for the BED reader function.\n",
        "from requests import get\n",
        "from gzip import decompress\n",
        "\n",
        "# Define a function that will download the compressed (gz) BED file,\n",
        "# and it will decompress it to text.\n",
        "# Helper function get_gzipped_bed_ is inside the main bed_reader function.\n",
        "def bed_reader(target_url, output_name):\n",
        "  def get_gzipped_bed_(target_url):\n",
        "    downloaded_bed = get(target_url).content\n",
        "    decompressed_bed = decompress(downloaded_bed)\n",
        "    bed_file_human_readable = decompressed_bed.decode()\n",
        "    return bed_file_human_readable\n",
        "  bed_file = get_gzipped_bed_(target_url)\n",
        "  # Create a file python object (f) on the virtual machine disk as output_name. \n",
        "  # Inside this empty f write the content of your bed_file variable.\n",
        "  with open(output_name, \"w\") as f:\n",
        "    f.write(bed_file)\n",
        "  \n",
        "  return output_name\n",
        "\n",
        "# Call the outer function and pass two arguments into it - url and arbitrary \n",
        "# output name.\n",
        "local_bed_file = bed_reader(\"https://www.encodeproject.org/files/ENCFF861KMV/@@download/ENCFF861KMV.bed.gz\", \n",
        "           \"ENCFF861KMV.bed\")\n",
        "# Your bed file.\n",
        "print(\"BED file saved as:\", local_bed_file)"
      ],
      "execution_count": 82,
      "outputs": [
        {
          "output_type": "stream",
          "text": [
            "BED file saved as: ENCFF861KMV.bed\n"
          ],
          "name": "stdout"
        }
      ]
    },
    {
      "cell_type": "markdown",
      "metadata": {
        "id": "3xxejnPwd_qC",
        "colab_type": "text"
      },
      "source": [
        "## II. Sort the BED file. \n",
        "\n",
        "Sort the BED file in the ascending order by the chromosome name and the start coordinate. You have three options - you can use either A) Unix system call, B) Pandas, or C) Pybed tools."
      ]
    },
    {
      "cell_type": "markdown",
      "metadata": {
        "id": "-UWla4TzQq0T",
        "colab_type": "text"
      },
      "source": [
        "###**A. Unix system call.**"
      ]
    },
    {
      "cell_type": "code",
      "metadata": {
        "id": "YX4SkUoWQXQf",
        "colab_type": "code",
        "outputId": "0c6d24b7-369c-4288-99d4-23ca6262d443",
        "colab": {
          "base_uri": "https://localhost:8080/",
          "height": 181
        }
      },
      "source": [
        "# Sort out the BED file by the first column (chromosome name) -k1 and the second \n",
        "# column (start coordinate) -k2. n argument specifies sorting in numeric order.\n",
        "# Save the sorted content in a new file. \n",
        "!sort -k1,1 -k2,2n ENCFF861KMV.bed > ENCFF861KMV.sorted.bed\n",
        "\n",
        "# show first n == 10 lines of sorted bed file\n",
        "!head -n 10 ENCFF861KMV.sorted.bed"
      ],
      "execution_count": 83,
      "outputs": [
        {
          "output_type": "stream",
          "text": [
            "chr1\t632546\t632615\tFUS_K562_IDR\t1000\t+\t3.82686687508738\t6.50783294676379\t-1\t-1\n",
            "chr1\t965337\t965476\tFUS_K562_IDR\t1000\t+\t3.12362327712992\t3.53719425627146\t-1\t-1\n",
            "chr1\t1035440\t1035512\tFUS_K562_IDR\t1000\t+\t3.18112338442576\t3.83337927656262\t-1\t-1\n",
            "chr1\t1035894\t1035948\tFUS_K562_IDR\t1000\t+\t3.73779412096374\t3.59568021751587\t-1\t-1\n",
            "chr1\t1035967\t1036051\tFUS_K562_IDR\t1000\t+\t3.18200361335799\t6.044609576236\t-1\t-1\n",
            "chr1\t1036331\t1036425\tFUS_K562_IDR\t1000\t+\t3.5903003449292\t6.29667912525784\t-1\t-1\n",
            "chr1\t1036540\t1036620\tFUS_K562_IDR\t1000\t+\t3.23250781628894\t4.57625554730423\t-1\t-1\n",
            "chr1\t1036926\t1036982\tFUS_K562_IDR\t1000\t+\t3.79964298307618\t3.18534281531791\t-1\t-1\n",
            "chr1\t1037116\t1037181\tFUS_K562_IDR\t1000\t+\t3.27222505003613\t4.18593355349903\t-1\t-1\n",
            "chr1\t1037598\t1037673\tFUS_K562_IDR\t1000\t+\t3.44942312400564\t5.14061189005205\t-1\t-1\n"
          ],
          "name": "stdout"
        }
      ]
    },
    {
      "cell_type": "markdown",
      "metadata": {
        "id": "xDmfQhdvQvtE",
        "colab_type": "text"
      },
      "source": [
        "###**B. Convert BED file to Pandas dataframe.**"
      ]
    },
    {
      "cell_type": "code",
      "metadata": {
        "id": "xdN6pVgndImP",
        "colab_type": "code",
        "colab": {}
      },
      "source": [
        "# Use pandas.DataFrame.sort_values(by=[\"chrom\", \"start\"]).\n",
        "import pandas as pd\n",
        "\n",
        "# Create a pandas dataframe. Specify different type of arguments separator, \n",
        "# and names of the columns.\n",
        "dataframe = pd.read_csv(\n",
        "    local_bed_file, sep=\"\\t\", \n",
        "    names=[\n",
        "    \"chrom_name\", \"start\", \"end\", \"name\", \"score\", \"strand\", \"7\", \"8\", \"9\", \"10\"]\n",
        "    )\n",
        "\n",
        "# Sort the dataframe by chromosome name and start coordinate. If inplace=False,\n",
        "# return a new dataframe.\n",
        "dataframe.sort_values(by=[\"chrom_name\", \"start\"], inplace=True)"
      ],
      "execution_count": 0,
      "outputs": []
    },
    {
      "cell_type": "markdown",
      "metadata": {
        "id": "4B0SFUAkdpAb",
        "colab_type": "text"
      },
      "source": [
        "Alternatively, you could download and decompress the BED file directly from the url."
      ]
    },
    {
      "cell_type": "code",
      "metadata": {
        "id": "2lZL0r79PQM3",
        "colab_type": "code",
        "colab": {}
      },
      "source": [
        "# Use pandas.DataFrame.sort_values(by=[\"chrom\", \"start\"]).\n",
        "import pandas as pd\n",
        "\n",
        "# Specify the target URL.\n",
        "target_url = (\"https://www.encodeproject.org/files/ENCFF861KMV/\" +\n",
        "              \"@@download/ENCFF861KMV.bed.gz\")\n",
        "\n",
        "# Create a pandas dataframe. Specify different type of arguments - url, decompression,\n",
        "# separator, and names of the columns.\n",
        "# Pandas can read csv and decompress a file from url. \n",
        "dataframe = pd.read_csv(\n",
        "    target_url, compression=\"gzip\", sep=\"\\t\", \n",
        "    names=[\n",
        "    \"chrom_name\", \"start\", \"end\", \"name\", \"score\", \"strand\", \"7\", \"8\", \"9\", \"10\"]\n",
        "    )\n",
        "\n",
        "# Sort the dataframe by chromosome name and start coordinate. If inplace=False,\n",
        "# return a new dataframe.\n",
        "dataframe.sort_values(by=[\"chrom_name\", \"start\"], inplace=True)"
      ],
      "execution_count": 0,
      "outputs": []
    },
    {
      "cell_type": "markdown",
      "metadata": {
        "id": "nft3RIMDQ4KB",
        "colab_type": "text"
      },
      "source": [
        "###**C. Use pybedtools.**\n",
        "\n",
        "pybedtools wraps and extends [BEDTools](https://bedtools.readthedocs.io/en/latest/) and offers feature-level manipulations from within Python.\n",
        "\n",
        "pybed tools documentation avalaible at [pybed tools](https://daler.github.io/pybedtools/index.html). First you need to install and set up pybedtools. You will use pybedtools.bedtool.BedTool.sort."
      ]
    },
    {
      "cell_type": "code",
      "metadata": {
        "id": "0sZH4iCaOcCc",
        "colab_type": "code",
        "outputId": "d0078eb1-cbe8-44b4-d7c2-487ef6a484ec",
        "colab": {
          "base_uri": "https://localhost:8080/",
          "height": 164
        }
      },
      "source": [
        "# Install bedtools, check if bedtools are installed, and install pybedtools.\n",
        "! apt-get install bedtools\n",
        "! bedtools --version\n",
        "! pip install pybedtools"
      ],
      "execution_count": 86,
      "outputs": [
        {
          "output_type": "stream",
          "text": [
            "Reading package lists... Done\n",
            "Building dependency tree       \n",
            "Reading state information... Done\n",
            "bedtools is already the newest version (2.26.0+dfsg-5).\n",
            "0 upgraded, 0 newly installed, 0 to remove and 25 not upgraded.\n",
            "bedtools v2.26.0\n",
            "Requirement already satisfied: pybedtools in /usr/local/lib/python3.6/dist-packages (0.8.1)\n",
            "Requirement already satisfied: six in /usr/local/lib/python3.6/dist-packages (from pybedtools) (1.12.0)\n",
            "Requirement already satisfied: pysam in /usr/local/lib/python3.6/dist-packages (from pybedtools) (0.15.4)\n"
          ],
          "name": "stdout"
        }
      ]
    },
    {
      "cell_type": "code",
      "metadata": {
        "id": "FDPzKfswOUTA",
        "colab_type": "code",
        "colab": {}
      },
      "source": [
        "# In case you have problems with the installation, you can first remove bedtools \n",
        "# and pybedtools so you can reinstall them again. \n",
        "\n",
        "# Skip this cell if bedtools and pybedtools installed and working!!!\n",
        "#! apt-get remove  bedtools\n",
        "#! pip uninstall pybedtools\n",
        "#! pip uninstall bedtools"
      ],
      "execution_count": 0,
      "outputs": []
    },
    {
      "cell_type": "markdown",
      "metadata": {
        "id": "0MheN_tqcIx_",
        "colab_type": "text"
      },
      "source": [
        "Use the installed pybedtools package to sort the BED file."
      ]
    },
    {
      "cell_type": "code",
      "metadata": {
        "id": "jk3qI9uiJXFo",
        "colab_type": "code",
        "colab": {}
      },
      "source": [
        "# Import pybedtools, from pybedtools import BedTool. Create a BedTool file object\n",
        "# from local_bed_file, store it in input_file. Sort the input file and save the\n",
        "# result in i variable.\n",
        "import pybedtools\n",
        "from pybedtools import BedTool\n",
        "input_file = pybedtools.BedTool(local_bed_file)\n",
        "i = input_file.sort()"
      ],
      "execution_count": 0,
      "outputs": []
    },
    {
      "cell_type": "markdown",
      "metadata": {
        "id": "GwYwjSiQeJZ8",
        "colab_type": "text"
      },
      "source": [
        "## III. Create a dictionary with reads separated by strand.\n",
        "\n",
        "`{chrom_name : { strand : 5'-coordinate }}`"
      ]
    },
    {
      "cell_type": "markdown",
      "metadata": {
        "id": "7VuS73lxoLX2",
        "colab_type": "text"
      },
      "source": [
        "###**A. Unix system call.**"
      ]
    },
    {
      "cell_type": "code",
      "metadata": {
        "id": "w1fBQTXc2Jf6",
        "colab_type": "code",
        "colab": {}
      },
      "source": [
        "# Create an empty dictionary. \n",
        "dict_r_unix = {}\n",
        "# Open sorted BED file.\n",
        "with open(\"ENCFF861KMV.sorted.bed\", \"r\") as text:\n",
        "  # Read the content line by line.\n",
        "  for line in text.readlines():\n",
        "    # Define column, chrom_name, start, end, and strand.\n",
        "    column = line.strip().split(\"\\t\")\n",
        "    chrom_name = column[0]\n",
        "    start = int(column[1])\n",
        "    end = int(column[2])\n",
        "    strand = column[5]\n",
        "    # If the chromosome name exists in the dictionary already,\n",
        "    # put the strand inside without creating a new dictionary\n",
        "    # with the same chromosome name.\n",
        "    if chrom_name in dict_r_unix:\n",
        "      # If the dictionary strand already exists in the dictionary \n",
        "      # chromosome name, put the end/start inside it without creating\n",
        "      # a new strand key.\n",
        "      if strand in dict_r_unix[chrom_name]:\n",
        "        # In case of the plus strand, append start coordinate to the list where \n",
        "        # is the 5' end (head).\n",
        "        if strand == \"+\":\n",
        "          dict_r_unix[chrom_name][strand].append(start) \n",
        "        # If the strand is minus, append end to the list,\n",
        "        # the reason being that minus strand is in reversed\n",
        "        # order - end coordinate is the 5' end (head).\n",
        "        else:\n",
        "          dict_r_unix[chrom_name][strand].append(end)\n",
        "      # If the strand does not yet exist in\n",
        "      # the chromosome name dictionary, create it and create a list inside.\n",
        "      else:\n",
        "        dict_r_unix[chrom_name][strand] = []\n",
        "        # To fill the new strand dictionary,\n",
        "        # you need to provide also the code for strand dictionary\n",
        "        # creation, the +/- key, and the end/start coordinates\n",
        "        # inside the list.\n",
        "        if strand == \"+\":\n",
        "          dict_r_unix[chrom_name][strand].append(start) \n",
        "        else:\n",
        "          dict_r_unix[chrom_name][strand].append(end)\n",
        "    # If the chromosome name is not yet in the dictionary, \n",
        "    # create it.\n",
        "    else:\n",
        "      # Create a new dictionary inside the chromosome name\n",
        "      # dictionary.\n",
        "      dict_r_unix[chrom_name] = {}\n",
        "      # To fill the new chrom_name dictionary, you need to \n",
        "      # provide also the code for strand dictionary\n",
        "      # creation, the +/- key, and the end/start coordinates\n",
        "      # inside the list.\n",
        "      # The key of this dictionary is strand and the value\n",
        "      # is a new list.\n",
        "      dict_r_unix[chrom_name][strand] = []\n",
        "      # If the strand is plus, append start to the list.\n",
        "      if strand == \"+\":\n",
        "        dict_r_unix[chrom_name][strand].append(start) \n",
        "      # If the strand is minus, append end to the list.\n",
        "      else:\n",
        "        dict_r_unix[chrom_name][strand].append(end)\n",
        "\n",
        "#print(dict_r_unix) # Printing the dictionary with reads."
      ],
      "execution_count": 0,
      "outputs": []
    },
    {
      "cell_type": "markdown",
      "metadata": {
        "id": "-dv_-f0toVgx",
        "colab_type": "text"
      },
      "source": [
        "###**B. Pandas option.**"
      ]
    },
    {
      "cell_type": "code",
      "metadata": {
        "id": "Cvn3QBX1VUM7",
        "colab_type": "code",
        "colab": {}
      },
      "source": [
        "# Import defaultdict from collections. The advantage of defaultdict is that\n",
        "# even if it is empty, it does not raise a key error. This way, you avoid repeating \n",
        "# if..., else... conditions upon creation of chrom_name and strand keys.\n",
        "from collections import defaultdict\n",
        "\n",
        "# Create an empty defaultdict dictionary.\n",
        "dict_r_pandas = defaultdict(dict)\n",
        "\n",
        "# Group the chromosome name and strand together in group_name.\n",
        "# Iterate over the group name and group in the dataframe. \n",
        "for group_name, group in dataframe.groupby(['chrom_name', 'strand']):\n",
        "  chrom_name, strand = group_name\n",
        "  # If the strand is plus, add start to the list in the dictionary.\n",
        "  if strand == \"+\":\n",
        "    reads = group.start.tolist()\n",
        "  else:\n",
        "    # If the strand is minus, add end to the list in the dictionary.\n",
        "    reads = group.end.tolist()\n",
        "  # Create a chrom_name dictionary inside the dict_r_pandas dictionary, and\n",
        "  # put inside a strand as the key and reads as the value.\n",
        "  dict_r_pandas[chrom_name][strand] = reads\n",
        "\n",
        "# print(dict_r_pandas) # Printing the dictionary with reads."
      ],
      "execution_count": 0,
      "outputs": []
    },
    {
      "cell_type": "markdown",
      "metadata": {
        "id": "OAOPzNQDm3Oi",
        "colab_type": "text"
      },
      "source": [
        "###**C. Pybedtools option.**"
      ]
    },
    {
      "cell_type": "code",
      "metadata": {
        "id": "b7QlYaunRQpl",
        "colab_type": "code",
        "colab": {}
      },
      "source": [
        "# Create an empty dictionary. \n",
        "dict_r_pybed = {}\n",
        "# Open sorted BED file.\n",
        "with open(i.fn, \"r\") as text:\n",
        "  # Read the content line by line.\n",
        "  for line in text.readlines():\n",
        "    # Define column, chrom_name, start, end, and strand.\n",
        "    column = line.strip().split(\"\\t\")\n",
        "    chrom_name = column[0]\n",
        "    start = int(column[1])\n",
        "    end = int(column[2])\n",
        "    strand = column[5]\n",
        "    # If the chromosome name exists in the dictionary already,\n",
        "    # put the strand inside it without creating a new dictionary\n",
        "    # with the same chromosome name.\n",
        "    if chrom_name in dict_r_pybed:\n",
        "      # If the dictionary strand already exists in the dictionary \n",
        "      # chromosome name, put the end/start inside without creating\n",
        "      # a new strand key.\n",
        "      if strand in dict_r_pybed[chrom_name]:\n",
        "        # In case of the plus strand, append start coordinate to the list where \n",
        "        # is the 5' end (head).\n",
        "        if strand == \"+\":\n",
        "          dict_r_pybed[chrom_name][strand].append(start) \n",
        "        # If the strand is minus, append end to the list,\n",
        "        # the reason being that minus strand is in reversed\n",
        "        # order - start coordinate is the 5' end (head).\n",
        "        else:\n",
        "          dict_r_pybed[chrom_name][strand].append(end)\n",
        "      # If the strand does not yet exist in\n",
        "      # the chromosome name dictionary, create it and create a list inside.\n",
        "      else:\n",
        "        dict_r_pybed[chrom_name][strand] = []\n",
        "        # To fill the new strand dictionary,\n",
        "        # you need to provide also the code for strand dictionary\n",
        "        # creation, the +/- key, and the end/start coordinates\n",
        "        # inside the list.\n",
        "        if strand == \"+\":\n",
        "          dict_r_pybed[chrom_name][strand].append(start) \n",
        "        else:\n",
        "          dict_r_pybed[chrom_name][strand].append(end)\n",
        "    # If the chromosome name is not yet in the dictionary, \n",
        "    # create it.\n",
        "    else:\n",
        "      # Create a new dictionary inside the chromosome name\n",
        "      # dictionary.\n",
        "      dict_r_pybed[chrom_name] = {}\n",
        "      # To fill the new chrom_name dictionary, you need to \n",
        "      # provide also the code for strand dictionary\n",
        "      # creation, the +/- key, and the end/start coordinates\n",
        "      # inside the list.\n",
        "      # The key of this dictionary is strand and the value\n",
        "      # is a new list.\n",
        "      dict_r_pybed[chrom_name][strand] = []\n",
        "      # If the strand is plus, append start to the list.\n",
        "      if strand == \"+\":\n",
        "        dict_r_pybed[chrom_name][strand].append(start) \n",
        "      # If the strand is minus, append end to the list.\n",
        "      else:\n",
        "        dict_r_pybed[chrom_name][strand].append(end)\n",
        "\n",
        "# print(dict_r_pybed) # Printing the dictionary with reads."
      ],
      "execution_count": 0,
      "outputs": []
    },
    {
      "cell_type": "markdown",
      "metadata": {
        "id": "7ysTCoz71LY_",
        "colab_type": "text"
      },
      "source": [
        "## IV. Create a dictionary with the closest distances without outliers.\n",
        "\n",
        "Note: Consider the distance between start/end coordinate and its neighbors both on the right and on the left side. \n",
        "\n",
        "For example, your coordinates are: 5, 20, 28. \n",
        "Your start coordinate position is 20, its left neighbor is 5, its right neigbor is 18.\n",
        "\n",
        "20 - 5 = 15\n",
        "28 - 20 = 8\n",
        "\n",
        "28 is closer to 20, so add 28 to the dictionary of closest distances.\n",
        "\n",
        "Process with end coordinates on the minus strand."
      ]
    },
    {
      "cell_type": "markdown",
      "metadata": {
        "id": "0U3ZiyK-kXeb",
        "colab_type": "text"
      },
      "source": [
        "To exclude the outliers from the dictionary of distances, you need to compare the distance between the absolute value of the currently investigated number to the absolute value of the previous number. Subsequently, you need to also compare the absolute value of the currently investigated number to the absolute value of the next number. Add to the dictionary of closest distances either the previous or the next number based on whichever of the said distances is smaller."
      ]
    },
    {
      "cell_type": "markdown",
      "metadata": {
        "id": "bMGYJPhZ2vT4",
        "colab_type": "text"
      },
      "source": [
        "###**A. Unix system call.**"
      ]
    },
    {
      "cell_type": "code",
      "metadata": {
        "id": "mAzLJi3TtDg4",
        "colab_type": "code",
        "colab": {}
      },
      "source": [
        "dict_clos_unix = {}\n",
        "# For each chromosome in the dictionary of distance create a chrom_name in the new\n",
        "# dictionary of the closest distances. Simultaneously, the lists for the plus\n",
        "# and for the minus strand will be created as explained above.\n",
        "for chrom_name in dict_r_unix:\n",
        "  dict_clos_unix[chrom_name] = {\"+\" : list(), \"-\" : list()}\n",
        "  for strand in dict_r_unix[chrom_name]:\n",
        "    if strand == \"+\":\n",
        "      for dist_start in range(1,len(dict_r_unix[chrom_name][strand]) - 1): \n",
        "        # This time, you need to compare the distance between the current\n",
        "        # position and the next one with the distance between the current\n",
        "        # position and the previous one. Whichever is closer will be put\n",
        "        # to the dictionary.\n",
        "        this_start_pos = dict_r_unix[chrom_name][strand][dist_start]\n",
        "        right_start_neigh = dict_r_unix[chrom_name][strand][dist_start+1]          \n",
        "        left_start_neigh = dict_r_unix[chrom_name][strand][dist_start-1]    \n",
        "        dist1 = this_start_pos - left_start_neigh \n",
        "        dist2 = right_start_neigh - this_start_pos    \n",
        "        if dist1 < dist2:\n",
        "          dict_clos_unix[chrom_name][strand].append(dist1)\n",
        "        else:\n",
        "          dict_clos_unix[chrom_name][strand].append(dist2)\n",
        "    else:\n",
        "          # Compare the distance between the current\n",
        "          # position and the next one with the distance between the current\n",
        "          # position and the previous one. Whichever is closer will be put\n",
        "          # to the dictionary.\n",
        "      for dist_end in range(1,len(dict_r_unix[chrom_name][strand]) - 1): \n",
        "        this_end_pos = dict_r_unix[chrom_name][strand][dist_end]\n",
        "        right_end_neigh = dict_r_unix[chrom_name][strand][dist_end+1]          \n",
        "        left_end_neigh = dict_r_unix[chrom_name][strand][dist_end-1]    \n",
        "        dist1 = this_end_pos - left_end_neigh    \n",
        "        dist2 = right_end_neigh - this_end_pos    \n",
        "        if dist1 < dist2:\n",
        "          dict_clos_unix[chrom_name][strand].append(dist1)\n",
        "        else:\n",
        "          dict_clos_unix[chrom_name][strand].append(dist2)\n",
        "\n",
        "\n",
        "# print(dict_r_unix) # Printing the dictionary with the distance \n",
        "# between reads. \n",
        "# print(dict_clos_unix)# Printing the dictionary with the closest distance \n",
        "# between reads. "
      ],
      "execution_count": 0,
      "outputs": []
    },
    {
      "cell_type": "markdown",
      "metadata": {
        "id": "0Dz2c8QvcpDz",
        "colab_type": "text"
      },
      "source": [
        "To be sure you got rid of all of the outliers, count z-score to determine the  relationship of each value to the mean of a group of values. Set an arbitrary threshold to filter values that are distant from the mean."
      ]
    },
    {
      "cell_type": "code",
      "metadata": {
        "id": "PtcKDwsoI9sV",
        "colab_type": "code",
        "outputId": "6e9a6a05-b8f0-4765-c925-66e8f136959a",
        "colab": {
          "base_uri": "https://localhost:8080/",
          "height": 214
        }
      },
      "source": [
        "from scipy import stats\n",
        "import numpy as np\n",
        "\n",
        "dict_no_outliers_unix = {}\n",
        "\n",
        "# Only chrom_name key.\n",
        "for chrom_name in dict_clos_unix.keys():\n",
        "  # Plus and minus strand are manually written.\n",
        "  list_plus_input = dict_clos_unix[chrom_name]['+']\n",
        "  list_minus_input = dict_clos_unix[chrom_name]['-']\n",
        "  # get a zscore for list_plus_input\n",
        "  zscore_plus = stats.zscore(list_plus_input, ddof=0)\n",
        "  # doo the same foor minus strand\n",
        "  zscore_minus = stats.zscore(list_minus_input, ddof=0)\n",
        "\n",
        "  if len(list_plus_input) > 0:\n",
        "    for z, distance in zip(zscore_plus, list_plus_input):\n",
        "      if z < 1:\n",
        "        if chrom_name in dict_no_outliers_unix:\n",
        "          if \"+\" in dict_no_outliers_unix[chrom_name]:\n",
        "            dict_no_outliers_unix[chrom_name][\"+\"].append(distance)\n",
        "          \n",
        "          else:\n",
        "            dict_no_outliers_unix[chrom_name][\"+\"] = []\n",
        "            dict_no_outliers_unix[chrom_name][\"+\"].append(distance)\n",
        "\n",
        "        else:\n",
        "          dict_no_outliers_unix[chrom_name] = {}\n",
        "          dict_no_outliers_unix[chrom_name][\"+\"] = []\n",
        "          dict_no_outliers_unix[chrom_name][\"+\"].append(distance)\n",
        "\n",
        "  if len(list_minus_input)  > 0:\n",
        "    for z, distance in zip(zscore_minus, list_minus_input):\n",
        "      if z < 1:\n",
        "        if chrom_name in dict_no_outliers_unix:\n",
        "          if \"-\" in dict_no_outliers_unix[chrom_name]:\n",
        "            dict_no_outliers_unix[chrom_name][\"-\"].append(distance)\n",
        "          \n",
        "          else:\n",
        "            dict_no_outliers_unix[chrom_name][\"-\"] = []\n",
        "            dict_no_outliers_unix[chrom_name][\"-\"].append(distance)\n",
        "\n",
        "        else:\n",
        "          dict_no_outliers_unix[chrom_name] = {}\n",
        "          dict_no_outliers_unix[chrom_name][\"-\"] = []\n",
        "          dict_no_outliers_unix[chrom_name][\"-\"].append(distance)\n",
        "\n",
        "  # loop over the two lists and remove outliers\n",
        "  # you can also use an array\n",
        "  \n",
        "# print(dict_no_outliers_unix) # Printing the dictionary with \n",
        "# no outliers."
      ],
      "execution_count": 93,
      "outputs": [
        {
          "output_type": "stream",
          "text": [
            "/usr/local/lib/python3.6/dist-packages/scipy/stats/stats.py:2416: RuntimeWarning: Mean of empty slice.\n",
            "  mns = a.mean(axis=axis, keepdims=True)\n",
            "/usr/local/lib/python3.6/dist-packages/numpy/core/_methods.py:154: RuntimeWarning: invalid value encountered in true_divide\n",
            "  ret, rcount, out=ret, casting='unsafe', subok=False)\n",
            "/usr/local/lib/python3.6/dist-packages/numpy/core/_methods.py:217: RuntimeWarning: Degrees of freedom <= 0 for slice\n",
            "  keepdims=keepdims)\n",
            "/usr/local/lib/python3.6/dist-packages/numpy/core/_methods.py:186: RuntimeWarning: invalid value encountered in true_divide\n",
            "  arrmean, rcount, out=arrmean, casting='unsafe', subok=False)\n",
            "/usr/local/lib/python3.6/dist-packages/numpy/core/_methods.py:207: RuntimeWarning: invalid value encountered in true_divide\n",
            "  ret, rcount, out=ret, casting='unsafe', subok=False)\n",
            "/usr/local/lib/python3.6/dist-packages/scipy/stats/stats.py:2419: RuntimeWarning: invalid value encountered in true_divide\n",
            "  return (a - mns) / sstd\n"
          ],
          "name": "stderr"
        }
      ]
    },
    {
      "cell_type": "markdown",
      "metadata": {
        "id": "0c4gpjUrivtV",
        "colab_type": "text"
      },
      "source": [
        "To compare the graphs before applying z-score filtering and afterwards. You can see that graph after the filtering are rid of outlying values."
      ]
    },
    {
      "cell_type": "code",
      "metadata": {
        "id": "I96Sj2HrYypZ",
        "colab_type": "code",
        "outputId": "d86c31e1-f2a9-4456-bfae-f9ee9701164d",
        "colab": {
          "base_uri": "https://localhost:8080/",
          "height": 307
        }
      },
      "source": [
        "import seaborn as sns\n",
        "sns.distplot(a=dict_clos_unix[chrom_name][\"+\"])"
      ],
      "execution_count": 94,
      "outputs": [
        {
          "output_type": "execute_result",
          "data": {
            "text/plain": [
              "<matplotlib.axes._subplots.AxesSubplot at 0x7f5cb8d0fe80>"
            ]
          },
          "metadata": {
            "tags": []
          },
          "execution_count": 94
        },
        {
          "output_type": "display_data",
          "data": {
            "image/png": "[encoded data removed]",
            "text/plain": [
              "<Figure size 432x288 with 1 Axes>"
            ]
          },
          "metadata": {
            "tags": []
          }
        }
      ]
    },
    {
      "cell_type": "code",
      "metadata": {
        "id": "WQ4aq7RFYzWQ",
        "colab_type": "code",
        "outputId": "18565a5d-26c5-4d63-977d-190f4e0fe2a8",
        "colab": {
          "base_uri": "https://localhost:8080/",
          "height": 307
        }
      },
      "source": [
        "import seaborn as sns\n",
        "sns.distplot(a=dict_no_outliers_unix[chrom_name][\"+\"])"
      ],
      "execution_count": 95,
      "outputs": [
        {
          "output_type": "execute_result",
          "data": {
            "text/plain": [
              "<matplotlib.axes._subplots.AxesSubplot at 0x7f5cbaf7d438>"
            ]
          },
          "metadata": {
            "tags": []
          },
          "execution_count": 95
        },
        {
          "output_type": "display_data",
          "data": {
            "image/png": "[encoded data removed]",
            "text/plain": [
              "<Figure size 432x288 with 1 Axes>"
            ]
          },
          "metadata": {
            "tags": []
          }
        }
      ]
    },
    {
      "cell_type": "code",
      "metadata": {
        "id": "TG-RKtaGR5d-",
        "colab_type": "code",
        "outputId": "8960780c-c9a1-495a-e1cf-66e3a72b6004",
        "colab": {
          "base_uri": "https://localhost:8080/",
          "height": 307
        }
      },
      "source": [
        "import seaborn as sns\n",
        "sns.distplot(a=dict_clos_unix[chrom_name][\"-\"])"
      ],
      "execution_count": 96,
      "outputs": [
        {
          "output_type": "execute_result",
          "data": {
            "text/plain": [
              "<matplotlib.axes._subplots.AxesSubplot at 0x7f5cbbd1af28>"
            ]
          },
          "metadata": {
            "tags": []
          },
          "execution_count": 96
        },
        {
          "output_type": "display_data",
          "data": {
            "image/png": "[encoded data removed]",
            "text/plain": [
              "<Figure size 432x288 with 1 Axes>"
            ]
          },
          "metadata": {
            "tags": []
          }
        }
      ]
    },
    {
      "cell_type": "code",
      "metadata": {
        "id": "22o1jTWaCsi9",
        "colab_type": "code",
        "outputId": "5cfcc8a3-c143-4e47-df39-6c5632903826",
        "colab": {
          "base_uri": "https://localhost:8080/",
          "height": 307
        }
      },
      "source": [
        "import seaborn as sns\n",
        "sns.distplot(a=dict_no_outliers_unix[chrom_name][\"-\"])"
      ],
      "execution_count": 97,
      "outputs": [
        {
          "output_type": "execute_result",
          "data": {
            "text/plain": [
              "<matplotlib.axes._subplots.AxesSubplot at 0x7f5cb91c1ba8>"
            ]
          },
          "metadata": {
            "tags": []
          },
          "execution_count": 97
        },
        {
          "output_type": "display_data",
          "data": {
            "image/png": "[encoded data removed]",
            "text/plain": [
              "<Figure size 432x288 with 1 Axes>"
            ]
          },
          "metadata": {
            "tags": []
          }
        }
      ]
    },
    {
      "cell_type": "markdown",
      "metadata": {
        "id": "4M1XFknY38Uz",
        "colab_type": "text"
      },
      "source": [
        "###**B. Pandas option.**"
      ]
    },
    {
      "cell_type": "code",
      "metadata": {
        "id": "YgQsyDsQKfJI",
        "colab_type": "code",
        "colab": {}
      },
      "source": [
        "dict_clos_pandas = {}\n",
        "# For each chromosome in the dictionary of distance create a chrom_name in the new\n",
        "# dictionary of the closest distances. Simultaneously, the lists for the plus\n",
        "# and for the minus strand will be created as explained above.\n",
        "for chrom_name in dict_r_pandas:\n",
        "  dict_clos_pandas[chrom_name] = {\"+\" : list(), \"-\" : list()}\n",
        "  for strand in dict_r_pandas[chrom_name]:\n",
        "    if strand == \"+\":\n",
        "      for dist_start in range(1,len(dict_r_pandas[chrom_name][strand]) - 1): \n",
        "        # This time, you need to compare the distance between the current\n",
        "        # position and the next one with the distance between the current\n",
        "        # position and the previous one. Whichever is closer will be put\n",
        "        # to the dictionary.\n",
        "        this_start_pos = dict_r_pandas[chrom_name][strand][dist_start]\n",
        "        right_start_neigh = dict_r_pandas[chrom_name][strand][dist_start+1]          \n",
        "        left_start_neigh = dict_r_pandas[chrom_name][strand][dist_start-1]    \n",
        "        dist1 = this_start_pos - left_start_neigh \n",
        "        dist2 = right_start_neigh - this_start_pos    \n",
        "        if dist1 < dist2:\n",
        "          dict_clos_pandas[chrom_name][strand].append(dist1)\n",
        "        else:\n",
        "          dict_clos_pandas[chrom_name][strand].append(dist2)\n",
        "    else:\n",
        "          # Compare the distance between the current\n",
        "          # position and the next one with the distance between the current\n",
        "          # position and the previous one. Whichever is closer will be put\n",
        "          # to the dictionary.\n",
        "      for dist_end in range(1,len(dict_r_pandas[chrom_name][strand]) - 1): \n",
        "        this_end_pos = dict_r_pandas[chrom_name][strand][dist_end]\n",
        "        right_end_neigh = dict_r_pandas[chrom_name][strand][dist_end+1]          \n",
        "        left_end_neigh = dict_r_pandas[chrom_name][strand][dist_end-1]    \n",
        "        dist1 = this_end_pos - left_end_neigh    \n",
        "        dist2 = right_end_neigh - this_end_pos    \n",
        "        if dist1 < dist2:\n",
        "          dict_clos_pandas[chrom_name][strand].append(dist1)\n",
        "        else:\n",
        "          dict_clos_pandas[chrom_name][strand].append(dist2)\n",
        "\n",
        "\n",
        "#print(dict_r_pandas) # Printing the dictionary with the distance \n",
        "# between reads. \n",
        "#print(dict_clos_pandas) # Printing the dictionary with the closest distance \n",
        "# between reads. "
      ],
      "execution_count": 0,
      "outputs": []
    },
    {
      "cell_type": "markdown",
      "metadata": {
        "id": "ukctz74Yilpe",
        "colab_type": "text"
      },
      "source": [
        "To be sure you got rid of all of the outliers, count z-score to determine the  relationship of each value to the mean of a group of values. Set an arbitrary threshold to filter values that are distant from the mean."
      ]
    },
    {
      "cell_type": "code",
      "metadata": {
        "id": "bQlX3rP_Y8EC",
        "colab_type": "code",
        "outputId": "f15e316d-2a82-4173-fe02-a3a28e70951b",
        "colab": {
          "base_uri": "https://localhost:8080/",
          "height": 214
        }
      },
      "source": [
        "from scipy import stats\n",
        "import numpy as np\n",
        "\n",
        "dict_no_outliers_pandas = {}\n",
        "\n",
        "# Only chrom_name key.\n",
        "for chrom_name in dict_clos_pandas.keys():\n",
        "  # Plus and minus strand are manually written.\n",
        "  list_plus_input = dict_clos_pandas[chrom_name]['+']\n",
        "  list_minus_input = dict_clos_pandas[chrom_name]['-']\n",
        "  # get a zscore for list_plus_input\n",
        "  zscore_plus = stats.zscore(list_plus_input, ddof=0)\n",
        "  # doo the same foor minus strand\n",
        "  zscore_minus = stats.zscore(list_minus_input, ddof=0)\n",
        "\n",
        "  if len(list_plus_input) > 0:\n",
        "    for z, distance in zip(zscore_plus, list_plus_input):\n",
        "      if z < 1:\n",
        "        if chrom_name in dict_no_outliers_pandas:\n",
        "          if \"+\" in dict_no_outliers_pandas[chrom_name]:\n",
        "            dict_no_outliers_pandas[chrom_name][\"+\"].append(distance)\n",
        "          \n",
        "          else:\n",
        "            dict_no_outliers_pandas[chrom_name][\"+\"] = []\n",
        "            dict_no_outliers_pandas[chrom_name][\"+\"].append(distance)\n",
        "\n",
        "        else:\n",
        "          dict_no_outliers_pandas[chrom_name] = {}\n",
        "          dict_no_outliers_pandas[chrom_name][\"+\"] = []\n",
        "          dict_no_outliers_pandas[chrom_name][\"+\"].append(distance)\n",
        "\n",
        "  if len(list_minus_input)  > 0:\n",
        "    for z, distance in zip(zscore_minus, list_minus_input):\n",
        "      if z < 1:\n",
        "        if chrom_name in dict_no_outliers_pandas:\n",
        "          if \"-\" in dict_no_outliers_pandas[chrom_name]:\n",
        "            dict_no_outliers_pandas[chrom_name][\"-\"].append(distance)\n",
        "          \n",
        "          else:\n",
        "            dict_no_outliers_pandas[chrom_name][\"-\"] = []\n",
        "            dict_no_outliers_pandas[chrom_name][\"-\"].append(distance)\n",
        "\n",
        "        else:\n",
        "          dict_no_outliers_pandas[chrom_name] = {}\n",
        "          dict_no_outliers_pandas[chrom_name][\"-\"] = []\n",
        "          dict_no_outliers_pandas[chrom_name][\"-\"].append(distance)\n",
        "\n",
        "  # loop over the two lists and remove outliers\n",
        "  # you can also use an array\n",
        "  \n",
        "# print(dict_no_outliers_pandas) # Printing the dictionary with no outliers."
      ],
      "execution_count": 99,
      "outputs": [
        {
          "output_type": "stream",
          "text": [
            "/usr/local/lib/python3.6/dist-packages/scipy/stats/stats.py:2416: RuntimeWarning: Mean of empty slice.\n",
            "  mns = a.mean(axis=axis, keepdims=True)\n",
            "/usr/local/lib/python3.6/dist-packages/numpy/core/_methods.py:154: RuntimeWarning: invalid value encountered in true_divide\n",
            "  ret, rcount, out=ret, casting='unsafe', subok=False)\n",
            "/usr/local/lib/python3.6/dist-packages/numpy/core/_methods.py:217: RuntimeWarning: Degrees of freedom <= 0 for slice\n",
            "  keepdims=keepdims)\n",
            "/usr/local/lib/python3.6/dist-packages/numpy/core/_methods.py:186: RuntimeWarning: invalid value encountered in true_divide\n",
            "  arrmean, rcount, out=arrmean, casting='unsafe', subok=False)\n",
            "/usr/local/lib/python3.6/dist-packages/numpy/core/_methods.py:207: RuntimeWarning: invalid value encountered in true_divide\n",
            "  ret, rcount, out=ret, casting='unsafe', subok=False)\n",
            "/usr/local/lib/python3.6/dist-packages/scipy/stats/stats.py:2419: RuntimeWarning: invalid value encountered in true_divide\n",
            "  return (a - mns) / sstd\n"
          ],
          "name": "stderr"
        }
      ]
    },
    {
      "cell_type": "markdown",
      "metadata": {
        "id": "-2g82XYa4jzV",
        "colab_type": "text"
      },
      "source": [
        "###**C. Pybedtools option.**"
      ]
    },
    {
      "cell_type": "code",
      "metadata": {
        "id": "NGTlgnHWLB4L",
        "colab_type": "code",
        "colab": {}
      },
      "source": [
        "dict_clos_pybed = {}\n",
        "# For each chromosome in the dictionary of distance create a chrom_name in the new\n",
        "# dictionary of the closest distances. Simultaneously, the lists for the plus\n",
        "# and for the minus strand will be created as explained above.\n",
        "for chrom_name in dict_r_pybed:\n",
        "  dict_clos_pybed[chrom_name] = {\"+\" : list(), \"-\" : list()}\n",
        "  for strand in dict_r_pybed[chrom_name]:\n",
        "    if strand == \"+\":\n",
        "      for dist_start in range(1,len(dict_r_pybed[chrom_name][strand]) - 1): \n",
        "        # This time, you need to compare the distance between the current\n",
        "        # position and the next one with the distance between the current\n",
        "        # position and the previous one. Whichever is closer will be put\n",
        "        # to the dictionary.\n",
        "        this_start_pos = dict_r_pybed[chrom_name][strand][dist_start]\n",
        "        right_start_neigh = dict_r_pybed[chrom_name][strand][dist_start+1]          \n",
        "        left_start_neigh = dict_r_pybed[chrom_name][strand][dist_start-1]    \n",
        "        dist1 = this_start_pos - left_start_neigh \n",
        "        dist2 = right_start_neigh - this_start_pos    \n",
        "        if dist1 < dist2:\n",
        "          dict_clos_pybed[chrom_name][strand].append(dist1)\n",
        "        else:\n",
        "          dict_clos_pybed[chrom_name][strand].append(dist2)\n",
        "    else:\n",
        "          # Compare the distance between the current\n",
        "          # position and the next one with the distance between the current\n",
        "          # position and the previous one. Whichever is closer will be put\n",
        "          # to the dictionary.\n",
        "      for dist_end in range(1,len(dict_r_pybed[chrom_name][strand]) - 1): \n",
        "        this_end_pos = dict_r_pybed[chrom_name][strand][dist_end]\n",
        "        right_end_neigh = dict_r_pybed[chrom_name][strand][dist_end+1]          \n",
        "        left_end_neigh = dict_r_pybed[chrom_name][strand][dist_end-1]    \n",
        "        dist1 = this_end_pos - left_end_neigh    \n",
        "        dist2 = right_end_neigh - this_end_pos    \n",
        "        if dist1 < dist2:\n",
        "          dict_clos_pybed[chrom_name][strand].append(dist1)\n",
        "        else:\n",
        "          dict_clos_pybed[chrom_name][strand].append(dist2)\n",
        "\n",
        "\n",
        "#print(dict_r_pybed) # Printing the dictionary with the distance \n",
        "# between reads. \n",
        "#print(dict_clos_pybed) # Printing the dictionary with the closest distance \n",
        "# between reads. "
      ],
      "execution_count": 0,
      "outputs": []
    },
    {
      "cell_type": "markdown",
      "metadata": {
        "id": "15jy4oizinsw",
        "colab_type": "text"
      },
      "source": [
        "To be sure you got rid of all of the outliers, count z-score to determine the  relationship of each value to the mean of a group of values. Set an arbitrary threshold to filter values that are distant from the mean."
      ]
    },
    {
      "cell_type": "code",
      "metadata": {
        "id": "0IqAdnxfKO_Q",
        "colab_type": "code",
        "outputId": "7b311de3-ee89-42da-922e-d573ffd4ffb6",
        "colab": {
          "base_uri": "https://localhost:8080/",
          "height": 214
        }
      },
      "source": [
        "from scipy import stats\n",
        "import numpy as np\n",
        "\n",
        "dict_no_outliers_pybed = {}\n",
        "\n",
        "# Only chrom_name key.\n",
        "for chrom_name in dict_clos_pybed.keys():\n",
        "  # Plus and minus strand are manually written.\n",
        "  list_plus_input = dict_clos_pybed[chrom_name]['+']\n",
        "  list_minus_input = dict_clos_pybed[chrom_name]['-']\n",
        "  # get a zscore for list_plus_input\n",
        "  zscore_plus = stats.zscore(list_plus_input, ddof=0)\n",
        "  # doo the same foor minus strand\n",
        "  zscore_minus = stats.zscore(list_minus_input, ddof=0)\n",
        "\n",
        "  if len(list_plus_input) > 0:\n",
        "    for z, distance in zip(zscore_plus, list_plus_input):\n",
        "      if z < 1:\n",
        "        if chrom_name in dict_no_outliers_pybed:\n",
        "          if \"+\" in dict_no_outliers_pybed[chrom_name]:\n",
        "            dict_no_outliers_pybed[chrom_name][\"+\"].append(distance)\n",
        "          \n",
        "          else:\n",
        "            dict_no_outliers_pybed[chrom_name][\"+\"] = []\n",
        "            dict_no_outliers_pybed[chrom_name][\"+\"].append(distance)\n",
        "\n",
        "        else:\n",
        "          dict_no_outliers_pybed[chrom_name] = {}\n",
        "          dict_no_outliers_pybed[chrom_name][\"+\"] = []\n",
        "          dict_no_outliers_pybed[chrom_name][\"+\"].append(distance)\n",
        "\n",
        "  if len(list_minus_input)  > 0:\n",
        "    for z, distance in zip(zscore_minus, list_minus_input):\n",
        "      if z < 1:\n",
        "        if chrom_name in dict_no_outliers_pybed:\n",
        "          if \"-\" in dict_no_outliers_pybed[chrom_name]:\n",
        "            dict_no_outliers_pybed[chrom_name][\"-\"].append(distance)\n",
        "          \n",
        "          else:\n",
        "            dict_no_outliers_pybed[chrom_name][\"-\"] = []\n",
        "            dict_no_outliers_pybed[chrom_name][\"-\"].append(distance)\n",
        "\n",
        "        else:\n",
        "          dict_no_outliers_pybed[chrom_name] = {}\n",
        "          dict_no_outliers_pybed[chrom_name][\"-\"] = []\n",
        "          dict_no_outliers_pybed[chrom_name][\"-\"].append(distance)\n",
        "\n",
        "  # loop over the two lists and remove outliers\n",
        "  # you can also use an array\n",
        "  \n",
        "#print(dict_no_outliers_pybed) # Printing the dictionary with no outliers."
      ],
      "execution_count": 101,
      "outputs": [
        {
          "output_type": "stream",
          "text": [
            "/usr/local/lib/python3.6/dist-packages/scipy/stats/stats.py:2416: RuntimeWarning: Mean of empty slice.\n",
            "  mns = a.mean(axis=axis, keepdims=True)\n",
            "/usr/local/lib/python3.6/dist-packages/numpy/core/_methods.py:154: RuntimeWarning: invalid value encountered in true_divide\n",
            "  ret, rcount, out=ret, casting='unsafe', subok=False)\n",
            "/usr/local/lib/python3.6/dist-packages/numpy/core/_methods.py:217: RuntimeWarning: Degrees of freedom <= 0 for slice\n",
            "  keepdims=keepdims)\n",
            "/usr/local/lib/python3.6/dist-packages/numpy/core/_methods.py:186: RuntimeWarning: invalid value encountered in true_divide\n",
            "  arrmean, rcount, out=arrmean, casting='unsafe', subok=False)\n",
            "/usr/local/lib/python3.6/dist-packages/numpy/core/_methods.py:207: RuntimeWarning: invalid value encountered in true_divide\n",
            "  ret, rcount, out=ret, casting='unsafe', subok=False)\n",
            "/usr/local/lib/python3.6/dist-packages/scipy/stats/stats.py:2419: RuntimeWarning: invalid value encountered in true_divide\n",
            "  return (a - mns) / sstd\n"
          ],
          "name": "stderr"
        }
      ]
    },
    {
      "cell_type": "markdown",
      "metadata": {
        "id": "2G6wXiJqOD36",
        "colab_type": "text"
      },
      "source": [
        "## V. Plot the distribution of the closest distances without outliers between the reads."
      ]
    },
    {
      "cell_type": "markdown",
      "metadata": {
        "id": "wiCE93KuK5F9",
        "colab_type": "text"
      },
      "source": [
        "1) To plot the data from the dictionary, you need to convert the dictionary into\n",
        "dataframe. "
      ]
    },
    {
      "cell_type": "markdown",
      "metadata": {
        "id": "m35iPype6W6P",
        "colab_type": "text"
      },
      "source": [
        "###**A. Unix command option.**"
      ]
    },
    {
      "cell_type": "code",
      "metadata": {
        "id": "fpAk2VBGSEgj",
        "colab_type": "code",
        "outputId": "f666b847-73fd-4f1a-b3d4-bf2194543f39",
        "colab": {
          "base_uri": "https://localhost:8080/",
          "height": 477
        }
      },
      "source": [
        "import pandas as pd\n",
        "# Create an empty list.\n",
        "list_unix_plus = list()\n",
        "list_unix_min = list()\n",
        "# Loop over the chromosome names in the dictionary. \n",
        "for chrom_name in dict_no_outliers_unix:\n",
        "  # Create a temporary dictionary with the strands.\n",
        "  dict_no_outliers_unix_tmp = dict_no_outliers_unix[chrom_name]\n",
        "  # Loop over strands in the temporary dictionary.\n",
        "  for strand in dict_no_outliers_unix_tmp:\n",
        "    if strand == \"+\":\n",
        "    # Define the distance.\n",
        "      distance = dict_no_outliers_unix_tmp[\"+\"]\n",
        "    # Create a pandas daraframe with following columns:\n",
        "    # distance, strand, and chromosome. \n",
        "      dict_unix_plus = pd.DataFrame(distance, columns=[\"distance\"])\n",
        "      dict_unix_plus[\"strand\"] = \"+\"\n",
        "      dict_unix_plus[\"chromosome\"] = chrom_name\n",
        "    # Append all of the dataframes from the temporary dictionary\n",
        "    # to the list.\n",
        "      list_unix_plus.append(dict_unix_plus)\n",
        "    else:\n",
        "      distance = dict_no_outliers_unix_tmp[\"-\"]\n",
        "    # Create a pandas daraframe with following columns:\n",
        "    # distance, strand, and chromosome. \n",
        "      dict_unix_min = pd.DataFrame(distance, columns=[\"distance\"])\n",
        "      dict_unix_min[\"strand\"] = \"-\"\n",
        "      dict_unix_min[\"chromosome\"] = chrom_name\n",
        "    # Append all of the dataframes from the temporary dictionary\n",
        "    # to the list.\n",
        "      list_unix_min.append(dict_unix_min)\n",
        "\n",
        "# You need to concatenate the list of dataframes into a new dataframe.    \n",
        "df_unix_plus = pd.concat(list_unix_plus)\n",
        "df_unix_minus = pd.concat(list_unix_min)\n",
        "print(df_unix_plus)\n",
        "print(df_unix_minus)\n",
        "# Each column is a Pandas series."
      ],
      "execution_count": 102,
      "outputs": [
        {
          "output_type": "stream",
          "text": [
            "    distance strand chromosome\n",
            "0      70103      +       chr1\n",
            "1        454      +       chr1\n",
            "2         73      +       chr1\n",
            "3         73      +       chr1\n",
            "4        209      +       chr1\n",
            "..       ...    ...        ...\n",
            "22       381      +       chrX\n",
            "23       381      +       chrX\n",
            "24        51      +       chrX\n",
            "25        51      +       chrX\n",
            "26      9150      +       chrX\n",
            "\n",
            "[2237 rows x 3 columns]\n",
            "    distance strand chromosome\n",
            "0      23153      -       chr1\n",
            "1        258      -       chr1\n",
            "2        116      -       chr1\n",
            "3        116      -       chr1\n",
            "4         40      -       chr1\n",
            "..       ...    ...        ...\n",
            "35     66310      -       chrX\n",
            "36     66310      -       chrX\n",
            "37   4695276      -       chrX\n",
            "38     19680      -       chrX\n",
            "39     19680      -       chrX\n",
            "\n",
            "[1993 rows x 3 columns]\n"
          ],
          "name": "stdout"
        }
      ]
    },
    {
      "cell_type": "markdown",
      "metadata": {
        "id": "TIfnpJm28Ny_",
        "colab_type": "text"
      },
      "source": [
        "###**B. Pandas option.**"
      ]
    },
    {
      "cell_type": "code",
      "metadata": {
        "id": "T9aLNrSG8ESY",
        "colab_type": "code",
        "outputId": "2c9bac14-3da7-45fc-b7f7-2e69e5162216",
        "colab": {
          "base_uri": "https://localhost:8080/",
          "height": 477
        }
      },
      "source": [
        "import pandas as pd\n",
        "# Create an empty list.\n",
        "list_pandas_plus = list()\n",
        "list_pandas_min = list()\n",
        "# Loop over the chromosome names in the dictionary. \n",
        "  # Create a temporary dictionary with the strands.\n",
        "  # Loop over strands in the temporary dictionary.\n",
        "for chrom_name in dict_no_outliers_pandas:\n",
        "  dict_no_outliers_pandas_tmp = dict_no_outliers_pandas[chrom_name]\n",
        "  for strand in dict_no_outliers_pandas_tmp:\n",
        "    if strand == \"+\":\n",
        "    # Define the distance.\n",
        "      distance = dict_no_outliers_pandas_tmp[strand]\n",
        "    # Create a pandas daraframe with following columns:\n",
        "    # distance, strand, and chromosome. \n",
        "      dict_pandas_plus = pd.DataFrame(distance, columns=[\"distance\"])\n",
        "      dict_pandas_plus[\"strand\"] = strand\n",
        "      dict_pandas_plus[\"chromosome\"] = chrom_name\n",
        "    # Append all of the dataframes from the temporary dictionary\n",
        "    # to the list.\n",
        "      list_pandas_plus.append(dict_pandas_plus)\n",
        "    else:\n",
        "      distance = dict_no_outliers_pandas_tmp[strand]\n",
        "    # Create a pandas daraframe with following columns:\n",
        "    # distance, strand, and chromosome. \n",
        "      dict_pandas_min = pd.DataFrame(distance, columns=[\"distance\"])\n",
        "      dict_pandas_min[\"strand\"] = strand\n",
        "      dict_pandas_min[\"chromosome\"] = chrom_name\n",
        "    # Append all of the dataframes from the temporary dictionary\n",
        "    # to the list.\n",
        "      list_pandas_min.append(dict_pandas_min)\n",
        "\n",
        "# You need to concatenate the list of dataframes into a new dataframe.    \n",
        "df_pandas_plus = pd.concat(list_pandas_plus)\n",
        "df_pandas_minus = pd.concat(list_pandas_min)\n",
        "print(df_pandas_plus)\n",
        "print(df_pandas_minus)\n",
        "# Each column is a Pandas series."
      ],
      "execution_count": 103,
      "outputs": [
        {
          "output_type": "stream",
          "text": [
            "    distance strand chromosome\n",
            "0      70103      +       chr1\n",
            "1        454      +       chr1\n",
            "2         73      +       chr1\n",
            "3         73      +       chr1\n",
            "4        209      +       chr1\n",
            "..       ...    ...        ...\n",
            "22       381      +       chrX\n",
            "23       381      +       chrX\n",
            "24        51      +       chrX\n",
            "25        51      +       chrX\n",
            "26      9150      +       chrX\n",
            "\n",
            "[2237 rows x 3 columns]\n",
            "    distance strand chromosome\n",
            "0      23153      -       chr1\n",
            "1        258      -       chr1\n",
            "2        116      -       chr1\n",
            "3        116      -       chr1\n",
            "4         40      -       chr1\n",
            "..       ...    ...        ...\n",
            "35     66310      -       chrX\n",
            "36     66310      -       chrX\n",
            "37   4695276      -       chrX\n",
            "38     19680      -       chrX\n",
            "39     19680      -       chrX\n",
            "\n",
            "[1993 rows x 3 columns]\n"
          ],
          "name": "stdout"
        }
      ]
    },
    {
      "cell_type": "markdown",
      "metadata": {
        "id": "4thAtJIJ99Bq",
        "colab_type": "text"
      },
      "source": [
        "###**C. Pybedtools option.**"
      ]
    },
    {
      "cell_type": "code",
      "metadata": {
        "id": "e3E1SOwV9_Ib",
        "colab_type": "code",
        "outputId": "e1fd97eb-e540-413e-cc46-b91bbfacc5bb",
        "colab": {
          "base_uri": "https://localhost:8080/",
          "height": 477
        }
      },
      "source": [
        "import pandas as pd\n",
        "# Create an empty list.\n",
        "list_pybed_plus = list()\n",
        "list_pybed_min = list()\n",
        "# Loop over the chromosome names in the dictionary. \n",
        "for chrom_name in dict_no_outliers_pybed:\n",
        "  # Create a temporary dictionary with the strands.\n",
        "  dict_no_outliers_pybed_tmp = dict_no_outliers_pybed[chrom_name]\n",
        "  # Loop over strands in the temporary dictionary.\n",
        "  for strand in dict_no_outliers_pybed_tmp:\n",
        "    if strand == \"+\":\n",
        "    # Define the distance.\n",
        "      distance = dict_no_outliers_pybed_tmp[strand]\n",
        "    # Create a pandas daraframe with following columns:\n",
        "    # distance, strand, and chromosome. \n",
        "      dict_pybed_plus = pd.DataFrame(distance, columns=[\"distance\"])\n",
        "      dict_pybed_plus[\"strand\"] = strand\n",
        "      dict_pybed_plus[\"chromosome\"] = chrom_name\n",
        "    # Append all of the dataframes from the temporary dictionary\n",
        "    # to the list.\n",
        "      list_pybed_plus.append(dict_pybed_plus)\n",
        "    else:\n",
        "      distance = dict_no_outliers_pybed_tmp[strand]\n",
        "    # Create a pandas daraframe with following columns:\n",
        "    # distance, strand, and chromosome. \n",
        "      dict_pybed_min = pd.DataFrame(distance, columns=[\"distance\"])\n",
        "      dict_pybed_min[\"strand\"] = strand\n",
        "      dict_pybed_min[\"chromosome\"] = chrom_name\n",
        "    # Append all of the dataframes from the temporary dictionary\n",
        "    # to the list.\n",
        "      list_pybed_min.append(dict_pybed_min)\n",
        "\n",
        "# You need to concatenate the list of dataframes into a new dataframe.    \n",
        "df_pybed_plus = pd.concat(list_pybed_plus)\n",
        "df_pybed_minus = pd.concat(list_pybed_min)\n",
        "print(df_pybed_plus)\n",
        "print(df_pybed_minus)\n",
        "# Each column is a Pandas series."
      ],
      "execution_count": 104,
      "outputs": [
        {
          "output_type": "stream",
          "text": [
            "    distance strand chromosome\n",
            "0      70103      +       chr1\n",
            "1        454      +       chr1\n",
            "2         73      +       chr1\n",
            "3         73      +       chr1\n",
            "4        209      +       chr1\n",
            "..       ...    ...        ...\n",
            "22       381      +       chrX\n",
            "23       381      +       chrX\n",
            "24        51      +       chrX\n",
            "25        51      +       chrX\n",
            "26      9150      +       chrX\n",
            "\n",
            "[2237 rows x 3 columns]\n",
            "    distance strand chromosome\n",
            "0      23153      -       chr1\n",
            "1        258      -       chr1\n",
            "2        116      -       chr1\n",
            "3        116      -       chr1\n",
            "4         40      -       chr1\n",
            "..       ...    ...        ...\n",
            "35     66310      -       chrX\n",
            "36     66310      -       chrX\n",
            "37   4695276      -       chrX\n",
            "38     19680      -       chrX\n",
            "39     19680      -       chrX\n",
            "\n",
            "[1993 rows x 3 columns]\n"
          ],
          "name": "stdout"
        }
      ]
    },
    {
      "cell_type": "markdown",
      "metadata": {
        "id": "OAANgwqP7BwC",
        "colab_type": "text"
      },
      "source": [
        "##2) Use barplot to display the distribution of closest distances."
      ]
    },
    {
      "cell_type": "markdown",
      "metadata": {
        "id": "5NTMhqf07TJs",
        "colab_type": "text"
      },
      "source": [
        "###**A. Unix command option.**"
      ]
    },
    {
      "cell_type": "code",
      "metadata": {
        "id": "_u7Cf31Q7dsQ",
        "colab_type": "code",
        "outputId": "f3726ea8-c709-493f-fa7d-91b51e621f21",
        "colab": {
          "base_uri": "https://localhost:8080/"
        }
      },
      "source": [
        "# Concatenate both dataframes into one.\n",
        "import seaborn as sns\n",
        "import matplotlib.pyplot as plt\n",
        "df_unix_both = pd.concat([df_unix_plus, df_unix_minus])\n",
        "\n",
        "sns.set(style=\"white\", palette=\"bright\", color_codes=True)\n",
        "\n",
        "# Hue is parameter to distinguish different set of values with different colors.\n",
        "# In your case, you distinguish plus and minus strand.\n",
        "chart = sns.barplot(\n",
        "      x='chromosome', y='distance', data=df_unix_both, hue='strand')\n",
        "\n",
        "# You want to rotate the label by 90 degrees to fit them nicely under the plot.\n",
        "chart.set_xticklabels(chart.get_xticklabels(), rotation=90, horizontalalignment='right')\n",
        "\n",
        "# Choose the title for the plot.\n",
        "plt.suptitle(\"Distribution of the closest distance per chromosome.\")\n",
        "\n",
        "# Set the size of your plot.\n",
        "plt.gcf().set_size_inches((20, 15))"
      ],
      "execution_count": 105,
      "outputs": [
        {
          "output_type": "display_data",
          "data": {
            "image/png": "[encoded data removed]",
            "text/plain": [
              "<Figure size 1440x1080 with 1 Axes>"
            ]
          },
          "metadata": {
            "tags": []
          }
        }
      ]
    },
    {
      "cell_type": "markdown",
      "metadata": {
        "id": "mEvXwMzF7X3x",
        "colab_type": "text"
      },
      "source": [
        "###**B. Pandas option.**"
      ]
    },
    {
      "cell_type": "code",
      "metadata": {
        "id": "bIMEwSYX7af5",
        "colab_type": "code",
        "outputId": "f607c6b3-187b-4326-8e13-e4994398df30",
        "colab": {
          "base_uri": "https://localhost:8080/"
        }
      },
      "source": [
        "# Concatenate both dataframes into one.\n",
        "df_pandas_both = pd.concat([df_pandas_plus, df_pandas_minus])\n",
        "\n",
        "sns.set(style=\"white\", palette=\"bright\", color_codes=True)\n",
        "\n",
        "# Hue is parameter to distinguish different set of values with different colors.\n",
        "# In your case, you distinguish plus and minus strand.\n",
        "chart = sns.barplot(\n",
        "      x='chromosome', y='distance', data=df_pandas_both, hue='strand')\n",
        "\n",
        "# You want to rotate the label by 90 degrees to fit them nicely under the plot.\n",
        "chart.set_xticklabels(chart.get_xticklabels(), rotation=90, horizontalalignment='right')\n",
        "\n",
        "# Choose the title for the plot.\n",
        "plt.suptitle(\"Number of reads per chromosome.\")\n",
        "\n",
        "# Set the size of your plot.\n",
        "plt.gcf().set_size_inches((20, 15))"
      ],
      "execution_count": 106,
      "outputs": [
        {
          "output_type": "display_data",
          "data": {
            "image/png": "[encoded data removed]",
            "text/plain": [
              "<Figure size 1440x1080 with 1 Axes>"
            ]
          },
          "metadata": {
            "tags": []
          }
        }
      ]
    },
    {
      "cell_type": "markdown",
      "metadata": {
        "id": "fCgG37AL7Wqi",
        "colab_type": "text"
      },
      "source": [
        "###**C. Pybedtools option.**"
      ]
    },
    {
      "cell_type": "code",
      "metadata": {
        "id": "7obYTKwh3xaC",
        "colab_type": "code",
        "outputId": "94d1df1f-a8ab-4f47-d50c-637f98d39273",
        "colab": {
          "base_uri": "https://localhost:8080/"
        }
      },
      "source": [
        "# Concatenate both dataframes into one.\n",
        "df_pybed_both = pd.concat([df_pybed_plus, df_pybed_minus])\n",
        "\n",
        "sns.set(style=\"white\", palette=\"bright\", color_codes=True)\n",
        "\n",
        "# Hue is parameter to distinguish different set of values with different colors.\n",
        "# In your case, you distinguish plus and minus strand.\n",
        "chart = sns.barplot(\n",
        "      x='chromosome', y='distance', data=df_pybed_both, hue='strand')\n",
        "\n",
        "# You want to rotate the label by 90 degrees to fit them nicely under the plot.\n",
        "chart.set_xticklabels(chart.get_xticklabels(), rotation=90, horizontalalignment='right')\n",
        "\n",
        "# Choose the title for the plot.\n",
        "plt.suptitle(\"Distribution of the closest distance per chromosome.\")\n",
        "\n",
        "# Set the size of your plot.\n",
        "plt.gcf().set_size_inches((20, 15))"
      ],
      "execution_count": 107,
      "outputs": [
        {
          "output_type": "display_data",
          "data": {
            "image/png": "[encoded data removed]",
            "text/plain": [
              "<Figure size 1440x1080 with 1 Axes>"
            ]
          },
          "metadata": {
            "tags": []
          }
        }
      ]
    },
    {
      "cell_type": "markdown",
      "metadata": {
        "id": "VkCtz70FCwZJ",
        "colab_type": "text"
      },
      "source": [
        "# To find the answer to the inequality between the plus and minus strand graphs, you need to:"
      ]
    },
    {
      "cell_type": "markdown",
      "metadata": {
        "id": "ZWMIBqGxiYDA",
        "colab_type": "text"
      },
      "source": [
        "## I. Count of the rows to estimate how many reads there are for each chromosome on plus and minus strand."
      ]
    },
    {
      "cell_type": "code",
      "metadata": {
        "id": "cPvCZJA_P2W7",
        "colab_type": "code",
        "colab": {}
      },
      "source": [
        "# Use plus pandas dataframe to count the rows of the plus strand dataframe.\n",
        "p = df_pandas_plus.set_index([\"chromosome\", \"strand\"]).count(level=\"chromosome\")"
      ],
      "execution_count": 0,
      "outputs": []
    },
    {
      "cell_type": "code",
      "metadata": {
        "id": "My3SvipOBLFo",
        "colab_type": "code",
        "colab": {}
      },
      "source": [
        "# Use minus pandas dataframe to count the rows of the minus strand dataframe.\n",
        "m = df_pandas_minus.set_index([\"chromosome\", \"strand\"]).count(level=\"chromosome\")"
      ],
      "execution_count": 0,
      "outputs": []
    },
    {
      "cell_type": "code",
      "metadata": {
        "id": "8bbL_9usoLra",
        "colab_type": "code",
        "colab": {}
      },
      "source": [
        "# Merge plus and minus pandas dataframe into one.\n",
        "dataframe_both = p.merge(m, on='chromosome', suffixes=('_plus','_minus'))"
      ],
      "execution_count": 0,
      "outputs": []
    },
    {
      "cell_type": "markdown",
      "metadata": {
        "id": "tcDgZN-gxvIu",
        "colab_type": "text"
      },
      "source": [
        "## II. Count the mean distance between chromosome reads on plus and minus strand."
      ]
    },
    {
      "cell_type": "code",
      "metadata": {
        "id": "CQ4WxVZJMN9_",
        "colab_type": "code",
        "outputId": "645d80b4-0514-4927-c5ce-b97f67be1eef",
        "colab": {
          "base_uri": "https://localhost:8080/",
          "height": 383
        }
      },
      "source": [
        "# Determine the mean value of each of the plus strand distances for each chromosome.\n",
        "import numpy as np\n",
        "df_pandas_plus.distance = df_pandas_plus.distance.astype(\"int\")\n",
        "table_plus = pd.pivot_table(df_pandas_plus,index=['chromosome','strand'],values=[\"distance\"],aggfunc=np.mean)\n",
        "table_plus.head(10)"
      ],
      "execution_count": 111,
      "outputs": [
        {
          "output_type": "execute_result",
          "data": {
            "text/html": [
              "<div>\n",
              "<style scoped>\n",
              "    .dataframe tbody tr th:only-of-type {\n",
              "        vertical-align: middle;\n",
              "    }\n",
              "\n",
              "    .dataframe tbody tr th {\n",
              "        vertical-align: top;\n",
              "    }\n",
              "\n",
              "    .dataframe thead th {\n",
              "        text-align: right;\n",
              "    }\n",
              "</style>\n",
              "<table border=\"1\" class=\"dataframe\">\n",
              "  <thead>\n",
              "    <tr style=\"text-align: right;\">\n",
              "      <th></th>\n",
              "      <th></th>\n",
              "      <th>distance</th>\n",
              "    </tr>\n",
              "    <tr>\n",
              "      <th>chromosome</th>\n",
              "      <th>strand</th>\n",
              "      <th></th>\n",
              "    </tr>\n",
              "  </thead>\n",
              "  <tbody>\n",
              "    <tr>\n",
              "      <th>chr1</th>\n",
              "      <th>+</th>\n",
              "      <td>107521.592814</td>\n",
              "    </tr>\n",
              "    <tr>\n",
              "      <th>chr10</th>\n",
              "      <th>+</th>\n",
              "      <td>34945.088889</td>\n",
              "    </tr>\n",
              "    <tr>\n",
              "      <th>chr11</th>\n",
              "      <th>+</th>\n",
              "      <td>7250.326531</td>\n",
              "    </tr>\n",
              "    <tr>\n",
              "      <th>chr12</th>\n",
              "      <th>+</th>\n",
              "      <td>24782.886364</td>\n",
              "    </tr>\n",
              "    <tr>\n",
              "      <th>chr13</th>\n",
              "      <th>+</th>\n",
              "      <td>864.916667</td>\n",
              "    </tr>\n",
              "    <tr>\n",
              "      <th>chr14</th>\n",
              "      <th>+</th>\n",
              "      <td>945.156250</td>\n",
              "    </tr>\n",
              "    <tr>\n",
              "      <th>chr15</th>\n",
              "      <th>+</th>\n",
              "      <td>5293.696970</td>\n",
              "    </tr>\n",
              "    <tr>\n",
              "      <th>chr16</th>\n",
              "      <th>+</th>\n",
              "      <td>9162.222930</td>\n",
              "    </tr>\n",
              "    <tr>\n",
              "      <th>chr17</th>\n",
              "      <th>+</th>\n",
              "      <td>54920.106061</td>\n",
              "    </tr>\n",
              "    <tr>\n",
              "      <th>chr18</th>\n",
              "      <th>+</th>\n",
              "      <td>161.200000</td>\n",
              "    </tr>\n",
              "  </tbody>\n",
              "</table>\n",
              "</div>"
            ],
            "text/plain": [
              "                        distance\n",
              "chromosome strand               \n",
              "chr1       +       107521.592814\n",
              "chr10      +        34945.088889\n",
              "chr11      +         7250.326531\n",
              "chr12      +        24782.886364\n",
              "chr13      +          864.916667\n",
              "chr14      +          945.156250\n",
              "chr15      +         5293.696970\n",
              "chr16      +         9162.222930\n",
              "chr17      +        54920.106061\n",
              "chr18      +          161.200000"
            ]
          },
          "metadata": {
            "tags": []
          },
          "execution_count": 111
        }
      ]
    },
    {
      "cell_type": "code",
      "metadata": {
        "id": "1C8nltGegdQ8",
        "colab_type": "code",
        "outputId": "7a757e79-46d7-4747-ad2d-f35485bc95c6",
        "colab": {
          "base_uri": "https://localhost:8080/",
          "height": 383
        }
      },
      "source": [
        "# Determine the mean value of each of the minus strand distances for each chromosome.\n",
        "df_pandas_minus.distance = df_pandas_minus.distance.astype(\"int\")\n",
        "table_minus = pd.pivot_table(df_pandas_minus,index=['chromosome','strand'],values=[\"distance\"],aggfunc=np.mean)\n",
        "table_minus.head(10)"
      ],
      "execution_count": 112,
      "outputs": [
        {
          "output_type": "execute_result",
          "data": {
            "text/html": [
              "<div>\n",
              "<style scoped>\n",
              "    .dataframe tbody tr th:only-of-type {\n",
              "        vertical-align: middle;\n",
              "    }\n",
              "\n",
              "    .dataframe tbody tr th {\n",
              "        vertical-align: top;\n",
              "    }\n",
              "\n",
              "    .dataframe thead th {\n",
              "        text-align: right;\n",
              "    }\n",
              "</style>\n",
              "<table border=\"1\" class=\"dataframe\">\n",
              "  <thead>\n",
              "    <tr style=\"text-align: right;\">\n",
              "      <th></th>\n",
              "      <th></th>\n",
              "      <th>distance</th>\n",
              "    </tr>\n",
              "    <tr>\n",
              "      <th>chromosome</th>\n",
              "      <th>strand</th>\n",
              "      <th></th>\n",
              "    </tr>\n",
              "  </thead>\n",
              "  <tbody>\n",
              "    <tr>\n",
              "      <th>chr1</th>\n",
              "      <th>-</th>\n",
              "      <td>110397.240964</td>\n",
              "    </tr>\n",
              "    <tr>\n",
              "      <th>chr10</th>\n",
              "      <th>-</th>\n",
              "      <td>9745.640449</td>\n",
              "    </tr>\n",
              "    <tr>\n",
              "      <th>chr11</th>\n",
              "      <th>-</th>\n",
              "      <td>35022.198020</td>\n",
              "    </tr>\n",
              "    <tr>\n",
              "      <th>chr12</th>\n",
              "      <th>-</th>\n",
              "      <td>33618.285714</td>\n",
              "    </tr>\n",
              "    <tr>\n",
              "      <th>chr13</th>\n",
              "      <th>-</th>\n",
              "      <td>18509.800000</td>\n",
              "    </tr>\n",
              "    <tr>\n",
              "      <th>chr14</th>\n",
              "      <th>-</th>\n",
              "      <td>71531.258065</td>\n",
              "    </tr>\n",
              "    <tr>\n",
              "      <th>chr14_GL000194v1_random</th>\n",
              "      <th>-</th>\n",
              "      <td>142.000000</td>\n",
              "    </tr>\n",
              "    <tr>\n",
              "      <th>chr15</th>\n",
              "      <th>-</th>\n",
              "      <td>41102.555556</td>\n",
              "    </tr>\n",
              "    <tr>\n",
              "      <th>chr16</th>\n",
              "      <th>-</th>\n",
              "      <td>2937.651822</td>\n",
              "    </tr>\n",
              "    <tr>\n",
              "      <th>chr17</th>\n",
              "      <th>-</th>\n",
              "      <td>26080.846154</td>\n",
              "    </tr>\n",
              "  </tbody>\n",
              "</table>\n",
              "</div>"
            ],
            "text/plain": [
              "                                     distance\n",
              "chromosome              strand               \n",
              "chr1                    -       110397.240964\n",
              "chr10                   -         9745.640449\n",
              "chr11                   -        35022.198020\n",
              "chr12                   -        33618.285714\n",
              "chr13                   -        18509.800000\n",
              "chr14                   -        71531.258065\n",
              "chr14_GL000194v1_random -          142.000000\n",
              "chr15                   -        41102.555556\n",
              "chr16                   -         2937.651822\n",
              "chr17                   -        26080.846154"
            ]
          },
          "metadata": {
            "tags": []
          },
          "execution_count": 112
        }
      ]
    },
    {
      "cell_type": "code",
      "metadata": {
        "id": "Vs4w9YvmxJeh",
        "colab_type": "code",
        "colab": {}
      },
      "source": [
        "# Merge plus and minus table into one.\n",
        "table_both = table_plus.merge(table_minus, on='chromosome', suffixes=('_plus','_minus'))"
      ],
      "execution_count": 0,
      "outputs": []
    },
    {
      "cell_type": "markdown",
      "metadata": {
        "id": "p0shLw900EnM",
        "colab_type": "text"
      },
      "source": [
        "## III. Merge the table with reads count and the table with mean distances."
      ]
    },
    {
      "cell_type": "code",
      "metadata": {
        "id": "RGpWnXV21ZtZ",
        "colab_type": "code",
        "outputId": "312a3faf-bad6-4c89-e3b0-acd0ffee66cd",
        "colab": {
          "base_uri": "https://localhost:8080/",
          "height": 383
        }
      },
      "source": [
        "# Merge the plus and minus reads count table together with mean distances.\n",
        "table_all_info = dataframe_both.merge(table_both, on='chromosome')\n",
        "table_all_info.columns=['+', '-', '+_avg_dist', '-_avg_dist']\n",
        "table_all_info.head(10)"
      ],
      "execution_count": 114,
      "outputs": [
        {
          "output_type": "execute_result",
          "data": {
            "text/html": [
              "<div>\n",
              "<style scoped>\n",
              "    .dataframe tbody tr th:only-of-type {\n",
              "        vertical-align: middle;\n",
              "    }\n",
              "\n",
              "    .dataframe tbody tr th {\n",
              "        vertical-align: top;\n",
              "    }\n",
              "\n",
              "    .dataframe thead th {\n",
              "        text-align: right;\n",
              "    }\n",
              "</style>\n",
              "<table border=\"1\" class=\"dataframe\">\n",
              "  <thead>\n",
              "    <tr style=\"text-align: right;\">\n",
              "      <th></th>\n",
              "      <th>+</th>\n",
              "      <th>-</th>\n",
              "      <th>+_avg_dist</th>\n",
              "      <th>-_avg_dist</th>\n",
              "    </tr>\n",
              "    <tr>\n",
              "      <th>chromosome</th>\n",
              "      <th></th>\n",
              "      <th></th>\n",
              "      <th></th>\n",
              "      <th></th>\n",
              "    </tr>\n",
              "  </thead>\n",
              "  <tbody>\n",
              "    <tr>\n",
              "      <th>chr1</th>\n",
              "      <td>167</td>\n",
              "      <td>166</td>\n",
              "      <td>107521.592814</td>\n",
              "      <td>110397.240964</td>\n",
              "    </tr>\n",
              "    <tr>\n",
              "      <th>chr10</th>\n",
              "      <td>45</td>\n",
              "      <td>89</td>\n",
              "      <td>34945.088889</td>\n",
              "      <td>9745.640449</td>\n",
              "    </tr>\n",
              "    <tr>\n",
              "      <th>chr11</th>\n",
              "      <td>196</td>\n",
              "      <td>101</td>\n",
              "      <td>7250.326531</td>\n",
              "      <td>35022.198020</td>\n",
              "    </tr>\n",
              "    <tr>\n",
              "      <th>chr12</th>\n",
              "      <td>44</td>\n",
              "      <td>42</td>\n",
              "      <td>24782.886364</td>\n",
              "      <td>33618.285714</td>\n",
              "    </tr>\n",
              "    <tr>\n",
              "      <th>chr13</th>\n",
              "      <td>36</td>\n",
              "      <td>5</td>\n",
              "      <td>864.916667</td>\n",
              "      <td>18509.800000</td>\n",
              "    </tr>\n",
              "    <tr>\n",
              "      <th>chr14</th>\n",
              "      <td>32</td>\n",
              "      <td>31</td>\n",
              "      <td>945.156250</td>\n",
              "      <td>71531.258065</td>\n",
              "    </tr>\n",
              "    <tr>\n",
              "      <th>chr15</th>\n",
              "      <td>33</td>\n",
              "      <td>27</td>\n",
              "      <td>5293.696970</td>\n",
              "      <td>41102.555556</td>\n",
              "    </tr>\n",
              "    <tr>\n",
              "      <th>chr16</th>\n",
              "      <td>314</td>\n",
              "      <td>247</td>\n",
              "      <td>9162.222930</td>\n",
              "      <td>2937.651822</td>\n",
              "    </tr>\n",
              "    <tr>\n",
              "      <th>chr17</th>\n",
              "      <td>66</td>\n",
              "      <td>91</td>\n",
              "      <td>54920.106061</td>\n",
              "      <td>26080.846154</td>\n",
              "    </tr>\n",
              "    <tr>\n",
              "      <th>chr19</th>\n",
              "      <td>456</td>\n",
              "      <td>156</td>\n",
              "      <td>1905.901316</td>\n",
              "      <td>9274.641026</td>\n",
              "    </tr>\n",
              "  </tbody>\n",
              "</table>\n",
              "</div>"
            ],
            "text/plain": [
              "              +    -     +_avg_dist     -_avg_dist\n",
              "chromosome                                        \n",
              "chr1        167  166  107521.592814  110397.240964\n",
              "chr10        45   89   34945.088889    9745.640449\n",
              "chr11       196  101    7250.326531   35022.198020\n",
              "chr12        44   42   24782.886364   33618.285714\n",
              "chr13        36    5     864.916667   18509.800000\n",
              "chr14        32   31     945.156250   71531.258065\n",
              "chr15        33   27    5293.696970   41102.555556\n",
              "chr16       314  247    9162.222930    2937.651822\n",
              "chr17        66   91   54920.106061   26080.846154\n",
              "chr19       456  156    1905.901316    9274.641026"
            ]
          },
          "metadata": {
            "tags": []
          },
          "execution_count": 114
        }
      ]
    },
    {
      "cell_type": "markdown",
      "metadata": {
        "id": "PXeX1S-GGdxn",
        "colab_type": "text"
      },
      "source": [
        "## IV. Plot the obtained data into barplot."
      ]
    },
    {
      "cell_type": "markdown",
      "metadata": {
        "id": "ilXCM2v8I3k-",
        "colab_type": "text"
      },
      "source": [
        "1) Plot the count of reads to barplot."
      ]
    },
    {
      "cell_type": "code",
      "metadata": {
        "id": "vGZA_OVy4hgn",
        "colab_type": "code",
        "outputId": "ec30871c-bf12-43dd-afea-55f1897ed64a",
        "colab": {
          "base_uri": "https://localhost:8080/",
          "height": 865
        }
      },
      "source": [
        "# Plot the plus and minus reads count into barplot.\n",
        "import seaborn as sns\n",
        "import matplotlib.pyplot as plt\n",
        "\n",
        "# Use the index chromosome to create a new column chromosome.\n",
        "table_all_info['chromosome'] = table_all_info.index\n",
        "\n",
        "# Chromosome = column used as identifier variables. Variable name is field where\n",
        "# are all of the columns except from chromosome. Value name are all the numeric\n",
        "# data.\n",
        "df = table_all_info.melt(id_vars='chromosome', var_name='field', value_name='coverage')\n",
        "\n",
        "sns.set(style=\"white\", palette=\"bright\", color_codes=True)\n",
        "\n",
        "# On x axis you put chromosome names, on y you put your numeric data - pick up\n",
        "# plus and minus column where count of reads are stored. Hue distinguishes the\n",
        "# two different fields = strands in different colors.\n",
        "sns.barplot(x='chromosome', y='coverage', data=df[df.field.isin(['+', '-'])], hue='field')\n",
        "\n",
        "# Choose a title for you plot.\n",
        "plt.suptitle(\"Number of reads per chromosome.\")\n",
        "\n",
        "# Resize the plot.\n",
        "plt.gcf().set_size_inches((25, 15))"
      ],
      "execution_count": 115,
      "outputs": [
        {
          "output_type": "display_data",
          "data": {
            "image/png": "[encoded data removed]",
            "text/plain": [
              "<Figure size 1800x1080 with 1 Axes>"
            ]
          },
          "metadata": {
            "tags": []
          }
        }
      ]
    },
    {
      "cell_type": "markdown",
      "metadata": {
        "id": "ZSMF3_iFJCpk",
        "colab_type": "text"
      },
      "source": [
        "2) Plot the average distances to barplot."
      ]
    },
    {
      "cell_type": "code",
      "metadata": {
        "id": "EdL44ZON2mRV",
        "colab_type": "code",
        "outputId": "a12c9b16-5eb5-4637-b76d-56b74b229a31",
        "colab": {
          "base_uri": "https://localhost:8080/",
          "height": 854
        }
      },
      "source": [
        "# Plot the average distances into barplot.\n",
        "import seaborn as sns\n",
        "import matplotlib.pyplot as plt\n",
        "\n",
        "# Use the index chromosome to create a new column chromosome.\n",
        "table_all_info['chromosome'] = table_all_info.index\n",
        "\n",
        "# Chromosome = column used as identifier variables. Variable name is field where\n",
        "# are all of the columns except from chromosome. Value name are all the numeric\n",
        "# data.\n",
        "df = table_all_info.melt(id_vars='chromosome', var_name='field', value_name='coverage')\n",
        "\n",
        "sns.set(style=\"white\", palette=\"bright\", color_codes=True)\n",
        "\n",
        "# On x axis you put chromosome names, on y you put your numeric data - pick up\n",
        "# plus average distance and minus average distance column where count of reads \n",
        "# are stored. Hue distinguishes the wo different fields = strands in different colors.\n",
        "sns.barplot(x='chromosome', y='coverage', data=df[df.field.isin(['+_avg_dist', '-_avg_dist'])], hue='field')\n",
        "\n",
        "# Choose a title for you plot.\n",
        "plt.suptitle(\"Number of reads per chromosome.\")\n",
        "\n",
        "# Resize the plot.\n",
        "plt.gcf().set_size_inches((25, 15))"
      ],
      "execution_count": 116,
      "outputs": [
        {
          "output_type": "display_data",
          "data": {
            "image/png": "[encoded data removed]",
            "text/plain": [
              "<Figure size 1800x1080 with 1 Axes>"
            ]
          },
          "metadata": {
            "tags": []
          }
        }
      ]
    },
    {
      "cell_type": "markdown",
      "metadata": {
        "id": "Inde4sXlJIuT",
        "colab_type": "text"
      },
      "source": [
        "# Plot the distribution of the closest distances between the randomly permutated reads."
      ]
    },
    {
      "cell_type": "markdown",
      "metadata": {
        "id": "mRCKEN_ZNvQM",
        "colab_type": "text"
      },
      "source": [
        "## I. Download the BED file. \n",
        "\n",
        "Define a function for BED file reading."
      ]
    },
    {
      "cell_type": "code",
      "metadata": {
        "colab_type": "code",
        "id": "oHhZOSxWNue6",
        "outputId": "6f093aaa-b47c-4c65-df30-5a43fd2c7f88",
        "colab": {
          "base_uri": "https://localhost:8080/"
        }
      },
      "source": [
        "# Import get and decompress functions which you will need for the BED reader function.\n",
        "from requests import get\n",
        "from gzip import decompress\n",
        "\n",
        "# Define a function that will download the compressed (gz) BED file,\n",
        "# and it will decompress it to text.\n",
        "# Helper function get_gzipped_bed_ is inside the main bed_reader function.\n",
        "def bed_reader(target_url, output_name):\n",
        "  def get_gzipped_bed_(target_url):\n",
        "    downloaded_bed = get(target_url).content\n",
        "    decompressed_bed = decompress(downloaded_bed)\n",
        "    return decompressed_bed\n",
        "  decompressed = get_gzipped_bed_(target_url)\n",
        "  bed_file_human_readable = decompressed.decode()\n",
        "  # Write bed file to new file on the disk\n",
        "  output_file = open(output_name, \"w\")\n",
        "  output_file.write(bed_file_human_readable)\n",
        "  output_file.close()\n",
        "  return output_name\n",
        "\n",
        "# Call the outer function and provide it with two arguments - url and arbitrary \n",
        "# output name.\n",
        "bed_reader(\"https://www.encodeproject.org/files/ENCFF861KMV/@@download/ENCFF861KMV.bed.gz\", \n",
        "           \"ENCFF861KMV.bed\")"
      ],
      "execution_count": 117,
      "outputs": [
        {
          "output_type": "execute_result",
          "data": {
            "text/plain": [
              "'ENCFF861KMV.bed'"
            ]
          },
          "metadata": {
            "tags": []
          },
          "execution_count": 117
        }
      ]
    },
    {
      "cell_type": "markdown",
      "metadata": {
        "id": "rQNTEP5uJM31",
        "colab_type": "text"
      },
      "source": [
        "## II. Create random permutations of features along the genome."
      ]
    },
    {
      "cell_type": "code",
      "metadata": {
        "id": "mHKTRwjVFkmg",
        "colab_type": "code",
        "colab": {}
      },
      "source": [
        "bedfile = pybedtools.bedtool.BedTool('ENCFF861KMV.bed')\n",
        "seed = 13 # Seed is arbitrary but keep always the same number for\n",
        "# the reproducibility of the experiment.\n",
        "shuffled_bedfile = bedfile.shuffle(genome='hg19', chrom=True, seed=seed)"
      ],
      "execution_count": 0,
      "outputs": []
    },
    {
      "cell_type": "markdown",
      "metadata": {
        "id": "rYqmvILcJ4sd",
        "colab_type": "text"
      },
      "source": [
        "## III. Sort the rearranged BED file."
      ]
    },
    {
      "cell_type": "code",
      "metadata": {
        "id": "xc2BDkWwH7ib",
        "colab_type": "code",
        "colab": {}
      },
      "source": [
        "shuffled_sorted = shuffled_bedfile.sort()"
      ],
      "execution_count": 0,
      "outputs": []
    },
    {
      "cell_type": "markdown",
      "metadata": {
        "id": "BsyYGQ4_OQeS",
        "colab_type": "text"
      },
      "source": [
        "## IV. Create a dictionary with the reoreded reads separated by strand."
      ]
    },
    {
      "cell_type": "code",
      "metadata": {
        "id": "Ns2g9hCoKM8A",
        "colab_type": "code",
        "colab": {}
      },
      "source": [
        "# Create an empty dictionary. \n",
        "dict_r_shuffled_pybed = {}\n",
        "# Open sorted BED file.\n",
        "with open(shuffled_sorted.fn, \"r\") as text:\n",
        "  # Read the content line by line.\n",
        "  for line in text.readlines():\n",
        "    # Define column, chrom_name, start, end, and strand.\n",
        "    column = line.strip().split(\"\\t\")\n",
        "    chrom_name = column[0]\n",
        "    start = int(column[1])\n",
        "    end = int(column[2])\n",
        "    strand = column[5]\n",
        "    # If the chromosome name exists in the dictionary already,\n",
        "    # put the strand inside without creating a new dictionary\n",
        "    # with the same chromosome name.\n",
        "    if chrom_name in dict_r_shuffled_pybed:\n",
        "      # If the dictionary strand already exists in the dictionary \n",
        "      # chromosome name, put the end/start inside without creating\n",
        "      # a new strand key.\n",
        "      if strand in dict_r_shuffled_pybed[chrom_name]:\n",
        "        # In case of the plus strand, append end coordinate to the list where \n",
        "        #the 5' end (head) occurs.\n",
        "        if strand == \"+\":\n",
        "          dict_r_shuffled_pybed[chrom_name][strand].append(start) \n",
        "        # If the strand is minus, append start to the list,\n",
        "        # the reason being that minus strand is in reversed\n",
        "        # order - start coordinate presents the 5' end (head).\n",
        "        else:\n",
        "          dict_r_shuffled_pybed[chrom_name][strand].append(end)\n",
        "      # If the strand does not yet exist in\n",
        "      # the chromosome name dictionary, it is\n",
        "      # created and a list is created inside.\n",
        "      else:\n",
        "        dict_r_shuffled_pybed[chrom_name][strand] = []\n",
        "        # To fill the new strand dictionary,\n",
        "        # you need to provide also the code for strand dictionary\n",
        "        # creation, the +/- keey, and the end/start coordinates\n",
        "        # inside the list.\n",
        "        if strand == \"+\":\n",
        "          dict_r_shuffled_pybed[chrom_name][strand].append(start) \n",
        "        else:\n",
        "          dict_r_shuffled_pybed[chrom_name][strand].append(end)\n",
        "    # If the chromosome name is not yet in the dictionary, \n",
        "    #create it.\n",
        "    else:\n",
        "      # Create a new dictionary inside the chromosome name\n",
        "      # dictionary.\n",
        "      dict_r_shuffled_pybed[chrom_name] = {}\n",
        "      # To fill the new \"chrom_name\" dictionary, you need to \n",
        "      # provide also the code for strand dictionary\n",
        "      # creation, the +/- key, and the end/start coordinates\n",
        "      # inside the list.\n",
        "      # The key of this dictionary is strand and the value\n",
        "      # is a new list.\n",
        "      dict_r_shuffled_pybed[chrom_name][strand] = []\n",
        "      # If the strand is plus, append end to the list.\n",
        "      if strand == \"+\":\n",
        "        dict_r_shuffled_pybed[chrom_name][strand].append(start) \n",
        "      # If the strand is minus, append start to the list.\n",
        "      else:\n",
        "        dict_r_shuffled_pybed[chrom_name][strand].append(end)\n",
        "\n",
        "#print(dict_r_shuffled_pybed) # Printing the dictionary with reads."
      ],
      "execution_count": 0,
      "outputs": []
    },
    {
      "cell_type": "markdown",
      "metadata": {
        "id": "hetKbW1wQDGq",
        "colab_type": "text"
      },
      "source": [
        "## V. Create a dictionary with the closest distances between the permutated reads without outliers.\n",
        "\n",
        "Note: Consider the distance between start/end coordinate and its neighbors both on the right and on the left side.\n",
        "\n",
        "For example, your coordinates are: 5, 20, 18. \n",
        "Your start coordinate position is 20, its left neighbor is 5, its right neigbor is 18.\n",
        "\n",
        "> current_start_pos - left_start_neigh \n",
        "\n",
        "> 20 - 5 = 15 = |15|\n",
        "\n",
        "> right_start_neigh - current_start_pos\n",
        "\n",
        "> 18 - 20 = -2 = |2|\n",
        "\n",
        "Absolute value of 15 is larger than absolute value of 2, therefore you will add 2 in your dictionary."
      ]
    },
    {
      "cell_type": "markdown",
      "metadata": {
        "id": "gxGsN2AbUAuj",
        "colab_type": "text"
      },
      "source": [
        "To exclude the outliers from the dictionary of distances, you need to compare the distance between the absolute value of the currently investigated number to the absolute value of the previous number. Subsequently, you need to also compare the absolute value of the currently investigated number to the absolute value of the next number. Add to the dictionary of closest distances either the previous or the next number based on whichever of the said distances is smaller."
      ]
    },
    {
      "cell_type": "code",
      "metadata": {
        "id": "y_imOfjnQEBc",
        "colab_type": "code",
        "colab": {}
      },
      "source": [
        "dict_clos_shuffled_pybed = {}\n",
        "# For each chromosome in the dictionary of distance create a chrom_name in the new\n",
        "# dictionary of the closest distances. Simultaneously, the lists for the plus\n",
        "# and for the minus strand will be created as explained above.\n",
        "for chrom_name in dict_r_shuffled_pybed:\n",
        "  dict_clos_shuffled_pybed[chrom_name] = {\"+\" : list(), \"-\" : list()}\n",
        "  for strand in dict_r_shuffled_pybed[chrom_name]:\n",
        "    if strand == \"+\":\n",
        "      try:\n",
        "        for dist_start in range(0,len(dict_r_shuffled_pybed[chrom_name][strand])):\n",
        "          # This time, you need to compare the distance between the current\n",
        "          # position and the next one with the distance between the current\n",
        "          # position and the previous one. Whichever is closer will be put\n",
        "          # to the dictionary.\n",
        "          current_start_pos = dict_r_shuffled_pybed[chrom_name][strand][dist_start]\n",
        "          right_start_neigh = dict_r_shuffled_pybed[chrom_name][strand][dist_start+1]          \n",
        "          left_start_neigh = dict_r_shuffled_pybed[chrom_name][strand][dist_start-1]    \n",
        "          dist1 = current_start_pos - left_start_neigh \n",
        "          dist1 = abs(dist1)    \n",
        "          dist2 = right_start_neigh - current_start_pos    \n",
        "          dist2 = abs(dist2)  \n",
        "          if dist1 < dist2:\n",
        "            dict_clos_shuffled_pybed[chrom_name][strand].append(left_start_neigh)\n",
        "          else:\n",
        "            dict_clos_shuffled_pybed[chrom_name][strand].append(right_start_neigh)\n",
        "      except IndexError:\n",
        "        \"null\" \n",
        "      \n",
        "    else:\n",
        "      try:\n",
        "        for dist_end in range(0,len(dict_r_shuffled_pybed[chrom_name][strand])): \n",
        "          current_end_pos = dict_r_shuffled_pybed[chrom_name][strand][dist_end]\n",
        "          right_end_neigh = dict_r_shuffled_pybed[chrom_name][strand][dist_end+1]          \n",
        "          left_end_neigh = dict_r_shuffled_pybed[chrom_name][strand][dist_end-1]    \n",
        "          dist1 = current_end_pos - left_end_neigh    \n",
        "          dist1 = abs(dist1)    \n",
        "          dist2 = right_end_neigh - current_end_pos    \n",
        "          dist2 = abs(dist2)           \n",
        "          if dist1 < dist2:\n",
        "            dict_clos_shuffled_pybed[chrom_name][strand].append(left_end_neigh)\n",
        "          else:\n",
        "            dict_clos_shuffled_pybed[chrom_name][strand].append(right_end_neigh)\n",
        "      except IndexError:\n",
        "        \"null\" \n",
        "\n",
        "# print(dict_r_shuffled_pybed) # Printing the dictionary with the distance \n",
        "# between reads.       \n",
        "#print(dict_clos_shuffled_pybed) # Printing the dictionary with the closest \n",
        "# distance between reads.   "
      ],
      "execution_count": 0,
      "outputs": []
    },
    {
      "cell_type": "markdown",
      "metadata": {
        "id": "axcz6D8pluTZ",
        "colab_type": "text"
      },
      "source": [
        "To be sure you got rid of all of the outliers, count z-score to determine the relationship of each value to the mean of a group of values. Set an arbitrary threshold to filter values that are distant from the mean."
      ]
    },
    {
      "cell_type": "code",
      "metadata": {
        "id": "bVyzl-KUeQ8h",
        "colab_type": "code",
        "outputId": "5f968282-cecf-48f6-d845-473455658422",
        "colab": {
          "base_uri": "https://localhost:8080/"
        }
      },
      "source": [
        "from scipy import stats\n",
        "import numpy as np\n",
        "\n",
        "dict_no_outliers_shuffled_pybed = {}\n",
        "\n",
        "# Only chrom_name key.\n",
        "for chrom_name in dict_clos_shuffled_pybed.keys():\n",
        "  # Plus and minus strand are manually written.\n",
        "  list_plus_input = dict_clos_shuffled_pybed[chrom_name]['+']\n",
        "  list_minus_input = dict_clos_shuffled_pybed[chrom_name]['-']\n",
        "  # get a zscore for list_plus_input\n",
        "  zscore_plus = stats.zscore(list_plus_input, ddof=0)\n",
        "  # doo the same foor minus strand\n",
        "  zscore_minus = stats.zscore(list_minus_input, ddof=0)\n",
        "\n",
        "  if len(list_plus_input) > 0:\n",
        "    for z, distance in zip(zscore_plus, list_plus_input):\n",
        "      if z < 1:\n",
        "        if chrom_name in dict_no_outliers_shuffled_pybed:\n",
        "          if \"+\" in dict_no_outliers_shuffled_pybed[chrom_name]:\n",
        "            dict_no_outliers_shuffled_pybed[chrom_name][\"+\"].append(distance)\n",
        "          \n",
        "          else:\n",
        "            dict_no_outliers_shuffled_pybed[chrom_name][\"+\"] = []\n",
        "            dict_no_outliers_shuffled_pybed[chrom_name][\"+\"].append(distance)\n",
        "\n",
        "        else:\n",
        "          dict_no_outliers_shuffled_pybed[chrom_name] = {}\n",
        "          dict_no_outliers_shuffled_pybed[chrom_name][\"+\"] = []\n",
        "          dict_no_outliers_shuffled_pybed[chrom_name][\"+\"].append(distance)\n",
        "\n",
        "  if len(list_minus_input)  > 0:\n",
        "    for z, distance in zip(zscore_minus, list_minus_input):\n",
        "      if z < 1:\n",
        "        if chrom_name in dict_no_outliers_shuffled_pybed:\n",
        "          if \"-\" in dict_no_outliers_shuffled_pybed[chrom_name]:\n",
        "            dict_no_outliers_shuffled_pybed[chrom_name][\"-\"].append(distance)\n",
        "          \n",
        "          else:\n",
        "            dict_no_outliers_shuffled_pybed[chrom_name][\"-\"] = []\n",
        "            dict_no_outliers_shuffled_pybed[chrom_name][\"-\"].append(distance)\n",
        "\n",
        "        else:\n",
        "          dict_no_outliers_shuffled_pybed[chrom_name] = {}\n",
        "          dict_no_outliers_shuffled_pybed[chrom_name][\"-\"] = []\n",
        "          dict_no_outliers_shuffled_pybed[chrom_name][\"-\"].append(distance)\n",
        "\n",
        "  # loop over the two lists and remove outliers\n",
        "  # you can also use an array\n",
        "  \n",
        "# print(dict_no_outliers_shuffled_pybed) # Printing the dictionary with no outliers."
      ],
      "execution_count": 122,
      "outputs": [
        {
          "output_type": "stream",
          "text": [
            "/usr/local/lib/python3.6/dist-packages/scipy/stats/stats.py:2416: RuntimeWarning: Mean of empty slice.\n",
            "  mns = a.mean(axis=axis, keepdims=True)\n",
            "/usr/local/lib/python3.6/dist-packages/numpy/core/_methods.py:154: RuntimeWarning: invalid value encountered in true_divide\n",
            "  ret, rcount, out=ret, casting='unsafe', subok=False)\n",
            "/usr/local/lib/python3.6/dist-packages/numpy/core/_methods.py:217: RuntimeWarning: Degrees of freedom <= 0 for slice\n",
            "  keepdims=keepdims)\n",
            "/usr/local/lib/python3.6/dist-packages/numpy/core/_methods.py:186: RuntimeWarning: invalid value encountered in true_divide\n",
            "  arrmean, rcount, out=arrmean, casting='unsafe', subok=False)\n",
            "/usr/local/lib/python3.6/dist-packages/numpy/core/_methods.py:207: RuntimeWarning: invalid value encountered in true_divide\n",
            "  ret, rcount, out=ret, casting='unsafe', subok=False)\n",
            "/usr/local/lib/python3.6/dist-packages/scipy/stats/stats.py:2419: RuntimeWarning: invalid value encountered in true_divide\n",
            "  return (a - mns) / sstd\n"
          ],
          "name": "stderr"
        }
      ]
    },
    {
      "cell_type": "markdown",
      "metadata": {
        "id": "JEVASbPMnfRw",
        "colab_type": "text"
      },
      "source": [
        "To compare the graphs before applying z-score filtering and afterwards. You can see that graph after the filtering are rid of outlying values."
      ]
    },
    {
      "cell_type": "code",
      "metadata": {
        "id": "72NNwQ9RgNEI",
        "colab_type": "code",
        "outputId": "dc5b42b7-9dbe-4834-ab35-fa2bf45e7d9f",
        "colab": {
          "base_uri": "https://localhost:8080/",
          "height": 307
        }
      },
      "source": [
        "import seaborn as sns\n",
        "sns.distplot(a=dict_clos_shuffled_pybed[chrom_name][\"+\"])"
      ],
      "execution_count": 123,
      "outputs": [
        {
          "output_type": "execute_result",
          "data": {
            "text/plain": [
              "<matplotlib.axes._subplots.AxesSubplot at 0x7f5cb897c978>"
            ]
          },
          "metadata": {
            "tags": []
          },
          "execution_count": 123
        },
        {
          "output_type": "display_data",
          "data": {
            "image/png": "[encoded data removed]",
            "text/plain": [
              "<Figure size 432x288 with 1 Axes>"
            ]
          },
          "metadata": {
            "tags": []
          }
        }
      ]
    },
    {
      "cell_type": "code",
      "metadata": {
        "id": "CoGZsQTcf4d8",
        "colab_type": "code",
        "outputId": "e708b555-7d45-47c9-e2dd-901b27cf3543",
        "colab": {
          "base_uri": "https://localhost:8080/",
          "height": 307
        }
      },
      "source": [
        "import seaborn as sns\n",
        "sns.distplot(a=dict_no_outliers_shuffled_pybed[chrom_name][\"+\"])"
      ],
      "execution_count": 124,
      "outputs": [
        {
          "output_type": "execute_result",
          "data": {
            "text/plain": [
              "<matplotlib.axes._subplots.AxesSubplot at 0x7f5cb88aa2b0>"
            ]
          },
          "metadata": {
            "tags": []
          },
          "execution_count": 124
        },
        {
          "output_type": "display_data",
          "data": {
            "image/png": "[encoded data removed]",
            "text/plain": [
              "<Figure size 432x288 with 1 Axes>"
            ]
          },
          "metadata": {
            "tags": []
          }
        }
      ]
    },
    {
      "cell_type": "code",
      "metadata": {
        "id": "eSInIdvagJS5",
        "colab_type": "code",
        "outputId": "6420cfa1-8a97-4dde-d9a0-e098bba4fe63",
        "colab": {
          "base_uri": "https://localhost:8080/",
          "height": 307
        }
      },
      "source": [
        "import seaborn as sns\n",
        "sns.distplot(a=dict_clos_shuffled_pybed[chrom_name][\"-\"])"
      ],
      "execution_count": 125,
      "outputs": [
        {
          "output_type": "execute_result",
          "data": {
            "text/plain": [
              "<matplotlib.axes._subplots.AxesSubplot at 0x7f5cb893ea58>"
            ]
          },
          "metadata": {
            "tags": []
          },
          "execution_count": 125
        },
        {
          "output_type": "display_data",
          "data": {
            "image/png": "[encoded data removed]",
            "text/plain": [
              "<Figure size 432x288 with 1 Axes>"
            ]
          },
          "metadata": {
            "tags": []
          }
        }
      ]
    },
    {
      "cell_type": "code",
      "metadata": {
        "id": "EDuQRkVFgZFv",
        "colab_type": "code",
        "outputId": "f34d1562-9344-4fe5-aa09-a5826bfbdba0",
        "colab": {
          "base_uri": "https://localhost:8080/",
          "height": 307
        }
      },
      "source": [
        "import seaborn as sns\n",
        "sns.distplot(a=dict_no_outliers_shuffled_pybed[chrom_name][\"-\"])"
      ],
      "execution_count": 126,
      "outputs": [
        {
          "output_type": "execute_result",
          "data": {
            "text/plain": [
              "<matplotlib.axes._subplots.AxesSubplot at 0x7f5cb897c358>"
            ]
          },
          "metadata": {
            "tags": []
          },
          "execution_count": 126
        },
        {
          "output_type": "display_data",
          "data": {
            "image/png": "[encoded data removed]",
            "text/plain": [
              "<Figure size 432x288 with 1 Axes>"
            ]
          },
          "metadata": {
            "tags": []
          }
        }
      ]
    },
    {
      "cell_type": "markdown",
      "metadata": {
        "id": "ryE2zvhtQxqH",
        "colab_type": "text"
      },
      "source": [
        "## VI. Plot the distribution of the closest head to head distance without outliers between the permutated reads."
      ]
    },
    {
      "cell_type": "markdown",
      "metadata": {
        "id": "79Y-ZSUvRAHn",
        "colab_type": "text"
      },
      "source": [
        "1) To plot the data from the dictionary, you need to convert the dictionary into\n",
        "dataframe. "
      ]
    },
    {
      "cell_type": "code",
      "metadata": {
        "id": "hHklUu_6RQYf",
        "colab_type": "code",
        "outputId": "494aad7d-9f82-4802-865f-25c9102d1ea1",
        "colab": {
          "base_uri": "https://localhost:8080/"
        }
      },
      "source": [
        "import pandas as pd\n",
        "\n",
        "# Create an empty list.\n",
        "list_pybed_shuffled_plus = list()\n",
        "list_pybed_shuffled_min = list()\n",
        "# Loop over the chromosome names in the dictionary. \n",
        "for chrom_name in dict_no_outliers_shuffled_pybed:\n",
        "  # Create a temporary dictionary with the strands.\n",
        "  dict_no_outliers_pybed_shuffled_tmp = dict_no_outliers_shuffled_pybed[chrom_name]\n",
        "  # Loop over strands in the temporary dictionary.\n",
        "  for strand in dict_no_outliers_pybed_shuffled_tmp:\n",
        "    if strand == \"+\":\n",
        "    # Define the distance.\n",
        "      distance = dict_no_outliers_pybed_shuffled_tmp[strand]\n",
        "    # Create a pandas daraframe with following columns:\n",
        "    # distance, strand, and chromosome. \n",
        "      dict_pybed_shuffled_plus = pd.DataFrame(distance, columns=[\"distance\"])\n",
        "      dict_pybed_shuffled_plus[\"strand\"] = strand\n",
        "      dict_pybed_shuffled_plus[\"chromosome\"] = chrom_name\n",
        "    # Append all of the dataframes from the temporary dictionary\n",
        "    # to the list.\n",
        "      list_pybed_shuffled_plus.append(dict_pybed_shuffled_plus)\n",
        "    else:\n",
        "      distance = dict_no_outliers_pybed_shuffled_tmp[strand]\n",
        "    # Create a pandas daraframe with following columns:\n",
        "    # distance, strand, and chromosome. \n",
        "      dict_pybed_shuffled_min = pd.DataFrame(distance, columns=[\"distance\"])\n",
        "      dict_pybed_shuffled_min[\"strand\"] = strand \n",
        "      dict_pybed_shuffled_min[\"chromosome\"] = chrom_name\n",
        "    # Append all of the dataframes from the temporary dictionary\n",
        "    # to the list.\n",
        "      list_pybed_shuffled_min.append(dict_pybed_shuffled_min)\n",
        "\n",
        "# You need to concatenate the list of dataframes into a new dataframe.    \n",
        "df_pybed_shuffled_plus = pd.concat(list_pybed_shuffled_plus)\n",
        "df_pybed_shuffled_minus = pd.concat(list_pybed_shuffled_min)\n",
        "print(df_pybed_shuffled_plus)\n",
        "print(df_pybed_shuffled_minus)\n",
        "# Each column is a Pandas series."
      ],
      "execution_count": 127,
      "outputs": [
        {
          "output_type": "stream",
          "text": [
            "     distance strand chromosome\n",
            "0     2251261      +       chr1\n",
            "1     2569643      +       chr1\n",
            "2     2251261      +       chr1\n",
            "3     2569643      +       chr1\n",
            "4     5507698      +       chr1\n",
            "..        ...    ...        ...\n",
            "21  112302345      +       chrX\n",
            "22  113377384      +       chrX\n",
            "23  113792181      +       chrX\n",
            "24  113377384      +       chrX\n",
            "25  113792181      +       chrX\n",
            "\n",
            "[1835 rows x 3 columns]\n",
            "     distance strand chromosome\n",
            "0     2113408      -       chr1\n",
            "1     1714028      -       chr1\n",
            "2     4043660      -       chr1\n",
            "3     3382526      -       chr1\n",
            "4     6596442      -       chr1\n",
            "..        ...    ...        ...\n",
            "28  119615477      -       chrX\n",
            "29  119242630      -       chrX\n",
            "30  119615477      -       chrX\n",
            "31  124675039      -       chrX\n",
            "32  124403579      -       chrX\n",
            "\n",
            "[1655 rows x 3 columns]\n"
          ],
          "name": "stdout"
        }
      ]
    },
    {
      "cell_type": "markdown",
      "metadata": {
        "id": "NcAiLeYuDXMW",
        "colab_type": "text"
      },
      "source": [
        "2) Plot barplot with the distribution of the closest distances."
      ]
    },
    {
      "cell_type": "code",
      "metadata": {
        "id": "QtHrMy018Aq7",
        "colab_type": "code",
        "outputId": "ee59b598-c58a-465d-adc1-1b6ce449a0bc",
        "colab": {
          "base_uri": "https://localhost:8080/",
          "height": 1000
        }
      },
      "source": [
        "# Concatenate both dataframes into one.\n",
        "df_pybed_shuffled_both = pd.concat( [df_pybed_shuffled_plus, df_pybed_shuffled_minus] )\n",
        "\n",
        "sns.set(style=\"white\", palette=\"bright\", color_codes=True)\n",
        "\n",
        "# Hue is parameter to distinguish different set of values with different colors.\n",
        "# In your case, you distinguish plus and minus strand.\n",
        "chart = sns.barplot(\n",
        "      x='chromosome', y='distance', data=df_pybed_shuffled_both, hue='strand')\n",
        "\n",
        "# You want to rotate the label by 90 degrees to fit them nicely under the plot.\n",
        "chart.set_xticklabels(chart.get_xticklabels(), rotation=90, horizontalalignment='right')\n",
        "\n",
        "# Choose the title for the plot.\n",
        "plt.suptitle(\"Distribution of the closest distances per chromosome.\")\n",
        " \n",
        "# Set the size of your plot.\n",
        "plt.gcf().set_size_inches((20, 15))"
      ],
      "execution_count": 128,
      "outputs": [
        {
          "output_type": "display_data",
          "data": {
            "image/png": "[encoded data removed]",
            "text/plain": [
              "<Figure size 1440x1080 with 1 Axes>"
            ]
          },
          "metadata": {
            "tags": []
          }
        }
      ]
    },
    {
      "cell_type": "markdown",
      "metadata": {
        "id": "Vdkl5EyGLB-L",
        "colab_type": "text"
      },
      "source": [
        "# To decipher the inequality between the plus and minus strand graphs of the permutated reads, you need to:"
      ]
    },
    {
      "cell_type": "markdown",
      "metadata": {
        "id": "ulPn2mX0_x2N",
        "colab_type": "text"
      },
      "source": [
        "##I. Count of the rows to estimate how many reordered reads there are for each chromosome on plus and minus strand."
      ]
    },
    {
      "cell_type": "code",
      "metadata": {
        "id": "Wl9kElFvAPKt",
        "colab_type": "code",
        "colab": {}
      },
      "source": [
        "# Count the rows of the plus strand dataframe.\n",
        "p_shuffled = df_pybed_shuffled_plus.set_index([\"chromosome\", \"strand\"]).count(level=\"chromosome\")"
      ],
      "execution_count": 0,
      "outputs": []
    },
    {
      "cell_type": "code",
      "metadata": {
        "id": "Dav9TY0pCpig",
        "colab_type": "code",
        "colab": {}
      },
      "source": [
        "# Count the rows of the minus strand dataframe.\n",
        "m_shuffled = df_pybed_shuffled_minus.set_index([\"chromosome\", \"strand\"]).count(level=\"chromosome\")"
      ],
      "execution_count": 0,
      "outputs": []
    },
    {
      "cell_type": "code",
      "metadata": {
        "id": "tven4pctD7Gc",
        "colab_type": "code",
        "colab": {}
      },
      "source": [
        "# Merge plus and minus strand dataframe together.\n",
        "dataframe_shuffled_both = p_shuffled.merge(m_shuffled, on='chromosome', suffixes=('_plus','_minus'))"
      ],
      "execution_count": 0,
      "outputs": []
    },
    {
      "cell_type": "markdown",
      "metadata": {
        "id": "X_oYa6VwFyZp",
        "colab_type": "text"
      },
      "source": [
        "## II. Count the mean distance between rearranged reads on plus and minus strand."
      ]
    },
    {
      "cell_type": "code",
      "metadata": {
        "id": "At4iM6lEF5wo",
        "colab_type": "code",
        "outputId": "8fb60104-ccd8-42eb-d208-686838d38dff",
        "colab": {
          "base_uri": "https://localhost:8080/",
          "height": 383
        }
      },
      "source": [
        "# Determine the mean value of each of the plus strand distances for each chromosome.\n",
        "df_pybed_shuffled_plus.distance = df_pybed_shuffled_plus.distance.astype('int')\n",
        "table_shuffled_plus = pd.pivot_table(df_pybed_shuffled_plus,index=['chromosome','strand'],values=[\"distance\"],aggfunc=np.mean)\n",
        "table_shuffled_plus.head(10)"
      ],
      "execution_count": 132,
      "outputs": [
        {
          "output_type": "execute_result",
          "data": {
            "text/html": [
              "<div>\n",
              "<style scoped>\n",
              "    .dataframe tbody tr th:only-of-type {\n",
              "        vertical-align: middle;\n",
              "    }\n",
              "\n",
              "    .dataframe tbody tr th {\n",
              "        vertical-align: top;\n",
              "    }\n",
              "\n",
              "    .dataframe thead th {\n",
              "        text-align: right;\n",
              "    }\n",
              "</style>\n",
              "<table border=\"1\" class=\"dataframe\">\n",
              "  <thead>\n",
              "    <tr style=\"text-align: right;\">\n",
              "      <th></th>\n",
              "      <th></th>\n",
              "      <th>distance</th>\n",
              "    </tr>\n",
              "    <tr>\n",
              "      <th>chromosome</th>\n",
              "      <th>strand</th>\n",
              "      <th></th>\n",
              "    </tr>\n",
              "  </thead>\n",
              "  <tbody>\n",
              "    <tr>\n",
              "      <th>chr1</th>\n",
              "      <th>+</th>\n",
              "      <td>8.514636e+07</td>\n",
              "    </tr>\n",
              "    <tr>\n",
              "      <th>chr10</th>\n",
              "      <th>+</th>\n",
              "      <td>6.321072e+07</td>\n",
              "    </tr>\n",
              "    <tr>\n",
              "      <th>chr11</th>\n",
              "      <th>+</th>\n",
              "      <td>5.481993e+07</td>\n",
              "    </tr>\n",
              "    <tr>\n",
              "      <th>chr12</th>\n",
              "      <th>+</th>\n",
              "      <td>4.521403e+07</td>\n",
              "    </tr>\n",
              "    <tr>\n",
              "      <th>chr13</th>\n",
              "      <th>+</th>\n",
              "      <td>4.264713e+07</td>\n",
              "    </tr>\n",
              "    <tr>\n",
              "      <th>chr14</th>\n",
              "      <th>+</th>\n",
              "      <td>3.822471e+07</td>\n",
              "    </tr>\n",
              "    <tr>\n",
              "      <th>chr15</th>\n",
              "      <th>+</th>\n",
              "      <td>3.681190e+07</td>\n",
              "    </tr>\n",
              "    <tr>\n",
              "      <th>chr16</th>\n",
              "      <th>+</th>\n",
              "      <td>3.677141e+07</td>\n",
              "    </tr>\n",
              "    <tr>\n",
              "      <th>chr17</th>\n",
              "      <th>+</th>\n",
              "      <td>3.006108e+07</td>\n",
              "    </tr>\n",
              "    <tr>\n",
              "      <th>chr18</th>\n",
              "      <th>+</th>\n",
              "      <td>3.909459e+07</td>\n",
              "    </tr>\n",
              "  </tbody>\n",
              "</table>\n",
              "</div>"
            ],
            "text/plain": [
              "                       distance\n",
              "chromosome strand              \n",
              "chr1       +       8.514636e+07\n",
              "chr10      +       6.321072e+07\n",
              "chr11      +       5.481993e+07\n",
              "chr12      +       4.521403e+07\n",
              "chr13      +       4.264713e+07\n",
              "chr14      +       3.822471e+07\n",
              "chr15      +       3.681190e+07\n",
              "chr16      +       3.677141e+07\n",
              "chr17      +       3.006108e+07\n",
              "chr18      +       3.909459e+07"
            ]
          },
          "metadata": {
            "tags": []
          },
          "execution_count": 132
        }
      ]
    },
    {
      "cell_type": "code",
      "metadata": {
        "id": "3f0-aY_VGAY-",
        "colab_type": "code",
        "outputId": "faa1a11e-f0a9-43d9-995d-d8964a806166",
        "colab": {
          "base_uri": "https://localhost:8080/",
          "height": 383
        }
      },
      "source": [
        "# Determine the mean value of each of the minus strand distances for each chromosome.\n",
        "df_pybed_shuffled_minus.distance = df_pybed_shuffled_minus.distance.astype('int')\n",
        "table_shuffled_minus = pd.pivot_table(df_pybed_shuffled_minus,index=['chromosome','strand'],values=[\"distance\"],aggfunc=np.mean)\n",
        "table_shuffled_minus.head(10)"
      ],
      "execution_count": 133,
      "outputs": [
        {
          "output_type": "execute_result",
          "data": {
            "text/html": [
              "<div>\n",
              "<style scoped>\n",
              "    .dataframe tbody tr th:only-of-type {\n",
              "        vertical-align: middle;\n",
              "    }\n",
              "\n",
              "    .dataframe tbody tr th {\n",
              "        vertical-align: top;\n",
              "    }\n",
              "\n",
              "    .dataframe thead th {\n",
              "        text-align: right;\n",
              "    }\n",
              "</style>\n",
              "<table border=\"1\" class=\"dataframe\">\n",
              "  <thead>\n",
              "    <tr style=\"text-align: right;\">\n",
              "      <th></th>\n",
              "      <th></th>\n",
              "      <th>distance</th>\n",
              "    </tr>\n",
              "    <tr>\n",
              "      <th>chromosome</th>\n",
              "      <th>strand</th>\n",
              "      <th></th>\n",
              "    </tr>\n",
              "  </thead>\n",
              "  <tbody>\n",
              "    <tr>\n",
              "      <th>chr1</th>\n",
              "      <th>-</th>\n",
              "      <td>9.689235e+07</td>\n",
              "    </tr>\n",
              "    <tr>\n",
              "      <th>chr10</th>\n",
              "      <th>-</th>\n",
              "      <td>5.832688e+07</td>\n",
              "    </tr>\n",
              "    <tr>\n",
              "      <th>chr11</th>\n",
              "      <th>-</th>\n",
              "      <td>5.230203e+07</td>\n",
              "    </tr>\n",
              "    <tr>\n",
              "      <th>chr12</th>\n",
              "      <th>-</th>\n",
              "      <td>4.835464e+07</td>\n",
              "    </tr>\n",
              "    <tr>\n",
              "      <th>chr13</th>\n",
              "      <th>-</th>\n",
              "      <td>3.764703e+07</td>\n",
              "    </tr>\n",
              "    <tr>\n",
              "      <th>chr14</th>\n",
              "      <th>-</th>\n",
              "      <td>4.064132e+07</td>\n",
              "    </tr>\n",
              "    <tr>\n",
              "      <th>chr14_GL000194v1_random</th>\n",
              "      <th>-</th>\n",
              "      <td>1.622526e+08</td>\n",
              "    </tr>\n",
              "    <tr>\n",
              "      <th>chr15</th>\n",
              "      <th>-</th>\n",
              "      <td>4.887560e+07</td>\n",
              "    </tr>\n",
              "    <tr>\n",
              "      <th>chr16</th>\n",
              "      <th>-</th>\n",
              "      <td>3.303153e+07</td>\n",
              "    </tr>\n",
              "    <tr>\n",
              "      <th>chr17</th>\n",
              "      <th>-</th>\n",
              "      <td>2.930656e+07</td>\n",
              "    </tr>\n",
              "  </tbody>\n",
              "</table>\n",
              "</div>"
            ],
            "text/plain": [
              "                                    distance\n",
              "chromosome              strand              \n",
              "chr1                    -       9.689235e+07\n",
              "chr10                   -       5.832688e+07\n",
              "chr11                   -       5.230203e+07\n",
              "chr12                   -       4.835464e+07\n",
              "chr13                   -       3.764703e+07\n",
              "chr14                   -       4.064132e+07\n",
              "chr14_GL000194v1_random -       1.622526e+08\n",
              "chr15                   -       4.887560e+07\n",
              "chr16                   -       3.303153e+07\n",
              "chr17                   -       2.930656e+07"
            ]
          },
          "metadata": {
            "tags": []
          },
          "execution_count": 133
        }
      ]
    },
    {
      "cell_type": "code",
      "metadata": {
        "id": "7td9iAaVGYAC",
        "colab_type": "code",
        "outputId": "e1d7def1-4c38-4f77-b95e-6723d3db1443",
        "colab": {
          "base_uri": "https://localhost:8080/",
          "height": 383
        }
      },
      "source": [
        "# Merge the plus and minus table with mean distances together.\n",
        "table_shuffled_both = table_shuffled_plus.merge(table_shuffled_minus, on='chromosome', suffixes=('_plus','_minus'))\n",
        "table_shuffled_both.head(10)"
      ],
      "execution_count": 134,
      "outputs": [
        {
          "output_type": "execute_result",
          "data": {
            "text/html": [
              "<div>\n",
              "<style scoped>\n",
              "    .dataframe tbody tr th:only-of-type {\n",
              "        vertical-align: middle;\n",
              "    }\n",
              "\n",
              "    .dataframe tbody tr th {\n",
              "        vertical-align: top;\n",
              "    }\n",
              "\n",
              "    .dataframe thead th {\n",
              "        text-align: right;\n",
              "    }\n",
              "</style>\n",
              "<table border=\"1\" class=\"dataframe\">\n",
              "  <thead>\n",
              "    <tr style=\"text-align: right;\">\n",
              "      <th></th>\n",
              "      <th>distance_plus</th>\n",
              "      <th>distance_minus</th>\n",
              "    </tr>\n",
              "    <tr>\n",
              "      <th>chromosome</th>\n",
              "      <th></th>\n",
              "      <th></th>\n",
              "    </tr>\n",
              "  </thead>\n",
              "  <tbody>\n",
              "    <tr>\n",
              "      <th>chr1</th>\n",
              "      <td>8.514636e+07</td>\n",
              "      <td>9.689235e+07</td>\n",
              "    </tr>\n",
              "    <tr>\n",
              "      <th>chr10</th>\n",
              "      <td>6.321072e+07</td>\n",
              "      <td>5.832688e+07</td>\n",
              "    </tr>\n",
              "    <tr>\n",
              "      <th>chr11</th>\n",
              "      <td>5.481993e+07</td>\n",
              "      <td>5.230203e+07</td>\n",
              "    </tr>\n",
              "    <tr>\n",
              "      <th>chr12</th>\n",
              "      <td>4.521403e+07</td>\n",
              "      <td>4.835464e+07</td>\n",
              "    </tr>\n",
              "    <tr>\n",
              "      <th>chr13</th>\n",
              "      <td>4.264713e+07</td>\n",
              "      <td>3.764703e+07</td>\n",
              "    </tr>\n",
              "    <tr>\n",
              "      <th>chr14</th>\n",
              "      <td>3.822471e+07</td>\n",
              "      <td>4.064132e+07</td>\n",
              "    </tr>\n",
              "    <tr>\n",
              "      <th>chr15</th>\n",
              "      <td>3.681190e+07</td>\n",
              "      <td>4.887560e+07</td>\n",
              "    </tr>\n",
              "    <tr>\n",
              "      <th>chr16</th>\n",
              "      <td>3.677141e+07</td>\n",
              "      <td>3.303153e+07</td>\n",
              "    </tr>\n",
              "    <tr>\n",
              "      <th>chr17</th>\n",
              "      <td>3.006108e+07</td>\n",
              "      <td>2.930656e+07</td>\n",
              "    </tr>\n",
              "    <tr>\n",
              "      <th>chr18</th>\n",
              "      <td>3.909459e+07</td>\n",
              "      <td>5.064077e+07</td>\n",
              "    </tr>\n",
              "  </tbody>\n",
              "</table>\n",
              "</div>"
            ],
            "text/plain": [
              "            distance_plus  distance_minus\n",
              "chromosome                               \n",
              "chr1         8.514636e+07    9.689235e+07\n",
              "chr10        6.321072e+07    5.832688e+07\n",
              "chr11        5.481993e+07    5.230203e+07\n",
              "chr12        4.521403e+07    4.835464e+07\n",
              "chr13        4.264713e+07    3.764703e+07\n",
              "chr14        3.822471e+07    4.064132e+07\n",
              "chr15        3.681190e+07    4.887560e+07\n",
              "chr16        3.677141e+07    3.303153e+07\n",
              "chr17        3.006108e+07    2.930656e+07\n",
              "chr18        3.909459e+07    5.064077e+07"
            ]
          },
          "metadata": {
            "tags": []
          },
          "execution_count": 134
        }
      ]
    },
    {
      "cell_type": "markdown",
      "metadata": {
        "id": "yejKNwM3GjB0",
        "colab_type": "text"
      },
      "source": [
        "## III. Merge the table with rearranged reads count and the table with mean distances."
      ]
    },
    {
      "cell_type": "code",
      "metadata": {
        "id": "7x88XhyTGjcP",
        "colab_type": "code",
        "outputId": "4b80e4b9-88e9-44d5-d983-b228321ba07a",
        "colab": {
          "base_uri": "https://localhost:8080/",
          "height": 383
        }
      },
      "source": [
        "# Merge the plus and minus reads count table together with mean distances.\n",
        "table_shuffled_all_info = dataframe_shuffled_both.merge(table_shuffled_both, on='chromosome', suffixes=(' ',''))\n",
        "table_shuffled_all_info.columns=['+', '-', '+_avg_dist', '-_avg_dist']\n",
        "table_shuffled_all_info.head(10)"
      ],
      "execution_count": 135,
      "outputs": [
        {
          "output_type": "execute_result",
          "data": {
            "text/html": [
              "<div>\n",
              "<style scoped>\n",
              "    .dataframe tbody tr th:only-of-type {\n",
              "        vertical-align: middle;\n",
              "    }\n",
              "\n",
              "    .dataframe tbody tr th {\n",
              "        vertical-align: top;\n",
              "    }\n",
              "\n",
              "    .dataframe thead th {\n",
              "        text-align: right;\n",
              "    }\n",
              "</style>\n",
              "<table border=\"1\" class=\"dataframe\">\n",
              "  <thead>\n",
              "    <tr style=\"text-align: right;\">\n",
              "      <th></th>\n",
              "      <th>+</th>\n",
              "      <th>-</th>\n",
              "      <th>+_avg_dist</th>\n",
              "      <th>-_avg_dist</th>\n",
              "    </tr>\n",
              "    <tr>\n",
              "      <th>chromosome</th>\n",
              "      <th></th>\n",
              "      <th></th>\n",
              "      <th></th>\n",
              "      <th></th>\n",
              "    </tr>\n",
              "  </thead>\n",
              "  <tbody>\n",
              "    <tr>\n",
              "      <th>chr1</th>\n",
              "      <td>137</td>\n",
              "      <td>136</td>\n",
              "      <td>8.514636e+07</td>\n",
              "      <td>9.689235e+07</td>\n",
              "    </tr>\n",
              "    <tr>\n",
              "      <th>chr10</th>\n",
              "      <td>39</td>\n",
              "      <td>73</td>\n",
              "      <td>6.321072e+07</td>\n",
              "      <td>5.832688e+07</td>\n",
              "    </tr>\n",
              "    <tr>\n",
              "      <th>chr11</th>\n",
              "      <td>156</td>\n",
              "      <td>83</td>\n",
              "      <td>5.481993e+07</td>\n",
              "      <td>5.230203e+07</td>\n",
              "    </tr>\n",
              "    <tr>\n",
              "      <th>chr12</th>\n",
              "      <td>36</td>\n",
              "      <td>36</td>\n",
              "      <td>4.521403e+07</td>\n",
              "      <td>4.835464e+07</td>\n",
              "    </tr>\n",
              "    <tr>\n",
              "      <th>chr13</th>\n",
              "      <td>29</td>\n",
              "      <td>5</td>\n",
              "      <td>4.264713e+07</td>\n",
              "      <td>3.764703e+07</td>\n",
              "    </tr>\n",
              "    <tr>\n",
              "      <th>chr14</th>\n",
              "      <td>25</td>\n",
              "      <td>26</td>\n",
              "      <td>3.822471e+07</td>\n",
              "      <td>4.064132e+07</td>\n",
              "    </tr>\n",
              "    <tr>\n",
              "      <th>chr15</th>\n",
              "      <td>29</td>\n",
              "      <td>27</td>\n",
              "      <td>3.681190e+07</td>\n",
              "      <td>4.887560e+07</td>\n",
              "    </tr>\n",
              "    <tr>\n",
              "      <th>chr16</th>\n",
              "      <td>257</td>\n",
              "      <td>196</td>\n",
              "      <td>3.677141e+07</td>\n",
              "      <td>3.303153e+07</td>\n",
              "    </tr>\n",
              "    <tr>\n",
              "      <th>chr17</th>\n",
              "      <td>53</td>\n",
              "      <td>79</td>\n",
              "      <td>3.006108e+07</td>\n",
              "      <td>2.930656e+07</td>\n",
              "    </tr>\n",
              "    <tr>\n",
              "      <th>chr18</th>\n",
              "      <td>6</td>\n",
              "      <td>2</td>\n",
              "      <td>3.909459e+07</td>\n",
              "      <td>5.064077e+07</td>\n",
              "    </tr>\n",
              "  </tbody>\n",
              "</table>\n",
              "</div>"
            ],
            "text/plain": [
              "              +    -    +_avg_dist    -_avg_dist\n",
              "chromosome                                      \n",
              "chr1        137  136  8.514636e+07  9.689235e+07\n",
              "chr10        39   73  6.321072e+07  5.832688e+07\n",
              "chr11       156   83  5.481993e+07  5.230203e+07\n",
              "chr12        36   36  4.521403e+07  4.835464e+07\n",
              "chr13        29    5  4.264713e+07  3.764703e+07\n",
              "chr14        25   26  3.822471e+07  4.064132e+07\n",
              "chr15        29   27  3.681190e+07  4.887560e+07\n",
              "chr16       257  196  3.677141e+07  3.303153e+07\n",
              "chr17        53   79  3.006108e+07  2.930656e+07\n",
              "chr18         6    2  3.909459e+07  5.064077e+07"
            ]
          },
          "metadata": {
            "tags": []
          },
          "execution_count": 135
        }
      ]
    },
    {
      "cell_type": "markdown",
      "metadata": {
        "id": "MggK2dsQFMkX",
        "colab_type": "text"
      },
      "source": [
        "## IV. Plot the obtained data of the permutated reads into barplot."
      ]
    },
    {
      "cell_type": "markdown",
      "metadata": {
        "id": "CtRrWbMQJjAe",
        "colab_type": "text"
      },
      "source": [
        "1) Plot the count of reads to barplot."
      ]
    },
    {
      "cell_type": "code",
      "metadata": {
        "id": "6OKStGN0--BE",
        "colab_type": "code",
        "outputId": "e98dc715-ad17-4e88-b5cb-d3981bb00b87",
        "colab": {
          "base_uri": "https://localhost:8080/",
          "height": 865
        }
      },
      "source": [
        "# Plot the plus and minus reads count table into barplot.\n",
        "import seaborn as sns\n",
        "import matplotlib.pyplot as plt\n",
        "\n",
        "# Use the index chromosome to create a new column chromosome.\n",
        "table_shuffled_all_info['chromosome'] = table_shuffled_all_info.index\n",
        "\n",
        "# Chromosome = column used as identifier variables. Variable name is field where\n",
        "# are all of the columns except from chromosome. Value name are all the numeric\n",
        "# data.\n",
        "df = table_shuffled_all_info.melt(id_vars='chromosome', var_name='field', value_name='coverage')\n",
        "\n",
        "sns.set(style=\"white\", palette=\"bright\", color_codes=True)\n",
        "\n",
        "# On x axis you put chromosome names, on y you put your numeric data - pick up\n",
        "# plus and minus column where count of reads are stored. Hue distinguishes the\n",
        "# two different fields = strands in different colors.\n",
        "sns.barplot(x='chromosome', y='coverage', data=df[df.field.isin(['+', '-'])], hue='field')\n",
        "\n",
        "# Choose a title for you plot.\n",
        "plt.suptitle(\"Number of reads per chromosome.\")\n",
        "\n",
        "# Resize the plot.\n",
        "plt.gcf().set_size_inches((25, 15))"
      ],
      "execution_count": 136,
      "outputs": [
        {
          "output_type": "display_data",
          "data": {
            "image/png": "[encoded data removed]",
            "text/plain": [
              "<Figure size 1800x1080 with 1 Axes>"
            ]
          },
          "metadata": {
            "tags": []
          }
        }
      ]
    },
    {
      "cell_type": "markdown",
      "metadata": {
        "id": "TlN0lnZAJnNl",
        "colab_type": "text"
      },
      "source": [
        "2) Plot the average distances to barplot."
      ]
    },
    {
      "cell_type": "code",
      "metadata": {
        "id": "-1LWqST2AL0G",
        "colab_type": "code",
        "colab": {
          "base_uri": "https://localhost:8080/",
          "height": 868
        },
        "outputId": "a1057b4e-300c-42d9-88cc-6c9e9b4662e5"
      },
      "source": [
        "# Plot the average distances into barplot.\n",
        "import seaborn as sns\n",
        "import matplotlib.pyplot as plt\n",
        "\n",
        "# Use the index chromosome to create a new column chromosome.\n",
        "table_shuffled_all_info['chromosome'] = table_shuffled_all_info.index\n",
        "\n",
        "# Chromosome = column used as identifier variables. Variable name is field where\n",
        "# are all of the columns except from chromosome. Value name are all the numeric\n",
        "# data.\n",
        "df = table_shuffled_all_info.melt(id_vars='chromosome', var_name='field', value_name='coverage')\n",
        "sns.set(style=\"white\", palette=\"bright\", color_codes=True)\n",
        "\n",
        "# On x axis you put chromosome names, on y you put your numeric data - pick up\n",
        "# plus and minus column where count of reads are stored. Hue distinguishes the\n",
        "# two different fields = strands in different colors.\n",
        "sns.barplot(x='chromosome', y='coverage', data=df[df.field.isin(['+_avg_dist', '-_avg_dist'])], hue='field')\n",
        "\n",
        "# Choose a title for you plot.\n",
        "plt.suptitle(\"Number of reads per chromosome.\")\n",
        "\n",
        "# Resize the plot.\n",
        "plt.gcf().set_size_inches((25, 15))"
      ],
      "execution_count": 137,
      "outputs": [
        {
          "output_type": "display_data",
          "data": {
            "image/png": "[encoded data removed]",
            "text/plain": [
              "<Figure size 1800x1080 with 1 Axes>"
            ]
          },
          "metadata": {
            "tags": []
          }
        }
      ]
    }
  ]
}
