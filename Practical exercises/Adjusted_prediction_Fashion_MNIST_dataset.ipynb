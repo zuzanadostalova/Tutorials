{
  "nbformat": 4,
  "nbformat_minor": 0,
  "metadata": {
    "colab": {
      "name": "Best prediction Fashion_MNIST_dataset.ipynb",
      "provenance": [],
      "toc_visible": true,
      "authorship_tag": "ABX9TyM4PsI87BsUI9jY3FFsr4ju",
      "include_colab_link": true
    },
    "kernelspec": {
      "name": "python3",
      "display_name": "Python 3"
    },
    "accelerator": "GPU"
  },
  "cells": [
    {
      "cell_type": "markdown",
      "metadata": {
        "id": "view-in-github",
        "colab_type": "text"
      },
      "source": [
        "<a href=\"https://colab.research.google.com/github/zuzanadostalova/Tutorials/blob/master/Best_prediction_Fashion_MNIST_dataset.ipynb\" target=\"_parent\"><img src=\"https://colab.research.google.com/assets/colab-badge.svg\" alt=\"Open In Colab\"/></a>"
      ]
    },
    {
      "cell_type": "markdown",
      "metadata": {
        "id": "IC2ZGCcNWKkp",
        "colab_type": "text"
      },
      "source": [
        "## Fashion MNIST dataset."
      ]
    },
    {
      "cell_type": "markdown",
      "metadata": {
        "id": "fRm3QZai7z6l",
        "colab_type": "text"
      },
      "source": [
        "Dense layer: A linear operation in which every input is connected to every output by a weight (n_outputs weights). \n",
        "\n",
        "Followed by a non-linear activation function (ReLU).\n",
        "\n",
        "Convolutional layer: A linear operation using a subset of the weights of a dense layer. Nearby inputs are connected to nearby outputs (specifically -     - a convolution 755). The weights for the convolutions at each location are shared. Due to the weight sharing there’s far less weights than in a dense layer. Generally followed by a non-linear activation function.\n",
        "\n",
        "Pooling layer: Replaces each patch in the input with a single output, which is the maximum (can also be average) of the input patch.\n",
        "\n",
        "Normalization layer: Scale the input so that the output has near to a zero mean and unit standard deviation, to allow for faster and more resilient training."
      ]
    },
    {
      "cell_type": "markdown",
      "metadata": {
        "id": "fwBCi5tyTAOd",
        "colab_type": "text"
      },
      "source": [
        "If you change the architecture of your model, restart the runtime. Otherwise, you are running the old architecture."
      ]
    },
    {
      "cell_type": "markdown",
      "metadata": {
        "id": "2pUANqNm1NlQ",
        "colab_type": "text"
      },
      "source": [
        "> I. Import tensorflow and helper libraries."
      ]
    },
    {
      "cell_type": "code",
      "metadata": {
        "id": "szLEep6Z1Mrt",
        "colab_type": "code",
        "outputId": "41506258-fd90-4c6d-9f65-71efa1053b08",
        "colab": {
          "base_uri": "https://localhost:8080/",
          "height": 32
        }
      },
      "source": [
        "import tensorflow as tf\n",
        "from tensorflow import keras\n",
        "\n",
        "import numpy as np\n",
        "import matplotlib.pyplot as plt\n",
        "\n",
        "# Print a version of tensorflow.\n",
        "print(tf.__version__)"
      ],
      "execution_count": 17,
      "outputs": [
        {
          "output_type": "stream",
          "text": [
            "2.2.0-rc2\n"
          ],
          "name": "stdout"
        }
      ]
    },
    {
      "cell_type": "markdown",
      "metadata": {
        "id": "OSf9mnpd1up9",
        "colab_type": "text"
      },
      "source": [
        "> II. Import MNIST dataset."
      ]
    },
    {
      "cell_type": "code",
      "metadata": {
        "id": "rJH1HC5K10hZ",
        "colab_type": "code",
        "colab": {}
      },
      "source": [
        "# Loading the dataset returns four Numpy arrays.\n",
        "# Imagaes are 28x28 NumPy arrays, pixels 0-255, labels are an array of integers\n",
        "# 0-9.\n",
        "fashion_mnist = keras.datasets.fashion_mnist\n",
        "(train_images, train_labels), (test_images, test_labels) = fashion_mnist.load_data()"
      ],
      "execution_count": 0,
      "outputs": []
    },
    {
      "cell_type": "markdown",
      "metadata": {
        "id": "5PV8-o6I3uWP",
        "colab_type": "text"
      },
      "source": [
        "> III. Class names are not included in the dataset, add them for later use when plotting images."
      ]
    },
    {
      "cell_type": "code",
      "metadata": {
        "id": "zzrkzo7s5Mpp",
        "colab_type": "code",
        "colab": {}
      },
      "source": [
        "class_names = ['T-shirt/top', 'Trouser', 'Pullover', 'Dress', 'Coat', 'Sandal', \n",
        "               'Shirt', 'Sneaker', 'Bag', 'Ankle boot']"
      ],
      "execution_count": 0,
      "outputs": []
    },
    {
      "cell_type": "markdown",
      "metadata": {
        "id": "K3Ef20Jv5oGl",
        "colab_type": "text"
      },
      "source": [
        "> IV. Format of the dataset:"
      ]
    },
    {
      "cell_type": "code",
      "metadata": {
        "id": "pbrjTlbA52ox",
        "colab_type": "code",
        "outputId": "97d59c3a-2396-4f92-c47d-ff0f4d4139aa",
        "colab": {
          "base_uri": "https://localhost:8080/",
          "height": 32
        }
      },
      "source": [
        "# There are 60000 images in the training set represented as 28x28 pixels.\n",
        "train_images.shape"
      ],
      "execution_count": 20,
      "outputs": [
        {
          "output_type": "execute_result",
          "data": {
            "text/plain": [
              "(60000, 28, 28)"
            ]
          },
          "metadata": {
            "tags": []
          },
          "execution_count": 20
        }
      ]
    },
    {
      "cell_type": "code",
      "metadata": {
        "id": "TUtWlKDw6Jii",
        "colab_type": "code",
        "outputId": "d2b40445-1f9b-4416-fdb8-4afb03cbfa59",
        "colab": {
          "base_uri": "https://localhost:8080/",
          "height": 32
        }
      },
      "source": [
        "# There are 60000 labels in the training set.\n",
        "len(train_labels)"
      ],
      "execution_count": 21,
      "outputs": [
        {
          "output_type": "execute_result",
          "data": {
            "text/plain": [
              "60000"
            ]
          },
          "metadata": {
            "tags": []
          },
          "execution_count": 21
        }
      ]
    },
    {
      "cell_type": "code",
      "metadata": {
        "id": "LjjeXoMh6Zv1",
        "colab_type": "code",
        "outputId": "4b34ac80-0d14-4e09-9281-5e12b5575e32",
        "colab": {
          "base_uri": "https://localhost:8080/",
          "height": 32
        }
      },
      "source": [
        "# Each label is an integer 0-9.\n",
        "train_labels"
      ],
      "execution_count": 22,
      "outputs": [
        {
          "output_type": "execute_result",
          "data": {
            "text/plain": [
              "array([9, 0, 0, ..., 3, 0, 5], dtype=uint8)"
            ]
          },
          "metadata": {
            "tags": []
          },
          "execution_count": 22
        }
      ]
    },
    {
      "cell_type": "code",
      "metadata": {
        "id": "5NodJMIe6nii",
        "colab_type": "code",
        "outputId": "912b5f0c-3af0-4127-e751-c72e67f5ebab",
        "colab": {
          "base_uri": "https://localhost:8080/",
          "height": 32
        }
      },
      "source": [
        "# In the test set, there are 10000  represented as 28x28 pixels.\n",
        "test_images.shape"
      ],
      "execution_count": 23,
      "outputs": [
        {
          "output_type": "execute_result",
          "data": {
            "text/plain": [
              "(10000, 28, 28)"
            ]
          },
          "metadata": {
            "tags": []
          },
          "execution_count": 23
        }
      ]
    },
    {
      "cell_type": "code",
      "metadata": {
        "id": "Obcih8Uc6z3i",
        "colab_type": "code",
        "outputId": "6441a391-dd4e-4f75-9e94-ebddfdcf26bf",
        "colab": {
          "base_uri": "https://localhost:8080/",
          "height": 32
        }
      },
      "source": [
        "# There are 10000 labels in the training set.\n",
        "len(test_labels)"
      ],
      "execution_count": 24,
      "outputs": [
        {
          "output_type": "execute_result",
          "data": {
            "text/plain": [
              "10000"
            ]
          },
          "metadata": {
            "tags": []
          },
          "execution_count": 24
        }
      ]
    },
    {
      "cell_type": "code",
      "metadata": {
        "id": "nzogBHla724w",
        "colab_type": "code",
        "outputId": "15d1cc95-0962-44c3-e690-2bac087b599e",
        "colab": {
          "base_uri": "https://localhost:8080/",
          "height": 32
        }
      },
      "source": [
        "# Each label is an integer 0-9.\n",
        "test_labels"
      ],
      "execution_count": 25,
      "outputs": [
        {
          "output_type": "execute_result",
          "data": {
            "text/plain": [
              "array([9, 2, 1, ..., 8, 1, 5], dtype=uint8)"
            ]
          },
          "metadata": {
            "tags": []
          },
          "execution_count": 25
        }
      ]
    },
    {
      "cell_type": "markdown",
      "metadata": {
        "id": "eexrH9379GlD",
        "colab_type": "text"
      },
      "source": [
        "> V. Data preprocessing:"
      ]
    },
    {
      "cell_type": "code",
      "metadata": {
        "id": "6rL_Pcg_9PUm",
        "colab_type": "code",
        "outputId": "61f856bb-8583-4896-8c2a-00c0ca1bfe13",
        "colab": {
          "base_uri": "https://localhost:8080/",
          "height": 263
        }
      },
      "source": [
        "# The first image in the training set is repsented by 0-255 pixels, however,\n",
        "# that cannot be input for your model.\n",
        "plt.figure()\n",
        "plt.imshow(train_images[0])\n",
        "plt.colorbar()\n",
        "plt.grid(False)\n",
        "plt.show()"
      ],
      "execution_count": 26,
      "outputs": [
        {
          "output_type": "display_data",
          "data": {
            "image/png": "[encoded data removed]",
            "text/plain": [
              "<Figure size 432x288 with 2 Axes>"
            ]
          },
          "metadata": {
            "tags": [],
            "needs_background": "light"
          }
        }
      ]
    },
    {
      "cell_type": "markdown",
      "metadata": {
        "id": "sykv9wzZr12I",
        "colab_type": "text"
      },
      "source": [
        "> VI. Scale them to a range of 0 to 1 before loading them to the neural network model."
      ]
    },
    {
      "cell_type": "code",
      "metadata": {
        "id": "oCejEjI39_FS",
        "colab_type": "code",
        "colab": {}
      },
      "source": [
        "# Training and testing set have to be preprocessed in the same way.\n",
        "train_images = train_images / 255\n",
        "test_images = test_images / 255"
      ],
      "execution_count": 0,
      "outputs": []
    },
    {
      "cell_type": "markdown",
      "metadata": {
        "id": "KfCVLl2-t8L3",
        "colab_type": "text"
      },
      "source": [
        "> VII. To verify the data before building NN, display the first 25 images."
      ]
    },
    {
      "cell_type": "code",
      "metadata": {
        "id": "fKj70CDbuBPv",
        "colab_type": "code",
        "outputId": "6103b942-fb5f-44fe-d13a-6cabac4b9b3d",
        "colab": {
          "base_uri": "https://localhost:8080/",
          "height": 588
        }
      },
      "source": [
        "plt.figure(figsize=(10,10))\n",
        "for i in range(25):\n",
        "  plt.subplot(5,5,i+1)\n",
        "  plt.xticks([])\n",
        "  plt.yticks([])\n",
        "  plt.grid(False)\n",
        "  plt.imshow(train_images[i], cmap=plt.cm.binary)\n",
        "  plt.xlabel(class_names[train_labels[i]])\n",
        "plt.show()"
      ],
      "execution_count": 28,
      "outputs": [
        {
          "output_type": "display_data",
          "data": {
            "image/png": "[encoded data removed]",
            "text/plain": [
              "<Figure size 720x720 with 25 Axes>"
            ]
          },
          "metadata": {
            "tags": []
          }
        }
      ]
    },
    {
      "cell_type": "markdown",
      "metadata": {
        "id": "9RyNiI5uZjSF",
        "colab_type": "text"
      },
      "source": [
        "> VIII. Resize the training and testing images feed them in the convolution layer."
      ]
    },
    {
      "cell_type": "code",
      "metadata": {
        "id": "UUPJt-Z7oqcL",
        "colab_type": "code",
        "outputId": "d328af64-4d32-4662-dfb1-27548304d9d3",
        "colab": {
          "base_uri": "https://localhost:8080/",
          "height": 65
        }
      },
      "source": [
        "# Take all of the 60000 images, 28x28 pixels, one column.\n",
        "train_images = train_images.reshape(train_images.shape[0],28,28,1)\n",
        "test_images = test_images.reshape(test_images.shape[0],28,28,1)\n",
        "input_shape = (28,28,1)\n",
        "train_images = train_images.astype('float32')\n",
        "test_images = test_images.astype('float32')\n",
        "\n",
        "print('x_train shape:', train_images.shape)\n",
        "print('Number of images in x_train', train_images.shape[0])\n",
        "print('Number of images in x_test', test_images.shape[0])"
      ],
      "execution_count": 29,
      "outputs": [
        {
          "output_type": "stream",
          "text": [
            "x_train shape: (60000, 28, 28, 1)\n",
            "Number of images in x_train 60000\n",
            "Number of images in x_test 10000\n"
          ],
          "name": "stdout"
        }
      ]
    },
    {
      "cell_type": "markdown",
      "metadata": {
        "id": "nXgHyjSIvXu6",
        "colab_type": "text"
      },
      "source": [
        "Model building."
      ]
    },
    {
      "cell_type": "markdown",
      "metadata": {
        "id": "sCl8cctX1dY1",
        "colab_type": "text"
      },
      "source": [
        "I. Set up the layers."
      ]
    },
    {
      "cell_type": "code",
      "metadata": {
        "id": "NtsXJw5B1Fh4",
        "colab_type": "code",
        "colab": {}
      },
      "source": [
        "from keras.layers.normalization import BatchNormalization\n",
        "\n",
        "model = keras.Sequential([\n",
        "                         keras.layers.Conv2D(28, kernel_size=(3,3), input_shape=input_shape, strides=(1, 1), padding='valid', data_format=None, dilation_rate=(1, 1), activation=None, use_bias=True, kernel_initializer='glorot_uniform', bias_initializer='zeros', kernel_regularizer=None, bias_regularizer=None, activity_regularizer=None, kernel_constraint=None, bias_constraint=None),\n",
        "                        # Flatten layer is unstacking rows of pixels in the \n",
        "                        # image and lining them up - 784 pixels. \n",
        "                         keras.layers.Flatten(),\n",
        "                        # The first Dense layer has 128 nodes (or neurons). \n",
        "                        # The second (and last) layer returns a logits array \n",
        "                        # with length of 10. Each node contains a score indicating\n",
        "                        # the current image belongs to one of the 10 classes.\n",
        "                        # Dense = fully connected layer.\n",
        "\n",
        "                        # The more neurons you have, the more features they\n",
        "                        # can recognise.\n",
        "\n",
        "                        # 2 Dense layers with ReLU - test accuracy: 0.8843\n",
        "                        \n",
        "                         keras.layers.Dense(256, activation='relu'),\n",
        "                         keras.layers.GaussianDropout(0.2),\n",
        "                         keras.layers.BatchNormalization(axis=-1, momentum=0.99, epsilon=0.001, center=True, scale=True, beta_initializer='zeros', gamma_initializer='ones', moving_mean_initializer='zeros', moving_variance_initializer='ones', beta_regularizer=None, gamma_regularizer=None, beta_constraint=None, gamma_constraint=None),\n",
        "                         keras.layers.Dense(128, activation='relu'),\n",
        "                         keras.layers.GaussianDropout(0.2),\n",
        "                         keras.layers.BatchNormalization(axis=-1, momentum=0.99, epsilon=0.001, center=True, scale=True, beta_initializer='zeros', gamma_initializer='ones', moving_mean_initializer='zeros', moving_variance_initializer='ones', beta_regularizer=None, gamma_regularizer=None, beta_constraint=None, gamma_constraint=None),\n",
        "                         keras.layers.Dense(64, activation='relu'),\n",
        "                         keras.layers.GaussianDropout(0.2),\n",
        "                         keras.layers.BatchNormalization(axis=-1, momentum=0.99, epsilon=0.001, center=True, scale=True, beta_initializer='zeros', gamma_initializer='ones', moving_mean_initializer='zeros', moving_variance_initializer='ones', beta_regularizer=None, gamma_regularizer=None, beta_constraint=None, gamma_constraint=None),\n",
        "                         keras.layers.Dense(32, activation='relu'),\n",
        "                         keras.layers.GaussianDropout(0.2),\n",
        "                         keras.layers.BatchNormalization(axis=-1, momentum=0.99, epsilon=0.001, center=True, scale=True, beta_initializer='zeros', gamma_initializer='ones', moving_mean_initializer='zeros', moving_variance_initializer='ones', beta_regularizer=None, gamma_regularizer=None, beta_constraint=None, gamma_constraint=None),\n",
        "                         keras.layers.Dense(16, activation='relu'),\n",
        "                         keras.layers.GaussianDropout(0.2),\n",
        "                         keras.layers.BatchNormalization(axis=-1, momentum=0.99, epsilon=0.001, center=True, scale=True, beta_initializer='zeros', gamma_initializer='ones', moving_mean_initializer='zeros', moving_variance_initializer='ones', beta_regularizer=None, gamma_regularizer=None, beta_constraint=None, gamma_constraint=None),\n",
        "                        # 3 Dense layers - Test accuracy 0.8817999958992004\n",
        "                         keras.layers.Dense(10) \n",
        "])"
      ],
      "execution_count": 0,
      "outputs": []
    },
    {
      "cell_type": "markdown",
      "metadata": {
        "id": "nstBj199Bdnm",
        "colab_type": "text"
      },
      "source": [
        "II. Compile the model."
      ]
    },
    {
      "cell_type": "code",
      "metadata": {
        "id": "vbmlTT_JBlF7",
        "colab_type": "code",
        "colab": {}
      },
      "source": [
        "# Loss function —This measures how accurate the model is during training. \n",
        "# You want to minimize this function to \"steer\" the model in the right direction.\n",
        "# Optimizer —This is how the model is updated based on the data it sees and its \n",
        "# loss function.\n",
        "# Metrics —Used to monitor the training and testing steps. The following example \n",
        "# uses accuracy, the fraction of the images that are correctly classified.\n",
        "\n",
        "model.compile(optimizer='adam',\n",
        "              loss=tf.keras.losses.SparseCategoricalCrossentropy(from_logits=True),\n",
        "              metrics=['accuracy'])"
      ],
      "execution_count": 0,
      "outputs": []
    },
    {
      "cell_type": "markdown",
      "metadata": {
        "id": "ZKxpEFDDCr1w",
        "colab_type": "text"
      },
      "source": [
        "III. Train the model."
      ]
    },
    {
      "cell_type": "markdown",
      "metadata": {
        "id": "pxXG1LZbDGwp",
        "colab_type": "text"
      },
      "source": [
        "A) Feed the training data to the model. In this example, the training data is in the train_images and train_labels arrays."
      ]
    },
    {
      "cell_type": "code",
      "metadata": {
        "id": "OtTtAOtYXCJg",
        "colab_type": "code",
        "outputId": "d02d5b14-57b8-4526-e96b-4fc4f79d7f72",
        "colab": {
          "base_uri": "https://localhost:8080/",
          "height": 625
        }
      },
      "source": [
        "model.fit(train_images, train_labels, epochs=18)"
      ],
      "execution_count": 32,
      "outputs": [
        {
          "output_type": "stream",
          "text": [
            "Epoch 1/18\n",
            "1875/1875 [==============================] - 9s 5ms/step - loss: 0.9168 - accuracy: 0.7002\n",
            "Epoch 2/18\n",
            "1875/1875 [==============================] - 9s 5ms/step - loss: 0.6463 - accuracy: 0.7911\n",
            "Epoch 3/18\n",
            "1875/1875 [==============================] - 8s 4ms/step - loss: 0.6073 - accuracy: 0.8061\n",
            "Epoch 4/18\n",
            "1875/1875 [==============================] - 8s 4ms/step - loss: 0.5591 - accuracy: 0.8197\n",
            "Epoch 5/18\n",
            "1875/1875 [==============================] - 8s 5ms/step - loss: 0.5362 - accuracy: 0.8259\n",
            "Epoch 6/18\n",
            "1875/1875 [==============================] - 8s 4ms/step - loss: 0.5067 - accuracy: 0.8364\n",
            "Epoch 7/18\n",
            "1875/1875 [==============================] - 8s 4ms/step - loss: 0.4880 - accuracy: 0.8429\n",
            "Epoch 8/18\n",
            "1875/1875 [==============================] - 8s 4ms/step - loss: 0.4836 - accuracy: 0.8438\n",
            "Epoch 9/18\n",
            "1875/1875 [==============================] - 8s 4ms/step - loss: 0.4755 - accuracy: 0.8450\n",
            "Epoch 10/18\n",
            "1875/1875 [==============================] - 8s 4ms/step - loss: 0.4562 - accuracy: 0.8531\n",
            "Epoch 11/18\n",
            "1875/1875 [==============================] - 8s 4ms/step - loss: 0.4505 - accuracy: 0.8538\n",
            "Epoch 12/18\n",
            "1875/1875 [==============================] - 8s 4ms/step - loss: 0.4549 - accuracy: 0.8534\n",
            "Epoch 13/18\n",
            "1875/1875 [==============================] - 8s 4ms/step - loss: 0.4504 - accuracy: 0.8530\n",
            "Epoch 14/18\n",
            "1875/1875 [==============================] - 8s 4ms/step - loss: 0.4482 - accuracy: 0.8546\n",
            "Epoch 15/18\n",
            "1875/1875 [==============================] - 8s 4ms/step - loss: 0.4424 - accuracy: 0.8565\n",
            "Epoch 16/18\n",
            "1875/1875 [==============================] - 8s 5ms/step - loss: 0.4179 - accuracy: 0.8629\n",
            "Epoch 17/18\n",
            "1875/1875 [==============================] - 8s 4ms/step - loss: 0.4110 - accuracy: 0.8666\n",
            "Epoch 18/18\n",
            "1875/1875 [==============================] - 8s 4ms/step - loss: 0.4054 - accuracy: 0.8694\n"
          ],
          "name": "stdout"
        },
        {
          "output_type": "execute_result",
          "data": {
            "text/plain": [
              "<tensorflow.python.keras.callbacks.History at 0x7f2ed622e898>"
            ]
          },
          "metadata": {
            "tags": []
          },
          "execution_count": 32
        }
      ]
    },
    {
      "cell_type": "markdown",
      "metadata": {
        "id": "6mp0XmwJDb2I",
        "colab_type": "text"
      },
      "source": [
        "B) Evaluate accuracy of the model on test dataset."
      ]
    },
    {
      "cell_type": "code",
      "metadata": {
        "id": "h5UsMPb4Dhtr",
        "colab_type": "code",
        "outputId": "2455b6fb-9416-4c04-d7ff-5aafb3d36029",
        "colab": {
          "base_uri": "https://localhost:8080/",
          "height": 65
        }
      },
      "source": [
        "# verbose=2 will just mention the number of epoch.\n",
        "test_loss, test_acc = model.evaluate(test_images, test_labels, verbose=2)\n",
        "print('\\nTest accuracy', test_acc)\n",
        "\n",
        "# It turns out that the accuracy on the test dataset is a little less than \n",
        "# the accuracy on the training dataset. This gap between training accuracy \n",
        "# and test accuracy represents overfitting. Overfitting happens when \n",
        "# a machine learning model performs worse on new, previously unseen inputs \n",
        "# than it does on the training data. An overfitted model \"memorizes\" the noise \n",
        "# and details in the training dataset to a point where it negatively impacts\n",
        "# the performance of the model on the new data."
      ],
      "execution_count": 33,
      "outputs": [
        {
          "output_type": "stream",
          "text": [
            "313/313 - 1s - loss: 0.3502 - accuracy: 0.8810\n",
            "\n",
            "Test accuracy 0.8809999823570251\n"
          ],
          "name": "stdout"
        }
      ]
    },
    {
      "cell_type": "markdown",
      "metadata": {
        "id": "JU1S-GRDExOO",
        "colab_type": "text"
      },
      "source": [
        "C) Make predictions."
      ]
    },
    {
      "cell_type": "code",
      "metadata": {
        "id": "mvFel7bkFDm6",
        "colab_type": "code",
        "colab": {}
      },
      "source": [
        "probability_model = tf.keras.Sequential([model,\n",
        "                                         tf.keras.layers.Softmax()])"
      ],
      "execution_count": 0,
      "outputs": []
    },
    {
      "cell_type": "code",
      "metadata": {
        "id": "kmV-U0D8FRAR",
        "colab_type": "code",
        "colab": {}
      },
      "source": [
        "predictions = probability_model.predict(test_images)"
      ],
      "execution_count": 0,
      "outputs": []
    },
    {
      "cell_type": "code",
      "metadata": {
        "id": "itNTqCuqFYwa",
        "colab_type": "code",
        "outputId": "2ce11435-f9f6-4621-f3c3-94d1fe66ec6f",
        "colab": {
          "base_uri": "https://localhost:8080/",
          "height": 65
        }
      },
      "source": [
        "# Array of 10 numbers representing the confidence that the image corresponds\n",
        "# the 10 different articles of clothing.\n",
        "predictions[0]"
      ],
      "execution_count": 36,
      "outputs": [
        {
          "output_type": "execute_result",
          "data": {
            "text/plain": [
              "array([9.4479823e-05, 2.3855206e-05, 2.4223616e-05, 2.8514101e-05,\n",
              "       1.3275282e-05, 2.3506263e-03, 3.5239711e-05, 1.0166198e-02,\n",
              "       3.0531837e-06, 9.8726058e-01], dtype=float32)"
            ]
          },
          "metadata": {
            "tags": []
          },
          "execution_count": 36
        }
      ]
    },
    {
      "cell_type": "code",
      "metadata": {
        "id": "yuNch2AhFwsv",
        "colab_type": "code",
        "outputId": "788a352c-a26a-497f-cc44-6c1175c99d83",
        "colab": {
          "base_uri": "https://localhost:8080/",
          "height": 32
        }
      },
      "source": [
        "# Which label has the highest confidence?\n",
        "np.argmax(predictions[0])\n",
        "# This label is for ankle boot, or class_names[9]."
      ],
      "execution_count": 37,
      "outputs": [
        {
          "output_type": "execute_result",
          "data": {
            "text/plain": [
              "9"
            ]
          },
          "metadata": {
            "tags": []
          },
          "execution_count": 37
        }
      ]
    },
    {
      "cell_type": "code",
      "metadata": {
        "id": "huj4woWnGJV-",
        "colab_type": "code",
        "outputId": "7edd5311-631d-4d37-a746-c189335488fb",
        "colab": {
          "base_uri": "https://localhost:8080/",
          "height": 32
        }
      },
      "source": [
        "# Check if the model is correct.\n",
        "test_labels[0]"
      ],
      "execution_count": 38,
      "outputs": [
        {
          "output_type": "execute_result",
          "data": {
            "text/plain": [
              "9"
            ]
          },
          "metadata": {
            "tags": []
          },
          "execution_count": 38
        }
      ]
    },
    {
      "cell_type": "markdown",
      "metadata": {
        "id": "UUOsdGhowWnG",
        "colab_type": "text"
      },
      "source": [
        "Build a graph to look at the full set of 10 class predictions."
      ]
    },
    {
      "cell_type": "code",
      "metadata": {
        "id": "MMGNTEhQxV2f",
        "colab_type": "code",
        "colab": {}
      },
      "source": [
        "def plot_image(i, predictions_array, true_label, img):\n",
        "  predictions_array, true_label, img = predictions_array, true_label[i], img[i]\n",
        "  plt.grid(False)\n",
        "  plt.xticks([])\n",
        "  plt.yticks([])\n",
        "\n",
        "  plt.imshow(img.reshape((28,28)), cmap=plt.cm.binary)\n",
        "\n",
        "  predicted_label = np.argmax(predictions_array)\n",
        "  if predicted_label == true_label:\n",
        "    color = 'blue'\n",
        "  else:\n",
        "    color = 'red'\n",
        "\n",
        "  plt.xlabel(\"{} {:2.0f}% ({})\".format(class_names[predicted_label],\n",
        "                                100*np.max(predictions_array),\n",
        "                                class_names[true_label]),\n",
        "                                color=color)\n",
        "def plot_value_array(i, predictions_array, true_label):\n",
        "  predictions_array, true_label = predictions_array, true_label[i]\n",
        "  plt.grid(False)\n",
        "  plt.xticks(range(10))\n",
        "  plt.yticks([])\n",
        "  thisplot = plt.bar(range(10), predictions_array, color='#777777')\n",
        "  plt.ylim([0,1])\n",
        "  predicted_label = np.argmax(predictions_array)\n",
        "\n",
        "  thisplot[predicted_label].set_color('red')\n",
        "  thisplot[true_label].set_color('blue')"
      ],
      "execution_count": 0,
      "outputs": []
    },
    {
      "cell_type": "markdown",
      "metadata": {
        "id": "EbK9IMT7HKrP",
        "colab_type": "text"
      },
      "source": [
        "Verify predictions about some images."
      ]
    },
    {
      "cell_type": "code",
      "metadata": {
        "id": "qSPrV6HlHNtW",
        "colab_type": "code",
        "outputId": "5f056ccd-ff14-4f34-c478-caaea05ab504",
        "colab": {
          "base_uri": "https://localhost:8080/",
          "height": 209
        }
      },
      "source": [
        "i = 0\n",
        "plt.figure(figsize=(6,3))\n",
        "plt.subplot(1,2,1)\n",
        "plot_image(i, predictions[i], test_labels, test_images)\n",
        "plt.subplot(1,2,2)\n",
        "plot_value_array(i, predictions[i], test_labels)\n",
        "plt.show()"
      ],
      "execution_count": 40,
      "outputs": [
        {
          "output_type": "display_data",
          "data": {
            "image/png": "[encoded data removed]",
            "text/plain": [
              "<Figure size 432x216 with 2 Axes>"
            ]
          },
          "metadata": {
            "tags": [],
            "needs_background": "light"
          }
        }
      ]
    },
    {
      "cell_type": "code",
      "metadata": {
        "id": "SbDpsjCdH2wR",
        "colab_type": "code",
        "outputId": "a1492625-0364-41a4-9355-5f4cafee4dfc",
        "colab": {
          "base_uri": "https://localhost:8080/",
          "height": 209
        }
      },
      "source": [
        "i = 12\n",
        "plt.figure(figsize=(6,3))\n",
        "plt.subplot(1,2,1)\n",
        "plot_image(i, predictions[i], test_labels, test_images)\n",
        "plt.subplot(1,2,2)\n",
        "plot_value_array(i, predictions[i], test_labels)"
      ],
      "execution_count": 41,
      "outputs": [
        {
          "output_type": "display_data",
          "data": {
            "image/png": "[encoded data removed]",
            "text/plain": [
              "<Figure size 432x216 with 2 Axes>"
            ]
          },
          "metadata": {
            "tags": [],
            "needs_background": "light"
          }
        }
      ]
    },
    {
      "cell_type": "markdown",
      "metadata": {
        "id": "EN-P3YSLJeSn",
        "colab_type": "text"
      },
      "source": [
        "Plot images with their predictions."
      ]
    },
    {
      "cell_type": "code",
      "metadata": {
        "id": "3lj7-ROJJiYG",
        "colab_type": "code",
        "outputId": "e69674ed-737d-4b1e-f221-bf79d5e21847",
        "colab": {
          "base_uri": "https://localhost:8080/",
          "height": 728
        }
      },
      "source": [
        "num_rows = 5\n",
        "num_cols = 3\n",
        "num_images = num_rows*num_cols\n",
        "plt.figure(figsize=(2*2*num_cols, 2*num_rows))\n",
        "for i in range(num_images):\n",
        "  plt.subplot(num_rows, 2*num_cols, 2*i+1)\n",
        "  plot_image(i, predictions[i], test_labels, test_images)\n",
        "  plt.subplot(num_rows, 2*num_cols, 2*i+2)\n",
        "  plot_value_array(i, predictions[i], test_labels)\n",
        "plt.tight_layout()\n",
        "plt.show()"
      ],
      "execution_count": 42,
      "outputs": [
        {
          "output_type": "display_data",
          "data": {
            "image/png": "[encoded data removed]",
            "text/plain": [
              "<Figure size 864x720 with 30 Axes>"
            ]
          },
          "metadata": {
            "tags": [],
            "needs_background": "light"
          }
        }
      ]
    },
    {
      "cell_type": "markdown",
      "metadata": {
        "id": "nm03GtFiMJmM",
        "colab_type": "text"
      },
      "source": [
        "Use trained model to predict a single image."
      ]
    },
    {
      "cell_type": "code",
      "metadata": {
        "id": "OEwJ7QcqMQtT",
        "colab_type": "code",
        "outputId": "d25d0042-ce7d-4fb2-852c-931adf692001",
        "colab": {
          "base_uri": "https://localhost:8080/",
          "height": 32
        }
      },
      "source": [
        "img = test_images[1]\n",
        "print(img.shape)"
      ],
      "execution_count": 43,
      "outputs": [
        {
          "output_type": "stream",
          "text": [
            "(28, 28, 1)\n"
          ],
          "name": "stdout"
        }
      ]
    },
    {
      "cell_type": "code",
      "metadata": {
        "id": "IW0aXQ77NYLL",
        "colab_type": "code",
        "outputId": "47554a32-9fa5-41f8-e284-501f9b55a25a",
        "colab": {
          "base_uri": "https://localhost:8080/",
          "height": 32
        }
      },
      "source": [
        "# Add the image to a batch where it's the only member.\n",
        "img = (np.expand_dims(img, 0))\n",
        "print(img.shape)"
      ],
      "execution_count": 44,
      "outputs": [
        {
          "output_type": "stream",
          "text": [
            "(1, 28, 28, 1)\n"
          ],
          "name": "stdout"
        }
      ]
    },
    {
      "cell_type": "code",
      "metadata": {
        "id": "ffR8Gk5JNYHV",
        "colab_type": "code",
        "outputId": "e8ae5187-ae30-43e0-d9d1-a5eff7e5c9d5",
        "colab": {
          "base_uri": "https://localhost:8080/",
          "height": 49
        }
      },
      "source": [
        "# Predict the correct label for the image.\n",
        "predictions_single = probability_model.predict(img)\n",
        "print(predictions_single)"
      ],
      "execution_count": 45,
      "outputs": [
        {
          "output_type": "stream",
          "text": [
            "[[1.7257916e-03 1.6813261e-05 9.8258740e-01 2.7589002e-04 3.6806583e-03\n",
            "  8.6742006e-08 1.1673338e-02 5.8841374e-06 2.4890605e-05 9.3209183e-06]]\n"
          ],
          "name": "stdout"
        }
      ]
    },
    {
      "cell_type": "code",
      "metadata": {
        "id": "n8D3HOVFNu2O",
        "colab_type": "code",
        "outputId": "079b0739-1d5f-4d22-9208-1fd331a77c62",
        "colab": {
          "base_uri": "https://localhost:8080/",
          "height": 298
        }
      },
      "source": [
        "plot_value_array(1, predictions_single[0], test_labels)\n",
        "_ = plt.xticks(range(10), class_names, rotation=45)"
      ],
      "execution_count": 46,
      "outputs": [
        {
          "output_type": "display_data",
          "data": {
            "image/png": "[encoded data removed]",
            "text/plain": [
              "<Figure size 432x288 with 1 Axes>"
            ]
          },
          "metadata": {
            "tags": [],
            "needs_background": "light"
          }
        }
      ]
    },
    {
      "cell_type": "code",
      "metadata": {
        "id": "qkw_CT8kOFzo",
        "colab_type": "code",
        "outputId": "2d00bbd8-78e8-4f22-aa46-5447032aca80",
        "colab": {
          "base_uri": "https://localhost:8080/",
          "height": 32
        }
      },
      "source": [
        "# Returns a list of lists—one list for each image in the batch of data. \n",
        "# Grab the predictions for our (only) image in the batch:\n",
        "np.argmax(predictions_single[0])"
      ],
      "execution_count": 47,
      "outputs": [
        {
          "output_type": "execute_result",
          "data": {
            "text/plain": [
              "2"
            ]
          },
          "metadata": {
            "tags": []
          },
          "execution_count": 47
        }
      ]
    }
  ]
}
