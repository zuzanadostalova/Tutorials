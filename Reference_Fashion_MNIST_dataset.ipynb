{
  "nbformat": 4,
  "nbformat_minor": 0,
  "metadata": {
    "colab": {
      "name": "Reference Fashion_MNIST_dataset.ipynb",
      "provenance": [],
      "authorship_tag": "ABX9TyPXqy7CTkTSx3lSJ5ETIq6p",
      "include_colab_link": true
    },
    "kernelspec": {
      "name": "python3",
      "display_name": "Python 3"
    },
    "accelerator": "GPU"
  },
  "cells": [
    {
      "cell_type": "markdown",
      "metadata": {
        "id": "view-in-github",
        "colab_type": "text"
      },
      "source": [
        "<a href=\"https://colab.research.google.com/github/zuzanadostalova/Tutorials/blob/master/Reference_Fashion_MNIST_dataset.ipynb\" target=\"_parent\"><img src=\"https://colab.research.google.com/assets/colab-badge.svg\" alt=\"Open In Colab\"/></a>"
      ]
    },
    {
      "cell_type": "markdown",
      "metadata": {
        "id": "2pUANqNm1NlQ",
        "colab_type": "text"
      },
      "source": [
        "Import tensorflow and helper libraries."
      ]
    },
    {
      "cell_type": "code",
      "metadata": {
        "id": "szLEep6Z1Mrt",
        "colab_type": "code",
        "outputId": "ac01419a-5e98-4b55-a5c0-ecdad22491e6",
        "colab": {
          "base_uri": "https://localhost:8080/",
          "height": 32
        }
      },
      "source": [
        "import tensorflow as tf\n",
        "from tensorflow import keras\n",
        "\n",
        "import numpy as np\n",
        "import matplotlib.pyplot as plt\n",
        "\n",
        "print(tf.__version__)"
      ],
      "execution_count": 1,
      "outputs": [
        {
          "output_type": "stream",
          "text": [
            "2.2.0-rc2\n"
          ],
          "name": "stdout"
        }
      ]
    },
    {
      "cell_type": "markdown",
      "metadata": {
        "id": "OSf9mnpd1up9",
        "colab_type": "text"
      },
      "source": [
        "Import MNIST dataset."
      ]
    },
    {
      "cell_type": "code",
      "metadata": {
        "id": "rJH1HC5K10hZ",
        "colab_type": "code",
        "colab": {
          "base_uri": "https://localhost:8080/",
          "height": 148
        },
        "outputId": "1bfaa406-291f-4f4e-869d-df697f45359e"
      },
      "source": [
        "fashion_mnist = keras.datasets.fashion_mnist\n",
        "(train_images, train_labels), (test_images, test_labels) = fashion_mnist.load_data()\n",
        "# Loading the dataset returns four Numpy arrays.\n",
        "# Imagaes are 28x28 NumPy arrays, pixels 0-255, labels are an array of integers\n",
        "# 0-9."
      ],
      "execution_count": 2,
      "outputs": [
        {
          "output_type": "stream",
          "text": [
            "Downloading data from https://storage.googleapis.com/tensorflow/tf-keras-datasets/train-labels-idx1-ubyte.gz\n",
            "32768/29515 [=================================] - 0s 0us/step\n",
            "Downloading data from https://storage.googleapis.com/tensorflow/tf-keras-datasets/train-images-idx3-ubyte.gz\n",
            "26427392/26421880 [==============================] - 0s 0us/step\n",
            "Downloading data from https://storage.googleapis.com/tensorflow/tf-keras-datasets/t10k-labels-idx1-ubyte.gz\n",
            "8192/5148 [===============================================] - 0s 0us/step\n",
            "Downloading data from https://storage.googleapis.com/tensorflow/tf-keras-datasets/t10k-images-idx3-ubyte.gz\n",
            "4423680/4422102 [==============================] - 0s 0us/step\n"
          ],
          "name": "stdout"
        }
      ]
    },
    {
      "cell_type": "markdown",
      "metadata": {
        "id": "5PV8-o6I3uWP",
        "colab_type": "text"
      },
      "source": [
        "Class names are not included in the dataset, add them for later use when plotting images."
      ]
    },
    {
      "cell_type": "code",
      "metadata": {
        "id": "zzrkzo7s5Mpp",
        "colab_type": "code",
        "colab": {}
      },
      "source": [
        "class_names = ['T-shirt/top', 'Trouser', 'Pullover', 'Dress', 'Coat', 'Sandal', \n",
        "               'Shirt', 'Sneaker', 'Bag', 'Ankle boot']"
      ],
      "execution_count": 0,
      "outputs": []
    },
    {
      "cell_type": "markdown",
      "metadata": {
        "id": "K3Ef20Jv5oGl",
        "colab_type": "text"
      },
      "source": [
        "Format of the dataset:"
      ]
    },
    {
      "cell_type": "code",
      "metadata": {
        "id": "pbrjTlbA52ox",
        "colab_type": "code",
        "outputId": "5a95604a-a818-40eb-b863-29a0043ecc2d",
        "colab": {
          "base_uri": "https://localhost:8080/",
          "height": 32
        }
      },
      "source": [
        "# There are 60000 images in the training set represented as 28x28 pixels.\n",
        "train_images.shape"
      ],
      "execution_count": 4,
      "outputs": [
        {
          "output_type": "execute_result",
          "data": {
            "text/plain": [
              "(60000, 28, 28)"
            ]
          },
          "metadata": {
            "tags": []
          },
          "execution_count": 4
        }
      ]
    },
    {
      "cell_type": "code",
      "metadata": {
        "id": "TUtWlKDw6Jii",
        "colab_type": "code",
        "outputId": "1fbd2e12-3ea4-4633-fe1c-e4ac51b330ec",
        "colab": {
          "base_uri": "https://localhost:8080/",
          "height": 32
        }
      },
      "source": [
        "# There are 60000 labels in the training set.\n",
        "len(train_labels)"
      ],
      "execution_count": 5,
      "outputs": [
        {
          "output_type": "execute_result",
          "data": {
            "text/plain": [
              "60000"
            ]
          },
          "metadata": {
            "tags": []
          },
          "execution_count": 5
        }
      ]
    },
    {
      "cell_type": "code",
      "metadata": {
        "id": "LjjeXoMh6Zv1",
        "colab_type": "code",
        "outputId": "189bc159-76ed-4ef4-b70c-72f64b338c1b",
        "colab": {
          "base_uri": "https://localhost:8080/",
          "height": 32
        }
      },
      "source": [
        "# Each label is an integer 0-9.\n",
        "train_labels"
      ],
      "execution_count": 6,
      "outputs": [
        {
          "output_type": "execute_result",
          "data": {
            "text/plain": [
              "array([9, 0, 0, ..., 3, 0, 5], dtype=uint8)"
            ]
          },
          "metadata": {
            "tags": []
          },
          "execution_count": 6
        }
      ]
    },
    {
      "cell_type": "code",
      "metadata": {
        "id": "5NodJMIe6nii",
        "colab_type": "code",
        "outputId": "824f3dc3-f26b-42ba-db65-5585de3d91f6",
        "colab": {
          "base_uri": "https://localhost:8080/",
          "height": 32
        }
      },
      "source": [
        "# In the test set, there are 10000  represented as 28x28 pixels.\n",
        "test_images.shape"
      ],
      "execution_count": 7,
      "outputs": [
        {
          "output_type": "execute_result",
          "data": {
            "text/plain": [
              "(10000, 28, 28)"
            ]
          },
          "metadata": {
            "tags": []
          },
          "execution_count": 7
        }
      ]
    },
    {
      "cell_type": "code",
      "metadata": {
        "id": "Obcih8Uc6z3i",
        "colab_type": "code",
        "outputId": "acbbeaac-8e3d-4a4c-b2b2-f9226ead53ae",
        "colab": {
          "base_uri": "https://localhost:8080/",
          "height": 32
        }
      },
      "source": [
        "# There are 10000 labels in the training set.\n",
        "len(test_labels)"
      ],
      "execution_count": 8,
      "outputs": [
        {
          "output_type": "execute_result",
          "data": {
            "text/plain": [
              "10000"
            ]
          },
          "metadata": {
            "tags": []
          },
          "execution_count": 8
        }
      ]
    },
    {
      "cell_type": "code",
      "metadata": {
        "id": "nzogBHla724w",
        "colab_type": "code",
        "outputId": "c9ef6c95-2eff-4bb2-8874-bbaad5217092",
        "colab": {
          "base_uri": "https://localhost:8080/",
          "height": 32
        }
      },
      "source": [
        "test_labels"
      ],
      "execution_count": 9,
      "outputs": [
        {
          "output_type": "execute_result",
          "data": {
            "text/plain": [
              "array([9, 2, 1, ..., 8, 1, 5], dtype=uint8)"
            ]
          },
          "metadata": {
            "tags": []
          },
          "execution_count": 9
        }
      ]
    },
    {
      "cell_type": "markdown",
      "metadata": {
        "id": "eexrH9379GlD",
        "colab_type": "text"
      },
      "source": [
        "Data preprocessing:"
      ]
    },
    {
      "cell_type": "code",
      "metadata": {
        "id": "6rL_Pcg_9PUm",
        "colab_type": "code",
        "outputId": "e0edbd2f-09e7-4feb-a221-53f49134df72",
        "colab": {
          "base_uri": "https://localhost:8080/",
          "height": 263
        }
      },
      "source": [
        "# The first image in the training set is repsented by 0-255 pixels, however,\n",
        "# that cannot be input for your model.\n",
        "plt.figure()\n",
        "plt.imshow(train_images[0])\n",
        "plt.colorbar()\n",
        "plt.grid(False)\n",
        "plt.show()"
      ],
      "execution_count": 10,
      "outputs": [
        {
          "output_type": "display_data",
          "data": {
            "image/png": "[encoded data removed]",
            "text/plain": [
              "<Figure size 432x288 with 2 Axes>"
            ]
          },
          "metadata": {
            "tags": [],
            "needs_background": "light"
          }
        }
      ]
    },
    {
      "cell_type": "markdown",
      "metadata": {
        "id": "sykv9wzZr12I",
        "colab_type": "text"
      },
      "source": [
        "Scale them to a range of 0 to 1 before loading them to the neural network model."
      ]
    },
    {
      "cell_type": "code",
      "metadata": {
        "id": "oCejEjI39_FS",
        "colab_type": "code",
        "colab": {}
      },
      "source": [
        "# Training and testing set have to be preprocessed in the same way.\n",
        "train_images = train_images / 255\n",
        "test_images = test_images / 255"
      ],
      "execution_count": 0,
      "outputs": []
    },
    {
      "cell_type": "markdown",
      "metadata": {
        "id": "KfCVLl2-t8L3",
        "colab_type": "text"
      },
      "source": [
        "To verify the data before building NN, display the first 25 images."
      ]
    },
    {
      "cell_type": "code",
      "metadata": {
        "id": "fKj70CDbuBPv",
        "colab_type": "code",
        "outputId": "9c6c1010-cb75-48df-b5b2-347df6613952",
        "colab": {
          "base_uri": "https://localhost:8080/",
          "height": 588
        }
      },
      "source": [
        "plt.figure(figsize=(10,10))\n",
        "for i in range(25):\n",
        "  plt.subplot(5,5,i+1)\n",
        "  plt.xticks([])\n",
        "  plt.yticks([])\n",
        "  plt.grid(False)\n",
        "  plt.imshow(train_images[i], cmap=plt.cm.binary)\n",
        "  plt.xlabel(class_names[train_labels[i]])\n",
        "plt.show()"
      ],
      "execution_count": 12,
      "outputs": [
        {
          "output_type": "display_data",
          "data": {
            "image/png": "[encoded data removed]",
            "text/plain": [
              "<Figure size 720x720 with 25 Axes>"
            ]
          },
          "metadata": {
            "tags": []
          }
        }
      ]
    },
    {
      "cell_type": "markdown",
      "metadata": {
        "id": "nXgHyjSIvXu6",
        "colab_type": "text"
      },
      "source": [
        "Model building."
      ]
    },
    {
      "cell_type": "markdown",
      "metadata": {
        "id": "sCl8cctX1dY1",
        "colab_type": "text"
      },
      "source": [
        "I. Set up the layers."
      ]
    },
    {
      "cell_type": "code",
      "metadata": {
        "id": "NtsXJw5B1Fh4",
        "colab_type": "code",
        "outputId": "9561ac0b-9766-438e-a332-fa8da5d2df99",
        "colab": {
          "base_uri": "https://localhost:8080/",
          "height": 32
        }
      },
      "source": [
        "from keras.layers.normalization import BatchNormalization\n",
        "\n",
        "model = keras.Sequential([\n",
        "                        # Flatten layer is unstacking rows of pixels in the \n",
        "                        # image and lining them up - 784 pixels. \n",
        "                         keras.layers.Flatten(input_shape=(28,28)),\n",
        "                        # The first Dense layer has 128 nodes (or neurons). \n",
        "                        # The second (and last) layer returns a logits array \n",
        "                        # with length of 10. Each node contains a score indicating\n",
        "                        # the current image belongs to one of the 10 classes.\n",
        "                        # Dense = fully connected layer.\n",
        "\n",
        "                        # The more neurons you have, the more features they\n",
        "                        # can recognise.\n",
        "\n",
        "                        # 2 Dense layers with ReLU - test accuracy: 0.8843\n",
        "                         keras.layers.Dense(128, activation='relu'),\n",
        "                        # 3 Dense layers - Test accuracy 0.8817999958992004\n",
        "                         keras.layers.Dense(10) \n",
        "])"
      ],
      "execution_count": 13,
      "outputs": [
        {
          "output_type": "stream",
          "text": [
            "Using TensorFlow backend.\n"
          ],
          "name": "stderr"
        }
      ]
    },
    {
      "cell_type": "markdown",
      "metadata": {
        "id": "nstBj199Bdnm",
        "colab_type": "text"
      },
      "source": [
        "II. Compile the model."
      ]
    },
    {
      "cell_type": "code",
      "metadata": {
        "id": "vbmlTT_JBlF7",
        "colab_type": "code",
        "colab": {}
      },
      "source": [
        "# Loss function —This measures how accurate the model is during training. \n",
        "# You want to minimize this function to \"steer\" the model in the right direction.\n",
        "# Optimizer —This is how the model is updated based on the data it sees and its \n",
        "# loss function.\n",
        "# Metrics —Used to monitor the training and testing steps. The following example \n",
        "# uses accuracy, the fraction of the images that are correctly classified.\n",
        "\n",
        "model.compile(optimizer='adam',\n",
        "              loss=tf.keras.losses.SparseCategoricalCrossentropy(from_logits=True),\n",
        "              metrics=['accuracy'])"
      ],
      "execution_count": 0,
      "outputs": []
    },
    {
      "cell_type": "markdown",
      "metadata": {
        "id": "ZKxpEFDDCr1w",
        "colab_type": "text"
      },
      "source": [
        "III. Train the model."
      ]
    },
    {
      "cell_type": "markdown",
      "metadata": {
        "id": "pxXG1LZbDGwp",
        "colab_type": "text"
      },
      "source": [
        "A) Feed the training data to the model. In this example, the training data is in the train_images and train_labels arrays."
      ]
    },
    {
      "cell_type": "code",
      "metadata": {
        "id": "509bFgQHDQlO",
        "colab_type": "code",
        "outputId": "0bcb25da-5cc8-4abc-c5f5-e71af14ce59e",
        "colab": {
          "base_uri": "https://localhost:8080/",
          "height": 362
        }
      },
      "source": [
        "model.fit(train_images, train_labels, epochs=10)"
      ],
      "execution_count": 15,
      "outputs": [
        {
          "output_type": "stream",
          "text": [
            "Epoch 1/10\n",
            "1875/1875 [==============================] - 3s 2ms/step - loss: 0.5013 - accuracy: 0.8219\n",
            "Epoch 2/10\n",
            "1875/1875 [==============================] - 3s 2ms/step - loss: 0.3717 - accuracy: 0.8664\n",
            "Epoch 3/10\n",
            "1875/1875 [==============================] - 3s 2ms/step - loss: 0.3345 - accuracy: 0.8774\n",
            "Epoch 4/10\n",
            "1875/1875 [==============================] - 3s 2ms/step - loss: 0.3113 - accuracy: 0.8862\n",
            "Epoch 5/10\n",
            "1875/1875 [==============================] - 3s 2ms/step - loss: 0.2938 - accuracy: 0.8918\n",
            "Epoch 6/10\n",
            "1875/1875 [==============================] - 3s 2ms/step - loss: 0.2763 - accuracy: 0.8979\n",
            "Epoch 7/10\n",
            "1875/1875 [==============================] - 3s 2ms/step - loss: 0.2675 - accuracy: 0.8997\n",
            "Epoch 8/10\n",
            "1875/1875 [==============================] - 3s 2ms/step - loss: 0.2554 - accuracy: 0.9057\n",
            "Epoch 9/10\n",
            "1875/1875 [==============================] - 3s 2ms/step - loss: 0.2432 - accuracy: 0.9098\n",
            "Epoch 10/10\n",
            "1875/1875 [==============================] - 3s 2ms/step - loss: 0.2376 - accuracy: 0.9124\n"
          ],
          "name": "stdout"
        },
        {
          "output_type": "execute_result",
          "data": {
            "text/plain": [
              "<tensorflow.python.keras.callbacks.History at 0x7f13799e17b8>"
            ]
          },
          "metadata": {
            "tags": []
          },
          "execution_count": 15
        }
      ]
    },
    {
      "cell_type": "markdown",
      "metadata": {
        "id": "6mp0XmwJDb2I",
        "colab_type": "text"
      },
      "source": [
        "B) Evaluate accuracy of the model on test dataset."
      ]
    },
    {
      "cell_type": "code",
      "metadata": {
        "id": "h5UsMPb4Dhtr",
        "colab_type": "code",
        "outputId": "f598722c-ae37-4825-f816-4f59e1e63b81",
        "colab": {
          "base_uri": "https://localhost:8080/",
          "height": 65
        }
      },
      "source": [
        "# verbose=2 will just mention the number of epoch.\n",
        "test_loss, test_acc = model.evaluate(test_images, test_labels, verbose=2)\n",
        "print('\\nTest accuracy', test_acc)\n",
        "\n",
        "# It turns out that the accuracy on the test dataset is a little less than \n",
        "# the accuracy on the training dataset. This gap between training accuracy \n",
        "# and test accuracy represents overfitting. Overfitting happens when \n",
        "# a machine learning model performs worse on new, previously unseen inputs \n",
        "# than it does on the training data. An overfitted model \"memorizes\" the noise \n",
        "# and details in the training dataset to a point where it negatively impacts\n",
        "# the performance of the model on the new data."
      ],
      "execution_count": 16,
      "outputs": [
        {
          "output_type": "stream",
          "text": [
            "313/313 - 0s - loss: 0.3700 - accuracy: 0.8774\n",
            "\n",
            "Test accuracy 0.8773999810218811\n"
          ],
          "name": "stdout"
        }
      ]
    },
    {
      "cell_type": "markdown",
      "metadata": {
        "id": "JU1S-GRDExOO",
        "colab_type": "text"
      },
      "source": [
        "C) Make predictions."
      ]
    },
    {
      "cell_type": "code",
      "metadata": {
        "id": "mvFel7bkFDm6",
        "colab_type": "code",
        "colab": {}
      },
      "source": [
        "probability_model = tf.keras.Sequential([model,\n",
        "                                         tf.keras.layers.Softmax()])"
      ],
      "execution_count": 0,
      "outputs": []
    },
    {
      "cell_type": "code",
      "metadata": {
        "id": "kmV-U0D8FRAR",
        "colab_type": "code",
        "colab": {}
      },
      "source": [
        "predictions = probability_model.predict(test_images)"
      ],
      "execution_count": 0,
      "outputs": []
    },
    {
      "cell_type": "code",
      "metadata": {
        "id": "itNTqCuqFYwa",
        "colab_type": "code",
        "outputId": "0225549c-8aa1-4891-a774-d5c270691e1a",
        "colab": {
          "base_uri": "https://localhost:8080/",
          "height": 65
        }
      },
      "source": [
        "# Array of 10 numbers representing the confidence that the image corresponds\n",
        "# the 10 different articles of clothing.\n",
        "predictions[0]"
      ],
      "execution_count": 19,
      "outputs": [
        {
          "output_type": "execute_result",
          "data": {
            "text/plain": [
              "array([1.0611488e-05, 3.5021031e-09, 8.5514235e-10, 8.5902646e-10,\n",
              "       7.2129048e-08, 1.8296930e-03, 1.6496055e-07, 5.3902538e-03,\n",
              "       5.2266699e-07, 9.9276876e-01], dtype=float32)"
            ]
          },
          "metadata": {
            "tags": []
          },
          "execution_count": 19
        }
      ]
    },
    {
      "cell_type": "code",
      "metadata": {
        "id": "yuNch2AhFwsv",
        "colab_type": "code",
        "outputId": "011b7c7f-d014-4754-c8d0-e4e749c60425",
        "colab": {
          "base_uri": "https://localhost:8080/",
          "height": 32
        }
      },
      "source": [
        "# Which label has the highest confidence?\n",
        "np.argmax(predictions[0])\n",
        "# This label is for ankle boot, or class_names[9]."
      ],
      "execution_count": 20,
      "outputs": [
        {
          "output_type": "execute_result",
          "data": {
            "text/plain": [
              "9"
            ]
          },
          "metadata": {
            "tags": []
          },
          "execution_count": 20
        }
      ]
    },
    {
      "cell_type": "code",
      "metadata": {
        "id": "huj4woWnGJV-",
        "colab_type": "code",
        "outputId": "57ae24c4-9952-429e-f7a8-7ef05a7475f0",
        "colab": {
          "base_uri": "https://localhost:8080/",
          "height": 32
        }
      },
      "source": [
        "# Check if the model is correct.\n",
        "test_labels[0]"
      ],
      "execution_count": 21,
      "outputs": [
        {
          "output_type": "execute_result",
          "data": {
            "text/plain": [
              "9"
            ]
          },
          "metadata": {
            "tags": []
          },
          "execution_count": 21
        }
      ]
    },
    {
      "cell_type": "markdown",
      "metadata": {
        "id": "UUOsdGhowWnG",
        "colab_type": "text"
      },
      "source": [
        "Build a graph to look at the full set of 10 class predictions."
      ]
    },
    {
      "cell_type": "code",
      "metadata": {
        "id": "MMGNTEhQxV2f",
        "colab_type": "code",
        "colab": {}
      },
      "source": [
        "def plot_image(i, predictions_array, true_label, img):\n",
        "  predictions_array, true_label, img = predictions_array, true_label[i], img[i]\n",
        "  plt.grid(False)\n",
        "  plt.xticks([])\n",
        "  plt.yticks([])\n",
        "\n",
        "  plt.imshow(img, cmap=plt.cm.binary)\n",
        "\n",
        "  predicted_label = np.argmax(predictions_array)\n",
        "  if predicted_label == true_label:\n",
        "    color = 'blue'\n",
        "  else:\n",
        "    color = 'red'\n",
        "\n",
        "  plt.xlabel(\"{} {:2.0f}% ({})\".format(class_names[predicted_label],\n",
        "                                100*np.max(predictions_array),\n",
        "                                class_names[true_label]),\n",
        "                                color=color)\n",
        "def plot_value_array(i, predictions_array, true_label):\n",
        "  predictions_array, true_label = predictions_array, true_label[i]\n",
        "  plt.grid(False)\n",
        "  plt.xticks(range(10))\n",
        "  plt.yticks([])\n",
        "  thisplot = plt.bar(range(10), predictions_array, color='#777777')\n",
        "  plt.ylim([0,1])\n",
        "  predicted_label = np.argmax(predictions_array)\n",
        "\n",
        "  thisplot[predicted_label].set_color('red')\n",
        "  thisplot[true_label].set_color('blue')"
      ],
      "execution_count": 0,
      "outputs": []
    },
    {
      "cell_type": "markdown",
      "metadata": {
        "id": "EbK9IMT7HKrP",
        "colab_type": "text"
      },
      "source": [
        "Verify predictions about some images."
      ]
    },
    {
      "cell_type": "code",
      "metadata": {
        "id": "qSPrV6HlHNtW",
        "colab_type": "code",
        "outputId": "fcddf027-127c-462a-c8d2-e8946788ad4f",
        "colab": {
          "base_uri": "https://localhost:8080/",
          "height": 209
        }
      },
      "source": [
        "i = 0\n",
        "plt.figure(figsize=(6,3))\n",
        "plt.subplot(1,2,1)\n",
        "plot_image(i, predictions[i], test_labels, test_images)\n",
        "plt.subplot(1,2,2)\n",
        "plot_value_array(i, predictions[i], test_labels)\n",
        "plt.show()"
      ],
      "execution_count": 23,
      "outputs": [
        {
          "output_type": "display_data",
          "data": {
            "image/png": "[encoded data removed]",
            "text/plain": [
              "<Figure size 432x216 with 2 Axes>"
            ]
          },
          "metadata": {
            "tags": [],
            "needs_background": "light"
          }
        }
      ]
    },
    {
      "cell_type": "code",
      "metadata": {
        "id": "SbDpsjCdH2wR",
        "colab_type": "code",
        "outputId": "24fd6328-eee4-4ed5-f6d9-a69a5c28bda3",
        "colab": {
          "base_uri": "https://localhost:8080/",
          "height": 209
        }
      },
      "source": [
        "i = 12\n",
        "plt.figure(figsize=(6,3))\n",
        "plt.subplot(1,2,1)\n",
        "plot_image(i, predictions[i], test_labels, test_images)\n",
        "plt.subplot(1,2,2)\n",
        "plot_value_array(i, predictions[i], test_labels)"
      ],
      "execution_count": 24,
      "outputs": [
        {
          "output_type": "display_data",
          "data": {
            "image/png": "[encoded data removed]",
            "text/plain": [
              "<Figure size 432x216 with 2 Axes>"
            ]
          },
          "metadata": {
            "tags": [],
            "needs_background": "light"
          }
        }
      ]
    },
    {
      "cell_type": "markdown",
      "metadata": {
        "id": "EN-P3YSLJeSn",
        "colab_type": "text"
      },
      "source": [
        "Plot images with their predictions."
      ]
    },
    {
      "cell_type": "code",
      "metadata": {
        "id": "3lj7-ROJJiYG",
        "colab_type": "code",
        "outputId": "e254b40a-dbd2-4cab-ea49-6d7f0289640a",
        "colab": {
          "base_uri": "https://localhost:8080/",
          "height": 728
        }
      },
      "source": [
        "num_rows = 5\n",
        "num_cols = 3\n",
        "num_images = num_rows*num_cols\n",
        "plt.figure(figsize=(2*2*num_cols, 2*num_rows))\n",
        "for i in range(num_images):\n",
        "  plt.subplot(num_rows, 2*num_cols, 2*i+1)\n",
        "  plot_image(i, predictions[i], test_labels, test_images)\n",
        "  plt.subplot(num_rows, 2*num_cols, 2*i+2)\n",
        "  plot_value_array(i, predictions[i], test_labels)\n",
        "plt.tight_layout()\n",
        "plt.show()"
      ],
      "execution_count": 25,
      "outputs": [
        {
          "output_type": "display_data",
          "data": {
            "image/png": "[encoded data removed]",
            "text/plain": [
              "<Figure size 864x720 with 30 Axes>"
            ]
          },
          "metadata": {
            "tags": [],
            "needs_background": "light"
          }
        }
      ]
    },
    {
      "cell_type": "markdown",
      "metadata": {
        "id": "nm03GtFiMJmM",
        "colab_type": "text"
      },
      "source": [
        "Use trained model to predict a single image."
      ]
    },
    {
      "cell_type": "code",
      "metadata": {
        "id": "OEwJ7QcqMQtT",
        "colab_type": "code",
        "outputId": "d1e31fa1-8c69-412e-cbea-15fe51a7100f",
        "colab": {
          "base_uri": "https://localhost:8080/",
          "height": 32
        }
      },
      "source": [
        "img = test_images[1]\n",
        "print(img.shape)"
      ],
      "execution_count": 26,
      "outputs": [
        {
          "output_type": "stream",
          "text": [
            "(28, 28)\n"
          ],
          "name": "stdout"
        }
      ]
    },
    {
      "cell_type": "code",
      "metadata": {
        "id": "IW0aXQ77NYLL",
        "colab_type": "code",
        "outputId": "12065d68-0d9b-4ac3-d25a-05eaa832326a",
        "colab": {
          "base_uri": "https://localhost:8080/",
          "height": 32
        }
      },
      "source": [
        "# Add the image to a batch where it's the only member.\n",
        "img = (np.expand_dims(img, 0))\n",
        "print(img.shape)"
      ],
      "execution_count": 27,
      "outputs": [
        {
          "output_type": "stream",
          "text": [
            "(1, 28, 28)\n"
          ],
          "name": "stdout"
        }
      ]
    },
    {
      "cell_type": "code",
      "metadata": {
        "id": "ffR8Gk5JNYHV",
        "colab_type": "code",
        "outputId": "e240a992-63bb-47bd-e2ca-870965dde098",
        "colab": {
          "base_uri": "https://localhost:8080/",
          "height": 49
        }
      },
      "source": [
        "# Predict the correct label for the image.\n",
        "predictions_single = probability_model.predict(img)\n",
        "print(predictions_single)"
      ],
      "execution_count": 28,
      "outputs": [
        {
          "output_type": "stream",
          "text": [
            "[[1.1697769e-04 1.3878648e-16 9.9849868e-01 5.1709136e-12 3.9891197e-04\n",
            "  4.5445930e-10 9.8541321e-04 2.8270055e-14 1.2223297e-11 1.9682304e-17]]\n"
          ],
          "name": "stdout"
        }
      ]
    },
    {
      "cell_type": "code",
      "metadata": {
        "id": "n8D3HOVFNu2O",
        "colab_type": "code",
        "outputId": "4939d47e-1ba0-4ddb-dee1-d76448789f7d",
        "colab": {
          "base_uri": "https://localhost:8080/",
          "height": 298
        }
      },
      "source": [
        "plot_value_array(1, predictions_single[0], test_labels)\n",
        "_ = plt.xticks(range(10), class_names, rotation=45)"
      ],
      "execution_count": 29,
      "outputs": [
        {
          "output_type": "display_data",
          "data": {
            "image/png": "[encoded data removed]",
            "text/plain": [
              "<Figure size 432x288 with 1 Axes>"
            ]
          },
          "metadata": {
            "tags": [],
            "needs_background": "light"
          }
        }
      ]
    },
    {
      "cell_type": "code",
      "metadata": {
        "id": "qkw_CT8kOFzo",
        "colab_type": "code",
        "outputId": "9c2bf0ab-2197-4c05-f686-b17e996027d0",
        "colab": {
          "base_uri": "https://localhost:8080/",
          "height": 32
        }
      },
      "source": [
        "# Returns a list of lists—one list for each image in the batch of data. \n",
        "# Grab the predictions for our (only) image in the batch:\n",
        "np.argmax(predictions_single[0])"
      ],
      "execution_count": 30,
      "outputs": [
        {
          "output_type": "execute_result",
          "data": {
            "text/plain": [
              "2"
            ]
          },
          "metadata": {
            "tags": []
          },
          "execution_count": 30
        }
      ]
    }
  ]
}