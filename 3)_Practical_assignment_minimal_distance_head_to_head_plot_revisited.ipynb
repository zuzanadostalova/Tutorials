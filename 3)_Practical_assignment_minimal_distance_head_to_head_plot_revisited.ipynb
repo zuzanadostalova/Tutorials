{
  "nbformat": 4,
  "nbformat_minor": 0,
  "metadata": {
    "colab": {
      "name": "3) Practical assignment - minimal distance head to head plot revisited.ipynb",
      "provenance": [],
      "collapsed_sections": [],
      "toc_visible": true,
      "authorship_tag": "ABX9TyM31ojvPY7HzBf5nj8xZPMf",
      "include_colab_link": true
    },
    "kernelspec": {
      "name": "python3",
      "display_name": "Python 3"
    }
  },
  "cells": [
    {
      "cell_type": "markdown",
      "metadata": {
        "id": "view-in-github",
        "colab_type": "text"
      },
      "source": [
        "<a href=\"https://colab.research.google.com/github/zuzanadostalova/Tutorials/blob/master/3)_Practical_assignment_minimal_distance_head_to_head_plot_revisited.ipynb\" target=\"_parent\"><img src=\"https://colab.research.google.com/assets/colab-badge.svg\" alt=\"Open In Colab\"/></a>"
      ]
    },
    {
      "cell_type": "markdown",
      "metadata": {
        "id": "vfygn_F9kPS1",
        "colab_type": "text"
      },
      "source": [
        "# **Assignment**:\n",
        "\n",
        "Count the head to head (5' end to 5' end) distance between reads in the BED file containing FUS gene from Homo sapiens K562 (https://www.encodeproject.org/files/ENCFF861KMV/). Plot the distribution of the distances between reads.\n",
        "\n",
        "> I. Download the BED file, unzip it.\n",
        "\n",
        "> II. Sort it in an ascending order by the chromosome name and the start coordinate.\n",
        "\n",
        "> III. Create a dictionary with reads separated into those on the plus and those on the minus strand. \n",
        "\n",
        "> IV. Create a dictionary with the chromosomes, strands, and the smallest head to head distance between the reads.\n",
        "\n",
        "> V. Create a dataframe.\n",
        "\n",
        "> VI. Plot the distribution of the minimal distance between the reads.\n",
        "\n",
        "**Note**: BED file is a zero-based and half-open coordinate system; the index counting starts from 0 and the last index of the chromosome end is excluded.\n",
        "\n",
        "Read more at:\n",
        "[UCSC](http://genome.ucsc.edu/blog/the-ucsc-genome-browser-coordinate-counting-systems/) | \n",
        "[link1](https://plastid.readthedocs.io/en/latest/concepts/coordinates.html#start-end) | \n",
        "[link2](https://arnaudceol.wordpress.com/2014/09/18/chromosome-coordinate-systems-0-based-1-based/)"
      ]
    },
    {
      "cell_type": "markdown",
      "metadata": {
        "id": "cW2h0Rf621Qy",
        "colab_type": "text"
      },
      "source": [
        "# **Distribution of the head to head distance between reads - step by step approach.**"
      ]
    },
    {
      "cell_type": "markdown",
      "metadata": {
        "id": "9c9vihGNdoDC",
        "colab_type": "text"
      },
      "source": [
        "## I. Download the BED file. \n",
        "\n",
        "Define a function that downloads and saves  BED file from URL."
      ]
    },
    {
      "cell_type": "code",
      "metadata": {
        "id": "4ODmzD8iBSi9",
        "colab_type": "code",
        "outputId": "f4b195f5-bf08-4bd6-d753-8d77a22dd31a",
        "colab": {
          "base_uri": "https://localhost:8080/",
          "height": 32
        }
      },
      "source": [
        "# Import get and decompress functions which you will need for the BED reader function.\n",
        "from requests import get\n",
        "from gzip import decompress\n",
        "\n",
        "# Define a function that will download the compressed (gz) BED file,\n",
        "# and it will decompress it to text.\n",
        "# Helper function get_gzipped_bed_ is inside the main bed_reader function.\n",
        "def bed_reader(target_url, output_name):\n",
        "  def get_gzipped_bed_(target_url):\n",
        "    downloaded_bed = get(target_url).content\n",
        "    decompressed_bed = decompress(downloaded_bed)\n",
        "    bed_file_human_readable = decompressed_bed.decode()\n",
        "    return bed_file_human_readable\n",
        "  bed_file = get_gzipped_bed_(target_url)\n",
        "  # Create a file python object (f) on the virtual machine disk as output_name. \n",
        "  # Inside this empty f write the content of your bed_file variable.\n",
        "  with open(output_name, \"w\") as f:\n",
        "    f.write(bed_file)\n",
        "  \n",
        "  return output_name\n",
        "\n",
        "# Call the outer function and provide two arguments to it - url and arbitrary \n",
        "# output name.\n",
        "local_bed_file = bed_reader(\"https://www.encodeproject.org/files/ENCFF861KMV/@@download/ENCFF861KMV.bed.gz\", \n",
        "           \"ENCFF861KMV.bed\")\n",
        "# Your bed\n",
        "print(\"BED file saved as:\", local_bed_file)"
      ],
      "execution_count": 1,
      "outputs": [
        {
          "output_type": "stream",
          "text": [
            "BED file saved as: ENCFF861KMV.bed\n"
          ],
          "name": "stdout"
        }
      ]
    },
    {
      "cell_type": "markdown",
      "metadata": {
        "id": "3xxejnPwd_qC",
        "colab_type": "text"
      },
      "source": [
        "## II. Sort the BED file. \n",
        "\n",
        "Sort the BED file in the ascending order by the chromosome name and the start coordinate. You have three options - you can use either A) Unix system call, B) Pandas, or C) Pybed tools."
      ]
    },
    {
      "cell_type": "markdown",
      "metadata": {
        "id": "-UWla4TzQq0T",
        "colab_type": "text"
      },
      "source": [
        "A. Unix system call."
      ]
    },
    {
      "cell_type": "code",
      "metadata": {
        "id": "YX4SkUoWQXQf",
        "colab_type": "code",
        "outputId": "82c0c9ea-57da-4633-eae4-ab06bc15cb47",
        "colab": {
          "base_uri": "https://localhost:8080/",
          "height": 181
        }
      },
      "source": [
        "# Sort out the BED file by the first column (chromosome name) -k1 and the second \n",
        "# column (start coordinate) -k2. n argument specify sorting in numeric order.\n",
        "# Save the sorted content in a new file. \n",
        "!sort -k1,1 -k2,2n ENCFF861KMV.bed > ENCFF861KMV.sorted.bed\n",
        "\n",
        "# show first n == 10 lines of sorted bed file\n",
        "!head -n 10 ENCFF861KMV.sorted.bed"
      ],
      "execution_count": 2,
      "outputs": [
        {
          "output_type": "stream",
          "text": [
            "chr1\t632546\t632615\tFUS_K562_IDR\t1000\t+\t3.82686687508738\t6.50783294676379\t-1\t-1\n",
            "chr1\t965337\t965476\tFUS_K562_IDR\t1000\t+\t3.12362327712992\t3.53719425627146\t-1\t-1\n",
            "chr1\t1035440\t1035512\tFUS_K562_IDR\t1000\t+\t3.18112338442576\t3.83337927656262\t-1\t-1\n",
            "chr1\t1035894\t1035948\tFUS_K562_IDR\t1000\t+\t3.73779412096374\t3.59568021751587\t-1\t-1\n",
            "chr1\t1035967\t1036051\tFUS_K562_IDR\t1000\t+\t3.18200361335799\t6.044609576236\t-1\t-1\n",
            "chr1\t1036331\t1036425\tFUS_K562_IDR\t1000\t+\t3.5903003449292\t6.29667912525784\t-1\t-1\n",
            "chr1\t1036540\t1036620\tFUS_K562_IDR\t1000\t+\t3.23250781628894\t4.57625554730423\t-1\t-1\n",
            "chr1\t1036926\t1036982\tFUS_K562_IDR\t1000\t+\t3.79964298307618\t3.18534281531791\t-1\t-1\n",
            "chr1\t1037116\t1037181\tFUS_K562_IDR\t1000\t+\t3.27222505003613\t4.18593355349903\t-1\t-1\n",
            "chr1\t1037598\t1037673\tFUS_K562_IDR\t1000\t+\t3.44942312400564\t5.14061189005205\t-1\t-1\n"
          ],
          "name": "stdout"
        }
      ]
    },
    {
      "cell_type": "markdown",
      "metadata": {
        "id": "xDmfQhdvQvtE",
        "colab_type": "text"
      },
      "source": [
        "B. Convert BED file to Pandas dataframe."
      ]
    },
    {
      "cell_type": "code",
      "metadata": {
        "id": "xdN6pVgndImP",
        "colab_type": "code",
        "colab": {}
      },
      "source": [
        "# Use pandas.DataFrame.sort_values(by=[\"chrom\", \"start\"]).\n",
        "import pandas as pd\n",
        "\n",
        "# Create a pandas dataframe. Specify different type of arguments separator, \n",
        "# and names of the columns.\n",
        "dataframe = pd.read_csv(\n",
        "    local_bed_file, sep=\"\\t\", \n",
        "    names=[\n",
        "    \"chrom_name\", \"start\", \"end\", \"name\", \"score\", \"strand\", \"7\", \"8\", \"9\", \"10\"]\n",
        "    )\n",
        "\n",
        "# Sort the dataframe by chromosome name and start coordinate. If inplace=False,\n",
        "# return a new dataframe.\n",
        "dataframe.sort_values(by=[\"chrom_name\", \"start\"], inplace=True)"
      ],
      "execution_count": 0,
      "outputs": []
    },
    {
      "cell_type": "markdown",
      "metadata": {
        "id": "4B0SFUAkdpAb",
        "colab_type": "text"
      },
      "source": [
        "Alternatively, you could download and decompress the BED file directly from the url."
      ]
    },
    {
      "cell_type": "code",
      "metadata": {
        "id": "2lZL0r79PQM3",
        "colab_type": "code",
        "colab": {}
      },
      "source": [
        "# Use pandas.DataFrame.sort_values(by=[\"chrom\", \"start\"]).\n",
        "import pandas as pd\n",
        "\n",
        "# Specify the target URL.\n",
        "target_url = (\"https://www.encodeproject.org/files/ENCFF861KMV/\" +\n",
        "              \"@@download/ENCFF861KMV.bed.gz\")\n",
        "\n",
        "# Create a pandas dataframe. Specify different type of arguments - url, decompression,\n",
        "# separator, and names of the columns.\n",
        "# Pandas can read csv and decompress a file from url. \n",
        "dataframe = pd.read_csv(\n",
        "    target_url, compression=\"gzip\", sep=\"\\t\", \n",
        "    names=[\n",
        "    \"chrom_name\", \"start\", \"end\", \"name\", \"score\", \"strand\", \"7\", \"8\", \"9\", \"10\"]\n",
        "    )\n",
        "\n",
        "# Sort the dataframe by chromosome name and start coordinate. If inplace=False,\n",
        "# return a new dataframe.\n",
        "dataframe.sort_values(by=[\"chrom_name\", \"start\"], inplace=True)"
      ],
      "execution_count": 0,
      "outputs": []
    },
    {
      "cell_type": "code",
      "metadata": {
        "colab_type": "code",
        "outputId": "587d27fa-b9a9-4760-d334-89861c1ed14d",
        "id": "h48N_I03CwpS",
        "colab": {
          "base_uri": "https://localhost:8080/",
          "height": 170
        }
      },
      "source": [
        "dataframe[dataframe.chrom_name==\"chr14_GL000194v1_random\"]"
      ],
      "execution_count": 0,
      "outputs": [
        {
          "output_type": "execute_result",
          "data": {
            "text/html": [
              "<div>\n",
              "<style scoped>\n",
              "    .dataframe tbody tr th:only-of-type {\n",
              "        vertical-align: middle;\n",
              "    }\n",
              "\n",
              "    .dataframe tbody tr th {\n",
              "        vertical-align: top;\n",
              "    }\n",
              "\n",
              "    .dataframe thead th {\n",
              "        text-align: right;\n",
              "    }\n",
              "</style>\n",
              "<table border=\"1\" class=\"dataframe\">\n",
              "  <thead>\n",
              "    <tr style=\"text-align: right;\">\n",
              "      <th></th>\n",
              "      <th>chrom_name</th>\n",
              "      <th>start</th>\n",
              "      <th>end</th>\n",
              "      <th>name</th>\n",
              "      <th>score</th>\n",
              "      <th>strand</th>\n",
              "      <th>7</th>\n",
              "      <th>8</th>\n",
              "      <th>9</th>\n",
              "      <th>10</th>\n",
              "    </tr>\n",
              "  </thead>\n",
              "  <tbody>\n",
              "    <tr>\n",
              "      <th>1550</th>\n",
              "      <td>chr14_GL000194v1_random</td>\n",
              "      <td>71973</td>\n",
              "      <td>72081</td>\n",
              "      <td>FUS_K562_IDR</td>\n",
              "      <td>1000</td>\n",
              "      <td>-</td>\n",
              "      <td>3.199708</td>\n",
              "      <td>6.216844</td>\n",
              "      <td>-1</td>\n",
              "      <td>-1</td>\n",
              "    </tr>\n",
              "    <tr>\n",
              "      <th>4035</th>\n",
              "      <td>chr14_GL000194v1_random</td>\n",
              "      <td>72100</td>\n",
              "      <td>72223</td>\n",
              "      <td>FUS_K562_IDR</td>\n",
              "      <td>1000</td>\n",
              "      <td>-</td>\n",
              "      <td>5.213339</td>\n",
              "      <td>10.711438</td>\n",
              "      <td>-1</td>\n",
              "      <td>-1</td>\n",
              "    </tr>\n",
              "    <tr>\n",
              "      <th>1033</th>\n",
              "      <td>chr14_GL000194v1_random</td>\n",
              "      <td>72391</td>\n",
              "      <td>72500</td>\n",
              "      <td>FUS_K562_IDR</td>\n",
              "      <td>1000</td>\n",
              "      <td>-</td>\n",
              "      <td>3.217303</td>\n",
              "      <td>6.216844</td>\n",
              "      <td>-1</td>\n",
              "      <td>-1</td>\n",
              "    </tr>\n",
              "    <tr>\n",
              "      <th>2820</th>\n",
              "      <td>chr14_GL000194v1_random</td>\n",
              "      <td>72713</td>\n",
              "      <td>72783</td>\n",
              "      <td>FUS_K562_IDR</td>\n",
              "      <td>1000</td>\n",
              "      <td>-</td>\n",
              "      <td>3.538473</td>\n",
              "      <td>5.495166</td>\n",
              "      <td>-1</td>\n",
              "      <td>-1</td>\n",
              "    </tr>\n",
              "  </tbody>\n",
              "</table>\n",
              "</div>"
            ],
            "text/plain": [
              "                   chrom_name  start    end  ...          8  9 10\n",
              "1550  chr14_GL000194v1_random  71973  72081  ...   6.216844 -1 -1\n",
              "4035  chr14_GL000194v1_random  72100  72223  ...  10.711438 -1 -1\n",
              "1033  chr14_GL000194v1_random  72391  72500  ...   6.216844 -1 -1\n",
              "2820  chr14_GL000194v1_random  72713  72783  ...   5.495166 -1 -1\n",
              "\n",
              "[4 rows x 10 columns]"
            ]
          },
          "metadata": {
            "tags": []
          },
          "execution_count": 121
        }
      ]
    },
    {
      "cell_type": "markdown",
      "metadata": {
        "id": "nft3RIMDQ4KB",
        "colab_type": "text"
      },
      "source": [
        "C. Use pybedtools.\n",
        "\n",
        "pybedtools wraps and extends [BEDTools](https://bedtools.readthedocs.io/en/latest/) and offers feature-level manipulations from within Python.\n",
        "\n",
        "pybed tools documentation avalaible at [pybed tools](https://daler.github.io/pybedtools/index.html). First you need to install and set up pybedtools. You will use pybedtools.bedtool.BedTool.sort."
      ]
    },
    {
      "cell_type": "code",
      "metadata": {
        "id": "0sZH4iCaOcCc",
        "colab_type": "code",
        "outputId": "2c4a8cea-7c10-4532-dced-30a03bbd8d7c",
        "colab": {
          "base_uri": "https://localhost:8080/",
          "height": 164
        }
      },
      "source": [
        "# Install bedtools, check if bedtools are installed, and install pybedtools.\n",
        "! apt-get install bedtools\n",
        "! bedtools --version\n",
        "! pip install pybedtools"
      ],
      "execution_count": 5,
      "outputs": [
        {
          "output_type": "stream",
          "text": [
            "Reading package lists... Done\n",
            "Building dependency tree       \n",
            "Reading state information... Done\n",
            "bedtools is already the newest version (2.26.0+dfsg-5).\n",
            "0 upgraded, 0 newly installed, 0 to remove and 25 not upgraded.\n",
            "bedtools v2.26.0\n",
            "Requirement already satisfied: pybedtools in /usr/local/lib/python3.6/dist-packages (0.8.1)\n",
            "Requirement already satisfied: pysam in /usr/local/lib/python3.6/dist-packages (from pybedtools) (0.15.4)\n",
            "Requirement already satisfied: six in /usr/local/lib/python3.6/dist-packages (from pybedtools) (1.12.0)\n"
          ],
          "name": "stdout"
        }
      ]
    },
    {
      "cell_type": "code",
      "metadata": {
        "id": "FDPzKfswOUTA",
        "colab_type": "code",
        "outputId": "f76040b6-15b0-46ff-9e40-1c956bf170c3",
        "colab": {
          "base_uri": "https://localhost:8080/",
          "height": 411
        }
      },
      "source": [
        "# In case you have problems with the installation, you can first remove bedtools \n",
        "# and pybedtools so you can reinstall them again. \n",
        "\n",
        "# Skip this cell if bedtools and pybedtools installed and working!!!\n",
        "! apt-get remove  bedtools\n",
        "! pip uninstall pybedtools\n",
        "! pip uninstall bedtools"
      ],
      "execution_count": 0,
      "outputs": [
        {
          "output_type": "stream",
          "text": [
            "Reading package lists... Done\n",
            "Building dependency tree       \n",
            "Reading state information... Done\n",
            "The following packages will be REMOVED:\n",
            "  bedtools\n",
            "0 upgraded, 0 newly installed, 1 to remove and 25 not upgraded.\n",
            "After this operation, 2,040 kB disk space will be freed.\n",
            "(Reading database ... 144619 files and directories currently installed.)\n",
            "Removing bedtools (2.26.0+dfsg-5) ...\n",
            "Uninstalling pybedtools-0.8.1:\n",
            "  Would remove:\n",
            "    /usr/local/bin/annotate.py\n",
            "    /usr/local/bin/intersection_matrix.py\n",
            "    /usr/local/bin/intron_exon_reads.py\n",
            "    /usr/local/bin/pbt_plotting_example.py\n",
            "    /usr/local/bin/peak_pie.py\n",
            "    /usr/local/bin/pybedtools\n",
            "    /usr/local/bin/venn_gchart.py\n",
            "    /usr/local/bin/venn_mpl.py\n",
            "    /usr/local/lib/python3.6/dist-packages/pybedtools-0.8.1.dist-info/*\n",
            "    /usr/local/lib/python3.6/dist-packages/pybedtools/*\n",
            "Proceed (y/n)? y\n",
            "  Successfully uninstalled pybedtools-0.8.1\n",
            "\u001b[33mWARNING: Skipping bedtools as it is not installed.\u001b[0m\n"
          ],
          "name": "stdout"
        }
      ]
    },
    {
      "cell_type": "markdown",
      "metadata": {
        "id": "0MheN_tqcIx_",
        "colab_type": "text"
      },
      "source": [
        "Use the installed pybedtools package to sort the BED file."
      ]
    },
    {
      "cell_type": "code",
      "metadata": {
        "id": "jk3qI9uiJXFo",
        "colab_type": "code",
        "colab": {}
      },
      "source": [
        "# Import pybedtools, from pybedtools import BedTool. Create a BedTool file object\n",
        "# from local_bed_file, store it in input_file. Sort the input file and save the\n",
        "# result in i variable.\n",
        "import pybedtools\n",
        "from pybedtools import BedTool\n",
        "input_file = pybedtools.BedTool(local_bed_file)\n",
        "i = input_file.sort()"
      ],
      "execution_count": 0,
      "outputs": []
    },
    {
      "cell_type": "markdown",
      "metadata": {
        "id": "GwYwjSiQeJZ8",
        "colab_type": "text"
      },
      "source": [
        "## III. Create a dictionary with reads separated into those on the plus and those on the minus strand.\n",
        "\n",
        "`{chrom_name : { strand : 5'-coordinate }}`"
      ]
    },
    {
      "cell_type": "markdown",
      "metadata": {
        "id": "7VuS73lxoLX2",
        "colab_type": "text"
      },
      "source": [
        "A. Unix system call."
      ]
    },
    {
      "cell_type": "code",
      "metadata": {
        "id": "w1fBQTXc2Jf6",
        "colab_type": "code",
        "colab": {}
      },
      "source": [
        "# Create an empty dictionary. \n",
        "dict_r_unix = {}\n",
        "# Open sorted BED file.\n",
        "with open(\"ENCFF861KMV.sorted.bed\", \"r\") as text:\n",
        "  # Read the content line by line.\n",
        "  for line in text.readlines():\n",
        "    # Define column, chrom_name, start, end, and strand.\n",
        "    column = line.strip().split(\"\\t\")\n",
        "    chrom_name = column[0]\n",
        "    start = int(column[1])\n",
        "    end = int(column[2])\n",
        "    strand = column[5]\n",
        "    # If the chromosome name exists in the dictionary already,\n",
        "    # put the strand inside without creating a new dictionary\n",
        "    # with the same chromosome name.\n",
        "    if chrom_name in dict_r_unix:\n",
        "      # If the dictionary strand already exists in the dictionary \n",
        "      # chromosome name, put the end/start inside it without creating\n",
        "      # a new strand key.\n",
        "      if strand in dict_r_unix[chrom_name]:\n",
        "        # In case of the plus strand, append start coordinate to the list where \n",
        "        # is the 5' end (head).\n",
        "        if strand == \"+\":\n",
        "          dict_r_unix[chrom_name][strand].append(start) \n",
        "        # If the strand is minus, append end to the list,\n",
        "        # the reason being that minus strand is in reversed\n",
        "        # order - end coordinate is the 5' end (head).\n",
        "        else:\n",
        "          dict_r_unix[chrom_name][strand].append(end)\n",
        "      # If the strand does not yet exist in\n",
        "      # the chromosome name dictionary, create it and create a list inside.\n",
        "      else:\n",
        "        dict_r_unix[chrom_name][strand] = []\n",
        "        # To fill the new strand dictionary,\n",
        "        # you need to provide also the code for strand dictionary\n",
        "        # creation, the +/- key, and the end/start coordinates\n",
        "        # inside the list.\n",
        "        if strand == \"+\":\n",
        "          dict_r_unix[chrom_name][strand].append(start) \n",
        "        else:\n",
        "          dict_r_unix[chrom_name][strand].append(end)\n",
        "    # If the chromosome name is not yet in the dictionary, \n",
        "    # create it.\n",
        "    else:\n",
        "      # Create a new dictionary inside the chromosome name\n",
        "      # dictionary.\n",
        "      dict_r_unix[chrom_name] = {}\n",
        "      # To fill the new chrom_name dictionary, you need to \n",
        "      # provide also the code for strand dictionary\n",
        "      # creation, the +/- key, and the end/start coordinates\n",
        "      # inside the list.\n",
        "      # The key of this dictionary is strand and the value\n",
        "      # is a new list.\n",
        "      dict_r_unix[chrom_name][strand] = []\n",
        "      # If the strand is plus, append start to the list.\n",
        "      if strand == \"+\":\n",
        "        dict_r_unix[chrom_name][strand].append(start) \n",
        "      # If the strand is minus, append end to the list.\n",
        "      else:\n",
        "        dict_r_unix[chrom_name][strand].append(end)\n",
        "\n",
        "# print(dict_r_unix) # Printing the dictionary with reads."
      ],
      "execution_count": 0,
      "outputs": []
    },
    {
      "cell_type": "markdown",
      "metadata": {
        "id": "-dv_-f0toVgx",
        "colab_type": "text"
      },
      "source": [
        "B. Pandas option."
      ]
    },
    {
      "cell_type": "code",
      "metadata": {
        "id": "Cvn3QBX1VUM7",
        "colab_type": "code",
        "colab": {}
      },
      "source": [
        "# Import defaultdict from collections. The advantage of defaultdict is that\n",
        "# even if it is empty, it does not raise a key error. This way, you avoid repeating \n",
        "# if..., else... conditions upon creation of chrom_name and strand keys.\n",
        "from collections import defaultdict\n",
        "\n",
        "# Create an empty defaultdict dictionary.\n",
        "dict_r_pandas = defaultdict(dict)\n",
        "\n",
        "# Group the chromosome name and strand together in group_name.\n",
        "# Iterate over the group name and group in the dataframe. \n",
        "for group_name, group in dataframe.groupby(['chrom_name', 'strand']):\n",
        "  chrom_name, strand = group_name\n",
        "  # If the strand is plus, add start to the list in the dictionary.\n",
        "  if strand == \"+\":\n",
        "    distances = group.start.tolist()\n",
        "  else:\n",
        "    # If the strand is minus, add end to the list in the dictionary.\n",
        "    distances = group.end.tolist()\n",
        "  # Create a chrom_name dictionary inside the dict_r_pandas dictionary, and\n",
        "  # put inside a strand as the key and distances as the value.\n",
        "  dict_r_pandas[chrom_name][strand] = distances\n",
        "\n",
        "# print(dict_r_pandas) # Printing the dictionary with reads."
      ],
      "execution_count": 0,
      "outputs": []
    },
    {
      "cell_type": "markdown",
      "metadata": {
        "id": "OAOPzNQDm3Oi",
        "colab_type": "text"
      },
      "source": [
        "C. Pybedtools option."
      ]
    },
    {
      "cell_type": "code",
      "metadata": {
        "id": "b7QlYaunRQpl",
        "colab_type": "code",
        "colab": {}
      },
      "source": [
        "# Create an empty dictionary. \n",
        "dict_r_pybed = {}\n",
        "# Open sorted BED file.\n",
        "with open(i.fn, \"r\") as text:\n",
        "  # Read the content line by line.\n",
        "  for line in text.readlines():\n",
        "    # Define column, chrom_name, start, end, and strand.\n",
        "    column = line.strip().split(\"\\t\")\n",
        "    chrom_name = column[0]\n",
        "    start = int(column[1])\n",
        "    end = int(column[2])\n",
        "    strand = column[5]\n",
        "    # If the chromosome name exists in the dictionary already,\n",
        "    # put the strand inside it without creating a new dictionary\n",
        "    # with the same chromosome name.\n",
        "    if chrom_name in dict_r_pybed:\n",
        "      # If the dictionary strand already exists in the dictionary \n",
        "      # chromosome name, put the end/start inside without creating\n",
        "      # a new strand key.\n",
        "      if strand in dict_r_pybed[chrom_name]:\n",
        "        # In case of the plus strand, append start coordinate to the list where \n",
        "        # is the 5' end (head).\n",
        "        if strand == \"+\":\n",
        "          dict_r_pybed[chrom_name][strand].append(start) \n",
        "        # If the strand is minus, append end to the list,\n",
        "        # the reason being that minus strand is in reversed\n",
        "        # order - start coordinate is the 5' end (head).\n",
        "        else:\n",
        "          dict_r_pybed[chrom_name][strand].append(end)\n",
        "      # If the strand does not yet exist in\n",
        "      # the chromosome name dictionary, create it and create a list inside.\n",
        "      else:\n",
        "        dict_r_pybed[chrom_name][strand] = []\n",
        "        # To fill the new strand dictionary,\n",
        "        # you need to provide also the code for strand dictionary\n",
        "        # creation, the +/- key, and the end/start coordinates\n",
        "        # inside the list.\n",
        "        if strand == \"+\":\n",
        "          dict_r_pybed[chrom_name][strand].append(start) \n",
        "        else:\n",
        "          dict_r_pybed[chrom_name][strand].append(end)\n",
        "    # If the chromosome name is not yet in the dictionary, \n",
        "    # create it.\n",
        "    else:\n",
        "      # Create a new dictionary inside the chromosome name\n",
        "      # dictionary.\n",
        "      dict_r_pybed[chrom_name] = {}\n",
        "      # To fill the new chrom_name dictionary, you need to \n",
        "      # provide also the code for strand dictionary\n",
        "      # creation, the +/- key, and the end/start coordinates\n",
        "      # inside the list.\n",
        "      # The key of this dictionary is strand and the value\n",
        "      # is a new list.\n",
        "      dict_r_pybed[chrom_name][strand] = []\n",
        "      # If the strand is plus, append start to the list.\n",
        "      if strand == \"+\":\n",
        "        dict_r_pybed[chrom_name][strand].append(start) \n",
        "      # If the strand is minus, append end to the list.\n",
        "      else:\n",
        "        dict_r_pybed[chrom_name][strand].append(end)\n",
        "\n",
        "# print(dict_r_pybed) # Printing the dictionary with reads."
      ],
      "execution_count": 0,
      "outputs": []
    },
    {
      "cell_type": "markdown",
      "metadata": {
        "id": "qTtr7h9fnFSc",
        "colab_type": "text"
      },
      "source": [
        "## IV. Create a dictionary with the chromosomes and the smallest head to head distance.\n",
        "\n",
        "{chrom_name : { strand : 5'-distance }}"
      ]
    },
    {
      "cell_type": "markdown",
      "metadata": {
        "id": "loXuuh2JRvRt",
        "colab_type": "text"
      },
      "source": [
        "There are two options how to avoid error when \"for\" loop reaches the end of the dictionary.\n",
        "\n",
        "1) Try and except IndexError approach."
      ]
    },
    {
      "cell_type": "markdown",
      "metadata": {
        "id": "8UwW_ixXsl6b",
        "colab_type": "text"
      },
      "source": [
        "A. Unix system call."
      ]
    },
    {
      "cell_type": "code",
      "metadata": {
        "id": "r-ietN5Ll7y-",
        "colab_type": "code",
        "colab": {}
      },
      "source": [
        "# Create an empty dictionary. \n",
        "dict_dis_unix = {}\n",
        "# For each chromosome in the dictionary of reads create a chrom_name in the new \n",
        "# dictionary of distance. Simultaneously, the lists for the plus and for the minus \n",
        "# strand will be created. Note: You need to define chrom_name variable again, \n",
        "# because it is not defined here yet - \"for chrom_name\".\n",
        "for chrom_name in dict_r_unix:\n",
        "  dict_dis_unix[chrom_name] = {\"+\" : list(), \"-\" : list()}\n",
        "  # Sort the plus and the minus strand into the corresponding list in the same manner \n",
        "  # as in the III. \n",
        "  for strand in dict_r_unix[chrom_name]:\n",
        "    if strand == \"+\":\n",
        "      # Once the for loop reaches the end of the dictionary, the error occurs\n",
        "      # because e + 1 is no more possible. This can be avoided by \"try\"\n",
        "      # and \"except IndexError\".\n",
        "      try:\n",
        "        # For index in the range from 0 to the last of the reads on the minus\n",
        "        # strand in the dictionary of reads.\n",
        "        for s in range(0,len(dict_r_unix[chrom_name][strand])): \n",
        "          # Subtract the left start (index) from the right start (index + 1).\n",
        "          # Append the obtained distance to the minus strand. Continue with the\n",
        "          # rest of the dictionary.\n",
        "          right_start = dict_r_unix[chrom_name][strand][s+1]          \n",
        "          left_start = dict_r_unix[chrom_name][strand][s]        \n",
        "          distance = right_start - left_start\n",
        "          dict_dis_unix[chrom_name][strand].append(distance)\n",
        "      except IndexError:\n",
        "        \"null\"\n",
        "    else:\n",
        "      try:\n",
        "        # For index in the range from 0 to the last of the reads on the plus\n",
        "        # strand in the dictionary of reads.\n",
        "        for e in range(0,len(dict_r_unix[chrom_name][strand])):\n",
        "          # Subtract the left end (index) from the right end (index + 1).\n",
        "          # Append the obtained distance to the plus strand. Continue with the\n",
        "          # rest of the dictionary.\n",
        "          right_end = dict_r_unix[chrom_name][strand][e+1]          \n",
        "          left_end = dict_r_unix[chrom_name][strand][e]        \n",
        "          distance = right_end - left_end \n",
        "          dict_dis_unix[chrom_name][strand].append(distance)\n",
        "      except IndexError:\n",
        "        \"null\"\n",
        "        \n",
        "# print(dict_r_unix) # Printing the dictionary with reads.\n",
        "# print(dict_dis_unix) # Printing the dictionary with the closest distance\n",
        "# between reads."
      ],
      "execution_count": 0,
      "outputs": []
    },
    {
      "cell_type": "markdown",
      "metadata": {
        "id": "c7Y-v4JhtPre",
        "colab_type": "text"
      },
      "source": [
        "B. Pandas option."
      ]
    },
    {
      "cell_type": "code",
      "metadata": {
        "id": "eDQPe-p5tQ2x",
        "colab_type": "code",
        "colab": {}
      },
      "source": [
        "# Create empty dictionary. \n",
        "dict_dis_pandas = {}\n",
        "# For each chromosome in the dictionary of reads create a chrom_name in the new \n",
        "# dictionary of distance. Simultaneously, the lists for the plus and for the minus \n",
        "# strand will be created. Note: You need to define chrom_name variable again, \n",
        "# because it is not defined here yet - \"for chrom_name\".\n",
        "for chrom_name in dict_r_pandas:\n",
        "  dict_dis_pandas[chrom_name] = {\"+\" : list(), \"-\" : list()}\n",
        "  # Sort the plus and the minus strand into the corresponding list in the same manner \n",
        "  # as in the III. \n",
        "  for strand in dict_r_pandas[chrom_name]:\n",
        "    if strand == \"+\":\n",
        "      # Once the for loop reaches the end of the dictionary, the error occurs\n",
        "      # because e + 1 is no more possible. This can be avoided by \"try\"\n",
        "      # and \"except IndexError\".\n",
        "      try:\n",
        "        # For index in the range from 0 to the last of the reads on the minus\n",
        "        # strand in the dictionary of reads.\n",
        "        for s in range(0,len(dict_r_pandas[chrom_name][strand])): \n",
        "          # Subtract the left start (index) from the right start (index + 1).\n",
        "          # Append the obtained distance to the minus strand. Continue with the\n",
        "          # rest of the dictionary.\n",
        "          right_start = dict_r_pandas[chrom_name][strand][s+1]          \n",
        "          left_start = dict_r_pandas[chrom_name][strand][s]        \n",
        "          distance = right_start - left_start\n",
        "          dict_dis_pandas[chrom_name][strand].append(distance)\n",
        "      except IndexError:\n",
        "        \"null\"\n",
        "    else:\n",
        "      try:\n",
        "        # For index in the range from 0 to the last of the reads on the plus\n",
        "        # strand in the dictionary of reads.\n",
        "        for e in range(0,len(dict_r_pandas[chrom_name][strand])):\n",
        "          # Subtract the left end (index) from the right end (index + 1).\n",
        "          # Append the obtained distance to the plus strand. Continue with the\n",
        "          # rest of the dictionary.\n",
        "          right_end = dict_r_pandas[chrom_name][strand][e+1]          \n",
        "          left_end = dict_r_pandas[chrom_name][strand][e]        \n",
        "          distance = right_end - left_end \n",
        "          dict_dis_pandas[chrom_name][strand].append(distance)\n",
        "      except IndexError:\n",
        "        \"null\"\n",
        "        \n",
        "# print(dict_r_pandas) # Printing the dictionary with reads.\n",
        "# print(dict_dis_pandas) # Printing the dictionary with the closest distance\n",
        "# between reads."
      ],
      "execution_count": 0,
      "outputs": []
    },
    {
      "cell_type": "markdown",
      "metadata": {
        "id": "Oqznl-QVuZWU",
        "colab_type": "text"
      },
      "source": [
        "C. Pybedtools option."
      ]
    },
    {
      "cell_type": "code",
      "metadata": {
        "id": "6_ZwSkeyuX4i",
        "colab_type": "code",
        "colab": {}
      },
      "source": [
        "# Create empty dictionary. \n",
        "dict_dis_pybed = {}\n",
        "# For each chromosome in the dictionary of reads create a chrom_name in the new \n",
        "# dictionary of distance. Simultaneously, the lists for the plus and for the minus \n",
        "# strand will be created. Note: You need to define chrom_name variable again, \n",
        "# because it is not defined here yet - \"for chrom_name\".\n",
        "for chrom_name in dict_r_pybed:\n",
        "  dict_dis_pybed[chrom_name] = {\"+\" : list(), \"-\" : list()}\n",
        "  # Sort the plus and the minus strand into the corresponding list in the same manner \n",
        "  # as in the III. \n",
        "  for strand in dict_r_pybed[chrom_name]:\n",
        "    if strand == \"+\":\n",
        "      # Once the for loop reaches the end of the dictionary, the error occurs\n",
        "      # because e + 1 is no more possible. This can be avoided by \"try\"\n",
        "      # and \"except IndexError\".\n",
        "      try:\n",
        "        # For index in the range from 0 to the last of the reads on the minus\n",
        "        # strand in the dictionary of reads.\n",
        "        for s in range(0,len(dict_r_pybed[chrom_name][strand])): \n",
        "          # Subtract the left start (index) from the right start (index + 1).\n",
        "          # Append the obtained distance to the minus strand. Continue with the\n",
        "          # rest of the dictionary.\n",
        "          right_start = dict_r_pybed[chrom_name][strand][s+1]          \n",
        "          left_start = dict_r_pybed[chrom_name][strand][s]        \n",
        "          distance = right_start - left_start\n",
        "          dict_dis_pybed[chrom_name][strand].append(distance)\n",
        "      except IndexError:\n",
        "        \"null\"\n",
        "    else:\n",
        "      try:\n",
        "        # For index in the range from 0 to the last of the reads on the plus\n",
        "        # strand in the dictionary of reads.\n",
        "        for e in range(0,len(dict_r_pybed[chrom_name][strand])):\n",
        "          # Subtract the left end (index) from the right end (index + 1).\n",
        "          # Append the obtained distance to the plus strand. Continue with the\n",
        "          # rest of the dictionary.\n",
        "          right_end = dict_r_pybed[chrom_name][strand][e+1]          \n",
        "          left_end = dict_r_pybed[chrom_name][strand][e]        \n",
        "          distance = right_end - left_end \n",
        "          dict_dis_pybed[chrom_name][strand].append(distance)\n",
        "      except IndexError:\n",
        "        \"null\"\n",
        "        \n",
        "# print(dict_r_pybed) # Printing the dictionary with reads.\n",
        "# print(dict_dis_pybed) # Printing the dictionary with the closest distance\n",
        "# between reads."
      ],
      "execution_count": 0,
      "outputs": []
    },
    {
      "cell_type": "markdown",
      "metadata": {
        "id": "Ri_0G7leodbQ",
        "colab_type": "text"
      },
      "source": [
        "2) Exclusion of the last index with - 1."
      ]
    },
    {
      "cell_type": "markdown",
      "metadata": {
        "id": "bknTqUEhvNN9",
        "colab_type": "text"
      },
      "source": [
        "A. Unix system call."
      ]
    },
    {
      "cell_type": "code",
      "metadata": {
        "id": "CHbpsKYbocaS",
        "colab_type": "code",
        "colab": {}
      },
      "source": [
        "dict_dis_unix = {}\n",
        "# For each chromosome in the dictionary of reads create a chrom_name in the new\n",
        "# dictionary of distance. Simultaneously, the lists for the plus and for the minus \n",
        "# strand will be created. Note: You need to define chrom_name variable again, \n",
        "# because it is not defined here yet - \"for chrom_name\".\n",
        "for chrom_name in dict_r_unix:\n",
        "  dict_dis_unix[chrom_name] = {\"+\" : list(), \"-\" : list()}\n",
        "  # Sort plus and minus strand into the corresponding list in the same manner \n",
        "  # as in the III.\n",
        "  for strand in dict_r_unix[chrom_name]:\n",
        "    if strand == \"+\":\n",
        "      # Once the for loop reaches the end of the dictionary, the error occurs\n",
        "      # because e + 1 is no more possible. This can avoided by excluding \n",
        "      # the last index with - 1.\n",
        "      for s in range(0,len(dict_r_unix[chrom_name][strand]) - 1 ):\n",
        "          right_start = dict_r_unix[chrom_name][strand][s+1]          \n",
        "          left_start = dict_r_unix[chrom_name][strand][s]        \n",
        "          distance = right_start - left_start\n",
        "          dict_dis_unix[chrom_name][strand].append(distance)\n",
        "  \n",
        "    else:\n",
        "      for e in range(0,len(dict_r_unix[chrom_name][strand]) - 1 ):\n",
        "        right_end = dict_r_unix[chrom_name][strand][e+1]          \n",
        "        left_end = dict_r_unix[chrom_name][strand][e]        \n",
        "        distance = right_end - left_end \n",
        "        dict_dis_unix[chrom_name][strand].append(distance)\n",
        "\n",
        "# print(dict_r_unix) # Printing the dictionary with reads.\n",
        "# print(dict_dis_unix) # Printing the dictionary with the closest distances\n",
        "# between reads."
      ],
      "execution_count": 0,
      "outputs": []
    },
    {
      "cell_type": "markdown",
      "metadata": {
        "id": "7M_vUBdUvuFO",
        "colab_type": "text"
      },
      "source": [
        "B. Pandas option."
      ]
    },
    {
      "cell_type": "code",
      "metadata": {
        "id": "WsDmp72VvwUS",
        "colab_type": "code",
        "colab": {}
      },
      "source": [
        "dict_dis_pandas= {}\n",
        "# For each chromosome in the dictionary of reads create a chrom_name in the new\n",
        "# dictionary of distance. Simultaneously, the lists for the plus and for the minus \n",
        "# strand will be created. Note: You need to define chrom_name variable again, \n",
        "# because it is not defined here yet - \"for chrom_name\".\n",
        "for chrom_name in dict_r_pandas:\n",
        "  dict_dis_pandas[chrom_name] = {\"+\" : list(), \"-\" : list()}\n",
        "  # Sort plus and minus strand into the corresponding list in the same manner \n",
        "  # as in the III.\n",
        "  for strand in dict_r_pandas[chrom_name]:\n",
        "    if strand == \"+\":\n",
        "      # Once the for loop reaches the end of the dictionary, the error occurs\n",
        "      # because e + 1 is no more possible. This can avoided by excluding \n",
        "      # the last index with - 1.\n",
        "      for s in range(0,len(dict_r_pandas[chrom_name][strand]) - 1 ):\n",
        "          right_start = dict_r_pandas[chrom_name][strand][s+1]          \n",
        "          left_start = dict_r_pandas[chrom_name][strand][s]        \n",
        "          distance = right_start - left_start\n",
        "          dict_dis_pandas[chrom_name][strand].append(distance)\n",
        "  \n",
        "    else:\n",
        "      for e in range(0,len(dict_r_pandas[chrom_name][strand]) - 1 ):\n",
        "        right_end = dict_r_pandas[chrom_name][strand][e+1]          \n",
        "        left_end = dict_r_pandas[chrom_name][strand][e]        \n",
        "        distance = right_end - left_end \n",
        "        dict_dis_pandas[chrom_name][strand].append(distance)\n",
        "\n",
        "# print(dict_r_pandas) # Printing the dictionary with reads.\n",
        "# print(dict_dis_pandas) # Printing the dictionary with the closest distances\n",
        "# between reads."
      ],
      "execution_count": 0,
      "outputs": []
    },
    {
      "cell_type": "markdown",
      "metadata": {
        "id": "hc3Vkbmnwtzr",
        "colab_type": "text"
      },
      "source": [
        "C. Pybedtools option."
      ]
    },
    {
      "cell_type": "code",
      "metadata": {
        "id": "QJjdXTDvwptZ",
        "colab_type": "code",
        "colab": {}
      },
      "source": [
        "dict_dis_pybed= {}\n",
        "# For each chromosome in the dictionary of reads create a chrom_name in the new\n",
        "# dictionary of distance. Simultaneously, the lists for the plus and for the minus \n",
        "# strand will be created. Note: You need to define chrom_name variable again, \n",
        "# because it is not defined here yet - \"for chrom_name\".\n",
        "for chrom_name in dict_r_pybed:\n",
        "  dict_dis_pybed[chrom_name] = {\"+\" : list(), \"-\" : list()}\n",
        "  # Sort plus and minus strand into the corresponding list in the same manner \n",
        "  # as in the III.\n",
        "  for strand in dict_r_pybed[chrom_name]:\n",
        "    if strand == \"+\":\n",
        "      # Once the for loop reaches the end of the dictionary, the error occurs\n",
        "      # because e + 1 is no more possible. This can avoided by excluding \n",
        "      # the last index with - 1.\n",
        "      for s in range(0,len(dict_r_pybed[chrom_name][strand]) - 1 ):\n",
        "          right_start = dict_r_pybed[chrom_name][strand][s+1]          \n",
        "          left_start = dict_r_pybed[chrom_name][strand][s]        \n",
        "          distance = right_start - left_start\n",
        "          dict_dis_pybed[chrom_name][strand].append(distance)\n",
        "  \n",
        "    else:\n",
        "      for e in range(0,len(dict_r_pybed[chrom_name][strand]) - 1 ):\n",
        "        right_end = dict_r_pybed[chrom_name][strand][e+1]          \n",
        "        left_end = dict_r_pybed[chrom_name][strand][e]        \n",
        "        distance = right_end - left_end \n",
        "        dict_dis_pybed[chrom_name][strand].append(distance)\n",
        "        \n",
        "# print(dict_r_pybed) # Printing the dictionary with reads.\n",
        "# print(dict_dis_pybed) # Printing the dictionary with the closest distances\n",
        "# between reads."
      ],
      "execution_count": 0,
      "outputs": []
    },
    {
      "cell_type": "markdown",
      "metadata": {
        "id": "7ysTCoz71LY_",
        "colab_type": "text"
      },
      "source": [
        "## V. Create a dictionary with the closest distances without outliers.\n",
        "\n",
        "{chrom_name : { strand : 5'- closest distance }}"
      ]
    },
    {
      "cell_type": "markdown",
      "metadata": {
        "id": "0U3ZiyK-kXeb",
        "colab_type": "text"
      },
      "source": [
        "To exclude the outliers from the dictionary of distances, you need to compare the distance between the absolute value of the currently investigated number to the absolute value of the previous number. Subsequently, you need to also compare the absolute value of the currently investigated number to the absolute value of the next number. Add to the dictionary of closest distances either the previous or the next number based on whichever of the said distances is smaller."
      ]
    },
    {
      "cell_type": "markdown",
      "metadata": {
        "id": "bMGYJPhZ2vT4",
        "colab_type": "text"
      },
      "source": [
        "A. Unix system call."
      ]
    },
    {
      "cell_type": "code",
      "metadata": {
        "id": "zx46bbZiaKKh",
        "colab_type": "code",
        "colab": {}
      },
      "source": [
        "dict_clos_unix = {}\n",
        "# For each chromosome in the dictionary of distance create a chrom_name in the new\n",
        "# dictionary of the closest distances. Simultaneously, the lists for the plus\n",
        "# and for the minus strand will be created as explained above.\n",
        "for chrom_name in dict_dis_unix:\n",
        "  dict_clos_unix[chrom_name] = {\"+\" : list(), \"-\" : list()}\n",
        "  for strand in dict_dis_unix[chrom_name]:\n",
        "    if strand == \"+\":\n",
        "      try:\n",
        "        for dist_start in range(0,len(dict_dis_unix[chrom_name][strand])): \n",
        "          # This time, you need to compare the distance between the current\n",
        "          # position and the next one with the distance between the current\n",
        "          # position and the previous one. Whichever is closer will be put\n",
        "          # to the dictionary.\n",
        "          this_start_pos = dict_dis_unix[chrom_name][strand][dist_start]\n",
        "          right_start_neigh = dict_dis_unix[chrom_name][strand][dist_start+1]          \n",
        "          left_start_neigh = dict_dis_unix[chrom_name][strand][dist_start-1]    \n",
        "          dist1 = this_start_pos - left_start_neigh \n",
        "          dist1 = abs(dist1)    \n",
        "          dist2 = right_start_neigh - this_start_pos    \n",
        "          dist2 = abs(dist2)  \n",
        "          if dist1 < dist2:\n",
        "            dict_clos_unix[chrom_name][strand].append(left_start_neigh)\n",
        "          else:\n",
        "            dict_clos_unix[chrom_name][strand].append(right_start_neigh)\n",
        "      except IndexError:\n",
        "        \"null\" \n",
        "      \n",
        "    else:\n",
        "      try:\n",
        "          # Compare the distance between the current\n",
        "          # position and the next one with the distance between the current\n",
        "          # position and the previous one. Whichever is closer will be put\n",
        "          # to the dictionary.\n",
        "        for dist_end in range(0,len(dict_dis_unix[chrom_name][strand])): \n",
        "          this_end_pos = dict_dis_unix[chrom_name][strand][dist_end]\n",
        "          right_end_neigh = dict_dis_unix[chrom_name][strand][dist_end+1]          \n",
        "          left_end_neigh = dict_dis_unix[chrom_name][strand][dist_end-1]    \n",
        "          dist1 = this_end_pos - left_end_neigh    \n",
        "          dist1 = abs(dist1)    \n",
        "          dist2 = right_end_neigh - this_end_pos    \n",
        "          dist2 = abs(dist2)           \n",
        "          if dist1 < dist2:\n",
        "            dict_clos_unix[chrom_name][strand].append(left_end_neigh)\n",
        "          else:\n",
        "            dict_clos_unix[chrom_name][strand].append(right_end_neigh)\n",
        "      except IndexError:\n",
        "        \"null\" \n",
        "\n",
        "# print(dict_dis_pybed)\n",
        "# print(dict_clos_unix)"
      ],
      "execution_count": 0,
      "outputs": []
    },
    {
      "cell_type": "markdown",
      "metadata": {
        "id": "4M1XFknY38Uz",
        "colab_type": "text"
      },
      "source": [
        "B. Pandas option."
      ]
    },
    {
      "cell_type": "code",
      "metadata": {
        "id": "xp6I_-YD37fX",
        "colab_type": "code",
        "colab": {}
      },
      "source": [
        "dict_clos_pandas = {}\n",
        "# For each chromosome in the dictionary of distance create a chrom_name in the new\n",
        "# dictionary of the closest distances. Simultaneously, the lists for the plus\n",
        "# and for the minus strand will be created as explained above.\n",
        "for chrom_name in dict_dis_pandas:\n",
        "  dict_clos_pandas[chrom_name] = {\"+\" : list(), \"-\" : list()}\n",
        "  for strand in dict_dis_pandas[chrom_name]:\n",
        "    if strand == \"+\":\n",
        "      try:\n",
        "        for dist_start in range(0,len(dict_dis_pandas[chrom_name][strand])):\n",
        "          # This time, you need to compare the distance between the current\n",
        "          # position and the next one with the distance between the current\n",
        "          # position and the previous one. Whichever is closer will be put\n",
        "          # to the dictionary.\n",
        "          this_start_pos = dict_dis_pandas[chrom_name][strand][dist_start]\n",
        "          right_start_neigh = dict_dis_pandas[chrom_name][strand][dist_start+1]          \n",
        "          left_start_neigh = dict_dis_pandas[chrom_name][strand][dist_start-1]    \n",
        "          dist1 = this_start_pos - left_start_neigh \n",
        "          dist1 = abs(dist1)    \n",
        "          dist2 = right_start_neigh - this_start_pos    \n",
        "          dist2 = abs(dist2)  \n",
        "          if dist1 < dist2:\n",
        "            dict_clos_pandas[chrom_name][strand].append(left_start_neigh)\n",
        "          else:\n",
        "            dict_clos_pandas[chrom_name][strand].append(right_start_neigh)\n",
        "      except IndexError:\n",
        "        \"null\" \n",
        "      \n",
        "    else:\n",
        "      try:\n",
        "          # Compare the distance between the current\n",
        "          # position and the next one with the distance between the current\n",
        "          # position and the previous one. Whichever is closer will be put\n",
        "          # to the dictionary.\n",
        "        for dist_end in range(0,len(dict_dis_pandas[chrom_name][strand])): \n",
        "          this_end_pos = dict_dis_pandas[chrom_name][strand][dist_end]\n",
        "          right_end_neigh = dict_dis_pandas[chrom_name][strand][dist_end+1]          \n",
        "          left_end_neigh = dict_dis_pandas[chrom_name][strand][dist_end-1]    \n",
        "          dist1 = this_end_pos - left_end_neigh    \n",
        "          dist1 = abs(dist1)    \n",
        "          dist2 = right_end_neigh - this_end_pos    \n",
        "          dist2 = abs(dist2)           \n",
        "          if dist1 < dist2:\n",
        "            dict_clos_pandas[chrom_name][strand].append(left_end_neigh)\n",
        "          else:\n",
        "            dict_clos_pandas[chrom_name][strand].append(right_end_neigh)\n",
        "      except IndexError:\n",
        "        \"null\" \n",
        "\n",
        "# print(dict_clos_pandas)\n",
        "# print(dict_clos_pandas)"
      ],
      "execution_count": 0,
      "outputs": []
    },
    {
      "cell_type": "markdown",
      "metadata": {
        "id": "-2g82XYa4jzV",
        "colab_type": "text"
      },
      "source": [
        "C. Pybedtools option."
      ]
    },
    {
      "cell_type": "code",
      "metadata": {
        "id": "V6Rd1YFl4m5C",
        "colab_type": "code",
        "colab": {}
      },
      "source": [
        "dict_clos_pybed = {}\n",
        "# For each chromosome in the dictionary of distance create a chrom_name in the new\n",
        "# dictionary of the closest distances. Simultaneously, the lists for the plus\n",
        "# and for the minus strand will be created as explained above.\n",
        "for chrom_name in dict_dis_pybed:\n",
        "  dict_clos_pybed[chrom_name] = {\"+\" : list(), \"-\" : list()}\n",
        "  for strand in dict_dis_pybed[chrom_name]:\n",
        "    if strand == \"+\":\n",
        "      try:\n",
        "        for dist_start in range(0,len(dict_dis_pybed[chrom_name][strand])): \n",
        "          # This time, you need to compare the distance between the current\n",
        "          # position and the next one with the distance between the current\n",
        "          # position and the previous one. Whichever is closer will be put\n",
        "          # to the dictionary.\n",
        "          this_start_pos = dict_dis_pybed[chrom_name][strand][dist_start]\n",
        "          right_start_neigh = dict_dis_pybed[chrom_name][strand][dist_start+1]          \n",
        "          left_start_neigh = dict_dis_pybed[chrom_name][strand][dist_start-1]    \n",
        "          dist1 = this_start_pos - left_start_neigh \n",
        "          dist1 = abs(dist1)    \n",
        "          dist2 = right_start_neigh - this_start_pos    \n",
        "          dist2 = abs(dist2)  \n",
        "          if dist1 < dist2:\n",
        "            dict_clos_pybed[chrom_name][strand].append(left_start_neigh)\n",
        "          else:\n",
        "            dict_clos_pybed[chrom_name][strand].append(right_start_neigh)\n",
        "      except IndexError:\n",
        "        \"null\" \n",
        "      \n",
        "    else:\n",
        "      try:\n",
        "          # Compare the distance between the current\n",
        "          # position and the next one with the distance between the current\n",
        "          # position and the previous one. Whichever is closer will be put\n",
        "          # to the dictionary.\n",
        "        for dist_end in range(0,len(dict_dis_pybed[chrom_name][strand])): \n",
        "          this_end_pos = dict_dis_pybed[chrom_name][strand][dist_end]\n",
        "          right_end_neigh = dict_dis_pybed[chrom_name][strand][dist_end+1]          \n",
        "          left_end_neigh = dict_dis_pybed[chrom_name][strand][dist_end-1]    \n",
        "          dist1 = this_end_pos - left_end_neigh    \n",
        "          dist1 = abs(dist1)    \n",
        "          dist2 = right_end_neigh - this_end_pos    \n",
        "          dist2 = abs(dist2)           \n",
        "          if dist1 < dist2:\n",
        "            dict_clos_pybed[chrom_name][strand].append(left_end_neigh)\n",
        "          else:\n",
        "            dict_clos_pybed[chrom_name][strand].append(right_end_neigh)\n",
        "      except IndexError:\n",
        "        \"null\" \n",
        "\n",
        "# print(dict_dis_pybed)\n",
        "# print(dict_clos_pybed)"
      ],
      "execution_count": 0,
      "outputs": []
    },
    {
      "cell_type": "markdown",
      "metadata": {
        "id": "2G6wXiJqOD36",
        "colab_type": "text"
      },
      "source": [
        "## VI. Plot the distribution."
      ]
    },
    {
      "cell_type": "markdown",
      "metadata": {
        "id": "wiCE93KuK5F9",
        "colab_type": "text"
      },
      "source": [
        "1) To plot the data from the dictionary, you need to convert the dictionary into\n",
        "dataframe. "
      ]
    },
    {
      "cell_type": "markdown",
      "metadata": {
        "id": "m35iPype6W6P",
        "colab_type": "text"
      },
      "source": [
        "A. Unix command option."
      ]
    },
    {
      "cell_type": "code",
      "metadata": {
        "id": "qW67dYHFvtrI",
        "colab_type": "code",
        "outputId": "6f75e8c2-7f99-4631-ec3a-b5e34292614c",
        "colab": {
          "base_uri": "https://localhost:8080/",
          "height": 477
        }
      },
      "source": [
        "import pandas as pd\n",
        "# Create an empty list.\n",
        "list_unix_plus = list()\n",
        "list_unix_min = list()\n",
        "# Loop over the chromosome names in the dictionary. \n",
        "for chrom_name in dict_clos_unix:\n",
        "  # Create a temporary dictionary with the strands.\n",
        "  dict_clos_unix_tmp = dict_clos_unix[chrom_name]\n",
        "  # Loop over strands in the temporary dictionary.\n",
        "  for strand in dict_clos_unix_tmp:\n",
        "    if strand == \"+\":\n",
        "    # Define the distance.\n",
        "      distance = dict_clos_unix_tmp[strand]\n",
        "    # Create a pandas daraframe with following columns:\n",
        "    # distance, strand, and chromosome. \n",
        "      dict_unix_plus = pd.DataFrame(distance, columns=[\"distance\"])\n",
        "      dict_unix_plus[\"strand\"] = strand\n",
        "      dict_unix_plus[\"chromosome\"] = chrom_name\n",
        "    # Append all of the dataframes from the temporary dictionary\n",
        "    # to the list.\n",
        "      list_unix_plus.append(dict_unix_plus)\n",
        "    else:\n",
        "      distance = dict_clos_unix_tmp[strand]\n",
        "    # Create a pandas daraframe with following columns:\n",
        "    # distance, strand, and chromosome. \n",
        "      dict_unix_min = pd.DataFrame(distance, columns=[\"distance\"])\n",
        "      dict_unix_min[\"strand\"] = strand\n",
        "      dict_unix_min[\"chromosome\"] = chrom_name\n",
        "    # Append all of the dataframes from the temporary dictionary\n",
        "    # to the list.\n",
        "      list_unix_min.append(dict_unix_min)\n",
        "\n",
        "# You need to concatenate the list of dataframes into a new dataframe.    \n",
        "df_unix_plus = pd.concat(list_unix_plus)\n",
        "df_unix_minus = pd.concat(list_unix_min)\n",
        "print(df_unix_plus)\n",
        "print(df_unix_minus)\n",
        "# Each column is a Pandas series."
      ],
      "execution_count": 19,
      "outputs": [
        {
          "output_type": "stream",
          "text": [
            "   distance strand chromosome\n",
            "0     70103      +       chr1\n",
            "1       454      +       chr1\n",
            "2        73      +       chr1\n",
            "3       364      +       chr1\n",
            "4       209      +       chr1\n",
            "..      ...    ...        ...\n",
            "24      381      +       chrX\n",
            "25      764      +       chrX\n",
            "26      381      +       chrX\n",
            "27     4913      +       chrX\n",
            "28     9150      +       chrX\n",
            "\n",
            "[2298 rows x 3 columns]\n",
            "    distance strand chromosome\n",
            "0     106742      -       chr1\n",
            "1      23153      -       chr1\n",
            "2        116      -       chr1\n",
            "3        145      -       chr1\n",
            "4        116      -       chr1\n",
            "..       ...    ...        ...\n",
            "36   4695276      -       chrX\n",
            "37     66310      -       chrX\n",
            "38  50901574      -       chrX\n",
            "39  47368103      -       chrX\n",
            "40   2037963      -       chrX\n",
            "\n",
            "[2078 rows x 3 columns]\n"
          ],
          "name": "stdout"
        }
      ]
    },
    {
      "cell_type": "markdown",
      "metadata": {
        "id": "TIfnpJm28Ny_",
        "colab_type": "text"
      },
      "source": [
        "B. Pandas option."
      ]
    },
    {
      "cell_type": "code",
      "metadata": {
        "id": "T9aLNrSG8ESY",
        "colab_type": "code",
        "outputId": "bebfe382-55d7-453b-feb6-2565484b54b9",
        "colab": {
          "base_uri": "https://localhost:8080/",
          "height": 477
        }
      },
      "source": [
        "import pandas as pd\n",
        "# Create an empty list.\n",
        "list_pandas_plus = list()\n",
        "list_pandas_min = list()\n",
        "# Loop over the chromosome names in the dictionary. \n",
        "  # Create a temporary dictionary with the strands.\n",
        "  # Loop over strands in the temporary dictionary.\n",
        "for chrom_name in dict_clos_pandas:\n",
        "  dict_clos_pandas_tmp = dict_clos_pandas[chrom_name]\n",
        "  for strand in dict_clos_pandas_tmp:\n",
        "    if strand == \"+\":\n",
        "    # Define the distance.\n",
        "      distance = dict_clos_pandas_tmp[strand]\n",
        "    # Create a pandas daraframe with following columns:\n",
        "    # distance, strand, and chromosome. \n",
        "      dict_pandas_plus = pd.DataFrame(distance, columns=[\"distance\"])\n",
        "      dict_pandas_plus[\"strand\"] = strand\n",
        "      dict_pandas_plus[\"chromosome\"] = chrom_name\n",
        "    # Append all of the dataframes from the temporary dictionary\n",
        "    # to the list.\n",
        "      list_pandas_plus.append(dict_pandas_plus)\n",
        "    else:\n",
        "      distance = dict_clos_pandas_tmp[strand]\n",
        "    # Create a pandas daraframe with following columns:\n",
        "    # distance, strand, and chromosome. \n",
        "      dict_pandas_min = pd.DataFrame(distance, columns=[\"distance\"])\n",
        "      dict_pandas_min[\"strand\"] = strand\n",
        "      dict_pandas_min[\"chromosome\"] = chrom_name\n",
        "    # Append all of the dataframes from the temporary dictionary\n",
        "    # to the list.\n",
        "      list_pandas_min.append(dict_pandas_min)\n",
        "\n",
        "# You need to concatenate the list of dataframes into a new dataframe.    \n",
        "df_pandas_plus = pd.concat(list_pandas_plus)\n",
        "df_pandas_minus = pd.concat(list_pandas_min)\n",
        "print(df_pandas_plus)\n",
        "print(df_pandas_minus)\n",
        "# Each column is a Pandas series."
      ],
      "execution_count": 20,
      "outputs": [
        {
          "output_type": "stream",
          "text": [
            "   distance strand chromosome\n",
            "0     70103      +       chr1\n",
            "1       454      +       chr1\n",
            "2        73      +       chr1\n",
            "3       364      +       chr1\n",
            "4       209      +       chr1\n",
            "..      ...    ...        ...\n",
            "24      381      +       chrX\n",
            "25      764      +       chrX\n",
            "26      381      +       chrX\n",
            "27     4913      +       chrX\n",
            "28     9150      +       chrX\n",
            "\n",
            "[2298 rows x 3 columns]\n",
            "    distance strand chromosome\n",
            "0     106742      -       chr1\n",
            "1      23153      -       chr1\n",
            "2        116      -       chr1\n",
            "3        145      -       chr1\n",
            "4        116      -       chr1\n",
            "..       ...    ...        ...\n",
            "36   4695276      -       chrX\n",
            "37     66310      -       chrX\n",
            "38  50901574      -       chrX\n",
            "39  47368103      -       chrX\n",
            "40   2037963      -       chrX\n",
            "\n",
            "[2078 rows x 3 columns]\n"
          ],
          "name": "stdout"
        }
      ]
    },
    {
      "cell_type": "markdown",
      "metadata": {
        "id": "4thAtJIJ99Bq",
        "colab_type": "text"
      },
      "source": [
        "C. Pybedtools option."
      ]
    },
    {
      "cell_type": "code",
      "metadata": {
        "id": "e3E1SOwV9_Ib",
        "colab_type": "code",
        "outputId": "5331dd09-f69a-4876-9bb4-23df1549f10f",
        "colab": {
          "base_uri": "https://localhost:8080/",
          "height": 477
        }
      },
      "source": [
        "import pandas as pd\n",
        "# Create an empty list.\n",
        "list_pybed_plus = list()\n",
        "list_pybed_min = list()\n",
        "# Loop over the chromosome names in the dictionary. \n",
        "for chrom_name in dict_clos_pybed:\n",
        "  # Create a temporary dictionary with the strands.\n",
        "  dict_clos_pybed_tmp = dict_clos_pybed[chrom_name]\n",
        "  # Loop over strands in the temporary dictionary.\n",
        "  for strand in dict_clos_pybed_tmp:\n",
        "    if strand == \"+\":\n",
        "    # Define the distance.\n",
        "      distance = dict_clos_pybed_tmp[strand]\n",
        "    # Create a pandas daraframe with following columns:\n",
        "    # distance, strand, and chromosome. \n",
        "      dict_pybed_plus = pd.DataFrame(distance, columns=[\"distance\"])\n",
        "      dict_pybed_plus[\"strand\"] = strand\n",
        "      dict_pybed_plus[\"chromosome\"] = chrom_name\n",
        "    # Append all of the dataframes from the temporary dictionary\n",
        "    # to the list.\n",
        "      list_pybed_plus.append(dict_pybed_plus)\n",
        "    else:\n",
        "      distance = dict_clos_pybed_tmp[strand]\n",
        "    # Create a pandas daraframe with following columns:\n",
        "    # distance, strand, and chromosome. \n",
        "      dict_pybed_min = pd.DataFrame(distance, columns=[\"distance\"])\n",
        "      dict_pybed_min[\"strand\"] = strand\n",
        "      dict_pybed_min[\"chromosome\"] = chrom_name\n",
        "    # Append all of the dataframes from the temporary dictionary\n",
        "    # to the list.\n",
        "      list_pybed_min.append(dict_pybed_min)\n",
        "\n",
        "# You need to concatenate the list of dataframes into a new dataframe.    \n",
        "df_pybed_plus = pd.concat(list_pybed_plus)\n",
        "df_pybed_minus = pd.concat(list_pybed_min)\n",
        "print(df_pybed_plus)\n",
        "print(df_pybed_minus)\n",
        "# Each column is a Pandas series."
      ],
      "execution_count": 21,
      "outputs": [
        {
          "output_type": "stream",
          "text": [
            "   distance strand chromosome\n",
            "0     70103      +       chr1\n",
            "1       454      +       chr1\n",
            "2        73      +       chr1\n",
            "3       364      +       chr1\n",
            "4       209      +       chr1\n",
            "..      ...    ...        ...\n",
            "24      381      +       chrX\n",
            "25      764      +       chrX\n",
            "26      381      +       chrX\n",
            "27     4913      +       chrX\n",
            "28     9150      +       chrX\n",
            "\n",
            "[2298 rows x 3 columns]\n",
            "    distance strand chromosome\n",
            "0     106742      -       chr1\n",
            "1      23153      -       chr1\n",
            "2        116      -       chr1\n",
            "3        145      -       chr1\n",
            "4        116      -       chr1\n",
            "..       ...    ...        ...\n",
            "36   4695276      -       chrX\n",
            "37     66310      -       chrX\n",
            "38  50901574      -       chrX\n",
            "39  47368103      -       chrX\n",
            "40   2037963      -       chrX\n",
            "\n",
            "[2078 rows x 3 columns]\n"
          ],
          "name": "stdout"
        }
      ]
    },
    {
      "cell_type": "markdown",
      "metadata": {
        "id": "OAANgwqP7BwC",
        "colab_type": "text"
      },
      "source": [
        "2) Use barplot to display the distribution of closest distances."
      ]
    },
    {
      "cell_type": "markdown",
      "metadata": {
        "id": "5NTMhqf07TJs",
        "colab_type": "text"
      },
      "source": [
        "A. Unix command option."
      ]
    },
    {
      "cell_type": "code",
      "metadata": {
        "id": "_u7Cf31Q7dsQ",
        "colab_type": "code",
        "colab": {
          "base_uri": "https://localhost:8080/",
          "height": 1000
        },
        "outputId": "732108ef-39b6-41b2-dd8a-f1da2a6df34e"
      },
      "source": [
        "# Concatenate both dataframes into one.\n",
        "df_unix_both = pd.concat( [df_unix_plus, df_unix_minus] )\n",
        "\n",
        "sns.set(style=\"white\", palette=\"bright\", color_codes=True)\n",
        "\n",
        "# Hue is parameter to distinguish different set of values with different colors.\n",
        "# In your case, you distinguish plus and minus strand.\n",
        "chart = sns.barplot(\n",
        "      x='chromosome', y='distance', data=df_unix_both, hue='strand')\n",
        "# You want to rotate the label by 90 degrees to fit them nicely under the plot.\n",
        "chart.set_xticklabels(chart.get_xticklabels(), rotation=90, horizontalalignment='right')\n",
        "\n",
        "# Choose the title for the plot.\n",
        "plt.suptitle(\"Distribution of the closest distance per chromosome.\")\n",
        "\n",
        "# Set the size of your plot.\n",
        "plt.gcf().set_size_inches((20, 15))"
      ],
      "execution_count": 113,
      "outputs": [
        {
          "output_type": "display_data",
          "data": {
            "image/png": "[encoded data removed]",
            "text/plain": [
              "<Figure size 1440x1080 with 1 Axes>"
            ]
          },
          "metadata": {
            "tags": []
          }
        }
      ]
    },
    {
      "cell_type": "markdown",
      "metadata": {
        "id": "mEvXwMzF7X3x",
        "colab_type": "text"
      },
      "source": [
        "B. Pandas option."
      ]
    },
    {
      "cell_type": "code",
      "metadata": {
        "id": "bIMEwSYX7af5",
        "colab_type": "code",
        "colab": {
          "base_uri": "https://localhost:8080/",
          "height": 1000
        },
        "outputId": "8a59a675-7f2f-41db-8b65-7b83fc2b65e9"
      },
      "source": [
        "df_pandas_both = pd.concat( [df_pandas_plus, df_pandas_minus] )\n",
        "\n",
        "sns.set(style=\"white\", palette=\"bright\", color_codes=True)\n",
        "\n",
        "chart = sns.barplot(\n",
        "      x='chromosome', y='distance', data=df_pandas_both, hue='strand')\n",
        "chart.set_xticklabels(chart.get_xticklabels(), rotation=90, horizontalalignment='right')\n",
        "\n",
        "plt.suptitle(\"Distribution of the closest distance per chromosome.\")\n",
        "plt.gcf().set_size_inches((20, 15))"
      ],
      "execution_count": 114,
      "outputs": [
        {
          "output_type": "display_data",
          "data": {
            "image/png": "[encoded data removed]",
            "text/plain": [
              "<Figure size 1440x1080 with 1 Axes>"
            ]
          },
          "metadata": {
            "tags": []
          }
        }
      ]
    },
    {
      "cell_type": "markdown",
      "metadata": {
        "id": "fCgG37AL7Wqi",
        "colab_type": "text"
      },
      "source": [
        "C. Pybedtools option."
      ]
    },
    {
      "cell_type": "code",
      "metadata": {
        "id": "7obYTKwh3xaC",
        "colab_type": "code",
        "colab": {
          "base_uri": "https://localhost:8080/",
          "height": 1000
        },
        "outputId": "d2b8c086-870a-471f-d9f9-39fc2606ce51"
      },
      "source": [
        "df_pybed_both = pd.concat( [df_pybed_plus, df_pybed_minus] )\n",
        "\n",
        "sns.set(style=\"white\", palette=\"bright\", color_codes=True)\n",
        "\n",
        "chart = sns.barplot(\n",
        "      x='chromosome', y='distance', data=df_pybed_both, hue='strand')\n",
        "chart.set_xticklabels(chart.get_xticklabels(), rotation=90, horizontalalignment='right')\n",
        "\n",
        "plt.suptitle(\"Distribution of the closest distance per chromosome.\")\n",
        "plt.gcf().set_size_inches((20, 15))"
      ],
      "execution_count": 115,
      "outputs": [
        {
          "output_type": "display_data",
          "data": {
            "image/png": "[encoded data removed]",
            "text/plain": [
              "<Figure size 1440x1080 with 1 Axes>"
            ]
          },
          "metadata": {
            "tags": []
          }
        }
      ]
    },
    {
      "cell_type": "markdown",
      "metadata": {
        "id": "VkCtz70FCwZJ",
        "colab_type": "text"
      },
      "source": [
        "# To find the answer to the inequality between the plus and minus strand graphs, you need to:"
      ]
    },
    {
      "cell_type": "markdown",
      "metadata": {
        "id": "ZWMIBqGxiYDA",
        "colab_type": "text"
      },
      "source": [
        "## I. Count of the rows to estimate how many reads there are for each chromosome on plus and minus strand."
      ]
    },
    {
      "cell_type": "code",
      "metadata": {
        "id": "cPvCZJA_P2W7",
        "colab_type": "code",
        "colab": {}
      },
      "source": [
        "# Count the rows of the plus strand dataframe.\n",
        "p = df_pandas_plus.set_index([\"chromosome\", \"strand\"]).count(level=\"chromosome\")"
      ],
      "execution_count": 0,
      "outputs": []
    },
    {
      "cell_type": "code",
      "metadata": {
        "id": "My3SvipOBLFo",
        "colab_type": "code",
        "colab": {}
      },
      "source": [
        "# Count the rows of the minus strand dataframe.\n",
        "m = df_pandas_minus.set_index([\"chromosome\", \"strand\"]).count(level=\"chromosome\")"
      ],
      "execution_count": 0,
      "outputs": []
    },
    {
      "cell_type": "code",
      "metadata": {
        "id": "8bbL_9usoLra",
        "colab_type": "code",
        "colab": {}
      },
      "source": [
        "# Merge plus and minus dataframe into one.\n",
        "dataframe_both = p.merge(m, on='chromosome', suffixes=('_plus','_minus'))"
      ],
      "execution_count": 0,
      "outputs": []
    },
    {
      "cell_type": "markdown",
      "metadata": {
        "id": "tcDgZN-gxvIu",
        "colab_type": "text"
      },
      "source": [
        "## II. The mean distance between chromosome reads on plus and minus strand."
      ]
    },
    {
      "cell_type": "code",
      "metadata": {
        "id": "CQ4WxVZJMN9_",
        "colab_type": "code",
        "outputId": "285b4d64-9e21-4839-8a66-9e89d46887dc",
        "colab": {
          "base_uri": "https://localhost:8080/",
          "height": 383
        }
      },
      "source": [
        "# Determine the mean value of each of the plus strand distances for each chromosome.\n",
        "df_pandas_plus.distance = df_pandas_plus.distance.astype(\"int\")\n",
        "table_plus = pd.pivot_table(df_pandas_plus,index=['chromosome','strand'],values=[\"distance\"],aggfunc=np.mean)\n",
        "table_plus.head(10)"
      ],
      "execution_count": 37,
      "outputs": [
        {
          "output_type": "execute_result",
          "data": {
            "text/html": [
              "<div>\n",
              "<style scoped>\n",
              "    .dataframe tbody tr th:only-of-type {\n",
              "        vertical-align: middle;\n",
              "    }\n",
              "\n",
              "    .dataframe tbody tr th {\n",
              "        vertical-align: top;\n",
              "    }\n",
              "\n",
              "    .dataframe thead th {\n",
              "        text-align: right;\n",
              "    }\n",
              "</style>\n",
              "<table border=\"1\" class=\"dataframe\">\n",
              "  <thead>\n",
              "    <tr style=\"text-align: right;\">\n",
              "      <th></th>\n",
              "      <th></th>\n",
              "      <th>distance</th>\n",
              "    </tr>\n",
              "    <tr>\n",
              "      <th>chromosome</th>\n",
              "      <th>strand</th>\n",
              "      <th></th>\n",
              "    </tr>\n",
              "  </thead>\n",
              "  <tbody>\n",
              "    <tr>\n",
              "      <th>chr1</th>\n",
              "      <th>+</th>\n",
              "      <td>8.676454e+05</td>\n",
              "    </tr>\n",
              "    <tr>\n",
              "      <th>chr10</th>\n",
              "      <th>+</th>\n",
              "      <td>3.291650e+05</td>\n",
              "    </tr>\n",
              "    <tr>\n",
              "      <th>chr11</th>\n",
              "      <th>+</th>\n",
              "      <td>1.351225e+05</td>\n",
              "    </tr>\n",
              "    <tr>\n",
              "      <th>chr12</th>\n",
              "      <th>+</th>\n",
              "      <td>1.231342e+06</td>\n",
              "    </tr>\n",
              "    <tr>\n",
              "      <th>chr13</th>\n",
              "      <th>+</th>\n",
              "      <td>2.837595e+03</td>\n",
              "    </tr>\n",
              "    <tr>\n",
              "      <th>chr14</th>\n",
              "      <th>+</th>\n",
              "      <td>1.503683e+05</td>\n",
              "    </tr>\n",
              "    <tr>\n",
              "      <th>chr15</th>\n",
              "      <th>+</th>\n",
              "      <td>1.692945e+05</td>\n",
              "    </tr>\n",
              "    <tr>\n",
              "      <th>chr16</th>\n",
              "      <th>+</th>\n",
              "      <td>2.142241e+05</td>\n",
              "    </tr>\n",
              "    <tr>\n",
              "      <th>chr17</th>\n",
              "      <th>+</th>\n",
              "      <td>4.758841e+05</td>\n",
              "    </tr>\n",
              "    <tr>\n",
              "      <th>chr18</th>\n",
              "      <th>+</th>\n",
              "      <td>2.983333e+02</td>\n",
              "    </tr>\n",
              "  </tbody>\n",
              "</table>\n",
              "</div>"
            ],
            "text/plain": [
              "                       distance\n",
              "chromosome strand              \n",
              "chr1       +       8.676454e+05\n",
              "chr10      +       3.291650e+05\n",
              "chr11      +       1.351225e+05\n",
              "chr12      +       1.231342e+06\n",
              "chr13      +       2.837595e+03\n",
              "chr14      +       1.503683e+05\n",
              "chr15      +       1.692945e+05\n",
              "chr16      +       2.142241e+05\n",
              "chr17      +       4.758841e+05\n",
              "chr18      +       2.983333e+02"
            ]
          },
          "metadata": {
            "tags": []
          },
          "execution_count": 37
        }
      ]
    },
    {
      "cell_type": "code",
      "metadata": {
        "id": "1C8nltGegdQ8",
        "colab_type": "code",
        "outputId": "3b1c0ad0-c3d7-4bca-8a41-48383fbf5f24",
        "colab": {
          "base_uri": "https://localhost:8080/",
          "height": 383
        }
      },
      "source": [
        "# Determine the mean value of each of the minus strand distances for each chromosome.\n",
        "df_pandas_minus.distance = df_pandas_minus.distance.astype(\"int\")\n",
        "table_minus = pd.pivot_table(df_pandas_minus,index=['chromosome','strand'],values=[\"distance\"],aggfunc=np.mean)\n",
        "table_minus.head(10)"
      ],
      "execution_count": 38,
      "outputs": [
        {
          "output_type": "execute_result",
          "data": {
            "text/html": [
              "<div>\n",
              "<style scoped>\n",
              "    .dataframe tbody tr th:only-of-type {\n",
              "        vertical-align: middle;\n",
              "    }\n",
              "\n",
              "    .dataframe tbody tr th {\n",
              "        vertical-align: top;\n",
              "    }\n",
              "\n",
              "    .dataframe thead th {\n",
              "        text-align: right;\n",
              "    }\n",
              "</style>\n",
              "<table border=\"1\" class=\"dataframe\">\n",
              "  <thead>\n",
              "    <tr style=\"text-align: right;\">\n",
              "      <th></th>\n",
              "      <th></th>\n",
              "      <th>distance</th>\n",
              "    </tr>\n",
              "    <tr>\n",
              "      <th>chromosome</th>\n",
              "      <th>strand</th>\n",
              "      <th></th>\n",
              "    </tr>\n",
              "  </thead>\n",
              "  <tbody>\n",
              "    <tr>\n",
              "      <th>chr1</th>\n",
              "      <th>-</th>\n",
              "      <td>8.380167e+05</td>\n",
              "    </tr>\n",
              "    <tr>\n",
              "      <th>chr10</th>\n",
              "      <th>-</th>\n",
              "      <td>1.149389e+06</td>\n",
              "    </tr>\n",
              "    <tr>\n",
              "      <th>chr11</th>\n",
              "      <th>-</th>\n",
              "      <td>5.804478e+05</td>\n",
              "    </tr>\n",
              "    <tr>\n",
              "      <th>chr12</th>\n",
              "      <th>-</th>\n",
              "      <td>4.260988e+05</td>\n",
              "    </tr>\n",
              "    <tr>\n",
              "      <th>chr13</th>\n",
              "      <th>-</th>\n",
              "      <td>3.056109e+06</td>\n",
              "    </tr>\n",
              "    <tr>\n",
              "      <th>chr14</th>\n",
              "      <th>-</th>\n",
              "      <td>2.368928e+06</td>\n",
              "    </tr>\n",
              "    <tr>\n",
              "      <th>chr14_GL000194v1_random</th>\n",
              "      <th>-</th>\n",
              "      <td>2.800000e+02</td>\n",
              "    </tr>\n",
              "    <tr>\n",
              "      <th>chr15</th>\n",
              "      <th>-</th>\n",
              "      <td>6.299587e+05</td>\n",
              "    </tr>\n",
              "    <tr>\n",
              "      <th>chr16</th>\n",
              "      <th>-</th>\n",
              "      <td>8.712186e+04</td>\n",
              "    </tr>\n",
              "    <tr>\n",
              "      <th>chr17</th>\n",
              "      <th>-</th>\n",
              "      <td>3.526386e+05</td>\n",
              "    </tr>\n",
              "  </tbody>\n",
              "</table>\n",
              "</div>"
            ],
            "text/plain": [
              "                                    distance\n",
              "chromosome              strand              \n",
              "chr1                    -       8.380167e+05\n",
              "chr10                   -       1.149389e+06\n",
              "chr11                   -       5.804478e+05\n",
              "chr12                   -       4.260988e+05\n",
              "chr13                   -       3.056109e+06\n",
              "chr14                   -       2.368928e+06\n",
              "chr14_GL000194v1_random -       2.800000e+02\n",
              "chr15                   -       6.299587e+05\n",
              "chr16                   -       8.712186e+04\n",
              "chr17                   -       3.526386e+05"
            ]
          },
          "metadata": {
            "tags": []
          },
          "execution_count": 38
        }
      ]
    },
    {
      "cell_type": "code",
      "metadata": {
        "id": "Vs4w9YvmxJeh",
        "colab_type": "code",
        "colab": {}
      },
      "source": [
        "# Merge plus and minus table into one.\n",
        "table_both = table_plus.merge(table_minus, on='chromosome', suffixes=('_plus','_minus'))"
      ],
      "execution_count": 0,
      "outputs": []
    },
    {
      "cell_type": "markdown",
      "metadata": {
        "id": "p0shLw900EnM",
        "colab_type": "text"
      },
      "source": [
        "## III. Merge the table with reads count and the table with mean distances."
      ]
    },
    {
      "cell_type": "code",
      "metadata": {
        "id": "RGpWnXV21ZtZ",
        "colab_type": "code",
        "outputId": "37879f40-cd72-47a0-d43a-cf89ce92fa33",
        "colab": {
          "base_uri": "https://localhost:8080/",
          "height": 383
        }
      },
      "source": [
        "# Merge the plus and minus reads count table together with mean distances.\n",
        "table_all_info = dataframe_both.merge(table_both, on='chromosome')\n",
        "table_all_info.columns=['+', '-', '+_avg_dist', '-_avg_dist']\n",
        "table_all_info.head(10)"
      ],
      "execution_count": 152,
      "outputs": [
        {
          "output_type": "execute_result",
          "data": {
            "text/html": [
              "<div>\n",
              "<style scoped>\n",
              "    .dataframe tbody tr th:only-of-type {\n",
              "        vertical-align: middle;\n",
              "    }\n",
              "\n",
              "    .dataframe tbody tr th {\n",
              "        vertical-align: top;\n",
              "    }\n",
              "\n",
              "    .dataframe thead th {\n",
              "        text-align: right;\n",
              "    }\n",
              "</style>\n",
              "<table border=\"1\" class=\"dataframe\">\n",
              "  <thead>\n",
              "    <tr style=\"text-align: right;\">\n",
              "      <th></th>\n",
              "      <th>+</th>\n",
              "      <th>-</th>\n",
              "      <th>+_avg_dist</th>\n",
              "      <th>-_avg_dist</th>\n",
              "    </tr>\n",
              "    <tr>\n",
              "      <th>chromosome</th>\n",
              "      <th></th>\n",
              "      <th></th>\n",
              "      <th></th>\n",
              "      <th></th>\n",
              "    </tr>\n",
              "  </thead>\n",
              "  <tbody>\n",
              "    <tr>\n",
              "      <th>chr1</th>\n",
              "      <td>170</td>\n",
              "      <td>173</td>\n",
              "      <td>8.676454e+05</td>\n",
              "      <td>8.380167e+05</td>\n",
              "    </tr>\n",
              "    <tr>\n",
              "      <th>chr10</th>\n",
              "      <td>48</td>\n",
              "      <td>93</td>\n",
              "      <td>3.291650e+05</td>\n",
              "      <td>1.149389e+06</td>\n",
              "    </tr>\n",
              "    <tr>\n",
              "      <th>chr11</th>\n",
              "      <td>202</td>\n",
              "      <td>106</td>\n",
              "      <td>1.351225e+05</td>\n",
              "      <td>5.804478e+05</td>\n",
              "    </tr>\n",
              "    <tr>\n",
              "      <th>chr12</th>\n",
              "      <td>45</td>\n",
              "      <td>45</td>\n",
              "      <td>1.231342e+06</td>\n",
              "      <td>4.260988e+05</td>\n",
              "    </tr>\n",
              "    <tr>\n",
              "      <th>chr13</th>\n",
              "      <td>37</td>\n",
              "      <td>6</td>\n",
              "      <td>2.837595e+03</td>\n",
              "      <td>3.056109e+06</td>\n",
              "    </tr>\n",
              "    <tr>\n",
              "      <th>chr14</th>\n",
              "      <td>33</td>\n",
              "      <td>32</td>\n",
              "      <td>1.503683e+05</td>\n",
              "      <td>2.368928e+06</td>\n",
              "    </tr>\n",
              "    <tr>\n",
              "      <th>chr15</th>\n",
              "      <td>36</td>\n",
              "      <td>31</td>\n",
              "      <td>1.692945e+05</td>\n",
              "      <td>6.299587e+05</td>\n",
              "    </tr>\n",
              "    <tr>\n",
              "      <th>chr16</th>\n",
              "      <td>317</td>\n",
              "      <td>251</td>\n",
              "      <td>2.142241e+05</td>\n",
              "      <td>8.712186e+04</td>\n",
              "    </tr>\n",
              "    <tr>\n",
              "      <th>chr17</th>\n",
              "      <td>68</td>\n",
              "      <td>96</td>\n",
              "      <td>4.758841e+05</td>\n",
              "      <td>3.526386e+05</td>\n",
              "    </tr>\n",
              "    <tr>\n",
              "      <th>chr18</th>\n",
              "      <td>6</td>\n",
              "      <td>2</td>\n",
              "      <td>2.983333e+02</td>\n",
              "      <td>1.229900e+04</td>\n",
              "    </tr>\n",
              "  </tbody>\n",
              "</table>\n",
              "</div>"
            ],
            "text/plain": [
              "              +    -    +_avg_dist    -_avg_dist\n",
              "chromosome                                      \n",
              "chr1        170  173  8.676454e+05  8.380167e+05\n",
              "chr10        48   93  3.291650e+05  1.149389e+06\n",
              "chr11       202  106  1.351225e+05  5.804478e+05\n",
              "chr12        45   45  1.231342e+06  4.260988e+05\n",
              "chr13        37    6  2.837595e+03  3.056109e+06\n",
              "chr14        33   32  1.503683e+05  2.368928e+06\n",
              "chr15        36   31  1.692945e+05  6.299587e+05\n",
              "chr16       317  251  2.142241e+05  8.712186e+04\n",
              "chr17        68   96  4.758841e+05  3.526386e+05\n",
              "chr18         6    2  2.983333e+02  1.229900e+04"
            ]
          },
          "metadata": {
            "tags": []
          },
          "execution_count": 152
        }
      ]
    },
    {
      "cell_type": "markdown",
      "metadata": {
        "id": "PXeX1S-GGdxn",
        "colab_type": "text"
      },
      "source": [
        "## IV. Plot the obtained data into barplot."
      ]
    },
    {
      "cell_type": "markdown",
      "metadata": {
        "id": "ilXCM2v8I3k-",
        "colab_type": "text"
      },
      "source": [
        "1) Plot the count of reads to barplot."
      ]
    },
    {
      "cell_type": "code",
      "metadata": {
        "id": "vGZA_OVy4hgn",
        "colab_type": "code",
        "outputId": "a3ee87f2-4e2b-4e54-b7af-33a8f46f0021",
        "colab": {
          "base_uri": "https://localhost:8080/",
          "height": 989
        }
      },
      "source": [
        "# Plot the plus and minus reads count into barplot.\n",
        "import seaborn as sns\n",
        "import matplotlib.pyplot as plt\n",
        "\n",
        "# Use the index chromosome to create a new column chromosome.\n",
        "table_all_info['chromosome'] = table_all_info.index\n",
        "\n",
        "# Chromosome = column used as identifier variables. Variable name is field where\n",
        "# are all of the columns except from chromosome. Value name are all the numeric\n",
        "# data.\n",
        "df = table_all_info.melt(id_vars='chromosome', var_name='field', value_name='coverage')\n",
        "\n",
        "sns.set(style=\"white\", palette=\"bright\", color_codes=True)\n",
        "\n",
        "# On x axis you put chromosome names, on y you put your numeric data - pick up\n",
        "# plus and minus column where count of reads are stored. Hue distinguishes the\n",
        "# two different fields = strands in different colors.\n",
        "sns.barplot(x='chromosome', y='coverage', data=df[df.field.isin(['+', '-'])], hue='field')\n",
        "\n",
        "# Choose a title for you plot.\n",
        "plt.suptitle(\"Number of reads per chromosome.\")\n",
        "\n",
        "# Resize the plot.\n",
        "plt.gcf().set_size_inches((25, 15))"
      ],
      "execution_count": 98,
      "outputs": [
        {
          "output_type": "display_data",
          "data": {
            "image/png": "[encoded data removed]",
            "text/plain": [
              "<Figure size 1800x1080 with 1 Axes>"
            ]
          },
          "metadata": {
            "tags": []
          }
        }
      ]
    },
    {
      "cell_type": "markdown",
      "metadata": {
        "id": "ZSMF3_iFJCpk",
        "colab_type": "text"
      },
      "source": [
        "2) Plot the average distances to barplot."
      ]
    },
    {
      "cell_type": "code",
      "metadata": {
        "id": "EdL44ZON2mRV",
        "colab_type": "code",
        "colab": {
          "base_uri": "https://localhost:8080/",
          "height": 989
        },
        "outputId": "2124011e-f646-407b-9ee7-c2638fe73d16"
      },
      "source": [
        "# Plot the average distances into barplot.\n",
        "import seaborn as sns\n",
        "import matplotlib.pyplot as plt\n",
        "\n",
        "# Use the index chromosome to create a new column chromosome.\n",
        "table_all_info['chromosome'] = table_all_info.index\n",
        "\n",
        "# Chromosome = column used as identifier variables. Variable name is field where\n",
        "# are all of the columns except from chromosome. Value name are all the numeric\n",
        "# data.\n",
        "df = table_all_info.melt(id_vars='chromosome', var_name='field', value_name='coverage')\n",
        "\n",
        "sns.set(style=\"white\", palette=\"bright\", color_codes=True)\n",
        "\n",
        "# On x axis you put chromosome names, on y you put your numeric data - pick up\n",
        "# plus average distance and minus average distance column where count of reads \n",
        "# are stored. Hue distinguishes the wo different fields = strands in different colors.\n",
        "sns.barplot(x='chromosome', y='coverage', data=df[df.field.isin(['+_avg_dist', '-_avg_dist'])], hue='field')\n",
        "\n",
        "# Choose a title for you plot.\n",
        "plt.suptitle(\"Number of reads per chromosome.\")\n",
        "\n",
        "# Resize the plot.\n",
        "plt.gcf().set_size_inches((25, 15))"
      ],
      "execution_count": 99,
      "outputs": [
        {
          "output_type": "display_data",
          "data": {
            "image/png": "[encoded data removed]",
            "text/plain": [
              "<Figure size 1800x1080 with 1 Axes>"
            ]
          },
          "metadata": {
            "tags": []
          }
        }
      ]
    },
    {
      "cell_type": "markdown",
      "metadata": {
        "id": "Inde4sXlJIuT",
        "colab_type": "text"
      },
      "source": [
        "# Plot the distribution of the shuffled reads."
      ]
    },
    {
      "cell_type": "markdown",
      "metadata": {
        "id": "mRCKEN_ZNvQM",
        "colab_type": "text"
      },
      "source": [
        "## I. Download the BED file. You can use the BED reader function from the Python package."
      ]
    },
    {
      "cell_type": "code",
      "metadata": {
        "colab_type": "code",
        "id": "oHhZOSxWNue6",
        "outputId": "de363e10-3db3-4bea-ead3-8eb4ad4a56ff",
        "colab": {
          "base_uri": "https://localhost:8080/",
          "height": 32
        }
      },
      "source": [
        "# Import get and decompress functions which you will need for the BED reader function.\n",
        "from requests import get\n",
        "from gzip import decompress\n",
        "\n",
        "# Define a function that will download the compressed (gz) BED file,\n",
        "# and it will decompress it to text.\n",
        "# Helper function get_gzipped_bed_ is inside the main bed_reader function.\n",
        "def bed_reader(target_url, output_name):\n",
        "  def get_gzipped_bed_(target_url):\n",
        "    downloaded_bed = get(target_url).content\n",
        "    decompressed_bed = decompress(downloaded_bed)\n",
        "    return decompressed_bed\n",
        "  decompressed = get_gzipped_bed_(target_url)\n",
        "  bed_file_human_readable = decompressed.decode()\n",
        "  # Write bed file to new file on the disk\n",
        "  output_file = open(output_name, \"w\")\n",
        "  output_file.write(bed_file_human_readable)\n",
        "  output_file.close()\n",
        "  return output_name\n",
        "\n",
        "# Call the outer function and provide it with two arguments - url and arbitrary \n",
        "# output name.\n",
        "bed_reader(\"https://www.encodeproject.org/files/ENCFF861KMV/@@download/ENCFF861KMV.bed.gz\", \n",
        "           \"ENCFF861KMV.bed\")"
      ],
      "execution_count": 123,
      "outputs": [
        {
          "output_type": "execute_result",
          "data": {
            "text/plain": [
              "'ENCFF861KMV.bed'"
            ]
          },
          "metadata": {
            "tags": []
          },
          "execution_count": 123
        }
      ]
    },
    {
      "cell_type": "markdown",
      "metadata": {
        "id": "rQNTEP5uJM31",
        "colab_type": "text"
      },
      "source": [
        "## II. Create a shuffled BED file by shuffling chromosomes FUS gene from Homo sapiens K562 with shuffled chromosomes from hg19 genome from Homo Sapiens."
      ]
    },
    {
      "cell_type": "code",
      "metadata": {
        "id": "mHKTRwjVFkmg",
        "colab_type": "code",
        "colab": {}
      },
      "source": [
        "bedfile = pybedtools.bedtool.BedTool('ENCFF861KMV.bed')\n",
        "seed = 13 # Seed is arbitrary but keep always the same number for\n",
        "# the reproducibility of the experiment.\n",
        "shuffled_bedfile = bedfile.shuffle(genome='hg19', chrom=True, seed=seed)"
      ],
      "execution_count": 0,
      "outputs": []
    },
    {
      "cell_type": "markdown",
      "metadata": {
        "id": "rYqmvILcJ4sd",
        "colab_type": "text"
      },
      "source": [
        "## III. Sort shuffled BED file."
      ]
    },
    {
      "cell_type": "code",
      "metadata": {
        "id": "xc2BDkWwH7ib",
        "colab_type": "code",
        "colab": {}
      },
      "source": [
        "shuffled_sorted = shuffled_bedfile.sort()"
      ],
      "execution_count": 0,
      "outputs": []
    },
    {
      "cell_type": "markdown",
      "metadata": {
        "id": "BsyYGQ4_OQeS",
        "colab_type": "text"
      },
      "source": [
        "## IV. Create a dictionary with shuffled reads separated into those on the plus and those on the minus strand."
      ]
    },
    {
      "cell_type": "code",
      "metadata": {
        "id": "Ns2g9hCoKM8A",
        "colab_type": "code",
        "colab": {}
      },
      "source": [
        "# Create an empty dictionary. \n",
        "dict_r_shuffled_pybed = {}\n",
        "# Open sorted BED file.\n",
        "with open(shuffled_sorted.fn, \"r\") as text:\n",
        "  # Read the content line by line.\n",
        "  for line in text.readlines():\n",
        "    # Define column, chrom_name, start, end, and strand.\n",
        "    column = line.strip().split(\"\\t\")\n",
        "    chrom_name = column[0]\n",
        "    start = int(column[1])\n",
        "    end = int(column[2])\n",
        "    strand = column[5]\n",
        "    # If the chromosome name exists in the dictionary already,\n",
        "    # put the strand inside without creating a new dictionary\n",
        "    # with the same chromosome name.\n",
        "    if chrom_name in dict_r_shuffled_pybed:\n",
        "      # If the dictionary strand already exists in the dictionary \n",
        "      # chromosome name, put the end/start inside without creating\n",
        "      # a new strand key.\n",
        "      if strand in dict_r_shuffled_pybed[chrom_name]:\n",
        "        # In case of the plus strand, append end coordinate to the list where \n",
        "        #the 5' end (head) occurs.\n",
        "        if strand == \"+\":\n",
        "          dict_r_shuffled_pybed[chrom_name][strand].append(start) \n",
        "        # If the strand is minus, append start to the list,\n",
        "        # the reason being that minus strand is in reversed\n",
        "        # order - start coordinate presents the 5' end (head).\n",
        "        else:\n",
        "          dict_r_shuffled_pybed[chrom_name][strand].append(end)\n",
        "      # If the strand does not yet exist in\n",
        "      # the chromosome name dictionary, it is\n",
        "      # created and a list is created inside.\n",
        "      else:\n",
        "        dict_r_shuffled_pybed[chrom_name][strand] = []\n",
        "        # To fill the new strand dictionary,\n",
        "        # you need to provide also the code for strand dictionary\n",
        "        # creation, the +/- keey, and the end/start coordinates\n",
        "        # inside the list.\n",
        "        if strand == \"+\":\n",
        "          dict_r_shuffled_pybed[chrom_name][strand].append(start) \n",
        "        else:\n",
        "          dict_r_shuffled_pybed[chrom_name][strand].append(end)\n",
        "    # If the chromosome name is not yet in the dictionary, \n",
        "    #create it.\n",
        "    else:\n",
        "      # Create a new dictionary inside the chromosome name\n",
        "      # dictionary.\n",
        "      dict_r_shuffled_pybed[chrom_name] = {}\n",
        "      # To fill the new \"chrom_name\" dictionary, you need to \n",
        "      # provide also the code for strand dictionary\n",
        "      # creation, the +/- key, and the end/start coordinates\n",
        "      # inside the list.\n",
        "      # The key of this dictionary is strand and the value\n",
        "      # is a new list.\n",
        "      dict_r_shuffled_pybed[chrom_name][strand] = []\n",
        "      # If the strand is plus, append end to the list.\n",
        "      if strand == \"+\":\n",
        "        dict_r_shuffled_pybed[chrom_name][strand].append(start) \n",
        "      # If the strand is minus, append start to the list.\n",
        "      else:\n",
        "        dict_r_shuffled_pybed[chrom_name][strand].append(end)\n",
        "\n",
        "# print(dict_r_shuffled_pybed) # Printing the dictionary with reads."
      ],
      "execution_count": 0,
      "outputs": []
    },
    {
      "cell_type": "markdown",
      "metadata": {
        "id": "K2liKSTbOmRV",
        "colab_type": "text"
      },
      "source": [
        "## V. Create a dictionary with the shuffled chromosomes and the smallest head to head distance."
      ]
    },
    {
      "cell_type": "code",
      "metadata": {
        "id": "P-HrtA0ePUHi",
        "colab_type": "code",
        "colab": {}
      },
      "source": [
        "# Create an empty dictionary. \n",
        "dict_dis_shuffled_pybed = {}\n",
        "# For each chromosome in the dictionary of reads create a chrom_name in the new \n",
        "# dictionary of distance. Simultaneously, the lists for the plus and for the minus \n",
        "# strand will be created. Note: You need to define chrom_name variable again, \n",
        "# because it is not defined here yet - \"for chrom_name\".\n",
        "for chrom_name in dict_r_shuffled_pybed:\n",
        "  dict_dis_shuffled_pybed[chrom_name] = {\"+\" : list(), \"-\" : list()}\n",
        "  # Sort the plus and the minus strand into the corresponding list in the same manner \n",
        "  # as in the III. \n",
        "  for strand in dict_r_shuffled_pybed[chrom_name]:\n",
        "    if strand == \"+\":\n",
        "      # Once the for loop reaches the end of the dictionary, the error occurs\n",
        "      # because e + 1 is no more possible. This can be avoided by \"try\"\n",
        "      # and \"except IndexError\".\n",
        "      try:\n",
        "        # For index in the range from 0 to the last of the reads on the minus\n",
        "        # strand in the dictionary of reads.\n",
        "        for s in range(0,len(dict_r_shuffled_pybed[chrom_name][strand])): \n",
        "          # Subtract the left start (index) from the right start (index + 1).\n",
        "          # Append the obtained distance to the minus strand. Carry on till the\n",
        "          # end of the dictionary.\n",
        "          right_start = dict_r_shuffled_pybed[chrom_name][strand][s+1]          \n",
        "          left_start = dict_r_shuffled_pybed[chrom_name][strand][s]        \n",
        "          distance = right_start - left_start\n",
        "          dict_dis_shuffled_pybed[chrom_name][strand].append(distance)\n",
        "      except IndexError:\n",
        "        \"null\"\n",
        "    else:\n",
        "      try:\n",
        "        # For index in the range from 0 to the last of the reads on the plus\n",
        "        # strand in the dictionary of reads.\n",
        "        for e in range(0,len(dict_r_shuffled_pybed[chrom_name][strand])):\n",
        "          # Subtract the left end (index) from the right end (index + 1).\n",
        "          # Append the obtained distance to the plus strand. Carry on till the\n",
        "          # end of the dictionary.\n",
        "          right_end = dict_r_shuffled_pybed[chrom_name][strand][e+1]          \n",
        "          left_end = dict_r_shuffled_pybed[chrom_name][strand][e]        \n",
        "          distance = right_end - left_end \n",
        "          dict_dis_shuffled_pybed[chrom_name][strand].append(distance)\n",
        "      except IndexError:\n",
        "        \"null\"\n",
        "        \n",
        "# print(dict_r_shuffled_pybed) # Printing the dictionary with reads.\n",
        "# print(dict_dis_shuffled_pybed) # Printing the dictionary with the distance \n",
        "# between reads."
      ],
      "execution_count": 0,
      "outputs": []
    },
    {
      "cell_type": "markdown",
      "metadata": {
        "id": "hetKbW1wQDGq",
        "colab_type": "text"
      },
      "source": [
        "## VI. Create a dictionary with the closest distances without outliers."
      ]
    },
    {
      "cell_type": "code",
      "metadata": {
        "id": "y_imOfjnQEBc",
        "colab_type": "code",
        "colab": {}
      },
      "source": [
        "dict_clos_shuffled_pybed = {}\n",
        "# For each chromosome in the dictionary of distance create a chrom_name in the new\n",
        "# dictionary of the closest distances. Simultaneously, the lists for the plus\n",
        "# and for the minus strand will be created as explained above.\n",
        "for chrom_name in dict_dis_shuffled_pybed:\n",
        "  dict_clos_shuffled_pybed[chrom_name] = {\"+\" : list(), \"-\" : list()}\n",
        "  for strand in dict_dis_shuffled_pybed[chrom_name]:\n",
        "    if strand == \"+\":\n",
        "      try:\n",
        "        for dist_start in range(0,len(dict_dis_shuffled_pybed[chrom_name][strand])):\n",
        "          # This time, you need to compare the distance between the current\n",
        "          # position and the next one with the distance between the current\n",
        "          # position and the previous one. Whichever is closer will be put\n",
        "          # to the dictionary.\n",
        "          this_start_pos = dict_dis_shuffled_pybed[chrom_name][strand][dist_start]\n",
        "          right_start_neigh = dict_dis_shuffled_pybed[chrom_name][strand][dist_start+1]          \n",
        "          left_start_neigh = dict_dis_shuffled_pybed[chrom_name][strand][dist_start-1]    \n",
        "          dist1 = this_start_pos - left_start_neigh \n",
        "          dist1 = abs(dist1)    \n",
        "          dist2 = right_start_neigh - this_start_pos    \n",
        "          dist2 = abs(dist2)  \n",
        "          if dist1 < dist2:\n",
        "            dict_clos_shuffled_pybed[chrom_name][strand].append(left_start_neigh)\n",
        "          else:\n",
        "            dict_clos_shuffled_pybed[chrom_name][strand].append(right_start_neigh)\n",
        "      except IndexError:\n",
        "        \"null\" \n",
        "      \n",
        "    else:\n",
        "      try:\n",
        "        for dist_end in range(0,len(dict_dis_shuffled_pybed[chrom_name][strand])): \n",
        "          this_end_pos = dict_dis_shuffled_pybed[chrom_name][strand][dist_end]\n",
        "          right_end_neigh = dict_dis_shuffled_pybed[chrom_name][strand][dist_end+1]          \n",
        "          left_end_neigh = dict_dis_shuffled_pybed[chrom_name][strand][dist_end-1]    \n",
        "          dist1 = this_end_pos - left_end_neigh    \n",
        "          dist1 = abs(dist1)    \n",
        "          dist2 = right_end_neigh - this_end_pos    \n",
        "          dist2 = abs(dist2)           \n",
        "          if dist1 < dist2:\n",
        "            dict_clos_shuffled_pybed[chrom_name][strand].append(left_end_neigh)\n",
        "          else:\n",
        "            dict_clos_shuffled_pybed[chrom_name][strand].append(right_end_neigh)\n",
        "      except IndexError:\n",
        "        \"null\" \n",
        "\n",
        "# print(dict_dis_shuffled_pybed) # Printing the dictionary with the distance \n",
        "# between reads.       \n",
        "# print(dict_clos_shuffled_pybed) # Printing the dictionary with the closest \n",
        "# distance between reads.   "
      ],
      "execution_count": 0,
      "outputs": []
    },
    {
      "cell_type": "markdown",
      "metadata": {
        "id": "ryE2zvhtQxqH",
        "colab_type": "text"
      },
      "source": [
        "## VII. Plot the distribution."
      ]
    },
    {
      "cell_type": "markdown",
      "metadata": {
        "id": "79Y-ZSUvRAHn",
        "colab_type": "text"
      },
      "source": [
        "1) To plot the data from the dictionary, you need to convert the dictionary into\n",
        "dataframe. "
      ]
    },
    {
      "cell_type": "code",
      "metadata": {
        "id": "hHklUu_6RQYf",
        "colab_type": "code",
        "outputId": "e64f397d-2327-4822-c90e-12e9a92cc0ba",
        "colab": {
          "base_uri": "https://localhost:8080/",
          "height": 477
        }
      },
      "source": [
        "import pandas as pd\n",
        "\n",
        "# Create an empty list.\n",
        "list_pybed_shuffled_plus = list()\n",
        "list_pybed_shuffled_min = list()\n",
        "# Loop over the chromosome names in the dictionary. \n",
        "for chrom_name in dict_clos_shuffled_pybed:\n",
        "  # Create a temporary dictionary with the strands.\n",
        "  dict_clos_pybed_shuffled_tmp = dict_clos_shuffled_pybed[chrom_name]\n",
        "  # Loop over strands in the temporary dictionary.\n",
        "  for strand in dict_clos_pybed_shuffled_tmp:\n",
        "    if strand == \"+\":\n",
        "    # Define the distance.\n",
        "      distance = dict_clos_pybed_shuffled_tmp[strand]\n",
        "    # Create a pandas daraframe with following columns:\n",
        "    # distance, strand, and chromosome. \n",
        "      dict_pybed_shuffled_plus = pd.DataFrame(distance, columns=[\"distance\"])\n",
        "      dict_pybed_shuffled_plus[\"strand\"] = strand\n",
        "      dict_pybed_shuffled_plus[\"chromosome\"] = chrom_name\n",
        "    # Append all of the dataframes from the temporary dictionary\n",
        "    # to the list.\n",
        "      list_pybed_shuffled_plus.append(dict_pybed_shuffled_plus)\n",
        "    else:\n",
        "      distance = dict_clos_pybed_shuffled_tmp[strand]\n",
        "    # Create a pandas daraframe with following columns:\n",
        "    # distance, strand, and chromosome. \n",
        "      dict_pybed_shuffled_min = pd.DataFrame(distance, columns=[\"distance\"])\n",
        "      dict_pybed_shuffled_min[\"strand\"] = strand \n",
        "      dict_pybed_shuffled_min[\"chromosome\"] = chrom_name\n",
        "    # Append all of the dataframes from the temporary dictionary\n",
        "    # to the list.\n",
        "      list_pybed_shuffled_min.append(dict_pybed_shuffled_min)\n",
        "\n",
        "# You need to concatenate the list of dataframes into a new dataframe.    \n",
        "df_pybed_shuffled_plus = pd.concat(list_pybed_shuffled_plus)\n",
        "df_pybed_shuffled_minus = pd.concat(list_pybed_shuffled_min)\n",
        "print(df_pybed_shuffled_plus)\n",
        "print(df_pybed_shuffled_minus)\n",
        "# Each column is a Pandas series."
      ],
      "execution_count": 140,
      "outputs": [
        {
          "output_type": "stream",
          "text": [
            "   distance strand chromosome\n",
            "0    318382      +       chr1\n",
            "1    505199      +       chr1\n",
            "2    318382      +       chr1\n",
            "3    505199      +       chr1\n",
            "4   1448579      +       chr1\n",
            "..      ...    ...        ...\n",
            "24   414797      +       chrX\n",
            "25  3044727      +       chrX\n",
            "26  2954954      +       chrX\n",
            "27  3044727      +       chrX\n",
            "28  2954954      +       chrX\n",
            "\n",
            "[2298 rows x 3 columns]\n",
            "   distance strand chromosome\n",
            "0    868717      -       chr1\n",
            "1    661134      -       chr1\n",
            "2   1269118      -       chr1\n",
            "3   1062190      -       chr1\n",
            "4   1490592      -       chr1\n",
            "..      ...    ...        ...\n",
            "36   403403      -       chrX\n",
            "37    36889      -       chrX\n",
            "38   403403      -       chrX\n",
            "39    36889      -       chrX\n",
            "40  2517632      -       chrX\n",
            "\n",
            "[2078 rows x 3 columns]\n"
          ],
          "name": "stdout"
        }
      ]
    },
    {
      "cell_type": "markdown",
      "metadata": {
        "id": "NcAiLeYuDXMW",
        "colab_type": "text"
      },
      "source": [
        "2) Plot barplot with the distribution of the closest distances."
      ]
    },
    {
      "cell_type": "code",
      "metadata": {
        "id": "QtHrMy018Aq7",
        "colab_type": "code",
        "colab": {
          "base_uri": "https://localhost:8080/",
          "height": 1000
        },
        "outputId": "edaf3de7-562c-4cca-8bd4-00b207c7c219"
      },
      "source": [
        "# Concatenate both dataframes into one.\n",
        "df_pybed_shuffled_both = pd.concat( [df_pybed_shuffled_plus, df_pybed_shuffled_minus] )\n",
        "\n",
        "sns.set(style=\"white\", palette=\"bright\", color_codes=True)\n",
        "\n",
        "# Hue is parameter to distinguish different set of values with different colors.\n",
        "# In your case, you distinguish plus and minus strand.\n",
        "chart = sns.barplot(\n",
        "      x='chromosome', y='distance', data=df_pybed_shuffled_both, hue='strand')\n",
        "\n",
        "# You want to rotate the label by 90 degrees to fit them nicely under the plot.\n",
        "chart.set_xticklabels(chart.get_xticklabels(), rotation=90, horizontalalignment='right')\n",
        "\n",
        "# Choose the title for the plot.\n",
        "plt.suptitle(\"Distribution of the closest distances per chromosome.\")\n",
        "\n",
        "# Set the size of your plot.\n",
        "plt.gcf().set_size_inches((20, 15))"
      ],
      "execution_count": 141,
      "outputs": [
        {
          "output_type": "display_data",
          "data": {
            "image/png": "[encoded data removed]",
            "text/plain": [
              "<Figure size 1440x1080 with 1 Axes>"
            ]
          },
          "metadata": {
            "tags": []
          }
        }
      ]
    },
    {
      "cell_type": "markdown",
      "metadata": {
        "id": "Vdkl5EyGLB-L",
        "colab_type": "text"
      },
      "source": [
        "# To decipher the inequality between the plus and minus strand graphs of the shuffled reads, you need to:"
      ]
    },
    {
      "cell_type": "markdown",
      "metadata": {
        "id": "ulPn2mX0_x2N",
        "colab_type": "text"
      },
      "source": [
        "##I. Count of the rows to estimate how many shuffled reads there are for each chromosome on plus and minus strand."
      ]
    },
    {
      "cell_type": "code",
      "metadata": {
        "id": "Wl9kElFvAPKt",
        "colab_type": "code",
        "colab": {}
      },
      "source": [
        "# Count the rows of the plus strand dataframe.\n",
        "p_shuffled = df_pybed_shuffled_plus.set_index([\"chromosome\", \"strand\"]).count(level=\"chromosome\")"
      ],
      "execution_count": 0,
      "outputs": []
    },
    {
      "cell_type": "code",
      "metadata": {
        "id": "Dav9TY0pCpig",
        "colab_type": "code",
        "colab": {}
      },
      "source": [
        "# Count the rows of the minus strand dataframe.\n",
        "m_shuffled = df_pybed_shuffled_minus.set_index([\"chromosome\", \"strand\"]).count(level=\"chromosome\")"
      ],
      "execution_count": 0,
      "outputs": []
    },
    {
      "cell_type": "code",
      "metadata": {
        "id": "tven4pctD7Gc",
        "colab_type": "code",
        "colab": {}
      },
      "source": [
        "# Merge plus and minus strand dataframe together.\n",
        "dataframe_shuffled_both = p_shuffled.merge(m_shuffled, on='chromosome', suffixes=('_plus','_minus'))"
      ],
      "execution_count": 0,
      "outputs": []
    },
    {
      "cell_type": "markdown",
      "metadata": {
        "id": "X_oYa6VwFyZp",
        "colab_type": "text"
      },
      "source": [
        "## II. The average distance between shuffled chromosome reads on plus and minus strand."
      ]
    },
    {
      "cell_type": "code",
      "metadata": {
        "id": "At4iM6lEF5wo",
        "colab_type": "code",
        "outputId": "dc24a999-9e3d-4851-d2f1-5ca61f2009fa",
        "colab": {
          "base_uri": "https://localhost:8080/",
          "height": 383
        }
      },
      "source": [
        "# Determine the mean value of each of the plus strand distances for each chromosome.\n",
        "df_pybed_shuffled_plus.distance = df_pybed_shuffled_plus.distance.astype('int')\n",
        "table_shuffled_plus = pd.pivot_table(df_pybed_shuffled_plus,index=['chromosome','strand'],values=[\"distance\"],aggfunc=np.mean)\n",
        "table_shuffled_plus.head(10)"
      ],
      "execution_count": 145,
      "outputs": [
        {
          "output_type": "execute_result",
          "data": {
            "text/html": [
              "<div>\n",
              "<style scoped>\n",
              "    .dataframe tbody tr th:only-of-type {\n",
              "        vertical-align: middle;\n",
              "    }\n",
              "\n",
              "    .dataframe tbody tr th {\n",
              "        vertical-align: top;\n",
              "    }\n",
              "\n",
              "    .dataframe thead th {\n",
              "        text-align: right;\n",
              "    }\n",
              "</style>\n",
              "<table border=\"1\" class=\"dataframe\">\n",
              "  <thead>\n",
              "    <tr style=\"text-align: right;\">\n",
              "      <th></th>\n",
              "      <th></th>\n",
              "      <th>distance</th>\n",
              "    </tr>\n",
              "    <tr>\n",
              "      <th>chromosome</th>\n",
              "      <th>strand</th>\n",
              "      <th></th>\n",
              "    </tr>\n",
              "  </thead>\n",
              "  <tbody>\n",
              "    <tr>\n",
              "      <th>chr1</th>\n",
              "      <th>+</th>\n",
              "      <td>1.170690e+06</td>\n",
              "    </tr>\n",
              "    <tr>\n",
              "      <th>chr10</th>\n",
              "      <th>+</th>\n",
              "      <td>1.969881e+06</td>\n",
              "    </tr>\n",
              "    <tr>\n",
              "      <th>chr11</th>\n",
              "      <th>+</th>\n",
              "      <td>5.268034e+05</td>\n",
              "    </tr>\n",
              "    <tr>\n",
              "      <th>chr12</th>\n",
              "      <th>+</th>\n",
              "      <td>2.280211e+06</td>\n",
              "    </tr>\n",
              "    <tr>\n",
              "      <th>chr13</th>\n",
              "      <th>+</th>\n",
              "      <td>2.393013e+06</td>\n",
              "    </tr>\n",
              "    <tr>\n",
              "      <th>chr14</th>\n",
              "      <th>+</th>\n",
              "      <td>2.793456e+06</td>\n",
              "    </tr>\n",
              "    <tr>\n",
              "      <th>chr15</th>\n",
              "      <th>+</th>\n",
              "      <td>2.122510e+06</td>\n",
              "    </tr>\n",
              "    <tr>\n",
              "      <th>chr16</th>\n",
              "      <th>+</th>\n",
              "      <td>2.178338e+05</td>\n",
              "    </tr>\n",
              "    <tr>\n",
              "      <th>chr17</th>\n",
              "      <th>+</th>\n",
              "      <td>1.000617e+06</td>\n",
              "    </tr>\n",
              "    <tr>\n",
              "      <th>chr18</th>\n",
              "      <th>+</th>\n",
              "      <td>8.687195e+06</td>\n",
              "    </tr>\n",
              "  </tbody>\n",
              "</table>\n",
              "</div>"
            ],
            "text/plain": [
              "                       distance\n",
              "chromosome strand              \n",
              "chr1       +       1.170690e+06\n",
              "chr10      +       1.969881e+06\n",
              "chr11      +       5.268034e+05\n",
              "chr12      +       2.280211e+06\n",
              "chr13      +       2.393013e+06\n",
              "chr14      +       2.793456e+06\n",
              "chr15      +       2.122510e+06\n",
              "chr16      +       2.178338e+05\n",
              "chr17      +       1.000617e+06\n",
              "chr18      +       8.687195e+06"
            ]
          },
          "metadata": {
            "tags": []
          },
          "execution_count": 145
        }
      ]
    },
    {
      "cell_type": "code",
      "metadata": {
        "id": "3f0-aY_VGAY-",
        "colab_type": "code",
        "outputId": "4c950e9d-0a95-4ec6-a917-6db692783146",
        "colab": {
          "base_uri": "https://localhost:8080/",
          "height": 383
        }
      },
      "source": [
        "# Determine the mean value of each of the minus strand distances for each chromosome.\n",
        "df_pybed_shuffled_minus.distance = df_pybed_shuffled_minus.distance.astype('int')\n",
        "table_shuffled_minus = pd.pivot_table(df_pybed_shuffled_minus,index=['chromosome','strand'],values=[\"distance\"],aggfunc=np.mean)\n",
        "table_shuffled_minus.head(10)"
      ],
      "execution_count": 146,
      "outputs": [
        {
          "output_type": "execute_result",
          "data": {
            "text/html": [
              "<div>\n",
              "<style scoped>\n",
              "    .dataframe tbody tr th:only-of-type {\n",
              "        vertical-align: middle;\n",
              "    }\n",
              "\n",
              "    .dataframe tbody tr th {\n",
              "        vertical-align: top;\n",
              "    }\n",
              "\n",
              "    .dataframe thead th {\n",
              "        text-align: right;\n",
              "    }\n",
              "</style>\n",
              "<table border=\"1\" class=\"dataframe\">\n",
              "  <thead>\n",
              "    <tr style=\"text-align: right;\">\n",
              "      <th></th>\n",
              "      <th></th>\n",
              "      <th>distance</th>\n",
              "    </tr>\n",
              "    <tr>\n",
              "      <th>chromosome</th>\n",
              "      <th>strand</th>\n",
              "      <th></th>\n",
              "    </tr>\n",
              "  </thead>\n",
              "  <tbody>\n",
              "    <tr>\n",
              "      <th>chr1</th>\n",
              "      <th>-</th>\n",
              "      <td>1.130424e+06</td>\n",
              "    </tr>\n",
              "    <tr>\n",
              "      <th>chr10</th>\n",
              "      <th>-</th>\n",
              "      <td>1.249052e+06</td>\n",
              "    </tr>\n",
              "    <tr>\n",
              "      <th>chr11</th>\n",
              "      <th>-</th>\n",
              "      <td>1.109553e+06</td>\n",
              "    </tr>\n",
              "    <tr>\n",
              "      <th>chr12</th>\n",
              "      <th>-</th>\n",
              "      <td>2.037783e+06</td>\n",
              "    </tr>\n",
              "    <tr>\n",
              "      <th>chr13</th>\n",
              "      <th>-</th>\n",
              "      <td>1.242395e+07</td>\n",
              "    </tr>\n",
              "    <tr>\n",
              "      <th>chr14</th>\n",
              "      <th>-</th>\n",
              "      <td>2.492232e+06</td>\n",
              "    </tr>\n",
              "    <tr>\n",
              "      <th>chr14_GL000194v1_random</th>\n",
              "      <th>-</th>\n",
              "      <td>3.908811e+08</td>\n",
              "    </tr>\n",
              "    <tr>\n",
              "      <th>chr15</th>\n",
              "      <th>-</th>\n",
              "      <td>2.547651e+06</td>\n",
              "    </tr>\n",
              "    <tr>\n",
              "      <th>chr16</th>\n",
              "      <th>-</th>\n",
              "      <td>2.704504e+05</td>\n",
              "    </tr>\n",
              "    <tr>\n",
              "      <th>chr17</th>\n",
              "      <th>-</th>\n",
              "      <td>6.296192e+05</td>\n",
              "    </tr>\n",
              "  </tbody>\n",
              "</table>\n",
              "</div>"
            ],
            "text/plain": [
              "                                    distance\n",
              "chromosome              strand              \n",
              "chr1                    -       1.130424e+06\n",
              "chr10                   -       1.249052e+06\n",
              "chr11                   -       1.109553e+06\n",
              "chr12                   -       2.037783e+06\n",
              "chr13                   -       1.242395e+07\n",
              "chr14                   -       2.492232e+06\n",
              "chr14_GL000194v1_random -       3.908811e+08\n",
              "chr15                   -       2.547651e+06\n",
              "chr16                   -       2.704504e+05\n",
              "chr17                   -       6.296192e+05"
            ]
          },
          "metadata": {
            "tags": []
          },
          "execution_count": 146
        }
      ]
    },
    {
      "cell_type": "code",
      "metadata": {
        "id": "7td9iAaVGYAC",
        "colab_type": "code",
        "outputId": "7d9db2fb-81a4-43b6-fec7-974162bc4721",
        "colab": {
          "base_uri": "https://localhost:8080/",
          "height": 383
        }
      },
      "source": [
        "# Merge the plus and minus table with mean distances together.\n",
        "table_shuffled_both = table_shuffled_plus.merge(table_shuffled_minus, on='chromosome', suffixes=('_plus','_minus'))\n",
        "table_shuffled_both.head(10)"
      ],
      "execution_count": 147,
      "outputs": [
        {
          "output_type": "execute_result",
          "data": {
            "text/html": [
              "<div>\n",
              "<style scoped>\n",
              "    .dataframe tbody tr th:only-of-type {\n",
              "        vertical-align: middle;\n",
              "    }\n",
              "\n",
              "    .dataframe tbody tr th {\n",
              "        vertical-align: top;\n",
              "    }\n",
              "\n",
              "    .dataframe thead th {\n",
              "        text-align: right;\n",
              "    }\n",
              "</style>\n",
              "<table border=\"1\" class=\"dataframe\">\n",
              "  <thead>\n",
              "    <tr style=\"text-align: right;\">\n",
              "      <th></th>\n",
              "      <th>distance_plus</th>\n",
              "      <th>distance_minus</th>\n",
              "    </tr>\n",
              "    <tr>\n",
              "      <th>chromosome</th>\n",
              "      <th></th>\n",
              "      <th></th>\n",
              "    </tr>\n",
              "  </thead>\n",
              "  <tbody>\n",
              "    <tr>\n",
              "      <th>chr1</th>\n",
              "      <td>1.170690e+06</td>\n",
              "      <td>1.130424e+06</td>\n",
              "    </tr>\n",
              "    <tr>\n",
              "      <th>chr10</th>\n",
              "      <td>1.969881e+06</td>\n",
              "      <td>1.249052e+06</td>\n",
              "    </tr>\n",
              "    <tr>\n",
              "      <th>chr11</th>\n",
              "      <td>5.268034e+05</td>\n",
              "      <td>1.109553e+06</td>\n",
              "    </tr>\n",
              "    <tr>\n",
              "      <th>chr12</th>\n",
              "      <td>2.280211e+06</td>\n",
              "      <td>2.037783e+06</td>\n",
              "    </tr>\n",
              "    <tr>\n",
              "      <th>chr13</th>\n",
              "      <td>2.393013e+06</td>\n",
              "      <td>1.242395e+07</td>\n",
              "    </tr>\n",
              "    <tr>\n",
              "      <th>chr14</th>\n",
              "      <td>2.793456e+06</td>\n",
              "      <td>2.492232e+06</td>\n",
              "    </tr>\n",
              "    <tr>\n",
              "      <th>chr15</th>\n",
              "      <td>2.122510e+06</td>\n",
              "      <td>2.547651e+06</td>\n",
              "    </tr>\n",
              "    <tr>\n",
              "      <th>chr16</th>\n",
              "      <td>2.178338e+05</td>\n",
              "      <td>2.704504e+05</td>\n",
              "    </tr>\n",
              "    <tr>\n",
              "      <th>chr17</th>\n",
              "      <td>1.000617e+06</td>\n",
              "      <td>6.296192e+05</td>\n",
              "    </tr>\n",
              "    <tr>\n",
              "      <th>chr18</th>\n",
              "      <td>8.687195e+06</td>\n",
              "      <td>6.683390e+06</td>\n",
              "    </tr>\n",
              "  </tbody>\n",
              "</table>\n",
              "</div>"
            ],
            "text/plain": [
              "            distance_plus  distance_minus\n",
              "chromosome                               \n",
              "chr1         1.170690e+06    1.130424e+06\n",
              "chr10        1.969881e+06    1.249052e+06\n",
              "chr11        5.268034e+05    1.109553e+06\n",
              "chr12        2.280211e+06    2.037783e+06\n",
              "chr13        2.393013e+06    1.242395e+07\n",
              "chr14        2.793456e+06    2.492232e+06\n",
              "chr15        2.122510e+06    2.547651e+06\n",
              "chr16        2.178338e+05    2.704504e+05\n",
              "chr17        1.000617e+06    6.296192e+05\n",
              "chr18        8.687195e+06    6.683390e+06"
            ]
          },
          "metadata": {
            "tags": []
          },
          "execution_count": 147
        }
      ]
    },
    {
      "cell_type": "markdown",
      "metadata": {
        "id": "yejKNwM3GjB0",
        "colab_type": "text"
      },
      "source": [
        "## III. Merge the table with reads count and the table with mean distances."
      ]
    },
    {
      "cell_type": "code",
      "metadata": {
        "id": "7x88XhyTGjcP",
        "colab_type": "code",
        "outputId": "e8d375be-3e73-44f6-ef44-b6dc5b6144e9",
        "colab": {
          "base_uri": "https://localhost:8080/",
          "height": 383
        }
      },
      "source": [
        "# Merge the plus and minus reads count table together with mean distances.\n",
        "table_shuffled_all_info = dataframe_shuffled_both.merge(table_shuffled_both, on='chromosome', suffixes=(' ',''))\n",
        "table_shuffled_all_info.columns=['+', '-', '+_avg_dist', '-_avg_dist']\n",
        "table_shuffled_all_info.head(10)"
      ],
      "execution_count": 148,
      "outputs": [
        {
          "output_type": "execute_result",
          "data": {
            "text/html": [
              "<div>\n",
              "<style scoped>\n",
              "    .dataframe tbody tr th:only-of-type {\n",
              "        vertical-align: middle;\n",
              "    }\n",
              "\n",
              "    .dataframe tbody tr th {\n",
              "        vertical-align: top;\n",
              "    }\n",
              "\n",
              "    .dataframe thead th {\n",
              "        text-align: right;\n",
              "    }\n",
              "</style>\n",
              "<table border=\"1\" class=\"dataframe\">\n",
              "  <thead>\n",
              "    <tr style=\"text-align: right;\">\n",
              "      <th></th>\n",
              "      <th>+</th>\n",
              "      <th>-</th>\n",
              "      <th>+_avg_dist</th>\n",
              "      <th>-_avg_dist</th>\n",
              "    </tr>\n",
              "    <tr>\n",
              "      <th>chromosome</th>\n",
              "      <th></th>\n",
              "      <th></th>\n",
              "      <th></th>\n",
              "      <th></th>\n",
              "    </tr>\n",
              "  </thead>\n",
              "  <tbody>\n",
              "    <tr>\n",
              "      <th>chr1</th>\n",
              "      <td>170</td>\n",
              "      <td>173</td>\n",
              "      <td>1.170690e+06</td>\n",
              "      <td>1.130424e+06</td>\n",
              "    </tr>\n",
              "    <tr>\n",
              "      <th>chr10</th>\n",
              "      <td>48</td>\n",
              "      <td>93</td>\n",
              "      <td>1.969881e+06</td>\n",
              "      <td>1.249052e+06</td>\n",
              "    </tr>\n",
              "    <tr>\n",
              "      <th>chr11</th>\n",
              "      <td>202</td>\n",
              "      <td>106</td>\n",
              "      <td>5.268034e+05</td>\n",
              "      <td>1.109553e+06</td>\n",
              "    </tr>\n",
              "    <tr>\n",
              "      <th>chr12</th>\n",
              "      <td>45</td>\n",
              "      <td>45</td>\n",
              "      <td>2.280211e+06</td>\n",
              "      <td>2.037783e+06</td>\n",
              "    </tr>\n",
              "    <tr>\n",
              "      <th>chr13</th>\n",
              "      <td>37</td>\n",
              "      <td>6</td>\n",
              "      <td>2.393013e+06</td>\n",
              "      <td>1.242395e+07</td>\n",
              "    </tr>\n",
              "    <tr>\n",
              "      <th>chr14</th>\n",
              "      <td>33</td>\n",
              "      <td>32</td>\n",
              "      <td>2.793456e+06</td>\n",
              "      <td>2.492232e+06</td>\n",
              "    </tr>\n",
              "    <tr>\n",
              "      <th>chr15</th>\n",
              "      <td>36</td>\n",
              "      <td>31</td>\n",
              "      <td>2.122510e+06</td>\n",
              "      <td>2.547651e+06</td>\n",
              "    </tr>\n",
              "    <tr>\n",
              "      <th>chr16</th>\n",
              "      <td>317</td>\n",
              "      <td>251</td>\n",
              "      <td>2.178338e+05</td>\n",
              "      <td>2.704504e+05</td>\n",
              "    </tr>\n",
              "    <tr>\n",
              "      <th>chr17</th>\n",
              "      <td>68</td>\n",
              "      <td>96</td>\n",
              "      <td>1.000617e+06</td>\n",
              "      <td>6.296192e+05</td>\n",
              "    </tr>\n",
              "    <tr>\n",
              "      <th>chr18</th>\n",
              "      <td>6</td>\n",
              "      <td>2</td>\n",
              "      <td>8.687195e+06</td>\n",
              "      <td>6.683390e+06</td>\n",
              "    </tr>\n",
              "  </tbody>\n",
              "</table>\n",
              "</div>"
            ],
            "text/plain": [
              "              +    -    +_avg_dist    -_avg_dist\n",
              "chromosome                                      \n",
              "chr1        170  173  1.170690e+06  1.130424e+06\n",
              "chr10        48   93  1.969881e+06  1.249052e+06\n",
              "chr11       202  106  5.268034e+05  1.109553e+06\n",
              "chr12        45   45  2.280211e+06  2.037783e+06\n",
              "chr13        37    6  2.393013e+06  1.242395e+07\n",
              "chr14        33   32  2.793456e+06  2.492232e+06\n",
              "chr15        36   31  2.122510e+06  2.547651e+06\n",
              "chr16       317  251  2.178338e+05  2.704504e+05\n",
              "chr17        68   96  1.000617e+06  6.296192e+05\n",
              "chr18         6    2  8.687195e+06  6.683390e+06"
            ]
          },
          "metadata": {
            "tags": []
          },
          "execution_count": 148
        }
      ]
    },
    {
      "cell_type": "markdown",
      "metadata": {
        "id": "MggK2dsQFMkX",
        "colab_type": "text"
      },
      "source": [
        "## IV. Plot the obtained data into barplot."
      ]
    },
    {
      "cell_type": "markdown",
      "metadata": {
        "id": "CtRrWbMQJjAe",
        "colab_type": "text"
      },
      "source": [
        "1) Plot the count of reads to barplot."
      ]
    },
    {
      "cell_type": "code",
      "metadata": {
        "id": "6OKStGN0--BE",
        "colab_type": "code",
        "colab": {
          "base_uri": "https://localhost:8080/",
          "height": 989
        },
        "outputId": "965f219a-cfe6-4584-bc4a-9ca2f77a49b2"
      },
      "source": [
        "# Plot the plus and minus reads count table into barplot.\n",
        "import seaborn as sns\n",
        "import matplotlib.pyplot as plt\n",
        "\n",
        "# Use the index chromosome to create a new column chromosome.\n",
        "table_shuffled_all_info['chromosome'] = table_all_info.index\n",
        "\n",
        "# Chromosome = column used as identifier variables. Variable name is field where\n",
        "# are all of the columns except from chromosome. Value name are all the numeric\n",
        "# data.\n",
        "df = table_shuffled_all_info.melt(id_vars='chromosome', var_name='field', value_name='coverage')\n",
        "\n",
        "sns.set(style=\"white\", palette=\"bright\", color_codes=True)\n",
        "\n",
        "# On x axis you put chromosome names, on y you put your numeric data - pick up\n",
        "# plus and minus column where count of reads are stored. Hue distinguishes the\n",
        "# two different fields = strands in different colors.\n",
        "sns.barplot(x='chromosome', y='coverage', data=df[df.field.isin(['+', '-'])], hue='field')\n",
        "\n",
        "# Choose a title for you plot.\n",
        "plt.suptitle(\"Number of reads per chromosome.\")\n",
        "\n",
        "# Resize the plot.\n",
        "plt.gcf().set_size_inches((25, 15))"
      ],
      "execution_count": 149,
      "outputs": [
        {
          "output_type": "display_data",
          "data": {
            "image/png": "[encoded data removed]",
            "text/plain": [
              "<Figure size 1800x1080 with 1 Axes>"
            ]
          },
          "metadata": {
            "tags": []
          }
        }
      ]
    },
    {
      "cell_type": "markdown",
      "metadata": {
        "id": "TlN0lnZAJnNl",
        "colab_type": "text"
      },
      "source": [
        "2) Plot the average distances to barplot."
      ]
    },
    {
      "cell_type": "code",
      "metadata": {
        "id": "-1LWqST2AL0G",
        "colab_type": "code",
        "colab": {
          "base_uri": "https://localhost:8080/",
          "height": 989
        },
        "outputId": "d45373b2-e17d-4d37-fa5c-c000d9322408"
      },
      "source": [
        "# Plot the average distances into barplot.\n",
        "import seaborn as sns\n",
        "import matplotlib.pyplot as plt\n",
        "\n",
        "# Use the index chromosome to create a new column chromosome.\n",
        "table_shuffled_all_info['chromosome'] = table_all_info.index\n",
        "\n",
        "# Chromosome = column used as identifier variables. Variable name is field where\n",
        "# are all of the columns except from chromosome. Value name are all the numeric\n",
        "# data.\n",
        "df = table_shuffled_all_info.melt(id_vars='chromosome', var_name='field', value_name='coverage')\n",
        "sns.set(style=\"white\", palette=\"bright\", color_codes=True)\n",
        "\n",
        "# On x axis you put chromosome names, on y you put your numeric data - pick up\n",
        "# plus and minus column where count of reads are stored. Hue distinguishes the\n",
        "# two different fields = strands in different colors.\n",
        "sns.barplot(x='chromosome', y='coverage', data=df[df.field.isin(['+_avg_dist', '-_avg_dist'])], hue='field')\n",
        "\n",
        "# Choose a title for you plot.\n",
        "plt.suptitle(\"Number of reads per chromosome.\")\n",
        "\n",
        "# Resize the plot.\n",
        "plt.gcf().set_size_inches((25, 15))"
      ],
      "execution_count": 158,
      "outputs": [
        {
          "output_type": "display_data",
          "data": {
            "image/png": "[encoded data removed]",
            "text/plain": [
              "<Figure size 1800x1080 with 1 Axes>"
            ]
          },
          "metadata": {
            "tags": []
          }
        }
      ]
    }
  ]
}